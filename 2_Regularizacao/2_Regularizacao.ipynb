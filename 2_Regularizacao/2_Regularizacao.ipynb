{
 "cells": [
  {
   "cell_type": "markdown",
   "metadata": {},
   "source": [
    "# **Bootcamp de Machine Learning**"
   ]
  },
  {
   "cell_type": "markdown",
   "metadata": {},
   "source": [
    "## **Regularização**"
   ]
  },
  {
   "cell_type": "markdown",
   "metadata": {},
   "source": [
    "<a id=\"home\"></a> \n",
    "### **Agenda**"
   ]
  },
  {
   "cell_type": "markdown",
   "metadata": {},
   "source": [
    "* [Regressão Linear](#linear_regression_section)\n",
    "* [Regularização](#regularizacao_section)\n",
    "    * [Overfitting e underfitting](#overfitting_underfitting)\n",
    "    * [Revisão Regressão Linear](#review_reg_lin)\n",
    "    * [Ridge](#ridge)\n",
    "    * [Lasso](#lasso)\n",
    "    * [Elastic-Net](#elastic_net)\n",
    "    * [Resumo](#resumo)\n",
    "* [Hands On¹!](#hands_on_1)\n",
    "* [Hands On²!](#hands_on_2)\n",
    "* [Homework](#homework)\n",
    "* [Referências](#ref)\n",
    "* [Para aprofundar: hipóteses da regressão linear](#leitura_casa)\n",
    "* [Next Steps](#next_steps)"
   ]
  },
  {
   "cell_type": "markdown",
   "metadata": {},
   "source": [
    "<a id=\"linear_regression_section\"></a> \n",
    "## **Regressão Linear**"
   ]
  },
  {
   "cell_type": "markdown",
   "metadata": {},
   "source": [
    "Vamos prever o salário do indivíduo com base no seu nível de escolaridade."
   ]
  },
  {
   "cell_type": "code",
   "execution_count": 1,
   "metadata": {},
   "outputs": [],
   "source": [
    "import statsmodels.formula.api as smf\n",
    "import wooldridge as woo\n",
    "import matplotlib.pyplot as plt\n",
    "import pandas as pd\n",
    "# !pip3 install wooldridge"
   ]
  },
  {
   "cell_type": "code",
   "execution_count": 2,
   "metadata": {},
   "outputs": [],
   "source": [
    "wage_data = woo.dataWoo('wage1')"
   ]
  },
  {
   "cell_type": "code",
   "execution_count": 3,
   "metadata": {},
   "outputs": [
    {
     "data": {
      "text/html": [
       "<div>\n",
       "<style scoped>\n",
       "    .dataframe tbody tr th:only-of-type {\n",
       "        vertical-align: middle;\n",
       "    }\n",
       "\n",
       "    .dataframe tbody tr th {\n",
       "        vertical-align: top;\n",
       "    }\n",
       "\n",
       "    .dataframe thead th {\n",
       "        text-align: right;\n",
       "    }\n",
       "</style>\n",
       "<table border=\"1\" class=\"dataframe\">\n",
       "  <thead>\n",
       "    <tr style=\"text-align: right;\">\n",
       "      <th></th>\n",
       "      <th>wage</th>\n",
       "      <th>educ</th>\n",
       "      <th>exper</th>\n",
       "      <th>tenure</th>\n",
       "      <th>nonwhite</th>\n",
       "      <th>female</th>\n",
       "      <th>married</th>\n",
       "      <th>numdep</th>\n",
       "      <th>smsa</th>\n",
       "      <th>northcen</th>\n",
       "      <th>...</th>\n",
       "      <th>trcommpu</th>\n",
       "      <th>trade</th>\n",
       "      <th>services</th>\n",
       "      <th>profserv</th>\n",
       "      <th>profocc</th>\n",
       "      <th>clerocc</th>\n",
       "      <th>servocc</th>\n",
       "      <th>lwage</th>\n",
       "      <th>expersq</th>\n",
       "      <th>tenursq</th>\n",
       "    </tr>\n",
       "  </thead>\n",
       "  <tbody>\n",
       "    <tr>\n",
       "      <th>0</th>\n",
       "      <td>3.10</td>\n",
       "      <td>11</td>\n",
       "      <td>2</td>\n",
       "      <td>0</td>\n",
       "      <td>0</td>\n",
       "      <td>1</td>\n",
       "      <td>0</td>\n",
       "      <td>2</td>\n",
       "      <td>1</td>\n",
       "      <td>0</td>\n",
       "      <td>...</td>\n",
       "      <td>0</td>\n",
       "      <td>0</td>\n",
       "      <td>0</td>\n",
       "      <td>0</td>\n",
       "      <td>0</td>\n",
       "      <td>0</td>\n",
       "      <td>0</td>\n",
       "      <td>1.131402</td>\n",
       "      <td>4</td>\n",
       "      <td>0</td>\n",
       "    </tr>\n",
       "    <tr>\n",
       "      <th>1</th>\n",
       "      <td>3.24</td>\n",
       "      <td>12</td>\n",
       "      <td>22</td>\n",
       "      <td>2</td>\n",
       "      <td>0</td>\n",
       "      <td>1</td>\n",
       "      <td>1</td>\n",
       "      <td>3</td>\n",
       "      <td>1</td>\n",
       "      <td>0</td>\n",
       "      <td>...</td>\n",
       "      <td>0</td>\n",
       "      <td>0</td>\n",
       "      <td>1</td>\n",
       "      <td>0</td>\n",
       "      <td>0</td>\n",
       "      <td>0</td>\n",
       "      <td>1</td>\n",
       "      <td>1.175573</td>\n",
       "      <td>484</td>\n",
       "      <td>4</td>\n",
       "    </tr>\n",
       "    <tr>\n",
       "      <th>2</th>\n",
       "      <td>3.00</td>\n",
       "      <td>11</td>\n",
       "      <td>2</td>\n",
       "      <td>0</td>\n",
       "      <td>0</td>\n",
       "      <td>0</td>\n",
       "      <td>0</td>\n",
       "      <td>2</td>\n",
       "      <td>0</td>\n",
       "      <td>0</td>\n",
       "      <td>...</td>\n",
       "      <td>0</td>\n",
       "      <td>1</td>\n",
       "      <td>0</td>\n",
       "      <td>0</td>\n",
       "      <td>0</td>\n",
       "      <td>0</td>\n",
       "      <td>0</td>\n",
       "      <td>1.098612</td>\n",
       "      <td>4</td>\n",
       "      <td>0</td>\n",
       "    </tr>\n",
       "    <tr>\n",
       "      <th>3</th>\n",
       "      <td>6.00</td>\n",
       "      <td>8</td>\n",
       "      <td>44</td>\n",
       "      <td>28</td>\n",
       "      <td>0</td>\n",
       "      <td>0</td>\n",
       "      <td>1</td>\n",
       "      <td>0</td>\n",
       "      <td>1</td>\n",
       "      <td>0</td>\n",
       "      <td>...</td>\n",
       "      <td>0</td>\n",
       "      <td>0</td>\n",
       "      <td>0</td>\n",
       "      <td>0</td>\n",
       "      <td>0</td>\n",
       "      <td>1</td>\n",
       "      <td>0</td>\n",
       "      <td>1.791759</td>\n",
       "      <td>1936</td>\n",
       "      <td>784</td>\n",
       "    </tr>\n",
       "    <tr>\n",
       "      <th>4</th>\n",
       "      <td>5.30</td>\n",
       "      <td>12</td>\n",
       "      <td>7</td>\n",
       "      <td>2</td>\n",
       "      <td>0</td>\n",
       "      <td>0</td>\n",
       "      <td>1</td>\n",
       "      <td>1</td>\n",
       "      <td>0</td>\n",
       "      <td>0</td>\n",
       "      <td>...</td>\n",
       "      <td>0</td>\n",
       "      <td>0</td>\n",
       "      <td>0</td>\n",
       "      <td>0</td>\n",
       "      <td>0</td>\n",
       "      <td>0</td>\n",
       "      <td>0</td>\n",
       "      <td>1.667707</td>\n",
       "      <td>49</td>\n",
       "      <td>4</td>\n",
       "    </tr>\n",
       "  </tbody>\n",
       "</table>\n",
       "<p>5 rows × 24 columns</p>\n",
       "</div>"
      ],
      "text/plain": [
       "   wage  educ  exper  tenure  nonwhite  female  married  numdep  smsa  \\\n",
       "0  3.10    11      2       0         0       1        0       2     1   \n",
       "1  3.24    12     22       2         0       1        1       3     1   \n",
       "2  3.00    11      2       0         0       0        0       2     0   \n",
       "3  6.00     8     44      28         0       0        1       0     1   \n",
       "4  5.30    12      7       2         0       0        1       1     0   \n",
       "\n",
       "   northcen  ...  trcommpu  trade  services  profserv  profocc  clerocc  \\\n",
       "0         0  ...         0      0         0         0        0        0   \n",
       "1         0  ...         0      0         1         0        0        0   \n",
       "2         0  ...         0      1         0         0        0        0   \n",
       "3         0  ...         0      0         0         0        0        1   \n",
       "4         0  ...         0      0         0         0        0        0   \n",
       "\n",
       "   servocc     lwage  expersq  tenursq  \n",
       "0        0  1.131402        4        0  \n",
       "1        1  1.175573      484        4  \n",
       "2        0  1.098612        4        0  \n",
       "3        0  1.791759     1936      784  \n",
       "4        0  1.667707       49        4  \n",
       "\n",
       "[5 rows x 24 columns]"
      ]
     },
     "execution_count": 3,
     "metadata": {},
     "output_type": "execute_result"
    }
   ],
   "source": [
    "wage_data.head()"
   ]
  },
  {
   "cell_type": "markdown",
   "metadata": {},
   "source": [
    "Vamos estimar o seguinte modelo:\n",
    "\n",
    "$\\text{wage} = \\beta_0+\\beta_1\\text{educ}+\\epsilon$\n",
    "\n",
    "O que podemos entender deste modelo? Quais as limitações?"
   ]
  },
  {
   "cell_type": "code",
   "execution_count": 4,
   "metadata": {},
   "outputs": [],
   "source": [
    "regression = smf.ols(formula = 'wage ~ educ', data = wage_data).fit()"
   ]
  },
  {
   "cell_type": "code",
   "execution_count": 5,
   "metadata": {},
   "outputs": [
    {
     "data": {
      "text/plain": [
       "Intercept   -0.904852\n",
       "educ         0.541359\n",
       "dtype: float64"
      ]
     },
     "execution_count": 5,
     "metadata": {},
     "output_type": "execute_result"
    }
   ],
   "source": [
    "regression.params"
   ]
  },
  {
   "cell_type": "markdown",
   "metadata": {},
   "source": [
    "Modelo estimado:\n",
    "\n",
    "$\\widehat{\\text{wage}} = -0.90+0.54\\text{educ}$\n",
    "\n",
    "Qual a interpretação deste modelo?\n",
    "\n",
    "Um ano adicional de educação aumenta o salário/hora em $0.54 cents."
   ]
  },
  {
   "cell_type": "code",
   "execution_count": 6,
   "metadata": {},
   "outputs": [],
   "source": [
    "regression = smf.ols(formula = 'wage ~ educ', data = wage_data).fit()\n",
    "\n",
    "def previsao_salario(educacao, regression):\n",
    "    beta_0 = regression.params[0]\n",
    "    beta_1 = regression.params[1]\n",
    "    estimativa = round(beta_0+beta_1*educacao, 2)\n",
    "    mensagem = f'Com uma educação de {educacao} anos o ganho médio/hora estimado será: {estimativa}'\n",
    "    return mensagem"
   ]
  },
  {
   "cell_type": "code",
   "execution_count": 7,
   "metadata": {},
   "outputs": [
    {
     "name": "stdout",
     "output_type": "stream",
     "text": [
      "Com uma educação de 5 anos o ganho médio/hora estimado será: 1.8\n",
      "Com uma educação de 7 anos o ganho médio/hora estimado será: 2.88\n",
      "Com uma educação de 9 anos o ganho médio/hora estimado será: 3.97\n",
      "Com uma educação de 11 anos o ganho médio/hora estimado será: 5.05\n",
      "Com uma educação de 13 anos o ganho médio/hora estimado será: 6.13\n",
      "Com uma educação de 15 anos o ganho médio/hora estimado será: 7.22\n",
      "Com uma educação de 17 anos o ganho médio/hora estimado será: 8.3\n",
      "Com uma educação de 19 anos o ganho médio/hora estimado será: 9.38\n"
     ]
    }
   ],
   "source": [
    "for i in range(5, 20, 2):\n",
    "    print(previsao_salario(i, regression))"
   ]
  },
  {
   "cell_type": "code",
   "execution_count": 8,
   "metadata": {},
   "outputs": [
    {
     "data": {
      "image/png": "[encoded data removed]",
      "text/plain": [
       "<Figure size 432x288 with 1 Axes>"
      ]
     },
     "metadata": {
      "needs_background": "light"
     },
     "output_type": "display_data"
    }
   ],
   "source": [
    "plt.scatter(wage_data['educ'], wage_data['wage'])\n",
    "plt.plot(wage_data['educ'], regression.fittedvalues, 'k')\n",
    "plt.xlabel('Educação')\n",
    "plt.ylabel('Salário')\n",
    "plt.title('Previsão do salário com base na escolaridade');"
   ]
  },
  {
   "cell_type": "markdown",
   "metadata": {},
   "source": [
    "Vamos estimar o seguinte modelo:\n",
    "$$\\widehat{\\text{wage}} = \\hat{\\beta}_0 +\\hat{\\beta}_1\\text{educ}+\\hat{\\beta}_2\\text{exper}+\\hat{\\beta}_3\\text{tenure}$$\n",
    "\n",
    "Como podemos interpretar os parâmatros estimados?\n",
    "\n",
    "\n",
    "Interpretamos os $\\beta_i$ como o efeito médio do incremento de uma unidade de $X_j$ sobre $Y$, mantendo todos os outros fatores constantes. Isto é,\n",
    "* $\\beta_1$: aumento no salário (ganho médio/hora) em $\\beta_1$ para um aumento de 1 ano na escolaridade; e assim sucessivamente.\n",
    "\n",
    "O que acontece se houver variáveis categóricas? Veremos isso na próxima aula.\n"
   ]
  },
  {
   "cell_type": "markdown",
   "metadata": {},
   "source": [
    "Vamos obter os parâmetros $\\hat{\\beta}_0,\\hat{\\beta}_1,\\hat{\\beta}_2,\\hat{\\beta}_3$."
   ]
  },
  {
   "cell_type": "markdown",
   "metadata": {},
   "source": [
    "$$\\hat{\\beta}_1 = \\dfrac{\\Delta\\widehat{\\text{wage}}}{\\Delta\\text{educ}}$$\n",
    "\n",
    "$$\\hat{\\beta}_2 = \\dfrac{\\Delta\\widehat{\\text{wage}}}{\\Delta\\text{exp}} $$\n",
    "\n",
    "$$\\hat{\\beta}_3 = \\dfrac{\\Delta\\widehat{\\text{wage}}}{\\Delta\\text{tenure}} $$"
   ]
  },
  {
   "cell_type": "code",
   "execution_count": 9,
   "metadata": {},
   "outputs": [],
   "source": [
    "model = smf.ols(formula = 'wage ~ educ+exper+tenure', data = wage_data).fit()"
   ]
  },
  {
   "cell_type": "code",
   "execution_count": 10,
   "metadata": {},
   "outputs": [
    {
     "data": {
      "text/html": [
       "<table class=\"simpletable\">\n",
       "<caption>OLS Regression Results</caption>\n",
       "<tr>\n",
       "  <th>Dep. Variable:</th>          <td>wage</td>       <th>  R-squared:         </th> <td>   0.306</td>\n",
       "</tr>\n",
       "<tr>\n",
       "  <th>Model:</th>                   <td>OLS</td>       <th>  Adj. R-squared:    </th> <td>   0.302</td>\n",
       "</tr>\n",
       "<tr>\n",
       "  <th>Method:</th>             <td>Least Squares</td>  <th>  F-statistic:       </th> <td>   76.87</td>\n",
       "</tr>\n",
       "<tr>\n",
       "  <th>Date:</th>             <td>Wed, 02 Nov 2022</td> <th>  Prob (F-statistic):</th> <td>3.41e-41</td>\n",
       "</tr>\n",
       "<tr>\n",
       "  <th>Time:</th>                 <td>09:45:32</td>     <th>  Log-Likelihood:    </th> <td> -1336.8</td>\n",
       "</tr>\n",
       "<tr>\n",
       "  <th>No. Observations:</th>      <td>   526</td>      <th>  AIC:               </th> <td>   2682.</td>\n",
       "</tr>\n",
       "<tr>\n",
       "  <th>Df Residuals:</th>          <td>   522</td>      <th>  BIC:               </th> <td>   2699.</td>\n",
       "</tr>\n",
       "<tr>\n",
       "  <th>Df Model:</th>              <td>     3</td>      <th>                     </th>     <td> </td>   \n",
       "</tr>\n",
       "<tr>\n",
       "  <th>Covariance Type:</th>      <td>nonrobust</td>    <th>                     </th>     <td> </td>   \n",
       "</tr>\n",
       "</table>\n",
       "<table class=\"simpletable\">\n",
       "<tr>\n",
       "      <td></td>         <th>coef</th>     <th>std err</th>      <th>t</th>      <th>P>|t|</th>  <th>[0.025</th>    <th>0.975]</th>  \n",
       "</tr>\n",
       "<tr>\n",
       "  <th>Intercept</th> <td>   -2.8727</td> <td>    0.729</td> <td>   -3.941</td> <td> 0.000</td> <td>   -4.305</td> <td>   -1.441</td>\n",
       "</tr>\n",
       "<tr>\n",
       "  <th>educ</th>      <td>    0.5990</td> <td>    0.051</td> <td>   11.679</td> <td> 0.000</td> <td>    0.498</td> <td>    0.700</td>\n",
       "</tr>\n",
       "<tr>\n",
       "  <th>exper</th>     <td>    0.0223</td> <td>    0.012</td> <td>    1.853</td> <td> 0.064</td> <td>   -0.001</td> <td>    0.046</td>\n",
       "</tr>\n",
       "<tr>\n",
       "  <th>tenure</th>    <td>    0.1693</td> <td>    0.022</td> <td>    7.820</td> <td> 0.000</td> <td>    0.127</td> <td>    0.212</td>\n",
       "</tr>\n",
       "</table>\n",
       "<table class=\"simpletable\">\n",
       "<tr>\n",
       "  <th>Omnibus:</th>       <td>179.597</td> <th>  Durbin-Watson:     </th> <td>   1.791</td> \n",
       "</tr>\n",
       "<tr>\n",
       "  <th>Prob(Omnibus):</th> <td> 0.000</td>  <th>  Jarque-Bera (JB):  </th> <td> 650.808</td> \n",
       "</tr>\n",
       "<tr>\n",
       "  <th>Skew:</th>          <td> 1.555</td>  <th>  Prob(JB):          </th> <td>4.77e-142</td>\n",
       "</tr>\n",
       "<tr>\n",
       "  <th>Kurtosis:</th>      <td> 7.475</td>  <th>  Cond. No.          </th> <td>    135.</td> \n",
       "</tr>\n",
       "</table><br/><br/>Notes:<br/>[1] Standard Errors assume that the covariance matrix of the errors is correctly specified."
      ],
      "text/plain": [
       "<class 'statsmodels.iolib.summary.Summary'>\n",
       "\"\"\"\n",
       "                            OLS Regression Results                            \n",
       "==============================================================================\n",
       "Dep. Variable:                   wage   R-squared:                       0.306\n",
       "Model:                            OLS   Adj. R-squared:                  0.302\n",
       "Method:                 Least Squares   F-statistic:                     76.87\n",
       "Date:                Wed, 02 Nov 2022   Prob (F-statistic):           3.41e-41\n",
       "Time:                        09:45:32   Log-Likelihood:                -1336.8\n",
       "No. Observations:                 526   AIC:                             2682.\n",
       "Df Residuals:                     522   BIC:                             2699.\n",
       "Df Model:                           3                                         \n",
       "Covariance Type:            nonrobust                                         \n",
       "==============================================================================\n",
       "                 coef    std err          t      P>|t|      [0.025      0.975]\n",
       "------------------------------------------------------------------------------\n",
       "Intercept     -2.8727      0.729     -3.941      0.000      -4.305      -1.441\n",
       "educ           0.5990      0.051     11.679      0.000       0.498       0.700\n",
       "exper          0.0223      0.012      1.853      0.064      -0.001       0.046\n",
       "tenure         0.1693      0.022      7.820      0.000       0.127       0.212\n",
       "==============================================================================\n",
       "Omnibus:                      179.597   Durbin-Watson:                   1.791\n",
       "Prob(Omnibus):                  0.000   Jarque-Bera (JB):              650.808\n",
       "Skew:                           1.555   Prob(JB):                    4.77e-142\n",
       "Kurtosis:                       7.475   Cond. No.                         135.\n",
       "==============================================================================\n",
       "\n",
       "Notes:\n",
       "[1] Standard Errors assume that the covariance matrix of the errors is correctly specified.\n",
       "\"\"\""
      ]
     },
     "execution_count": 10,
     "metadata": {},
     "output_type": "execute_result"
    }
   ],
   "source": [
    "model.summary()"
   ]
  },
  {
   "cell_type": "markdown",
   "metadata": {},
   "source": [
    "Do resumo acima, podemos ver também o $R^2$ do modelo que resultou em $30,6\\%$%"
   ]
  },
  {
   "cell_type": "markdown",
   "metadata": {},
   "source": [
    "Portanto, nosso modelo ajustado é:\n",
    "$$\\widehat{\\text{wage}} = -2.87+0.59\\text{educ}+0.022\\text{exper}+0.169\\text{tenure}$$"
   ]
  },
  {
   "cell_type": "markdown",
   "metadata": {},
   "source": [
    "[Voltar](#home)"
   ]
  },
  {
   "cell_type": "markdown",
   "metadata": {},
   "source": [
    "<a id=\"regularizacao_section\"></a> \n",
    "\n",
    "## **Regularização** \n",
    "\n",
    "* A regressão linear funciona como uma máquina, temos uma entrada (input de variáveis) e uma saída (output/previsão).\n",
    "* Em uma regressão linear simples o melhor ajuste da reta resulta na escolha dos parâmetros de inclinação e intercepto."
   ]
  },
  {
   "cell_type": "markdown",
   "metadata": {},
   "source": [
    "<img src = 'https://pbs.twimg.com/media/DdkUUTMV4AAsohU.jpg' width = 200>"
   ]
  },
  {
   "cell_type": "markdown",
   "metadata": {},
   "source": [
    "<a id=\"overfitting_underfitting\"></a> \n",
    "\n",
    "**Overfitting e underfitting**\n",
    "\n",
    "\n",
    "Antes de definir os conceitos vamos imaginar que um professor precisa aplicar uma prova em seus alunos e para tanto deu uma prova com gabarito para que a classe pudesse estudar. Semanas depois o professor aplicou exatamente a mesma prova e verificou que todos os alunos da turma conseguiram acertar todas as questões na prova. Com este método podemos dizer que o professor de fato conseguiu mensurar o aprendizado da turma? Será que os alunos decoraram a prova ao invés de aprender?\n",
    "\n",
    "Parece simples, mas essa analogia ocorrer dentro do Machine Learning. Precisamos aplicar uma prova com os mesmos assuntos, mas com questões diferentes.\n",
    "\n",
    "\n",
    "Com base nisso qual seria o melhor modelo da figura abaixo?\n",
    "\n",
    "<img src = 'https://miro.medium.com/max/1125/1*_7OPgojau8hkiPUiHoGK_w.png'/>\n",
    "\n",
    "Algumas conclusões:\n",
    "* Primeiro modelo: parece não capturar bem o fenômeno de interesse. Neste caso estamos em um cenário de underfiting. \n",
    "    * Diagnóstico: métricas de treino/teste ruins (R², MSE, RMSE, MAE, Gini)\n",
    "* Segundo modelo: cenário atual (good fit)\n",
    "* Terceiro modelo: modelo com ajuste perfeito. Neste caso estamos em um cenário de overfitting.\n",
    "    * Diagnóstico: métrica de avaliação muito boa no conjunto de treinamento (modelo erra pouco no conjunto de treino); métrica de avaliação ruim no conjunto de teste (modelo erra muito no conjunto de teste); a diferença entre as métricas de treino e teste pode ser muito elevada.\n",
    "    * Neste caso podemos ter um modelo com muitos parâmetros e muito sensível aos dados de treino.\n",
    "    \n",
    "    \n",
    "Correções\n",
    "\n",
    "Overfitting\n",
    "* Regularização (reduz a complexidade do modelo)\n",
    "* Redução de quantidade de features (feature selection)\n",
    "* Reduzir a complexidade do modelo\n",
    "* Aumentar o conjunto de treinamento\n",
    "\n",
    "Underfitting\n",
    "* Inserir mais variáveis (feature engineering)\n",
    "* Aumentar a complexidade do modelo"
   ]
  },
  {
   "cell_type": "markdown",
   "metadata": {},
   "source": [
    "Overfitting Meme"
   ]
  },
  {
   "cell_type": "markdown",
   "metadata": {},
   "source": [
    "<img src = 'https://encrypted-tbn0.gstatic.com/images?q=tbn:ANd9GcS-bvur53lsgzbVjTbSQ6Hi5FZ5Zb7TH93o1Q&usqp=CAU' width =  300/>\n",
    "\n",
    "<img src = 'https://pbs.twimg.com/media/FSAM8FuXwAA4HQf.jpg' width = 300/>"
   ]
  },
  {
   "cell_type": "markdown",
   "metadata": {},
   "source": [
    "Já vimos a parte teórica do overfitting, mas agora precisamos ver de forma prática."
   ]
  },
  {
   "cell_type": "code",
   "execution_count": 33,
   "metadata": {},
   "outputs": [],
   "source": [
    "import numpy as np\n",
    "import pandas as pd\n",
    "import plotly.express as px\n",
    "from sklearn.datasets import load_boston\n",
    "from sklearn.model_selection import train_test_split\n",
    "from sklearn.linear_model import Lasso, Ridge, ElasticNet, LinearRegression\n",
    "from sklearn.metrics import r2_score, mean_squared_error\n",
    "from sklearn.ensemble import RandomForestRegressor\n",
    "from lightgbm import LGBMRegressor\n",
    "import warnings\n",
    "warnings.filterwarnings('ignore')"
   ]
  },
  {
   "cell_type": "code",
   "execution_count": null,
   "metadata": {},
   "outputs": [],
   "source": [
    "# carrega os dados\n",
    "data = load_boston()\n",
    "df = pd.DataFrame(data.data, columns = data.feature_names)\n",
    "df['target'] = data.target"
   ]
  },
  {
   "cell_type": "code",
   "execution_count": null,
   "metadata": {},
   "outputs": [],
   "source": [
    "# features\n",
    "X = df.drop(columns = ['target'])\n",
    "# target\n",
    "y = df.target\n",
    "# split train/test\n",
    "X_train, X_test, y_train, y_test = train_test_split(X, y, random_state = 1, test_size = 0.3)"
   ]
  },
  {
   "cell_type": "code",
   "execution_count": null,
   "metadata": {},
   "outputs": [],
   "source": [
    "regressor = LGBMRegressor(max_depth=-1)\n",
    "# fit\n",
    "regressor.fit(X_train, y_train)"
   ]
  },
  {
   "cell_type": "code",
   "execution_count": 34,
   "metadata": {},
   "outputs": [],
   "source": [
    "def predict(estimator, X_train, X_test):\n",
    "    # y pred train\n",
    "    y_pred_train = estimator.predict(X_train)\n",
    "    # y test train\n",
    "    y_pred_test = estimator.predict(X_test)\n",
    "    return y_pred_train, y_pred_test\n",
    "\n",
    "def get_r2_score(estimator, y_train, y_test):\n",
    "    # y pred\n",
    "    y_pred_train, y_pred_test = predict(estimator, X_train, X_test)\n",
    "    # r2 score train\n",
    "    r2_train = r2_score(y_train, y_pred_train)\n",
    "    # r2 score test\n",
    "    r2_test = r2_score(y_test, y_pred_test)\n",
    "    return r2_train, r2_test"
   ]
  },
  {
   "cell_type": "code",
   "execution_count": null,
   "metadata": {},
   "outputs": [],
   "source": [
    "get_r2_score(regressor, y_train, y_test)"
   ]
  },
  {
   "cell_type": "markdown",
   "metadata": {},
   "source": [
    "Agora vamos reduzir a complexidade do nosso modelo."
   ]
  },
  {
   "cell_type": "code",
   "execution_count": null,
   "metadata": {},
   "outputs": [],
   "source": [
    "regressor = LGBMRegressor(max_depth = 2)\n",
    "# fit\n",
    "regressor.fit(X_train, y_train)"
   ]
  },
  {
   "cell_type": "code",
   "execution_count": null,
   "metadata": {},
   "outputs": [],
   "source": [
    "get_r2_score(regressor, y_train, y_test)"
   ]
  },
  {
   "cell_type": "markdown",
   "metadata": {},
   "source": [
    "Observe como reduzir a complexidade do modelo reduziu a diferença das métricas no treino e teste."
   ]
  },
  {
   "cell_type": "markdown",
   "metadata": {},
   "source": [
    "[Voltar](#home)"
   ]
  },
  {
   "cell_type": "markdown",
   "metadata": {},
   "source": [
    "<a id=\"bias_variance\"></a> \n",
    "\n",
    "**Bias-variance**"
   ]
  },
  {
   "cell_type": "markdown",
   "metadata": {},
   "source": [
    "<img src = 'https://miro.medium.com/max/984/0*_zo14nQHrTJ-DF00.png'/>"
   ]
  },
  {
   "cell_type": "markdown",
   "metadata": {},
   "source": [
    "<a id=\"review_reg_lin\"></a> \n",
    "\n",
    "**Revisão Regressão linear**\n",
    "\n",
    "\n",
    "A regressão linear (OLS) minimiza a seguinte função:\n",
    "\n",
    "\n",
    "$$RSS = \\sum_{i=1}^{n}\\left(y_i-\\beta_0-\\sum_{j=1}^{p}\\beta_j x_{ij}\\right)^2$$\n",
    "\n",
    "Em que RSS = Residual Sum of Squares.\n",
    "\n",
    "Referência: [sklearn.linear_model.LinearRegression](https://scikit-learn.org/stable/modules/generated/sklearn.linear_model.LinearRegression.html#sklearn.linear_model.LinearRegression)\n",
    "\n",
    "\n",
    "Ver: https://arachnoid.com/polysolve/"
   ]
  },
  {
   "cell_type": "markdown",
   "metadata": {},
   "source": [
    "<a id=\"ridge\"></a> \n",
    "\n",
    "\n",
    "**Ridge**\n",
    "\n",
    "É similar ao OLS mas os coeficientes são estimados com uma pequena diferença. A ideia é minimizar a soma do quadrado dos resíduos mais uma penalização dos parâmetros ao quadrado.\n",
    "\n",
    "Também conhecida como regularização **L2**.\n",
    "\n",
    "Termos de regularização L2: \n",
    "\n",
    "$$\\beta_1^2+\\beta_2^2+\\beta_3^2+\\dots+\\beta_n^2$$\n",
    "\n",
    "Então nossa Loss Function será:\n",
    "\n",
    "$$\\text{minimizar}\\left[\\text{Loss Function(modelo)}+\\alpha \\times \\text{Complexidade(modelo)}\\right]$$\n",
    "\n",
    "\n",
    "Ou ainda:\n",
    "\n",
    "$$\\text{Loss function} = \\sum_{i=1}^{n}\\left(y_i-\\beta_0-\\sum_{j=1}^{p}\\beta_j x_{ij}\\right)^2+\\alpha\\sum_{j=1}^{p}\\beta_j^2$$\n",
    "\n",
    "$$\\text{Loss function} = RSS+\\alpha \\sum_{j=1}^{p}\\beta_j^2$$\n",
    "\n",
    "Em que:\n",
    "* $\\alpha$: hiperparâmetro que precisamos escolhar (número utilizado para a penalização). \n",
    "* Se $\\alpha = 0$ temos uma regressão OLS.\n",
    "* Se $\\alpha \\rightarrow \\infty$ podemos ter underfitting.\n",
    "* A Ridge Regression não é robusta à outliers.\n",
    "\n",
    "Referência: [sklearn.linear_model.Ridge](https://scikit-learn.org/stable/modules/generated/sklearn.linear_model.Ridge.html#sklearn.linear_model.Ridge)"
   ]
  },
  {
   "cell_type": "markdown",
   "metadata": {},
   "source": [
    "<a id=\"lasso\"></a> \n",
    "\n",
    "**Lasso**\n",
    "\n",
    "Outra formulação é a regressão Lasso:\n",
    "\n",
    "$$\\text{Loss function} = \\sum_{i=1}^{n}\\left(y_i-\\beta_0-\\sum_{j=1}^{p}\\beta_j x_{ij}\\right)^2+\\alpha \\sum_{j=1}^{p}|\\beta_j|$$\n",
    "\n",
    "$$\\text{Loss function} = RSS+\\alpha \\sum_{j=1}^{p}|\\beta_j|$$\n",
    "\n",
    "* Lasso pode ser utilizado para feature selection (isso não é verdade para a Ridge Regression).\n",
    "* Features menos importantes com coeficiente igual a zero.\n",
    "* Robusta à outliers.\n",
    "* Na função `Lasso()` o parâmetro `alpha` controlar a força da regularização e deve ser um número não negativo $[0, \\infty)$ (analogamente para a funçã `Ridge()`.\n",
    "* Também conhecida como regularização **L1**.\n",
    "\n",
    "Referência: [sklearn.linear_model.Lasso](https://scikit-learn.org/stable/modules/generated/sklearn.linear_model.Lasso.html#sklearn.linear_model.Lasso)"
   ]
  },
  {
   "cell_type": "markdown",
   "metadata": {},
   "source": [
    "<a id=\"elastic_net\"></a> \n",
    "\n",
    "**Elastic-Net**\n",
    "\n",
    "É a combinação da regressão Lasso e Ridge.\n",
    "\n",
    "\n",
    "Referência: [sklearn.linear_model.ElasticNet](https://scikit-learn.org/stable/modules/generated/sklearn.linear_model.ElasticNet.html#sklearn.linear_model.ElasticNet)"
   ]
  },
  {
   "cell_type": "markdown",
   "metadata": {},
   "source": [
    "<a id=\"resumo\"></a> \n",
    "\n",
    "**Resumo**\n",
    "\n",
    "O que aprendemos até aqui:\n",
    "\n",
    "Sem regularização teremos:\n",
    "* minimizar Loss Function\n",
    "\n",
    "\n",
    "Com regularização:\n",
    "* minimizar Loss Function + Complexidade"
   ]
  },
  {
   "cell_type": "markdown",
   "metadata": {},
   "source": [
    "A seguir iremos ver uma implementação prática em que buscamos simular o que ocorre com a performance de um modelo quando aumentamos a força da regularização."
   ]
  },
  {
   "cell_type": "code",
   "execution_count": null,
   "metadata": {},
   "outputs": [],
   "source": [
    "def test_regularization(model):\n",
    "    \"\"\"\n",
    "    docstring\n",
    "    \"\"\"\n",
    "    \n",
    "    list_alpha = [0.001, 0.01, 0.1, 0.3, 0.5, 1, 10, 50, 100, 1000, 2000, 3000, 4000, 5000]\n",
    "    # data to append results\n",
    "    result_df = pd.DataFrame(columns = ['alpha', 'r2_train', 'r2_test'])\n",
    "    \n",
    "    for alpha_number in list_alpha:\n",
    "        # set alpha numbet\n",
    "        model = model.set_params(alpha = alpha_number)\n",
    "        # train \n",
    "        model.fit(X_train, y_train)\n",
    "        # predict\n",
    "        y_pred_train = model.predict(X_train)\n",
    "        y_pred_test = model.predict(X_test)\n",
    "        # score\n",
    "        r2_train = r2_score(y_train, y_pred_train)\n",
    "        r2_test = r2_score(y_test, y_pred_test)\n",
    "        result = pd.DataFrame({'alpha': [alpha_number],\n",
    "                               'r2_train': [r2_train],\n",
    "                               'r2_test': [r2_test]\n",
    "                              })\n",
    "        result_df = result_df.append(result)\n",
    "        \n",
    "    # create df final\n",
    "    result_df = result_df.round(4).reset_index(drop = True)\n",
    "    return result_df"
   ]
  },
  {
   "cell_type": "code",
   "execution_count": null,
   "metadata": {},
   "outputs": [],
   "source": [
    "result_df_ridge = test_regularization(model = Ridge())\n",
    "result_df_lasso = test_regularization(model = Lasso())"
   ]
  },
  {
   "cell_type": "code",
   "execution_count": null,
   "metadata": {},
   "outputs": [],
   "source": [
    "fig = px.line(\n",
    "    result_df_ridge,\n",
    "    x = 'alpha',\n",
    "    y = ['r2_train', 'r2_test'],\n",
    "    title = 'Ridge Regression'\n",
    ")\n",
    "\n",
    "fig.update_layout(plot_bgcolor = 'white')"
   ]
  },
  {
   "cell_type": "code",
   "execution_count": null,
   "metadata": {},
   "outputs": [],
   "source": [
    "fig = px.line(\n",
    "    result_df_lasso,\n",
    "    x = 'alpha',\n",
    "    y = ['r2_train', 'r2_test'],\n",
    "    title = 'Lasso Regression'\n",
    ")\n",
    "\n",
    "fig.update_layout(plot_bgcolor = 'white')"
   ]
  },
  {
   "cell_type": "markdown",
   "metadata": {},
   "source": [
    "[Voltar](#home)"
   ]
  },
  {
   "cell_type": "markdown",
   "metadata": {},
   "source": [
    "<a id=\"hands_on_1\"></a> \n",
    "\n",
    "## **Hands On¹!**"
   ]
  },
  {
   "cell_type": "markdown",
   "metadata": {},
   "source": [
    "Neste Hands On! vamos usar os dados do ENEM para tentar estabelecer uma interpretação dos parâmetros do modelo. Nosso objetivo é explicar o desempenho escolar."
   ]
  },
  {
   "cell_type": "code",
   "execution_count": null,
   "metadata": {},
   "outputs": [],
   "source": [
    "import pandas as pd\n",
    "import numpy as np\n",
    "import statsmodels.formula.api as smf\n",
    "import sqlite3\n",
    "import seaborn as sns\n",
    "import matplotlib.pyplot as plt\n",
    "from sklearn.tree import DecisionTreeRegressor\n",
    "from sklearn.model_selection import train_test_split\n",
    "from sklearn.metrics import mean_squared_error\n",
    "pd.set_option('display.max_columns', 200)\n",
    "pd.set_option('display.max_rows', 200)"
   ]
  },
  {
   "cell_type": "code",
   "execution_count": null,
   "metadata": {},
   "outputs": [],
   "source": [
    "# leitura da base\n",
    "amostra = pd.read_csv('amostra_enem_bahia.csv')\n",
    "# filtra apenas alunos de escolas públicas ou privadas\n",
    "amostra = amostra[amostra.TP_ESCOLA.isin([2, 3])]\n",
    "# filtra alunos que não obtiveram 0 em Matemática\n",
    "# filtra alunos com mais de 14 anos\n",
    "amostra = amostra.query('(NU_NOTA_MT != 0) & (NU_IDADE >= 14)')"
   ]
  },
  {
   "cell_type": "code",
   "execution_count": null,
   "metadata": {},
   "outputs": [],
   "source": [
    "# prepara a base\n",
    "base_amostra = pd.DataFrame()\n",
    "base_amostra['dummy_sexo_feminino'] = amostra.TP_SEXO.map({'F': 1, 'M': 0})\n",
    "base_amostra['municipio_residencia'] = amostra.NO_MUNICIPIO_RESIDENCIA\n",
    "base_amostra['idade'] = amostra.NU_IDADE\n",
    "base_amostra['cor_raca'] = amostra['TP_COR_RACA']\n",
    "base_amostra['escola_publica'] = amostra['TP_ESCOLA'].map({3: 0, 2: 1})\n",
    "base_amostra['nota_matematica'] = amostra['NU_NOTA_MT']\n",
    "base_amostra['escolaridade_pai'] = amostra.Q001.map({'A': 0, 'B': 0, 'C': 0, 'D': 0, 'E': 1, 'F': 1, 'G': 1, 'H': 0})\n",
    "base_amostra['escolaridade_mae'] = amostra.Q002.map({'A': 0, 'B': 0, 'C': 0, 'D': 0, 'E': 1, 'F': 1, 'G': 1, 'H': 0})\n",
    "base_amostra['tamanho_familia'] = amostra.Q005\n",
    "values_to_map = {value:index for index, value in enumerate(np.sort(amostra.Q006.unique()), start = 1)}\n",
    "base_amostra['renda_familiar'] = amostra.Q006.map(values_to_map)\n",
    "base_amostra['internet'] = amostra.Q025.map({'A': 0, 'B': 1})\n",
    "base_amostra['computador'] = amostra.Q024.map({'A': 0, 'B': 1, 'C': 1, 'D': 1, 'E': 1})\n",
    "base_amostra.dropna(inplace = True)"
   ]
  },
  {
   "cell_type": "code",
   "execution_count": null,
   "metadata": {},
   "outputs": [],
   "source": [
    "# relação entre o nível de renda familiar e a nota em Matemática\n",
    "plt.figure(figsize = (12, 4))\n",
    "sns.boxplot(data = base_amostra, x = 'renda_familiar', y = 'nota_matematica')\n",
    "plt.title('Relação entre a nota em Matemática e suas tecnologias e o nível de renda familiar')\n",
    "plt.xlabel('Nível de renda familiar')\n",
    "plt.ylabel('Nota em Matemática e suas tecnologias')\n",
    "plt.show()"
   ]
  },
  {
   "cell_type": "code",
   "execution_count": null,
   "metadata": {},
   "outputs": [],
   "source": [
    "# modelo de regressão linear\n",
    "modelo = smf.ols(\n",
    "formula = \"\"\"\n",
    "np.log(nota_matematica) ~ idade\n",
    "                      +dummy_sexo_feminino\n",
    "                      +escola_publica\n",
    "                      +escolaridade_pai\n",
    "                      +escolaridade_mae\n",
    "                      +tamanho_familia\n",
    "                      +renda_familiar\n",
    "                      +internet\n",
    "                      +computador\n",
    "                      \n",
    "\"\"\",\n",
    "data = base_amostra\n",
    ").fit()"
   ]
  },
  {
   "cell_type": "code",
   "execution_count": null,
   "metadata": {},
   "outputs": [],
   "source": [
    "modelo.summary()\n"
   ]
  },
  {
   "cell_type": "markdown",
   "metadata": {},
   "source": [
    "* Os parâmetros do modelo são significativos.\n",
    "* Log-Likelihood: usamos para fazer comparação entre modelos; varia de $-\\infty,+\\infty$ e quanto maior o valor, melhor o modelo. O modelo 1 é melhor que o 2 sob essa regra.\n",
    "* AIC e BIC são utilizados para comparar modelos, com fundamentação estatística mais rigorosa que o $R^2$ ajustado. O modelo com menor critério de informação é o melhor.\n",
    "* Teste Omnibus: normalidade da distribuição dos resíduos do modelo. 0 indica normalidade perfeita. Prob(Omnibus) mensura a probabilidade de os resíduos serem normalmente distribuídos. 1 indica distribuição perfeitamente normal.\n",
    "* Skew: mede o grau de simetria (assimetria) da distribuição dos resíduos. Se a distribuição for normal a assimetria é nula. Se a distribuição for assimétrica positiva (negativa) os valores são positivos (negativos).\n",
    "* Curtose: mede o grau de achatamento da distribuição de probabilidade.\n",
    "* Os resíduos do modelo são normalmente distribuídos?\n",
    "* Teste de autocorrelação DW:\n",
    "    * Valor próximo de 4: há evidência de autocorrelação negativa;\n",
    "    * Valor próximo de 2: há evidência de ausência de autocorrelação;\n",
    "    * Valor próximo de 0: há evidência de autocorrelação positiva.\n",
    "* Teste F: Teste de significância conjunta dos parâmetros.\n",
    "    * $H_0: \\beta_1=\\beta_2=\\beta_3=\\dots=\\beta_k=0$\n",
    "    * $H_1: \\beta_k \\neq 0 $\n",
    "* Teste t: testa de significância individual dos parâmaetros do modelo\n",
    "    * $H_0: \\beta_j = 0$\n",
    "    * $H_1: \\beta_j \\neq 0$\n",
    "    * Se $\\beta_j = 0$ então não há relação linear entre a variável explicativa e a variável dependente."
   ]
  },
  {
   "cell_type": "markdown",
   "metadata": {},
   "source": [
    "[Voltar](#home)"
   ]
  },
  {
   "cell_type": "markdown",
   "metadata": {},
   "source": [
    "<a id=\"hands_on_2\"></a> \n",
    "\n",
    "## **Hands On²!**"
   ]
  },
  {
   "cell_type": "markdown",
   "metadata": {},
   "source": [
    "Nesta seção vejamos como usar a regressão Lasso para feature selection."
   ]
  },
  {
   "cell_type": "code",
   "execution_count": null,
   "metadata": {},
   "outputs": [],
   "source": [
    "import numpy as np\n",
    "import pandas as pd\n",
    "import plotly.express as px\n",
    "from sklearn.datasets import load_boston\n",
    "from sklearn.model_selection import train_test_split\n",
    "from sklearn.linear_model import Lasso, Ridge, ElasticNet, LinearRegression\n",
    "from sklearn.metrics import r2_score, mean_squared_error\n",
    "import warnings\n",
    "warnings.filterwarnings('ignore')"
   ]
  },
  {
   "cell_type": "code",
   "execution_count": null,
   "metadata": {},
   "outputs": [],
   "source": [
    "# carrega os dados\n",
    "data = load_boston()\n",
    "df = pd.DataFrame(data.data, columns = data.feature_names)\n",
    "df['target'] = data.target"
   ]
  },
  {
   "cell_type": "code",
   "execution_count": null,
   "metadata": {},
   "outputs": [],
   "source": [
    "# features\n",
    "X = df.drop(columns = ['target'])\n",
    "# target\n",
    "y = df.target\n",
    "# split train/test\n",
    "X_train, X_test, y_train, y_test = train_test_split(X, y, random_state = 1, test_size = 0.3)"
   ]
  },
  {
   "cell_type": "code",
   "execution_count": null,
   "metadata": {},
   "outputs": [],
   "source": [
    "lasso_reg = Lasso()\n",
    "lasso_reg.fit(X_train, y_train)"
   ]
  },
  {
   "cell_type": "code",
   "execution_count": null,
   "metadata": {},
   "outputs": [],
   "source": [
    "importance = np.abs(lasso_reg.coef_)"
   ]
  },
  {
   "cell_type": "code",
   "execution_count": null,
   "metadata": {},
   "outputs": [],
   "source": [
    "importance_df = pd.DataFrame({'features': importance}, index = X_train.columns)"
   ]
  },
  {
   "cell_type": "code",
   "execution_count": null,
   "metadata": {},
   "outputs": [],
   "source": [
    "importance_df = importance_df.sort_values(by = 'features', ascending = False)"
   ]
  },
  {
   "cell_type": "code",
   "execution_count": null,
   "metadata": {},
   "outputs": [],
   "source": [
    "# features selecionadas\n",
    "importance_df[importance_df.features > 0 ]"
   ]
  },
  {
   "cell_type": "markdown",
   "metadata": {},
   "source": [
    "[Voltar](#home)"
   ]
  },
  {
   "cell_type": "markdown",
   "metadata": {},
   "source": [
    "<a id=\"homework\"></a> \n",
    "\n",
    "## **Homework**"
   ]
  },
  {
   "cell_type": "code",
   "execution_count": 78,
   "metadata": {
    "scrolled": true
   },
   "outputs": [
    {
     "data": {
      "text/html": [
       "<div>\n",
       "<style scoped>\n",
       "    .dataframe tbody tr th:only-of-type {\n",
       "        vertical-align: middle;\n",
       "    }\n",
       "\n",
       "    .dataframe tbody tr th {\n",
       "        vertical-align: top;\n",
       "    }\n",
       "\n",
       "    .dataframe thead th {\n",
       "        text-align: right;\n",
       "    }\n",
       "</style>\n",
       "<table border=\"1\" class=\"dataframe\">\n",
       "  <thead>\n",
       "    <tr style=\"text-align: right;\">\n",
       "      <th></th>\n",
       "      <th>wage</th>\n",
       "      <th>educ</th>\n",
       "      <th>exper</th>\n",
       "      <th>tenure</th>\n",
       "      <th>nonwhite</th>\n",
       "      <th>female</th>\n",
       "      <th>married</th>\n",
       "      <th>numdep</th>\n",
       "      <th>smsa</th>\n",
       "      <th>northcen</th>\n",
       "      <th>...</th>\n",
       "      <th>trcommpu</th>\n",
       "      <th>trade</th>\n",
       "      <th>services</th>\n",
       "      <th>profserv</th>\n",
       "      <th>profocc</th>\n",
       "      <th>clerocc</th>\n",
       "      <th>servocc</th>\n",
       "      <th>lwage</th>\n",
       "      <th>expersq</th>\n",
       "      <th>tenursq</th>\n",
       "    </tr>\n",
       "  </thead>\n",
       "  <tbody>\n",
       "    <tr>\n",
       "      <th>0</th>\n",
       "      <td>3.10</td>\n",
       "      <td>11</td>\n",
       "      <td>2</td>\n",
       "      <td>0</td>\n",
       "      <td>0</td>\n",
       "      <td>1</td>\n",
       "      <td>0</td>\n",
       "      <td>2</td>\n",
       "      <td>1</td>\n",
       "      <td>0</td>\n",
       "      <td>...</td>\n",
       "      <td>0</td>\n",
       "      <td>0</td>\n",
       "      <td>0</td>\n",
       "      <td>0</td>\n",
       "      <td>0</td>\n",
       "      <td>0</td>\n",
       "      <td>0</td>\n",
       "      <td>1.131402</td>\n",
       "      <td>4</td>\n",
       "      <td>0</td>\n",
       "    </tr>\n",
       "    <tr>\n",
       "      <th>1</th>\n",
       "      <td>3.24</td>\n",
       "      <td>12</td>\n",
       "      <td>22</td>\n",
       "      <td>2</td>\n",
       "      <td>0</td>\n",
       "      <td>1</td>\n",
       "      <td>1</td>\n",
       "      <td>3</td>\n",
       "      <td>1</td>\n",
       "      <td>0</td>\n",
       "      <td>...</td>\n",
       "      <td>0</td>\n",
       "      <td>0</td>\n",
       "      <td>1</td>\n",
       "      <td>0</td>\n",
       "      <td>0</td>\n",
       "      <td>0</td>\n",
       "      <td>1</td>\n",
       "      <td>1.175573</td>\n",
       "      <td>484</td>\n",
       "      <td>4</td>\n",
       "    </tr>\n",
       "    <tr>\n",
       "      <th>2</th>\n",
       "      <td>3.00</td>\n",
       "      <td>11</td>\n",
       "      <td>2</td>\n",
       "      <td>0</td>\n",
       "      <td>0</td>\n",
       "      <td>0</td>\n",
       "      <td>0</td>\n",
       "      <td>2</td>\n",
       "      <td>0</td>\n",
       "      <td>0</td>\n",
       "      <td>...</td>\n",
       "      <td>0</td>\n",
       "      <td>1</td>\n",
       "      <td>0</td>\n",
       "      <td>0</td>\n",
       "      <td>0</td>\n",
       "      <td>0</td>\n",
       "      <td>0</td>\n",
       "      <td>1.098612</td>\n",
       "      <td>4</td>\n",
       "      <td>0</td>\n",
       "    </tr>\n",
       "    <tr>\n",
       "      <th>3</th>\n",
       "      <td>6.00</td>\n",
       "      <td>8</td>\n",
       "      <td>44</td>\n",
       "      <td>28</td>\n",
       "      <td>0</td>\n",
       "      <td>0</td>\n",
       "      <td>1</td>\n",
       "      <td>0</td>\n",
       "      <td>1</td>\n",
       "      <td>0</td>\n",
       "      <td>...</td>\n",
       "      <td>0</td>\n",
       "      <td>0</td>\n",
       "      <td>0</td>\n",
       "      <td>0</td>\n",
       "      <td>0</td>\n",
       "      <td>1</td>\n",
       "      <td>0</td>\n",
       "      <td>1.791759</td>\n",
       "      <td>1936</td>\n",
       "      <td>784</td>\n",
       "    </tr>\n",
       "    <tr>\n",
       "      <th>4</th>\n",
       "      <td>5.30</td>\n",
       "      <td>12</td>\n",
       "      <td>7</td>\n",
       "      <td>2</td>\n",
       "      <td>0</td>\n",
       "      <td>0</td>\n",
       "      <td>1</td>\n",
       "      <td>1</td>\n",
       "      <td>0</td>\n",
       "      <td>0</td>\n",
       "      <td>...</td>\n",
       "      <td>0</td>\n",
       "      <td>0</td>\n",
       "      <td>0</td>\n",
       "      <td>0</td>\n",
       "      <td>0</td>\n",
       "      <td>0</td>\n",
       "      <td>0</td>\n",
       "      <td>1.667707</td>\n",
       "      <td>49</td>\n",
       "      <td>4</td>\n",
       "    </tr>\n",
       "  </tbody>\n",
       "</table>\n",
       "<p>5 rows × 24 columns</p>\n",
       "</div>"
      ],
      "text/plain": [
       "   wage  educ  exper  tenure  nonwhite  female  married  numdep  smsa  \\\n",
       "0  3.10    11      2       0         0       1        0       2     1   \n",
       "1  3.24    12     22       2         0       1        1       3     1   \n",
       "2  3.00    11      2       0         0       0        0       2     0   \n",
       "3  6.00     8     44      28         0       0        1       0     1   \n",
       "4  5.30    12      7       2         0       0        1       1     0   \n",
       "\n",
       "   northcen  ...  trcommpu  trade  services  profserv  profocc  clerocc  \\\n",
       "0         0  ...         0      0         0         0        0        0   \n",
       "1         0  ...         0      0         1         0        0        0   \n",
       "2         0  ...         0      1         0         0        0        0   \n",
       "3         0  ...         0      0         0         0        0        1   \n",
       "4         0  ...         0      0         0         0        0        0   \n",
       "\n",
       "   servocc     lwage  expersq  tenursq  \n",
       "0        0  1.131402        4        0  \n",
       "1        1  1.175573      484        4  \n",
       "2        0  1.098612        4        0  \n",
       "3        0  1.791759     1936      784  \n",
       "4        0  1.667707       49        4  \n",
       "\n",
       "[5 rows x 24 columns]"
      ]
     },
     "execution_count": 78,
     "metadata": {},
     "output_type": "execute_result"
    }
   ],
   "source": [
    "import wooldridge as woo\n",
    "wage_data = woo.dataWoo('wage1')\n",
    "wage_data.head()"
   ]
  },
  {
   "cell_type": "code",
   "execution_count": 79,
   "metadata": {},
   "outputs": [],
   "source": [
    "y = wage_data['wage']\n",
    "X = wage_data.drop(columns='wage', axis=1)"
   ]
  },
  {
   "cell_type": "code",
   "execution_count": 80,
   "metadata": {},
   "outputs": [
    {
     "data": {
      "text/plain": [
       "Index(['educ', 'exper', 'tenure', 'nonwhite', 'female', 'married', 'numdep',\n",
       "       'smsa', 'northcen', 'south', 'west', 'construc', 'ndurman', 'trcommpu',\n",
       "       'trade', 'services', 'profserv', 'profocc', 'clerocc', 'servocc',\n",
       "       'lwage', 'expersq', 'tenursq'],\n",
       "      dtype='object')"
      ]
     },
     "execution_count": 80,
     "metadata": {},
     "output_type": "execute_result"
    }
   ],
   "source": [
    "X.columns"
   ]
  },
  {
   "cell_type": "code",
   "execution_count": 81,
   "metadata": {},
   "outputs": [],
   "source": [
    "colunas = X.columns"
   ]
  },
  {
   "cell_type": "code",
   "execution_count": 82,
   "metadata": {},
   "outputs": [
    {
     "data": {
      "image/png": "[encoded data removed]",
      "text/plain": [
       "<Figure size 1080x720 with 23 Axes>"
      ]
     },
     "metadata": {},
     "output_type": "display_data"
    }
   ],
   "source": [
    "\n",
    "# Gráfico de dispersão\n",
    "n_linhas = 8\n",
    "colunas = 3\n",
    "posicao = 1\n",
    "# Tamanho das Figuras\n",
    "plt.subplots(figsize=(15,10))\n",
    "# Título\n",
    "plt.suptitle('Análise das variáveis independentes - Gráfico de Dispersão', fontsize=22, color='#404040', fontweight=600, y = 1.3)\n",
    "# Plotar as 23 colunas no X\n",
    "for coluna in X.columns:\n",
    "    plt.subplot(n_linhas,colunas,posicao)\n",
    "    plt.scatter(wage_data[coluna], wage_data['wage'])\n",
    "    plt.xlabel(coluna)\n",
    "    plt.ylabel('Wage')\n",
    "    posicao += 1\n",
    "# Ajuste de Grid\n",
    "plt.subplots_adjust( top=1.2, hspace=1.5 )"
   ]
  },
  {
   "cell_type": "code",
   "execution_count": 17,
   "metadata": {},
   "outputs": [
    {
     "data": {
      "image/png": "[encoded data removed]",
      "text/plain": [
       "<Figure size 1080x720 with 23 Axes>"
      ]
     },
     "metadata": {
      "needs_background": "light"
     },
     "output_type": "display_data"
    }
   ],
   "source": [
    "import seaborn as sns\n",
    "\n",
    "\n",
    "# Gráfico Boxplot\n",
    "n_linhas = 8\n",
    "colunas = 3\n",
    "posicao = 1\n",
    "# Tamanho das Figuras\n",
    "plt.subplots(figsize=(15,10))\n",
    "# Título\n",
    "plt.suptitle('Análise das variáveis independentes - Gráfico Boxplot', fontsize=22, color='#404040', fontweight=600, y = 1.3)\n",
    "# Plotar as 23 colunas no X\n",
    "for coluna in X.columns:\n",
    "    plt.subplot(n_linhas,colunas,posicao)\n",
    "    sns.boxplot(data=wage_data, y =coluna, showmeans=True, saturation=0.75, linewidth=1, width=0.25)    \n",
    "    plt.xlabel(coluna)\n",
    "    plt.ylabel('Wage')\n",
    "    posicao += 1\n",
    "# Ajuste de Grid\n",
    "plt.subplots_adjust( top=1.2, hspace=1.5 )"
   ]
  },
  {
   "cell_type": "code",
   "execution_count": 18,
   "metadata": {},
   "outputs": [
    {
     "data": {
      "text/html": [
       "<div>\n",
       "<style scoped>\n",
       "    .dataframe tbody tr th:only-of-type {\n",
       "        vertical-align: middle;\n",
       "    }\n",
       "\n",
       "    .dataframe tbody tr th {\n",
       "        vertical-align: top;\n",
       "    }\n",
       "\n",
       "    .dataframe thead th {\n",
       "        text-align: right;\n",
       "    }\n",
       "</style>\n",
       "<table border=\"1\" class=\"dataframe\">\n",
       "  <thead>\n",
       "    <tr style=\"text-align: right;\">\n",
       "      <th></th>\n",
       "      <th>wage</th>\n",
       "      <th>educ</th>\n",
       "      <th>exper</th>\n",
       "      <th>tenure</th>\n",
       "      <th>nonwhite</th>\n",
       "      <th>female</th>\n",
       "      <th>married</th>\n",
       "      <th>numdep</th>\n",
       "      <th>smsa</th>\n",
       "      <th>northcen</th>\n",
       "      <th>...</th>\n",
       "      <th>trcommpu</th>\n",
       "      <th>trade</th>\n",
       "      <th>services</th>\n",
       "      <th>profserv</th>\n",
       "      <th>profocc</th>\n",
       "      <th>clerocc</th>\n",
       "      <th>servocc</th>\n",
       "      <th>lwage</th>\n",
       "      <th>expersq</th>\n",
       "      <th>tenursq</th>\n",
       "    </tr>\n",
       "  </thead>\n",
       "  <tbody>\n",
       "    <tr>\n",
       "      <th>wage</th>\n",
       "      <td>1.000000</td>\n",
       "      <td>0.405903</td>\n",
       "      <td>0.112903</td>\n",
       "      <td>0.346890</td>\n",
       "      <td>-0.038520</td>\n",
       "      <td>-0.340098</td>\n",
       "      <td>0.228817</td>\n",
       "      <td>-0.053760</td>\n",
       "      <td>0.177885</td>\n",
       "      <td>-0.029124</td>\n",
       "      <td>...</td>\n",
       "      <td>0.055940</td>\n",
       "      <td>-0.189848</td>\n",
       "      <td>-0.141624</td>\n",
       "      <td>0.085204</td>\n",
       "      <td>0.441770</td>\n",
       "      <td>-0.140837</td>\n",
       "      <td>-0.253078</td>\n",
       "      <td>0.937062</td>\n",
       "      <td>0.030238</td>\n",
       "      <td>0.267419</td>\n",
       "    </tr>\n",
       "    <tr>\n",
       "      <th>educ</th>\n",
       "      <td>0.405903</td>\n",
       "      <td>1.000000</td>\n",
       "      <td>-0.299542</td>\n",
       "      <td>-0.056173</td>\n",
       "      <td>-0.084654</td>\n",
       "      <td>-0.085029</td>\n",
       "      <td>0.068881</td>\n",
       "      <td>-0.215291</td>\n",
       "      <td>0.224309</td>\n",
       "      <td>0.061372</td>\n",
       "      <td>...</td>\n",
       "      <td>0.107736</td>\n",
       "      <td>-0.059204</td>\n",
       "      <td>-0.072659</td>\n",
       "      <td>0.214198</td>\n",
       "      <td>0.496768</td>\n",
       "      <td>-0.008324</td>\n",
       "      <td>-0.163345</td>\n",
       "      <td>0.431053</td>\n",
       "      <td>-0.331256</td>\n",
       "      <td>-0.069106</td>\n",
       "    </tr>\n",
       "    <tr>\n",
       "      <th>exper</th>\n",
       "      <td>0.112903</td>\n",
       "      <td>-0.299542</td>\n",
       "      <td>1.000000</td>\n",
       "      <td>0.499291</td>\n",
       "      <td>0.014356</td>\n",
       "      <td>-0.041626</td>\n",
       "      <td>0.316984</td>\n",
       "      <td>-0.056319</td>\n",
       "      <td>-0.117260</td>\n",
       "      <td>0.010588</td>\n",
       "      <td>...</td>\n",
       "      <td>-0.048267</td>\n",
       "      <td>-0.104626</td>\n",
       "      <td>0.041499</td>\n",
       "      <td>-0.020599</td>\n",
       "      <td>-0.005615</td>\n",
       "      <td>-0.040385</td>\n",
       "      <td>-0.071080</td>\n",
       "      <td>0.111373</td>\n",
       "      <td>0.960971</td>\n",
       "      <td>0.422942</td>\n",
       "    </tr>\n",
       "    <tr>\n",
       "      <th>tenure</th>\n",
       "      <td>0.346890</td>\n",
       "      <td>-0.056173</td>\n",
       "      <td>0.499291</td>\n",
       "      <td>1.000000</td>\n",
       "      <td>0.011589</td>\n",
       "      <td>-0.197910</td>\n",
       "      <td>0.239889</td>\n",
       "      <td>-0.027037</td>\n",
       "      <td>0.000745</td>\n",
       "      <td>0.014093</td>\n",
       "      <td>...</td>\n",
       "      <td>0.063885</td>\n",
       "      <td>-0.126224</td>\n",
       "      <td>-0.062604</td>\n",
       "      <td>-0.059691</td>\n",
       "      <td>0.090624</td>\n",
       "      <td>-0.072831</td>\n",
       "      <td>-0.112679</td>\n",
       "      <td>0.325538</td>\n",
       "      <td>0.459223</td>\n",
       "      <td>0.921564</td>\n",
       "    </tr>\n",
       "    <tr>\n",
       "      <th>nonwhite</th>\n",
       "      <td>-0.038520</td>\n",
       "      <td>-0.084654</td>\n",
       "      <td>0.014356</td>\n",
       "      <td>0.011589</td>\n",
       "      <td>1.000000</td>\n",
       "      <td>-0.010917</td>\n",
       "      <td>-0.062259</td>\n",
       "      <td>0.077701</td>\n",
       "      <td>-0.014147</td>\n",
       "      <td>-0.080201</td>\n",
       "      <td>...</td>\n",
       "      <td>-0.072328</td>\n",
       "      <td>-0.048486</td>\n",
       "      <td>0.094866</td>\n",
       "      <td>-0.056680</td>\n",
       "      <td>-0.088552</td>\n",
       "      <td>-0.034138</td>\n",
       "      <td>-0.028769</td>\n",
       "      <td>-0.038888</td>\n",
       "      <td>0.009348</td>\n",
       "      <td>-0.007203</td>\n",
       "    </tr>\n",
       "    <tr>\n",
       "      <th>female</th>\n",
       "      <td>-0.340098</td>\n",
       "      <td>-0.085029</td>\n",
       "      <td>-0.041626</td>\n",
       "      <td>-0.197910</td>\n",
       "      <td>-0.010917</td>\n",
       "      <td>1.000000</td>\n",
       "      <td>-0.166128</td>\n",
       "      <td>0.033148</td>\n",
       "      <td>0.016545</td>\n",
       "      <td>0.015453</td>\n",
       "      <td>...</td>\n",
       "      <td>-0.018964</td>\n",
       "      <td>-0.053351</td>\n",
       "      <td>0.108833</td>\n",
       "      <td>0.215939</td>\n",
       "      <td>-0.177376</td>\n",
       "      <td>0.355233</td>\n",
       "      <td>0.159226</td>\n",
       "      <td>-0.373677</td>\n",
       "      <td>-0.027860</td>\n",
       "      <td>-0.175623</td>\n",
       "    </tr>\n",
       "    <tr>\n",
       "      <th>married</th>\n",
       "      <td>0.228817</td>\n",
       "      <td>0.068881</td>\n",
       "      <td>0.316984</td>\n",
       "      <td>0.239889</td>\n",
       "      <td>-0.062259</td>\n",
       "      <td>-0.166128</td>\n",
       "      <td>1.000000</td>\n",
       "      <td>0.154497</td>\n",
       "      <td>-0.097230</td>\n",
       "      <td>-0.011716</td>\n",
       "      <td>...</td>\n",
       "      <td>0.038239</td>\n",
       "      <td>-0.136572</td>\n",
       "      <td>-0.054906</td>\n",
       "      <td>0.064603</td>\n",
       "      <td>0.085544</td>\n",
       "      <td>0.025711</td>\n",
       "      <td>-0.157040</td>\n",
       "      <td>0.270669</td>\n",
       "      <td>0.217289</td>\n",
       "      <td>0.166822</td>\n",
       "    </tr>\n",
       "    <tr>\n",
       "      <th>numdep</th>\n",
       "      <td>-0.053760</td>\n",
       "      <td>-0.215291</td>\n",
       "      <td>-0.056319</td>\n",
       "      <td>-0.027037</td>\n",
       "      <td>0.077701</td>\n",
       "      <td>0.033148</td>\n",
       "      <td>0.154497</td>\n",
       "      <td>1.000000</td>\n",
       "      <td>-0.096368</td>\n",
       "      <td>-0.089640</td>\n",
       "      <td>...</td>\n",
       "      <td>-0.014791</td>\n",
       "      <td>0.047992</td>\n",
       "      <td>-0.061708</td>\n",
       "      <td>-0.072145</td>\n",
       "      <td>-0.123401</td>\n",
       "      <td>0.028897</td>\n",
       "      <td>0.055361</td>\n",
       "      <td>-0.095297</td>\n",
       "      <td>-0.130906</td>\n",
       "      <td>-0.056640</td>\n",
       "    </tr>\n",
       "    <tr>\n",
       "      <th>smsa</th>\n",
       "      <td>0.177885</td>\n",
       "      <td>0.224309</td>\n",
       "      <td>-0.117260</td>\n",
       "      <td>0.000745</td>\n",
       "      <td>-0.014147</td>\n",
       "      <td>0.016545</td>\n",
       "      <td>-0.097230</td>\n",
       "      <td>-0.096368</td>\n",
       "      <td>1.000000</td>\n",
       "      <td>0.055216</td>\n",
       "      <td>...</td>\n",
       "      <td>0.007973</td>\n",
       "      <td>0.017948</td>\n",
       "      <td>0.010028</td>\n",
       "      <td>0.046049</td>\n",
       "      <td>0.145965</td>\n",
       "      <td>0.107216</td>\n",
       "      <td>-0.030039</td>\n",
       "      <td>0.200124</td>\n",
       "      <td>-0.110918</td>\n",
       "      <td>0.004473</td>\n",
       "    </tr>\n",
       "    <tr>\n",
       "      <th>northcen</th>\n",
       "      <td>-0.029124</td>\n",
       "      <td>0.061372</td>\n",
       "      <td>0.010588</td>\n",
       "      <td>0.014093</td>\n",
       "      <td>-0.080201</td>\n",
       "      <td>0.015453</td>\n",
       "      <td>-0.011716</td>\n",
       "      <td>-0.089640</td>\n",
       "      <td>0.055216</td>\n",
       "      <td>1.000000</td>\n",
       "      <td>...</td>\n",
       "      <td>-0.059439</td>\n",
       "      <td>0.020417</td>\n",
       "      <td>-0.062645</td>\n",
       "      <td>0.068810</td>\n",
       "      <td>0.068841</td>\n",
       "      <td>-0.024479</td>\n",
       "      <td>0.043253</td>\n",
       "      <td>-0.015858</td>\n",
       "      <td>0.033540</td>\n",
       "      <td>0.009093</td>\n",
       "    </tr>\n",
       "    <tr>\n",
       "      <th>south</th>\n",
       "      <td>-0.102503</td>\n",
       "      <td>-0.116625</td>\n",
       "      <td>0.050323</td>\n",
       "      <td>-0.025067</td>\n",
       "      <td>0.102098</td>\n",
       "      <td>-0.044438</td>\n",
       "      <td>0.075150</td>\n",
       "      <td>0.087655</td>\n",
       "      <td>-0.231449</td>\n",
       "      <td>-0.429892</td>\n",
       "      <td>...</td>\n",
       "      <td>0.015989</td>\n",
       "      <td>0.029125</td>\n",
       "      <td>0.002082</td>\n",
       "      <td>-0.084814</td>\n",
       "      <td>-0.103949</td>\n",
       "      <td>0.028889</td>\n",
       "      <td>-0.026364</td>\n",
       "      <td>-0.090454</td>\n",
       "      <td>0.021216</td>\n",
       "      <td>-0.029205</td>\n",
       "    </tr>\n",
       "    <tr>\n",
       "      <th>west</th>\n",
       "      <td>0.087732</td>\n",
       "      <td>0.016343</td>\n",
       "      <td>-0.017398</td>\n",
       "      <td>-0.021291</td>\n",
       "      <td>-0.002287</td>\n",
       "      <td>0.054417</td>\n",
       "      <td>-0.022277</td>\n",
       "      <td>0.008480</td>\n",
       "      <td>0.098553</td>\n",
       "      <td>-0.261212</td>\n",
       "      <td>...</td>\n",
       "      <td>0.052281</td>\n",
       "      <td>-0.039784</td>\n",
       "      <td>0.067926</td>\n",
       "      <td>-0.034875</td>\n",
       "      <td>-0.006901</td>\n",
       "      <td>0.001498</td>\n",
       "      <td>-0.022180</td>\n",
       "      <td>0.072298</td>\n",
       "      <td>-0.023133</td>\n",
       "      <td>-0.040805</td>\n",
       "    </tr>\n",
       "    <tr>\n",
       "      <th>construc</th>\n",
       "      <td>0.004034</td>\n",
       "      <td>-0.077411</td>\n",
       "      <td>-0.072841</td>\n",
       "      <td>-0.025888</td>\n",
       "      <td>0.046109</td>\n",
       "      <td>-0.082032</td>\n",
       "      <td>0.007452</td>\n",
       "      <td>0.014096</td>\n",
       "      <td>-0.006885</td>\n",
       "      <td>-0.021493</td>\n",
       "      <td>...</td>\n",
       "      <td>-0.046756</td>\n",
       "      <td>-0.138748</td>\n",
       "      <td>-0.073192</td>\n",
       "      <td>-0.129119</td>\n",
       "      <td>-0.090849</td>\n",
       "      <td>0.024038</td>\n",
       "      <td>-0.088471</td>\n",
       "      <td>0.022563</td>\n",
       "      <td>-0.066560</td>\n",
       "      <td>-0.028789</td>\n",
       "    </tr>\n",
       "    <tr>\n",
       "      <th>ndurman</th>\n",
       "      <td>0.073725</td>\n",
       "      <td>-0.012461</td>\n",
       "      <td>0.101432</td>\n",
       "      <td>0.160519</td>\n",
       "      <td>0.036261</td>\n",
       "      <td>-0.092721</td>\n",
       "      <td>0.079615</td>\n",
       "      <td>0.016017</td>\n",
       "      <td>-0.098107</td>\n",
       "      <td>-0.000787</td>\n",
       "      <td>...</td>\n",
       "      <td>-0.076730</td>\n",
       "      <td>-0.227696</td>\n",
       "      <td>-0.120113</td>\n",
       "      <td>-0.211895</td>\n",
       "      <td>-0.000189</td>\n",
       "      <td>-0.128792</td>\n",
       "      <td>-0.110787</td>\n",
       "      <td>0.082614</td>\n",
       "      <td>0.093953</td>\n",
       "      <td>0.126454</td>\n",
       "    </tr>\n",
       "    <tr>\n",
       "      <th>trcommpu</th>\n",
       "      <td>0.055940</td>\n",
       "      <td>0.107736</td>\n",
       "      <td>-0.048267</td>\n",
       "      <td>0.063885</td>\n",
       "      <td>-0.072328</td>\n",
       "      <td>-0.018964</td>\n",
       "      <td>0.038239</td>\n",
       "      <td>-0.014791</td>\n",
       "      <td>0.007973</td>\n",
       "      <td>-0.059439</td>\n",
       "      <td>...</td>\n",
       "      <td>1.000000</td>\n",
       "      <td>-0.135692</td>\n",
       "      <td>-0.071579</td>\n",
       "      <td>-0.126275</td>\n",
       "      <td>-0.008472</td>\n",
       "      <td>0.078516</td>\n",
       "      <td>-0.059783</td>\n",
       "      <td>0.077205</td>\n",
       "      <td>-0.043717</td>\n",
       "      <td>0.051774</td>\n",
       "    </tr>\n",
       "    <tr>\n",
       "      <th>trade</th>\n",
       "      <td>-0.189848</td>\n",
       "      <td>-0.059204</td>\n",
       "      <td>-0.104626</td>\n",
       "      <td>-0.126224</td>\n",
       "      <td>-0.048486</td>\n",
       "      <td>-0.053351</td>\n",
       "      <td>-0.136572</td>\n",
       "      <td>0.047992</td>\n",
       "      <td>0.017948</td>\n",
       "      <td>0.020417</td>\n",
       "      <td>...</td>\n",
       "      <td>-0.135692</td>\n",
       "      <td>1.000000</td>\n",
       "      <td>-0.212413</td>\n",
       "      <td>-0.374723</td>\n",
       "      <td>0.057504</td>\n",
       "      <td>-0.036731</td>\n",
       "      <td>0.033318</td>\n",
       "      <td>-0.214694</td>\n",
       "      <td>-0.083102</td>\n",
       "      <td>-0.092353</td>\n",
       "    </tr>\n",
       "    <tr>\n",
       "      <th>services</th>\n",
       "      <td>-0.141624</td>\n",
       "      <td>-0.072659</td>\n",
       "      <td>0.041499</td>\n",
       "      <td>-0.062604</td>\n",
       "      <td>0.094866</td>\n",
       "      <td>0.108833</td>\n",
       "      <td>-0.054906</td>\n",
       "      <td>-0.061708</td>\n",
       "      <td>0.010028</td>\n",
       "      <td>-0.062645</td>\n",
       "      <td>...</td>\n",
       "      <td>-0.071579</td>\n",
       "      <td>-0.212413</td>\n",
       "      <td>1.000000</td>\n",
       "      <td>-0.197672</td>\n",
       "      <td>-0.123794</td>\n",
       "      <td>-0.031591</td>\n",
       "      <td>0.173360</td>\n",
       "      <td>-0.187391</td>\n",
       "      <td>0.050088</td>\n",
       "      <td>-0.025516</td>\n",
       "    </tr>\n",
       "    <tr>\n",
       "      <th>profserv</th>\n",
       "      <td>0.085204</td>\n",
       "      <td>0.214198</td>\n",
       "      <td>-0.020599</td>\n",
       "      <td>-0.059691</td>\n",
       "      <td>-0.056680</td>\n",
       "      <td>0.215939</td>\n",
       "      <td>0.064603</td>\n",
       "      <td>-0.072145</td>\n",
       "      <td>0.046049</td>\n",
       "      <td>0.068810</td>\n",
       "      <td>...</td>\n",
       "      <td>-0.126275</td>\n",
       "      <td>-0.374723</td>\n",
       "      <td>-0.197672</td>\n",
       "      <td>1.000000</td>\n",
       "      <td>0.163055</td>\n",
       "      <td>0.189009</td>\n",
       "      <td>0.098243</td>\n",
       "      <td>0.112766</td>\n",
       "      <td>-0.028370</td>\n",
       "      <td>-0.081666</td>\n",
       "    </tr>\n",
       "    <tr>\n",
       "      <th>profocc</th>\n",
       "      <td>0.441770</td>\n",
       "      <td>0.496768</td>\n",
       "      <td>-0.005615</td>\n",
       "      <td>0.090624</td>\n",
       "      <td>-0.088552</td>\n",
       "      <td>-0.177376</td>\n",
       "      <td>0.085544</td>\n",
       "      <td>-0.123401</td>\n",
       "      <td>0.145965</td>\n",
       "      <td>0.068841</td>\n",
       "      <td>...</td>\n",
       "      <td>-0.008472</td>\n",
       "      <td>0.057504</td>\n",
       "      <td>-0.123794</td>\n",
       "      <td>0.163055</td>\n",
       "      <td>1.000000</td>\n",
       "      <td>-0.341241</td>\n",
       "      <td>-0.308037</td>\n",
       "      <td>0.445143</td>\n",
       "      <td>-0.037135</td>\n",
       "      <td>0.043595</td>\n",
       "    </tr>\n",
       "    <tr>\n",
       "      <th>clerocc</th>\n",
       "      <td>-0.140837</td>\n",
       "      <td>-0.008324</td>\n",
       "      <td>-0.040385</td>\n",
       "      <td>-0.072831</td>\n",
       "      <td>-0.034138</td>\n",
       "      <td>0.355233</td>\n",
       "      <td>0.025711</td>\n",
       "      <td>0.028897</td>\n",
       "      <td>0.107216</td>\n",
       "      <td>-0.024479</td>\n",
       "      <td>...</td>\n",
       "      <td>0.078516</td>\n",
       "      <td>-0.036731</td>\n",
       "      <td>-0.031591</td>\n",
       "      <td>0.189009</td>\n",
       "      <td>-0.341241</td>\n",
       "      <td>1.000000</td>\n",
       "      <td>-0.181364</td>\n",
       "      <td>-0.119043</td>\n",
       "      <td>-0.045637</td>\n",
       "      <td>-0.047785</td>\n",
       "    </tr>\n",
       "    <tr>\n",
       "      <th>servocc</th>\n",
       "      <td>-0.253078</td>\n",
       "      <td>-0.163345</td>\n",
       "      <td>-0.071080</td>\n",
       "      <td>-0.112679</td>\n",
       "      <td>-0.028769</td>\n",
       "      <td>0.159226</td>\n",
       "      <td>-0.157040</td>\n",
       "      <td>0.055361</td>\n",
       "      <td>-0.030039</td>\n",
       "      <td>0.043253</td>\n",
       "      <td>...</td>\n",
       "      <td>-0.059783</td>\n",
       "      <td>0.033318</td>\n",
       "      <td>0.173360</td>\n",
       "      <td>0.098243</td>\n",
       "      <td>-0.308037</td>\n",
       "      <td>-0.181364</td>\n",
       "      <td>1.000000</td>\n",
       "      <td>-0.318303</td>\n",
       "      <td>-0.020604</td>\n",
       "      <td>-0.075965</td>\n",
       "    </tr>\n",
       "    <tr>\n",
       "      <th>lwage</th>\n",
       "      <td>0.937062</td>\n",
       "      <td>0.431053</td>\n",
       "      <td>0.111373</td>\n",
       "      <td>0.325538</td>\n",
       "      <td>-0.038888</td>\n",
       "      <td>-0.373677</td>\n",
       "      <td>0.270669</td>\n",
       "      <td>-0.095297</td>\n",
       "      <td>0.200124</td>\n",
       "      <td>-0.015858</td>\n",
       "      <td>...</td>\n",
       "      <td>0.077205</td>\n",
       "      <td>-0.214694</td>\n",
       "      <td>-0.187391</td>\n",
       "      <td>0.112766</td>\n",
       "      <td>0.445143</td>\n",
       "      <td>-0.119043</td>\n",
       "      <td>-0.318303</td>\n",
       "      <td>1.000000</td>\n",
       "      <td>0.023298</td>\n",
       "      <td>0.236083</td>\n",
       "    </tr>\n",
       "    <tr>\n",
       "      <th>expersq</th>\n",
       "      <td>0.030238</td>\n",
       "      <td>-0.331256</td>\n",
       "      <td>0.960971</td>\n",
       "      <td>0.459223</td>\n",
       "      <td>0.009348</td>\n",
       "      <td>-0.027860</td>\n",
       "      <td>0.217289</td>\n",
       "      <td>-0.130906</td>\n",
       "      <td>-0.110918</td>\n",
       "      <td>0.033540</td>\n",
       "      <td>...</td>\n",
       "      <td>-0.043717</td>\n",
       "      <td>-0.083102</td>\n",
       "      <td>0.050088</td>\n",
       "      <td>-0.028370</td>\n",
       "      <td>-0.037135</td>\n",
       "      <td>-0.045637</td>\n",
       "      <td>-0.020604</td>\n",
       "      <td>0.023298</td>\n",
       "      <td>1.000000</td>\n",
       "      <td>0.413950</td>\n",
       "    </tr>\n",
       "    <tr>\n",
       "      <th>tenursq</th>\n",
       "      <td>0.267419</td>\n",
       "      <td>-0.069106</td>\n",
       "      <td>0.422942</td>\n",
       "      <td>0.921564</td>\n",
       "      <td>-0.007203</td>\n",
       "      <td>-0.175623</td>\n",
       "      <td>0.166822</td>\n",
       "      <td>-0.056640</td>\n",
       "      <td>0.004473</td>\n",
       "      <td>0.009093</td>\n",
       "      <td>...</td>\n",
       "      <td>0.051774</td>\n",
       "      <td>-0.092353</td>\n",
       "      <td>-0.025516</td>\n",
       "      <td>-0.081666</td>\n",
       "      <td>0.043595</td>\n",
       "      <td>-0.047785</td>\n",
       "      <td>-0.075965</td>\n",
       "      <td>0.236083</td>\n",
       "      <td>0.413950</td>\n",
       "      <td>1.000000</td>\n",
       "    </tr>\n",
       "  </tbody>\n",
       "</table>\n",
       "<p>24 rows × 24 columns</p>\n",
       "</div>"
      ],
      "text/plain": [
       "              wage      educ     exper    tenure  nonwhite    female  \\\n",
       "wage      1.000000  0.405903  0.112903  0.346890 -0.038520 -0.340098   \n",
       "educ      0.405903  1.000000 -0.299542 -0.056173 -0.084654 -0.085029   \n",
       "exper     0.112903 -0.299542  1.000000  0.499291  0.014356 -0.041626   \n",
       "tenure    0.346890 -0.056173  0.499291  1.000000  0.011589 -0.197910   \n",
       "nonwhite -0.038520 -0.084654  0.014356  0.011589  1.000000 -0.010917   \n",
       "female   -0.340098 -0.085029 -0.041626 -0.197910 -0.010917  1.000000   \n",
       "married   0.228817  0.068881  0.316984  0.239889 -0.062259 -0.166128   \n",
       "numdep   -0.053760 -0.215291 -0.056319 -0.027037  0.077701  0.033148   \n",
       "smsa      0.177885  0.224309 -0.117260  0.000745 -0.014147  0.016545   \n",
       "northcen -0.029124  0.061372  0.010588  0.014093 -0.080201  0.015453   \n",
       "south    -0.102503 -0.116625  0.050323 -0.025067  0.102098 -0.044438   \n",
       "west      0.087732  0.016343 -0.017398 -0.021291 -0.002287  0.054417   \n",
       "construc  0.004034 -0.077411 -0.072841 -0.025888  0.046109 -0.082032   \n",
       "ndurman   0.073725 -0.012461  0.101432  0.160519  0.036261 -0.092721   \n",
       "trcommpu  0.055940  0.107736 -0.048267  0.063885 -0.072328 -0.018964   \n",
       "trade    -0.189848 -0.059204 -0.104626 -0.126224 -0.048486 -0.053351   \n",
       "services -0.141624 -0.072659  0.041499 -0.062604  0.094866  0.108833   \n",
       "profserv  0.085204  0.214198 -0.020599 -0.059691 -0.056680  0.215939   \n",
       "profocc   0.441770  0.496768 -0.005615  0.090624 -0.088552 -0.177376   \n",
       "clerocc  -0.140837 -0.008324 -0.040385 -0.072831 -0.034138  0.355233   \n",
       "servocc  -0.253078 -0.163345 -0.071080 -0.112679 -0.028769  0.159226   \n",
       "lwage     0.937062  0.431053  0.111373  0.325538 -0.038888 -0.373677   \n",
       "expersq   0.030238 -0.331256  0.960971  0.459223  0.009348 -0.027860   \n",
       "tenursq   0.267419 -0.069106  0.422942  0.921564 -0.007203 -0.175623   \n",
       "\n",
       "           married    numdep      smsa  northcen  ...  trcommpu     trade  \\\n",
       "wage      0.228817 -0.053760  0.177885 -0.029124  ...  0.055940 -0.189848   \n",
       "educ      0.068881 -0.215291  0.224309  0.061372  ...  0.107736 -0.059204   \n",
       "exper     0.316984 -0.056319 -0.117260  0.010588  ... -0.048267 -0.104626   \n",
       "tenure    0.239889 -0.027037  0.000745  0.014093  ...  0.063885 -0.126224   \n",
       "nonwhite -0.062259  0.077701 -0.014147 -0.080201  ... -0.072328 -0.048486   \n",
       "female   -0.166128  0.033148  0.016545  0.015453  ... -0.018964 -0.053351   \n",
       "married   1.000000  0.154497 -0.097230 -0.011716  ...  0.038239 -0.136572   \n",
       "numdep    0.154497  1.000000 -0.096368 -0.089640  ... -0.014791  0.047992   \n",
       "smsa     -0.097230 -0.096368  1.000000  0.055216  ...  0.007973  0.017948   \n",
       "northcen -0.011716 -0.089640  0.055216  1.000000  ... -0.059439  0.020417   \n",
       "south     0.075150  0.087655 -0.231449 -0.429892  ...  0.015989  0.029125   \n",
       "west     -0.022277  0.008480  0.098553 -0.261212  ...  0.052281 -0.039784   \n",
       "construc  0.007452  0.014096 -0.006885 -0.021493  ... -0.046756 -0.138748   \n",
       "ndurman   0.079615  0.016017 -0.098107 -0.000787  ... -0.076730 -0.227696   \n",
       "trcommpu  0.038239 -0.014791  0.007973 -0.059439  ...  1.000000 -0.135692   \n",
       "trade    -0.136572  0.047992  0.017948  0.020417  ... -0.135692  1.000000   \n",
       "services -0.054906 -0.061708  0.010028 -0.062645  ... -0.071579 -0.212413   \n",
       "profserv  0.064603 -0.072145  0.046049  0.068810  ... -0.126275 -0.374723   \n",
       "profocc   0.085544 -0.123401  0.145965  0.068841  ... -0.008472  0.057504   \n",
       "clerocc   0.025711  0.028897  0.107216 -0.024479  ...  0.078516 -0.036731   \n",
       "servocc  -0.157040  0.055361 -0.030039  0.043253  ... -0.059783  0.033318   \n",
       "lwage     0.270669 -0.095297  0.200124 -0.015858  ...  0.077205 -0.214694   \n",
       "expersq   0.217289 -0.130906 -0.110918  0.033540  ... -0.043717 -0.083102   \n",
       "tenursq   0.166822 -0.056640  0.004473  0.009093  ...  0.051774 -0.092353   \n",
       "\n",
       "          services  profserv   profocc   clerocc   servocc     lwage  \\\n",
       "wage     -0.141624  0.085204  0.441770 -0.140837 -0.253078  0.937062   \n",
       "educ     -0.072659  0.214198  0.496768 -0.008324 -0.163345  0.431053   \n",
       "exper     0.041499 -0.020599 -0.005615 -0.040385 -0.071080  0.111373   \n",
       "tenure   -0.062604 -0.059691  0.090624 -0.072831 -0.112679  0.325538   \n",
       "nonwhite  0.094866 -0.056680 -0.088552 -0.034138 -0.028769 -0.038888   \n",
       "female    0.108833  0.215939 -0.177376  0.355233  0.159226 -0.373677   \n",
       "married  -0.054906  0.064603  0.085544  0.025711 -0.157040  0.270669   \n",
       "numdep   -0.061708 -0.072145 -0.123401  0.028897  0.055361 -0.095297   \n",
       "smsa      0.010028  0.046049  0.145965  0.107216 -0.030039  0.200124   \n",
       "northcen -0.062645  0.068810  0.068841 -0.024479  0.043253 -0.015858   \n",
       "south     0.002082 -0.084814 -0.103949  0.028889 -0.026364 -0.090454   \n",
       "west      0.067926 -0.034875 -0.006901  0.001498 -0.022180  0.072298   \n",
       "construc -0.073192 -0.129119 -0.090849  0.024038 -0.088471  0.022563   \n",
       "ndurman  -0.120113 -0.211895 -0.000189 -0.128792 -0.110787  0.082614   \n",
       "trcommpu -0.071579 -0.126275 -0.008472  0.078516 -0.059783  0.077205   \n",
       "trade    -0.212413 -0.374723  0.057504 -0.036731  0.033318 -0.214694   \n",
       "services  1.000000 -0.197672 -0.123794 -0.031591  0.173360 -0.187391   \n",
       "profserv -0.197672  1.000000  0.163055  0.189009  0.098243  0.112766   \n",
       "profocc  -0.123794  0.163055  1.000000 -0.341241 -0.308037  0.445143   \n",
       "clerocc  -0.031591  0.189009 -0.341241  1.000000 -0.181364 -0.119043   \n",
       "servocc   0.173360  0.098243 -0.308037 -0.181364  1.000000 -0.318303   \n",
       "lwage    -0.187391  0.112766  0.445143 -0.119043 -0.318303  1.000000   \n",
       "expersq   0.050088 -0.028370 -0.037135 -0.045637 -0.020604  0.023298   \n",
       "tenursq  -0.025516 -0.081666  0.043595 -0.047785 -0.075965  0.236083   \n",
       "\n",
       "           expersq   tenursq  \n",
       "wage      0.030238  0.267419  \n",
       "educ     -0.331256 -0.069106  \n",
       "exper     0.960971  0.422942  \n",
       "tenure    0.459223  0.921564  \n",
       "nonwhite  0.009348 -0.007203  \n",
       "female   -0.027860 -0.175623  \n",
       "married   0.217289  0.166822  \n",
       "numdep   -0.130906 -0.056640  \n",
       "smsa     -0.110918  0.004473  \n",
       "northcen  0.033540  0.009093  \n",
       "south     0.021216 -0.029205  \n",
       "west     -0.023133 -0.040805  \n",
       "construc -0.066560 -0.028789  \n",
       "ndurman   0.093953  0.126454  \n",
       "trcommpu -0.043717  0.051774  \n",
       "trade    -0.083102 -0.092353  \n",
       "services  0.050088 -0.025516  \n",
       "profserv -0.028370 -0.081666  \n",
       "profocc  -0.037135  0.043595  \n",
       "clerocc  -0.045637 -0.047785  \n",
       "servocc  -0.020604 -0.075965  \n",
       "lwage     0.023298  0.236083  \n",
       "expersq   1.000000  0.413950  \n",
       "tenursq   0.413950  1.000000  \n",
       "\n",
       "[24 rows x 24 columns]"
      ]
     },
     "execution_count": 18,
     "metadata": {},
     "output_type": "execute_result"
    }
   ],
   "source": [
    "wage_data.corr()"
   ]
  },
  {
   "cell_type": "code",
   "execution_count": 19,
   "metadata": {},
   "outputs": [
    {
     "data": {
      "image/png": "[encoded data removed]",
      "text/plain": [
       "<Figure size 576x396 with 2 Axes>"
      ]
     },
     "metadata": {},
     "output_type": "display_data"
    }
   ],
   "source": [
    "# Yellowbrick\n",
    "from yellowbrick.features import Rank2D\n",
    "\n",
    "# Definir o modelo\n",
    "correlacao = Rank2D( algoritmo='pearson' )\n",
    "\n",
    "# Filtrar função\n",
    "correlacao.fit( X, y )\n",
    "correlacao.transform( X )\n",
    "correlacao.show();"
   ]
  },
  {
   "cell_type": "code",
   "execution_count": 20,
   "metadata": {},
   "outputs": [
    {
     "data": {
      "text/plain": [
       "wage        0\n",
       "educ        0\n",
       "exper       0\n",
       "tenure      0\n",
       "nonwhite    0\n",
       "female      0\n",
       "married     0\n",
       "numdep      0\n",
       "smsa        0\n",
       "northcen    0\n",
       "south       0\n",
       "west        0\n",
       "construc    0\n",
       "ndurman     0\n",
       "trcommpu    0\n",
       "trade       0\n",
       "services    0\n",
       "profserv    0\n",
       "profocc     0\n",
       "clerocc     0\n",
       "servocc     0\n",
       "lwage       0\n",
       "expersq     0\n",
       "tenursq     0\n",
       "dtype: int64"
      ]
     },
     "execution_count": 20,
     "metadata": {},
     "output_type": "execute_result"
    }
   ],
   "source": [
    "wage_data.isna().sum()"
   ]
  },
  {
   "cell_type": "markdown",
   "metadata": {},
   "source": [
    "### EAD"
   ]
  },
  {
   "cell_type": "code",
   "execution_count": 21,
   "metadata": {},
   "outputs": [
    {
     "data": {
      "text/html": [
       "<div>\n",
       "<style scoped>\n",
       "    .dataframe tbody tr th:only-of-type {\n",
       "        vertical-align: middle;\n",
       "    }\n",
       "\n",
       "    .dataframe tbody tr th {\n",
       "        vertical-align: top;\n",
       "    }\n",
       "\n",
       "    .dataframe thead th {\n",
       "        text-align: right;\n",
       "    }\n",
       "</style>\n",
       "<table border=\"1\" class=\"dataframe\">\n",
       "  <thead>\n",
       "    <tr style=\"text-align: right;\">\n",
       "      <th></th>\n",
       "      <th>wage</th>\n",
       "      <th>educ</th>\n",
       "      <th>exper</th>\n",
       "      <th>tenure</th>\n",
       "      <th>nonwhite</th>\n",
       "      <th>female</th>\n",
       "      <th>married</th>\n",
       "      <th>numdep</th>\n",
       "      <th>smsa</th>\n",
       "      <th>northcen</th>\n",
       "      <th>...</th>\n",
       "      <th>trcommpu</th>\n",
       "      <th>trade</th>\n",
       "      <th>services</th>\n",
       "      <th>profserv</th>\n",
       "      <th>profocc</th>\n",
       "      <th>clerocc</th>\n",
       "      <th>servocc</th>\n",
       "      <th>lwage</th>\n",
       "      <th>expersq</th>\n",
       "      <th>tenursq</th>\n",
       "    </tr>\n",
       "  </thead>\n",
       "  <tbody>\n",
       "    <tr>\n",
       "      <th>count</th>\n",
       "      <td>526.000000</td>\n",
       "      <td>526.000000</td>\n",
       "      <td>526.00000</td>\n",
       "      <td>526.000000</td>\n",
       "      <td>526.000000</td>\n",
       "      <td>526.000000</td>\n",
       "      <td>526.000000</td>\n",
       "      <td>526.000000</td>\n",
       "      <td>526.000000</td>\n",
       "      <td>526.000000</td>\n",
       "      <td>...</td>\n",
       "      <td>526.000000</td>\n",
       "      <td>526.000000</td>\n",
       "      <td>526.000000</td>\n",
       "      <td>526.000000</td>\n",
       "      <td>526.000000</td>\n",
       "      <td>526.000000</td>\n",
       "      <td>526.000000</td>\n",
       "      <td>526.000000</td>\n",
       "      <td>526.000000</td>\n",
       "      <td>526.000000</td>\n",
       "    </tr>\n",
       "    <tr>\n",
       "      <th>mean</th>\n",
       "      <td>5.896103</td>\n",
       "      <td>12.562738</td>\n",
       "      <td>17.01711</td>\n",
       "      <td>5.104563</td>\n",
       "      <td>0.102662</td>\n",
       "      <td>0.479087</td>\n",
       "      <td>0.608365</td>\n",
       "      <td>1.043726</td>\n",
       "      <td>0.722433</td>\n",
       "      <td>0.250951</td>\n",
       "      <td>...</td>\n",
       "      <td>0.043726</td>\n",
       "      <td>0.287072</td>\n",
       "      <td>0.100760</td>\n",
       "      <td>0.258555</td>\n",
       "      <td>0.366920</td>\n",
       "      <td>0.167300</td>\n",
       "      <td>0.140684</td>\n",
       "      <td>1.623268</td>\n",
       "      <td>473.435361</td>\n",
       "      <td>78.150190</td>\n",
       "    </tr>\n",
       "    <tr>\n",
       "      <th>std</th>\n",
       "      <td>3.693086</td>\n",
       "      <td>2.769022</td>\n",
       "      <td>13.57216</td>\n",
       "      <td>7.224462</td>\n",
       "      <td>0.303805</td>\n",
       "      <td>0.500038</td>\n",
       "      <td>0.488580</td>\n",
       "      <td>1.261891</td>\n",
       "      <td>0.448225</td>\n",
       "      <td>0.433973</td>\n",
       "      <td>...</td>\n",
       "      <td>0.204680</td>\n",
       "      <td>0.452826</td>\n",
       "      <td>0.301298</td>\n",
       "      <td>0.438257</td>\n",
       "      <td>0.482423</td>\n",
       "      <td>0.373599</td>\n",
       "      <td>0.348027</td>\n",
       "      <td>0.531538</td>\n",
       "      <td>616.044772</td>\n",
       "      <td>199.434664</td>\n",
       "    </tr>\n",
       "    <tr>\n",
       "      <th>min</th>\n",
       "      <td>0.530000</td>\n",
       "      <td>0.000000</td>\n",
       "      <td>1.00000</td>\n",
       "      <td>0.000000</td>\n",
       "      <td>0.000000</td>\n",
       "      <td>0.000000</td>\n",
       "      <td>0.000000</td>\n",
       "      <td>0.000000</td>\n",
       "      <td>0.000000</td>\n",
       "      <td>0.000000</td>\n",
       "      <td>...</td>\n",
       "      <td>0.000000</td>\n",
       "      <td>0.000000</td>\n",
       "      <td>0.000000</td>\n",
       "      <td>0.000000</td>\n",
       "      <td>0.000000</td>\n",
       "      <td>0.000000</td>\n",
       "      <td>0.000000</td>\n",
       "      <td>-0.634878</td>\n",
       "      <td>1.000000</td>\n",
       "      <td>0.000000</td>\n",
       "    </tr>\n",
       "    <tr>\n",
       "      <th>25%</th>\n",
       "      <td>3.330000</td>\n",
       "      <td>12.000000</td>\n",
       "      <td>5.00000</td>\n",
       "      <td>0.000000</td>\n",
       "      <td>0.000000</td>\n",
       "      <td>0.000000</td>\n",
       "      <td>0.000000</td>\n",
       "      <td>0.000000</td>\n",
       "      <td>0.000000</td>\n",
       "      <td>0.000000</td>\n",
       "      <td>...</td>\n",
       "      <td>0.000000</td>\n",
       "      <td>0.000000</td>\n",
       "      <td>0.000000</td>\n",
       "      <td>0.000000</td>\n",
       "      <td>0.000000</td>\n",
       "      <td>0.000000</td>\n",
       "      <td>0.000000</td>\n",
       "      <td>1.202972</td>\n",
       "      <td>25.000000</td>\n",
       "      <td>0.000000</td>\n",
       "    </tr>\n",
       "    <tr>\n",
       "      <th>50%</th>\n",
       "      <td>4.650000</td>\n",
       "      <td>12.000000</td>\n",
       "      <td>13.50000</td>\n",
       "      <td>2.000000</td>\n",
       "      <td>0.000000</td>\n",
       "      <td>0.000000</td>\n",
       "      <td>1.000000</td>\n",
       "      <td>1.000000</td>\n",
       "      <td>1.000000</td>\n",
       "      <td>0.000000</td>\n",
       "      <td>...</td>\n",
       "      <td>0.000000</td>\n",
       "      <td>0.000000</td>\n",
       "      <td>0.000000</td>\n",
       "      <td>0.000000</td>\n",
       "      <td>0.000000</td>\n",
       "      <td>0.000000</td>\n",
       "      <td>0.000000</td>\n",
       "      <td>1.536867</td>\n",
       "      <td>182.500000</td>\n",
       "      <td>4.000000</td>\n",
       "    </tr>\n",
       "    <tr>\n",
       "      <th>75%</th>\n",
       "      <td>6.880000</td>\n",
       "      <td>14.000000</td>\n",
       "      <td>26.00000</td>\n",
       "      <td>7.000000</td>\n",
       "      <td>0.000000</td>\n",
       "      <td>1.000000</td>\n",
       "      <td>1.000000</td>\n",
       "      <td>2.000000</td>\n",
       "      <td>1.000000</td>\n",
       "      <td>0.750000</td>\n",
       "      <td>...</td>\n",
       "      <td>0.000000</td>\n",
       "      <td>1.000000</td>\n",
       "      <td>0.000000</td>\n",
       "      <td>1.000000</td>\n",
       "      <td>1.000000</td>\n",
       "      <td>0.000000</td>\n",
       "      <td>0.000000</td>\n",
       "      <td>1.928619</td>\n",
       "      <td>676.000000</td>\n",
       "      <td>49.000000</td>\n",
       "    </tr>\n",
       "    <tr>\n",
       "      <th>max</th>\n",
       "      <td>24.980000</td>\n",
       "      <td>18.000000</td>\n",
       "      <td>51.00000</td>\n",
       "      <td>44.000000</td>\n",
       "      <td>1.000000</td>\n",
       "      <td>1.000000</td>\n",
       "      <td>1.000000</td>\n",
       "      <td>6.000000</td>\n",
       "      <td>1.000000</td>\n",
       "      <td>1.000000</td>\n",
       "      <td>...</td>\n",
       "      <td>1.000000</td>\n",
       "      <td>1.000000</td>\n",
       "      <td>1.000000</td>\n",
       "      <td>1.000000</td>\n",
       "      <td>1.000000</td>\n",
       "      <td>1.000000</td>\n",
       "      <td>1.000000</td>\n",
       "      <td>3.218076</td>\n",
       "      <td>2601.000000</td>\n",
       "      <td>1936.000000</td>\n",
       "    </tr>\n",
       "  </tbody>\n",
       "</table>\n",
       "<p>8 rows × 24 columns</p>\n",
       "</div>"
      ],
      "text/plain": [
       "             wage        educ      exper      tenure    nonwhite      female  \\\n",
       "count  526.000000  526.000000  526.00000  526.000000  526.000000  526.000000   \n",
       "mean     5.896103   12.562738   17.01711    5.104563    0.102662    0.479087   \n",
       "std      3.693086    2.769022   13.57216    7.224462    0.303805    0.500038   \n",
       "min      0.530000    0.000000    1.00000    0.000000    0.000000    0.000000   \n",
       "25%      3.330000   12.000000    5.00000    0.000000    0.000000    0.000000   \n",
       "50%      4.650000   12.000000   13.50000    2.000000    0.000000    0.000000   \n",
       "75%      6.880000   14.000000   26.00000    7.000000    0.000000    1.000000   \n",
       "max     24.980000   18.000000   51.00000   44.000000    1.000000    1.000000   \n",
       "\n",
       "          married      numdep        smsa    northcen  ...    trcommpu  \\\n",
       "count  526.000000  526.000000  526.000000  526.000000  ...  526.000000   \n",
       "mean     0.608365    1.043726    0.722433    0.250951  ...    0.043726   \n",
       "std      0.488580    1.261891    0.448225    0.433973  ...    0.204680   \n",
       "min      0.000000    0.000000    0.000000    0.000000  ...    0.000000   \n",
       "25%      0.000000    0.000000    0.000000    0.000000  ...    0.000000   \n",
       "50%      1.000000    1.000000    1.000000    0.000000  ...    0.000000   \n",
       "75%      1.000000    2.000000    1.000000    0.750000  ...    0.000000   \n",
       "max      1.000000    6.000000    1.000000    1.000000  ...    1.000000   \n",
       "\n",
       "            trade    services    profserv     profocc     clerocc     servocc  \\\n",
       "count  526.000000  526.000000  526.000000  526.000000  526.000000  526.000000   \n",
       "mean     0.287072    0.100760    0.258555    0.366920    0.167300    0.140684   \n",
       "std      0.452826    0.301298    0.438257    0.482423    0.373599    0.348027   \n",
       "min      0.000000    0.000000    0.000000    0.000000    0.000000    0.000000   \n",
       "25%      0.000000    0.000000    0.000000    0.000000    0.000000    0.000000   \n",
       "50%      0.000000    0.000000    0.000000    0.000000    0.000000    0.000000   \n",
       "75%      1.000000    0.000000    1.000000    1.000000    0.000000    0.000000   \n",
       "max      1.000000    1.000000    1.000000    1.000000    1.000000    1.000000   \n",
       "\n",
       "            lwage      expersq      tenursq  \n",
       "count  526.000000   526.000000   526.000000  \n",
       "mean     1.623268   473.435361    78.150190  \n",
       "std      0.531538   616.044772   199.434664  \n",
       "min     -0.634878     1.000000     0.000000  \n",
       "25%      1.202972    25.000000     0.000000  \n",
       "50%      1.536867   182.500000     4.000000  \n",
       "75%      1.928619   676.000000    49.000000  \n",
       "max      3.218076  2601.000000  1936.000000  \n",
       "\n",
       "[8 rows x 24 columns]"
      ]
     },
     "execution_count": 21,
     "metadata": {},
     "output_type": "execute_result"
    }
   ],
   "source": [
    "wage_data.describe(include='all')"
   ]
  },
  {
   "cell_type": "code",
   "execution_count": 22,
   "metadata": {},
   "outputs": [
    {
     "data": {
      "text/plain": [
       "1936"
      ]
     },
     "execution_count": 22,
     "metadata": {},
     "output_type": "execute_result"
    }
   ],
   "source": [
    "### outliers \n",
    "# tenursq\n",
    "# tenure\n",
    "wage_data['tenursq'].max()\n"
   ]
  },
  {
   "cell_type": "code",
   "execution_count": 23,
   "metadata": {},
   "outputs": [
    {
     "data": {
      "text/html": [
       "<div>\n",
       "<style scoped>\n",
       "    .dataframe tbody tr th:only-of-type {\n",
       "        vertical-align: middle;\n",
       "    }\n",
       "\n",
       "    .dataframe tbody tr th {\n",
       "        vertical-align: top;\n",
       "    }\n",
       "\n",
       "    .dataframe thead th {\n",
       "        text-align: right;\n",
       "    }\n",
       "</style>\n",
       "<table border=\"1\" class=\"dataframe\">\n",
       "  <thead>\n",
       "    <tr style=\"text-align: right;\">\n",
       "      <th></th>\n",
       "      <th>wage</th>\n",
       "      <th>educ</th>\n",
       "      <th>exper</th>\n",
       "      <th>tenure</th>\n",
       "      <th>nonwhite</th>\n",
       "      <th>female</th>\n",
       "      <th>married</th>\n",
       "      <th>numdep</th>\n",
       "      <th>smsa</th>\n",
       "      <th>northcen</th>\n",
       "      <th>...</th>\n",
       "      <th>trcommpu</th>\n",
       "      <th>trade</th>\n",
       "      <th>services</th>\n",
       "      <th>profserv</th>\n",
       "      <th>profocc</th>\n",
       "      <th>clerocc</th>\n",
       "      <th>servocc</th>\n",
       "      <th>lwage</th>\n",
       "      <th>expersq</th>\n",
       "      <th>tenursq</th>\n",
       "    </tr>\n",
       "  </thead>\n",
       "  <tbody>\n",
       "    <tr>\n",
       "      <th>73</th>\n",
       "      <td>2.91</td>\n",
       "      <td>12</td>\n",
       "      <td>20</td>\n",
       "      <td>34</td>\n",
       "      <td>0</td>\n",
       "      <td>1</td>\n",
       "      <td>1</td>\n",
       "      <td>2</td>\n",
       "      <td>1</td>\n",
       "      <td>0</td>\n",
       "      <td>...</td>\n",
       "      <td>0</td>\n",
       "      <td>0</td>\n",
       "      <td>1</td>\n",
       "      <td>0</td>\n",
       "      <td>0</td>\n",
       "      <td>1</td>\n",
       "      <td>0</td>\n",
       "      <td>1.068153</td>\n",
       "      <td>400</td>\n",
       "      <td>1156</td>\n",
       "    </tr>\n",
       "    <tr>\n",
       "      <th>91</th>\n",
       "      <td>11.76</td>\n",
       "      <td>14</td>\n",
       "      <td>40</td>\n",
       "      <td>39</td>\n",
       "      <td>0</td>\n",
       "      <td>0</td>\n",
       "      <td>1</td>\n",
       "      <td>0</td>\n",
       "      <td>1</td>\n",
       "      <td>0</td>\n",
       "      <td>...</td>\n",
       "      <td>1</td>\n",
       "      <td>0</td>\n",
       "      <td>0</td>\n",
       "      <td>0</td>\n",
       "      <td>1</td>\n",
       "      <td>0</td>\n",
       "      <td>0</td>\n",
       "      <td>2.464704</td>\n",
       "      <td>1600</td>\n",
       "      <td>1521</td>\n",
       "    </tr>\n",
       "    <tr>\n",
       "      <th>264</th>\n",
       "      <td>8.75</td>\n",
       "      <td>12</td>\n",
       "      <td>47</td>\n",
       "      <td>44</td>\n",
       "      <td>0</td>\n",
       "      <td>0</td>\n",
       "      <td>1</td>\n",
       "      <td>0</td>\n",
       "      <td>0</td>\n",
       "      <td>0</td>\n",
       "      <td>...</td>\n",
       "      <td>0</td>\n",
       "      <td>0</td>\n",
       "      <td>0</td>\n",
       "      <td>0</td>\n",
       "      <td>0</td>\n",
       "      <td>0</td>\n",
       "      <td>0</td>\n",
       "      <td>2.169054</td>\n",
       "      <td>2209</td>\n",
       "      <td>1936</td>\n",
       "    </tr>\n",
       "    <tr>\n",
       "      <th>306</th>\n",
       "      <td>6.25</td>\n",
       "      <td>11</td>\n",
       "      <td>35</td>\n",
       "      <td>31</td>\n",
       "      <td>0</td>\n",
       "      <td>0</td>\n",
       "      <td>1</td>\n",
       "      <td>0</td>\n",
       "      <td>1</td>\n",
       "      <td>0</td>\n",
       "      <td>...</td>\n",
       "      <td>0</td>\n",
       "      <td>1</td>\n",
       "      <td>0</td>\n",
       "      <td>0</td>\n",
       "      <td>0</td>\n",
       "      <td>0</td>\n",
       "      <td>0</td>\n",
       "      <td>1.832582</td>\n",
       "      <td>1225</td>\n",
       "      <td>961</td>\n",
       "    </tr>\n",
       "    <tr>\n",
       "      <th>342</th>\n",
       "      <td>15.00</td>\n",
       "      <td>11</td>\n",
       "      <td>35</td>\n",
       "      <td>31</td>\n",
       "      <td>0</td>\n",
       "      <td>0</td>\n",
       "      <td>1</td>\n",
       "      <td>0</td>\n",
       "      <td>0</td>\n",
       "      <td>0</td>\n",
       "      <td>...</td>\n",
       "      <td>0</td>\n",
       "      <td>0</td>\n",
       "      <td>0</td>\n",
       "      <td>0</td>\n",
       "      <td>0</td>\n",
       "      <td>0</td>\n",
       "      <td>0</td>\n",
       "      <td>2.708050</td>\n",
       "      <td>1225</td>\n",
       "      <td>961</td>\n",
       "    </tr>\n",
       "    <tr>\n",
       "      <th>457</th>\n",
       "      <td>6.50</td>\n",
       "      <td>14</td>\n",
       "      <td>41</td>\n",
       "      <td>33</td>\n",
       "      <td>0</td>\n",
       "      <td>0</td>\n",
       "      <td>1</td>\n",
       "      <td>0</td>\n",
       "      <td>1</td>\n",
       "      <td>1</td>\n",
       "      <td>...</td>\n",
       "      <td>0</td>\n",
       "      <td>1</td>\n",
       "      <td>0</td>\n",
       "      <td>0</td>\n",
       "      <td>1</td>\n",
       "      <td>0</td>\n",
       "      <td>0</td>\n",
       "      <td>1.871802</td>\n",
       "      <td>1681</td>\n",
       "      <td>1089</td>\n",
       "    </tr>\n",
       "  </tbody>\n",
       "</table>\n",
       "<p>6 rows × 24 columns</p>\n",
       "</div>"
      ],
      "text/plain": [
       "      wage  educ  exper  tenure  nonwhite  female  married  numdep  smsa  \\\n",
       "73    2.91    12     20      34         0       1        1       2     1   \n",
       "91   11.76    14     40      39         0       0        1       0     1   \n",
       "264   8.75    12     47      44         0       0        1       0     0   \n",
       "306   6.25    11     35      31         0       0        1       0     1   \n",
       "342  15.00    11     35      31         0       0        1       0     0   \n",
       "457   6.50    14     41      33         0       0        1       0     1   \n",
       "\n",
       "     northcen  ...  trcommpu  trade  services  profserv  profocc  clerocc  \\\n",
       "73          0  ...         0      0         1         0        0        1   \n",
       "91          0  ...         1      0         0         0        1        0   \n",
       "264         0  ...         0      0         0         0        0        0   \n",
       "306         0  ...         0      1         0         0        0        0   \n",
       "342         0  ...         0      0         0         0        0        0   \n",
       "457         1  ...         0      1         0         0        1        0   \n",
       "\n",
       "     servocc     lwage  expersq  tenursq  \n",
       "73         0  1.068153      400     1156  \n",
       "91         0  2.464704     1600     1521  \n",
       "264        0  2.169054     2209     1936  \n",
       "306        0  1.832582     1225      961  \n",
       "342        0  2.708050     1225      961  \n",
       "457        0  1.871802     1681     1089  \n",
       "\n",
       "[6 rows x 24 columns]"
      ]
     },
     "execution_count": 23,
     "metadata": {},
     "output_type": "execute_result"
    }
   ],
   "source": [
    "wage_data[wage_data['tenure']>30]"
   ]
  },
  {
   "cell_type": "code",
   "execution_count": 24,
   "metadata": {},
   "outputs": [
    {
     "data": {
      "text/plain": [
       "(526, 24)"
      ]
     },
     "execution_count": 24,
     "metadata": {},
     "output_type": "execute_result"
    }
   ],
   "source": [
    "wage_data.shape"
   ]
  },
  {
   "cell_type": "code",
   "execution_count": 83,
   "metadata": {},
   "outputs": [],
   "source": [
    "from sklearn.model_selection import train_test_split\n",
    "\n",
    "X_train, X_test, y_train, y_test = train_test_split(X, y, test_size=0.2, random_state=4)"
   ]
  },
  {
   "cell_type": "code",
   "execution_count": 26,
   "metadata": {},
   "outputs": [
    {
     "name": "stdout",
     "output_type": "stream",
     "text": [
      "Dados de treino: 420\n",
      "Dados de teste: 106\n"
     ]
    }
   ],
   "source": [
    "print(f'Dados de treino: {X_train.shape[0]}')\n",
    "print(f'Dados de teste: {X_test.shape[0]}')"
   ]
  },
  {
   "cell_type": "code",
   "execution_count": 27,
   "metadata": {},
   "outputs": [],
   "source": [
    "import statsmodels.formula.api as smf\n",
    "from sklearn.linear_model import Lasso, Ridge, ElasticNet, LinearRegression\n",
    "from sklearn.metrics import r2_score, mean_squared_error\n",
    "from sklearn.ensemble import RandomForestRegressor\n",
    "from lightgbm import LGBMRegressor\n",
    "import warnings\n",
    "warnings.filterwarnings('ignore')"
   ]
  },
  {
   "cell_type": "markdown",
   "metadata": {},
   "source": [
    "## Testando Modelos Diferentes"
   ]
  },
  {
   "cell_type": "markdown",
   "metadata": {},
   "source": [
    "### LinearRegression()\n",
    "- R^2 (0.8826488779403315, 0.9140790920376987)\n",
    "- Mean Squared Error (MSE) (1.2568291288593483)"
   ]
  },
  {
   "cell_type": "code",
   "execution_count": 28,
   "metadata": {},
   "outputs": [],
   "source": [
    "model = LinearRegression()"
   ]
  },
  {
   "cell_type": "code",
   "execution_count": 29,
   "metadata": {},
   "outputs": [
    {
     "data": {
      "text/plain": [
       "LinearRegression()"
      ]
     },
     "execution_count": 29,
     "metadata": {},
     "output_type": "execute_result"
    }
   ],
   "source": [
    "model.fit(X_train, y_train)"
   ]
  },
  {
   "cell_type": "code",
   "execution_count": 30,
   "metadata": {},
   "outputs": [
    {
     "data": {
      "text/plain": [
       "0.8894551143451711"
      ]
     },
     "execution_count": 30,
     "metadata": {},
     "output_type": "execute_result"
    }
   ],
   "source": [
    "model.score(X, y)"
   ]
  },
  {
   "cell_type": "code",
   "execution_count": 31,
   "metadata": {},
   "outputs": [
    {
     "data": {
      "text/plain": [
       "1.2568291288593483"
      ]
     },
     "execution_count": 31,
     "metadata": {},
     "output_type": "execute_result"
    }
   ],
   "source": [
    "# Mean Squared Error\n",
    "# y test train \n",
    "y_pred_test = model.predict(X_test)\n",
    "\n",
    "mean_squared_error(y_test, y_pred_test)"
   ]
  },
  {
   "cell_type": "code",
   "execution_count": 35,
   "metadata": {},
   "outputs": [
    {
     "data": {
      "text/plain": [
       "(0.8826488779403315, 0.9140790920376987)"
      ]
     },
     "execution_count": 35,
     "metadata": {},
     "output_type": "execute_result"
    }
   ],
   "source": [
    "get_r2_score(model, y_train, y_test)"
   ]
  },
  {
   "cell_type": "code",
   "execution_count": 36,
   "metadata": {},
   "outputs": [
    {
     "data": {
      "text/plain": [
       "array([2.7655329])"
      ]
     },
     "execution_count": 36,
     "metadata": {},
     "output_type": "execute_result"
    }
   ],
   "source": [
    "model.predict(X.head(1))"
   ]
  },
  {
   "cell_type": "code",
   "execution_count": 37,
   "metadata": {},
   "outputs": [
    {
     "data": {
      "text/plain": [
       "0    3.1\n",
       "Name: wage, dtype: float64"
      ]
     },
     "execution_count": 37,
     "metadata": {},
     "output_type": "execute_result"
    }
   ],
   "source": [
    "y.head(1)"
   ]
  },
  {
   "cell_type": "markdown",
   "metadata": {},
   "source": [
    "### LGBMRegressor()\n",
    "- R^2 (0.9550591303277013, 0.9409145227629057)\n",
    "- Mean Squared Error (MSE) (0.864287292177111)"
   ]
  },
  {
   "cell_type": "code",
   "execution_count": 38,
   "metadata": {},
   "outputs": [
    {
     "data": {
      "text/plain": [
       "LGBMRegressor(max_depth=3)"
      ]
     },
     "execution_count": 38,
     "metadata": {},
     "output_type": "execute_result"
    }
   ],
   "source": [
    "regressor = LGBMRegressor(max_depth=3)\n",
    "# fit\n",
    "regressor.fit(X_train, y_train)"
   ]
  },
  {
   "cell_type": "code",
   "execution_count": 39,
   "metadata": {},
   "outputs": [
    {
     "data": {
      "text/plain": [
       "(0.9550591303277013, 0.9409145227629057)"
      ]
     },
     "execution_count": 39,
     "metadata": {},
     "output_type": "execute_result"
    }
   ],
   "source": [
    "get_r2_score(regressor, y_train, y_test)"
   ]
  },
  {
   "cell_type": "code",
   "execution_count": 40,
   "metadata": {},
   "outputs": [
    {
     "data": {
      "text/plain": [
       "array([3.05668022])"
      ]
     },
     "execution_count": 40,
     "metadata": {},
     "output_type": "execute_result"
    }
   ],
   "source": [
    "# Testando o modelo\n",
    "regressor.predict(X.head(1))"
   ]
  },
  {
   "cell_type": "code",
   "execution_count": 41,
   "metadata": {},
   "outputs": [
    {
     "data": {
      "text/plain": [
       "0    3.1\n",
       "Name: wage, dtype: float64"
      ]
     },
     "execution_count": 41,
     "metadata": {},
     "output_type": "execute_result"
    }
   ],
   "source": [
    "y.head(1)"
   ]
  },
  {
   "cell_type": "code",
   "execution_count": 42,
   "metadata": {},
   "outputs": [
    {
     "data": {
      "text/html": [
       "<div>\n",
       "<style scoped>\n",
       "    .dataframe tbody tr th:only-of-type {\n",
       "        vertical-align: middle;\n",
       "    }\n",
       "\n",
       "    .dataframe tbody tr th {\n",
       "        vertical-align: top;\n",
       "    }\n",
       "\n",
       "    .dataframe thead th {\n",
       "        text-align: right;\n",
       "    }\n",
       "</style>\n",
       "<table border=\"1\" class=\"dataframe\">\n",
       "  <thead>\n",
       "    <tr style=\"text-align: right;\">\n",
       "      <th></th>\n",
       "      <th>educ</th>\n",
       "      <th>exper</th>\n",
       "      <th>tenure</th>\n",
       "      <th>nonwhite</th>\n",
       "      <th>female</th>\n",
       "      <th>married</th>\n",
       "      <th>numdep</th>\n",
       "      <th>smsa</th>\n",
       "      <th>northcen</th>\n",
       "      <th>south</th>\n",
       "      <th>...</th>\n",
       "      <th>trcommpu</th>\n",
       "      <th>trade</th>\n",
       "      <th>services</th>\n",
       "      <th>profserv</th>\n",
       "      <th>profocc</th>\n",
       "      <th>clerocc</th>\n",
       "      <th>servocc</th>\n",
       "      <th>lwage</th>\n",
       "      <th>expersq</th>\n",
       "      <th>tenursq</th>\n",
       "    </tr>\n",
       "  </thead>\n",
       "  <tbody>\n",
       "    <tr>\n",
       "      <th>0</th>\n",
       "      <td>11</td>\n",
       "      <td>2</td>\n",
       "      <td>0</td>\n",
       "      <td>0</td>\n",
       "      <td>1</td>\n",
       "      <td>0</td>\n",
       "      <td>2</td>\n",
       "      <td>1</td>\n",
       "      <td>0</td>\n",
       "      <td>0</td>\n",
       "      <td>...</td>\n",
       "      <td>0</td>\n",
       "      <td>0</td>\n",
       "      <td>0</td>\n",
       "      <td>0</td>\n",
       "      <td>0</td>\n",
       "      <td>0</td>\n",
       "      <td>0</td>\n",
       "      <td>1.131402</td>\n",
       "      <td>4</td>\n",
       "      <td>0</td>\n",
       "    </tr>\n",
       "  </tbody>\n",
       "</table>\n",
       "<p>1 rows × 23 columns</p>\n",
       "</div>"
      ],
      "text/plain": [
       "   educ  exper  tenure  nonwhite  female  married  numdep  smsa  northcen  \\\n",
       "0    11      2       0         0       1        0       2     1         0   \n",
       "\n",
       "   south  ...  trcommpu  trade  services  profserv  profocc  clerocc  servocc  \\\n",
       "0      0  ...         0      0         0         0        0        0        0   \n",
       "\n",
       "      lwage  expersq  tenursq  \n",
       "0  1.131402        4        0  \n",
       "\n",
       "[1 rows x 23 columns]"
      ]
     },
     "execution_count": 42,
     "metadata": {},
     "output_type": "execute_result"
    }
   ],
   "source": [
    "X.head(1)"
   ]
  },
  {
   "cell_type": "code",
   "execution_count": 43,
   "metadata": {},
   "outputs": [
    {
     "data": {
      "text/plain": [
       "0.864287292177111"
      ]
     },
     "execution_count": 43,
     "metadata": {},
     "output_type": "execute_result"
    }
   ],
   "source": [
    "# Mean Squared Error\n",
    "# y test train \n",
    "y_pred_test_regressor = regressor.predict(X_test)\n",
    "\n",
    "mean_squared_error(y_test, y_pred_test_regressor)"
   ]
  },
  {
   "cell_type": "markdown",
   "metadata": {},
   "source": [
    "### smf - R^2 0.881"
   ]
  },
  {
   "cell_type": "code",
   "execution_count": null,
   "metadata": {},
   "outputs": [],
   "source": [
    "wage_data.columns"
   ]
  },
  {
   "cell_type": "code",
   "execution_count": 44,
   "metadata": {},
   "outputs": [],
   "source": [
    "\n",
    "# modelo de regressão linear\n",
    "modelo = smf.ols(\n",
    "formula = \"\"\"\n",
    "wage ~ educ\n",
    "                      +lwage\n",
    "                      +exper\n",
    "                      +tenure\n",
    "                      +expersq\n",
    "                      +tenursq\n",
    "                      \n",
    "\"\"\",\n",
    "data = wage_data\n",
    ").fit()"
   ]
  },
  {
   "cell_type": "code",
   "execution_count": 45,
   "metadata": {},
   "outputs": [
    {
     "data": {
      "text/html": [
       "<table class=\"simpletable\">\n",
       "<caption>OLS Regression Results</caption>\n",
       "<tr>\n",
       "  <th>Dep. Variable:</th>          <td>wage</td>       <th>  R-squared:         </th> <td>   0.881</td> \n",
       "</tr>\n",
       "<tr>\n",
       "  <th>Model:</th>                   <td>OLS</td>       <th>  Adj. R-squared:    </th> <td>   0.879</td> \n",
       "</tr>\n",
       "<tr>\n",
       "  <th>Method:</th>             <td>Least Squares</td>  <th>  F-statistic:       </th> <td>   637.9</td> \n",
       "</tr>\n",
       "<tr>\n",
       "  <th>Date:</th>             <td>Wed, 02 Nov 2022</td> <th>  Prob (F-statistic):</th> <td>8.09e-236</td>\n",
       "</tr>\n",
       "<tr>\n",
       "  <th>Time:</th>                 <td>09:47:08</td>     <th>  Log-Likelihood:    </th> <td> -874.12</td> \n",
       "</tr>\n",
       "<tr>\n",
       "  <th>No. Observations:</th>      <td>   526</td>      <th>  AIC:               </th> <td>   1762.</td> \n",
       "</tr>\n",
       "<tr>\n",
       "  <th>Df Residuals:</th>          <td>   519</td>      <th>  BIC:               </th> <td>   1792.</td> \n",
       "</tr>\n",
       "<tr>\n",
       "  <th>Df Model:</th>              <td>     6</td>      <th>                     </th>     <td> </td>    \n",
       "</tr>\n",
       "<tr>\n",
       "  <th>Covariance Type:</th>      <td>nonrobust</td>    <th>                     </th>     <td> </td>    \n",
       "</tr>\n",
       "</table>\n",
       "<table class=\"simpletable\">\n",
       "<tr>\n",
       "      <td></td>         <th>coef</th>     <th>std err</th>      <th>t</th>      <th>P>|t|</th>  <th>[0.025</th>    <th>0.975]</th>  \n",
       "</tr>\n",
       "<tr>\n",
       "  <th>Intercept</th> <td>   -4.6894</td> <td>    0.308</td> <td>  -15.244</td> <td> 0.000</td> <td>   -5.294</td> <td>   -4.085</td>\n",
       "</tr>\n",
       "<tr>\n",
       "  <th>educ</th>      <td>    0.0130</td> <td>    0.024</td> <td>    0.536</td> <td> 0.592</td> <td>   -0.035</td> <td>    0.061</td>\n",
       "</tr>\n",
       "<tr>\n",
       "  <th>lwage</th>     <td>    6.3796</td> <td>    0.132</td> <td>   48.168</td> <td> 0.000</td> <td>    6.119</td> <td>    6.640</td>\n",
       "</tr>\n",
       "<tr>\n",
       "  <th>exper</th>     <td>    0.0001</td> <td>    0.016</td> <td>    0.007</td> <td> 0.994</td> <td>   -0.032</td> <td>    0.032</td>\n",
       "</tr>\n",
       "<tr>\n",
       "  <th>tenure</th>    <td>    0.0074</td> <td>    0.022</td> <td>    0.330</td> <td> 0.742</td> <td>   -0.037</td> <td>    0.051</td>\n",
       "</tr>\n",
       "<tr>\n",
       "  <th>expersq</th>   <td>-7.687e-05</td> <td>    0.000</td> <td>   -0.218</td> <td> 0.828</td> <td>   -0.001</td> <td>    0.001</td>\n",
       "</tr>\n",
       "<tr>\n",
       "  <th>tenursq</th>   <td>    0.0008</td> <td>    0.001</td> <td>    1.054</td> <td> 0.293</td> <td>   -0.001</td> <td>    0.002</td>\n",
       "</tr>\n",
       "</table>\n",
       "<table class=\"simpletable\">\n",
       "<tr>\n",
       "  <th>Omnibus:</th>       <td>385.342</td> <th>  Durbin-Watson:     </th> <td>   2.092</td>\n",
       "</tr>\n",
       "<tr>\n",
       "  <th>Prob(Omnibus):</th> <td> 0.000</td>  <th>  Jarque-Bera (JB):  </th> <td>5319.739</td>\n",
       "</tr>\n",
       "<tr>\n",
       "  <th>Skew:</th>          <td> 3.143</td>  <th>  Prob(JB):          </th> <td>    0.00</td>\n",
       "</tr>\n",
       "<tr>\n",
       "  <th>Kurtosis:</th>      <td>17.255</td>  <th>  Cond. No.          </th> <td>4.33e+03</td>\n",
       "</tr>\n",
       "</table><br/><br/>Notes:<br/>[1] Standard Errors assume that the covariance matrix of the errors is correctly specified.<br/>[2] The condition number is large, 4.33e+03. This might indicate that there are<br/>strong multicollinearity or other numerical problems."
      ],
      "text/plain": [
       "<class 'statsmodels.iolib.summary.Summary'>\n",
       "\"\"\"\n",
       "                            OLS Regression Results                            \n",
       "==============================================================================\n",
       "Dep. Variable:                   wage   R-squared:                       0.881\n",
       "Model:                            OLS   Adj. R-squared:                  0.879\n",
       "Method:                 Least Squares   F-statistic:                     637.9\n",
       "Date:                Wed, 02 Nov 2022   Prob (F-statistic):          8.09e-236\n",
       "Time:                        09:47:08   Log-Likelihood:                -874.12\n",
       "No. Observations:                 526   AIC:                             1762.\n",
       "Df Residuals:                     519   BIC:                             1792.\n",
       "Df Model:                           6                                         \n",
       "Covariance Type:            nonrobust                                         \n",
       "==============================================================================\n",
       "                 coef    std err          t      P>|t|      [0.025      0.975]\n",
       "------------------------------------------------------------------------------\n",
       "Intercept     -4.6894      0.308    -15.244      0.000      -5.294      -4.085\n",
       "educ           0.0130      0.024      0.536      0.592      -0.035       0.061\n",
       "lwage          6.3796      0.132     48.168      0.000       6.119       6.640\n",
       "exper          0.0001      0.016      0.007      0.994      -0.032       0.032\n",
       "tenure         0.0074      0.022      0.330      0.742      -0.037       0.051\n",
       "expersq    -7.687e-05      0.000     -0.218      0.828      -0.001       0.001\n",
       "tenursq        0.0008      0.001      1.054      0.293      -0.001       0.002\n",
       "==============================================================================\n",
       "Omnibus:                      385.342   Durbin-Watson:                   2.092\n",
       "Prob(Omnibus):                  0.000   Jarque-Bera (JB):             5319.739\n",
       "Skew:                           3.143   Prob(JB):                         0.00\n",
       "Kurtosis:                      17.255   Cond. No.                     4.33e+03\n",
       "==============================================================================\n",
       "\n",
       "Notes:\n",
       "[1] Standard Errors assume that the covariance matrix of the errors is correctly specified.\n",
       "[2] The condition number is large, 4.33e+03. This might indicate that there are\n",
       "strong multicollinearity or other numerical problems.\n",
       "\"\"\""
      ]
     },
     "execution_count": 45,
     "metadata": {},
     "output_type": "execute_result"
    }
   ],
   "source": [
    "modelo.summary()"
   ]
  },
  {
   "cell_type": "code",
   "execution_count": 46,
   "metadata": {},
   "outputs": [
    {
     "data": {
      "text/plain": [
       "0    2.671956\n",
       "dtype: float64"
      ]
     },
     "execution_count": 46,
     "metadata": {},
     "output_type": "execute_result"
    }
   ],
   "source": [
    "modelo.predict(X.head(1))"
   ]
  },
  {
   "cell_type": "code",
   "execution_count": 47,
   "metadata": {},
   "outputs": [
    {
     "data": {
      "text/plain": [
       "0    3.1\n",
       "Name: wage, dtype: float64"
      ]
     },
     "execution_count": 47,
     "metadata": {},
     "output_type": "execute_result"
    }
   ],
   "source": [
    "y.head(1)"
   ]
  },
  {
   "cell_type": "markdown",
   "metadata": {},
   "source": [
    "## Lasso() com penalização 0.001\n",
    "- R^2 (0.882628198394771, 0.9140360473293796)\n",
    "- MSE (1.257458775874745)"
   ]
  },
  {
   "cell_type": "code",
   "execution_count": 71,
   "metadata": {},
   "outputs": [
    {
     "data": {
      "text/plain": [
       "Lasso(alpha=0.001)"
      ]
     },
     "execution_count": 71,
     "metadata": {},
     "output_type": "execute_result"
    }
   ],
   "source": [
    "lasso_reg = Lasso(0.001)\n",
    "lasso_reg.fit(X_train, y_train)"
   ]
  },
  {
   "cell_type": "code",
   "execution_count": 72,
   "metadata": {},
   "outputs": [
    {
     "data": {
      "text/plain": [
       "(0.882628198394771, 0.9140360473293796)"
      ]
     },
     "execution_count": 72,
     "metadata": {},
     "output_type": "execute_result"
    }
   ],
   "source": [
    "get_r2_score(lasso_reg, y_train, y_test)"
   ]
  },
  {
   "cell_type": "code",
   "execution_count": 73,
   "metadata": {},
   "outputs": [
    {
     "data": {
      "text/plain": [
       "1.257458775874745"
      ]
     },
     "execution_count": 73,
     "metadata": {},
     "output_type": "execute_result"
    }
   ],
   "source": [
    "# Mean Squared Error\n",
    "# y test train \n",
    "y_pred_test_lasso = lasso_reg.predict(X_test)\n",
    "\n",
    "mean_squared_error(y_test, y_pred_test_lasso)"
   ]
  },
  {
   "cell_type": "markdown",
   "metadata": {},
   "source": [
    "## XGBoost Regression\n",
    "- R^2  (0.9999998124699045, 0.9939680310306916)\n",
    "- MSE 0.09575312052178853"
   ]
  },
  {
   "cell_type": "code",
   "execution_count": 100,
   "metadata": {},
   "outputs": [],
   "source": [
    "X_train, X_test, y_train, y_test = train_test_split(X, y, test_size=0.3)\n",
    "from xgboost import XGBRegressor"
   ]
  },
  {
   "cell_type": "code",
   "execution_count": 101,
   "metadata": {
    "scrolled": true
   },
   "outputs": [
    {
     "data": {
      "text/plain": [
       "XGBRegressor(base_score=0.5, booster='gbtree', callbacks=None,\n",
       "             colsample_bylevel=1, colsample_bynode=1, colsample_bytree=1,\n",
       "             early_stopping_rounds=None, enable_categorical=False,\n",
       "             eval_metric=None, feature_types=None, gamma=0, gpu_id=-1,\n",
       "             grow_policy='depthwise', importance_type=None,\n",
       "             interaction_constraints='', learning_rate=0.300000012, max_bin=256,\n",
       "             max_cat_threshold=64, max_cat_to_onehot=4, max_delta_step=0,\n",
       "             max_depth=6, max_leaves=0, min_child_weight=1, missing=nan,\n",
       "             monotone_constraints='()', n_estimators=100, n_jobs=0,\n",
       "             num_parallel_tree=1, predictor='auto', random_state=0, ...)"
      ]
     },
     "execution_count": 101,
     "metadata": {},
     "output_type": "execute_result"
    }
   ],
   "source": [
    "m = XGBRegressor()\n",
    "m.fit(X_train, y_train)"
   ]
  },
  {
   "cell_type": "code",
   "execution_count": 102,
   "metadata": {},
   "outputs": [],
   "source": [
    "predictions = m.predict(X_test)"
   ]
  },
  {
   "cell_type": "code",
   "execution_count": 103,
   "metadata": {},
   "outputs": [
    {
     "data": {
      "text/plain": [
       "0.02864350132262361"
      ]
     },
     "execution_count": 103,
     "metadata": {},
     "output_type": "execute_result"
    }
   ],
   "source": [
    "mean_squared_error(y_test, predictions)"
   ]
  },
  {
   "cell_type": "code",
   "execution_count": 99,
   "metadata": {},
   "outputs": [
    {
     "data": {
      "text/plain": [
       "(0.9999998124699045, 0.9939680310306916)"
      ]
     },
     "execution_count": 99,
     "metadata": {},
     "output_type": "execute_result"
    }
   ],
   "source": [
    "get_r2_score(m, y_train, y_test)"
   ]
  },
  {
   "cell_type": "code",
   "execution_count": 104,
   "metadata": {},
   "outputs": [
    {
     "data": {
      "text/plain": [
       "array([3.0953474], dtype=float32)"
      ]
     },
     "execution_count": 104,
     "metadata": {},
     "output_type": "execute_result"
    }
   ],
   "source": [
    "m.predict(X.head(1))"
   ]
  },
  {
   "cell_type": "code",
   "execution_count": 106,
   "metadata": {},
   "outputs": [
    {
     "data": {
      "text/plain": [
       "0    3.1\n",
       "Name: wage, dtype: float64"
      ]
     },
     "execution_count": 106,
     "metadata": {},
     "output_type": "execute_result"
    }
   ],
   "source": [
    "y.head(1)"
   ]
  },
  {
   "cell_type": "markdown",
   "metadata": {},
   "source": [
    "### Com features selected with Lasso()"
   ]
  },
  {
   "cell_type": "code",
   "execution_count": 108,
   "metadata": {},
   "outputs": [],
   "source": [
    "#### com algumas features\n",
    "X_new = wage_data[['lwage','educ','exper','tenure','expersq','tenursq']]\n",
    "X_train, X_test, y_train, y_test = train_test_split(X_new, y, test_size=0.2, random_state=4)"
   ]
  },
  {
   "cell_type": "code",
   "execution_count": 109,
   "metadata": {},
   "outputs": [
    {
     "data": {
      "text/plain": [
       "XGBRegressor(base_score=0.5, booster='gbtree', callbacks=None,\n",
       "             colsample_bylevel=1, colsample_bynode=1, colsample_bytree=1,\n",
       "             early_stopping_rounds=None, enable_categorical=False,\n",
       "             eval_metric=None, feature_types=None, gamma=0, gpu_id=-1,\n",
       "             grow_policy='depthwise', importance_type=None,\n",
       "             interaction_constraints='', learning_rate=0.300000012, max_bin=256,\n",
       "             max_cat_threshold=64, max_cat_to_onehot=4, max_delta_step=0,\n",
       "             max_depth=6, max_leaves=0, min_child_weight=1, missing=nan,\n",
       "             monotone_constraints='()', n_estimators=100, n_jobs=0,\n",
       "             num_parallel_tree=1, predictor='auto', random_state=0, ...)"
      ]
     },
     "execution_count": 109,
     "metadata": {},
     "output_type": "execute_result"
    }
   ],
   "source": [
    "m = XGBRegressor()\n",
    "m.fit(X_train, y_train)"
   ]
  },
  {
   "cell_type": "code",
   "execution_count": 110,
   "metadata": {},
   "outputs": [
    {
     "data": {
      "text/plain": [
       "0.023550076862008235"
      ]
     },
     "execution_count": 110,
     "metadata": {},
     "output_type": "execute_result"
    }
   ],
   "source": [
    "predictions = m.predict(X_test)\n",
    "mean_squared_error(y_test, predictions)"
   ]
  },
  {
   "cell_type": "code",
   "execution_count": 111,
   "metadata": {},
   "outputs": [
    {
     "data": {
      "text/plain": [
       "(0.9999993945862661, 0.998390040507414)"
      ]
     },
     "execution_count": 111,
     "metadata": {},
     "output_type": "execute_result"
    }
   ],
   "source": [
    "get_r2_score(m, y_train, y_test)"
   ]
  },
  {
   "cell_type": "markdown",
   "metadata": {},
   "source": [
    "## Feature Selection com Lasso()"
   ]
  },
  {
   "cell_type": "code",
   "execution_count": null,
   "metadata": {},
   "outputs": [],
   "source": [
    "### Selection Features\n",
    "lasso_reg = Lasso()\n",
    "lasso_reg.fit(X_train, y_train)\n",
    "\n",
    "importance = np.abs(lasso_reg.coef_)\n",
    "importance_df = pd.DataFrame({'features': importance}, index = X_train.columns)\n",
    "importance_df = importance_df.sort_values(by = 'features', ascending = False)\n",
    "importance_df[importance_df['features']>0]"
   ]
  },
  {
   "cell_type": "code",
   "execution_count": null,
   "metadata": {},
   "outputs": [],
   "source": [
    "X_new = wage_data[['lwage','educ','exper','tenure','expersq','tenursq']]"
   ]
  },
  {
   "cell_type": "markdown",
   "metadata": {},
   "source": [
    "#### Model Selection train_test_split"
   ]
  },
  {
   "cell_type": "code",
   "execution_count": null,
   "metadata": {},
   "outputs": [],
   "source": [
    "from sklearn.model_selection import train_test_split\n",
    "\n",
    "X_train, X_test, y_train, y_test = train_test_split(X_new, y, test_size=0.2, random_state=4)"
   ]
  },
  {
   "cell_type": "markdown",
   "metadata": {},
   "source": [
    "#### LGBMRegressor"
   ]
  },
  {
   "cell_type": "code",
   "execution_count": null,
   "metadata": {},
   "outputs": [],
   "source": [
    "regressor = LGBMRegressor(max_depth=3)\n",
    "# fit\n",
    "regressor.fit(X_train, y_train)"
   ]
  },
  {
   "cell_type": "code",
   "execution_count": null,
   "metadata": {},
   "outputs": [],
   "source": [
    "get_r2_score(regressor, y_train, y_test)"
   ]
  },
  {
   "cell_type": "code",
   "execution_count": null,
   "metadata": {},
   "outputs": [],
   "source": [
    "# Mean Squared Error\n",
    "# y test train \n",
    "y_pred_test_regressor = regressor.predict(X_test)\n",
    "\n",
    "mean_squared_error(y_test, y_pred_test_regressor)"
   ]
  },
  {
   "cell_type": "markdown",
   "metadata": {},
   "source": [
    "Com base no dataset anterior responda:\n",
    "\n",
    "* Estude a relação entre as variáveis e a variável target (gráficos de dispersão e correlação)\n",
    "* Ajuste outras regressões que você julgue ter potencial para resolver o problema de predição do salário.\n",
    "* Você identificou outliers? Identificou missing data?  Eles influenciaram nas regressões?\n",
    "* Proponha alternativas para contornar os problemas que você encontrou e novos modelos.\n",
    "* Teste os regressores aprendidos na aula de hoje."
   ]
  },
  {
   "cell_type": "markdown",
   "metadata": {},
   "source": [
    "Description of dataset: 526 observations on 24 variables.\n",
    "* wage: average hourly earnings\n",
    "* educ: years of education\n",
    "* exper: years potential experience\n",
    "* tenure: years with current employer\n",
    "* nonwhite: =1 if nonwhite\n",
    "* female: =1 if female\n",
    "* married: =1 if married\n",
    "* numdep: number of dependents\n",
    "* smsa: =1 if live in SMSA\n",
    "* northcen: =1 if live in north central U.S\n",
    "* south: =1 if live in southern region\n",
    "* west: =1 if live in western region\n",
    "* construc: =1 if work in construc. indus.\n",
    "* ndurman: =1 if in nondur. manuf. indus.\n",
    "* trcommpu: =1 if in trans, commun, pub ut\n",
    "* trade: =1 if in wholesale or retail\n",
    "* services: =1 if in services indus.\n",
    "* profserv: =1 if in prof. serv. indus.\n",
    "* profocc: =1 if in profess. occupation\n",
    "* clerocc: =1 if in clerical occupation\n",
    "* servocc: =1 if in service occupation\n",
    "* lwage: log(wage)\n",
    "* expersq: exper^2\n",
    "* tenursq: tenure^2"
   ]
  },
  {
   "cell_type": "markdown",
   "metadata": {},
   "source": [
    "<a id=\"ref\"></a> \n",
    "\n",
    "## **Referências**\n",
    "\n",
    "\n",
    "[Underfitting and overfitting in Machine Learning](https://www.geeksforgeeks.org/underfitting-and-overfitting-in-machine-learning/)\n",
    "\n",
    "[Feature selection in machine learning using Lasso regression](https://towardsdatascience.com/feature-selection-in-machine-learning-using-lasso-regression-7809c7c2771a)\n",
    "\n",
    "[An Introduction to Statistical Learning](https://www.statlearning.com/)"
   ]
  },
  {
   "cell_type": "markdown",
   "metadata": {},
   "source": [
    "<a id=\"leitura_casa\"></a> \n",
    "\n",
    "## **Para aprofundar: hipóteses da regressão linear**\n",
    "\n",
    "\n",
    "**Hipóteses da regressão linear**\n",
    "\n",
    "O objetivo de uma regressão linear é explicar/prever uma variável de saída/target (contínua).\n",
    "\n",
    "1. As variáveis independentes e o termo de erro são não correlacionadas $E(u|X) = E(u) = 0$ - $cov(u, X) = 0$ condição de ortogonalidade.\n",
    "    * Violação: endogeneidade (os estimadores de MQO são viesados ou inconsistentes)\n",
    "2. Colinearidade não perfeita entre as variáveis independentes.\n",
    "    * Multicolinearidade é a (alta) correlação entre duas (ou mais) variáveis em um modelo de regressão múltipla.\n",
    "    * Violação: multicolinearidade (estimadores de MQO são ineficientes)\n",
    "3. Os termos de erro têm variância uniforme e não são correlacionados uns com os outros ($var(u) = \\sigma^2$ e $E(u_i, u_j) = 0$)\n",
    "    * Violação se os erros são correlacionados: autocorrelação\n",
    "    * Violação da homocedasticidade: heterocedasticidade (variância dos erros não é constante)\n",
    "4. Os termos de erro são normalmente distribuídos, $u \\sim N(0, \\sigma^2)$\n",
    "    * Violação: estatísticas de teste são inválidas; mas pela lei dos grandes números (se o tamanho da amostra é grande o suficiente) podemos assumir normalidade\n",
    "    \n",
    "Qualidade do ajuste\n",
    "\n",
    "$R^2$ : razão entre a variação explicada e a variação total (ou percentagem da variação amostral em y que é explicada por x).\n",
    "\n",
    "$$R^2 = \\dfrac{SQE}{SQT} = 1- \\dfrac{SQR}{SQT}$$\n",
    "\n",
    "Sendo:\n",
    "* $SQT  = \\sum_{i=1}^{n}\\left(y_i-\\overline{y}\\right)^2$ (quão dispersos estão os $y_i$ na amostra)\n",
    "* $SQE  = \\sum_{i=1}^{n}\\left(\\hat{y}_i-\\overline{y}\\right)^2$ (variação amostral em $\\hat{y}_i$)\n",
    "* $SQR  = \\sum_{i=1}^{n}\\left(\\hat{u}_i\\right)^2$ (variação amostral em $\\hat{u}_i$)\n",
    "\n",
    "\n",
    "**Variável target**\n",
    "* Podemos assumir que a nossa variável dependente tenha uma distribuição normal. \n",
    "    * Identificação:\n",
    "        * Testes de normalidade\n",
    "            * [Shapiro-Wilk Test](https://docs.scipy.org/doc/scipy/reference/generated/scipy.stats.shapiro.html)\n",
    "            * [D’Agostino’s K^2 Test](https://docs.scipy.org/doc/scipy/reference/generated/scipy.stats.normaltest.html)\n",
    "            * [Anderson-Darling Test](https://docs.scipy.org/doc/scipy/reference/generated/scipy.stats.anderson.html)\n",
    "        * Métodos gráficos: histograma, kdeplot, boxplot, qqplot.\n",
    "        * Assimetria (`pd.skew()`) e curtose (`pd.kurtosis()`).\n",
    "    * Correção:\n",
    "        * Se a variável não assume valores negativos: Transformação de Box-Cox\n",
    "            * [SciPy](https://docs.scipy.org/doc/scipy/reference/generated/scipy.stats.boxcox.html)\n",
    "            * [Sklearn](https://scikit-learn.org/stable/modules/generated/sklearn.preprocessing.PowerTransformer.html)\n",
    "        * Se a variável assume valores negativos: Transformação Yeo-Johnson\n",
    "            * [SciPy](https://docs.scipy.org/doc/scipy/reference/generated/scipy.stats.yeojohnson.html)\n",
    "            * [Sklearn](https://scikit-learn.org/stable/modules/generated/sklearn.preprocessing.PowerTransformer.html)\n",
    "\n",
    "**Multicolinearidade**\n",
    "\n",
    "Lembre-se que a multicolinearidade é a alta correlação entre os preditores do nosso modelo. \n",
    "A multicolinearidade é uma questão de grau e não de tipo.\n",
    "\n",
    "\n",
    "Algumas consequências:\n",
    "* Colinearidade perfeita: coeficientes da regressão das variáveis X serão indeterminados e seus erros padrão infinitos; colinearidade menos que perfeita: coeficientes de regressão são determinados, mas possuem grandes erros padrão (em relação aos próprios coeficientes), assim os coeficientes não podem ser estimados com grande exatidão.\n",
    "* Os estimadores de MQO continuam sendo não viesados, mas teremos mais variância;\n",
    "* Como implicação do item anterior, os intervalos de confiança tendem a ser mais amplos;\n",
    "* A razão $t$ de um ou mais coeficientes pode ser não significativo estatisticamente;\n",
    "* Mesmo com o teste $t$, de um ou mais coeficientes sendo não significativo estatísticamente, o $R^2$ pode ser muito elevado;\n",
    "\n",
    "Detecção:\n",
    "* $R^2$ alto, mas com poucas razão $t$ significativas (sintoma clássico).\n",
    "* VIF\n",
    "\n",
    "Algumas medidas corretivas:\n",
    "* Aumentar a amostra\n",
    "* Não fazer nada (as propriedades desejáveis para um estimador são mantidas mesmo na presença de multicolinearidade)\n",
    "* Drop\n",
    "\n",
    "\n",
    "**Heterocedasticidade**\n",
    "Possíveis fontes:\n",
    "* Presença de pontos discrepantes (outliers)\n",
    "* Assimetria na distribuição de um ou mais regressores incluídos no modelo\n",
    "* Transformação incorreta de dados\n",
    "* Forma funcional incorreta (modelo linear versus modelo log-linear, por exemplo)\n",
    "\n",
    "Identificação:\n",
    "* Teste de Goldfeld e Quandt\n",
    "* Teste White\n",
    "* Teste de Breusch-Pagan"
   ]
  },
  {
   "cell_type": "markdown",
   "metadata": {},
   "source": [
    "<a id=\"next_steps\"></a> \n",
    "\n",
    "## **Next Steps**"
   ]
  },
  {
   "cell_type": "markdown",
   "metadata": {},
   "source": [
    "Na próxima aula vamos aprender sobre modelos de classificação. Na oportunidade iremos aprender sobre Regressão Logística, SVM e KNN. Além disso, aprenderemos também sobre validação cruzada.\n",
    "\n",
    "[Voltar](#home)"
   ]
  }
 ],
 "metadata": {
  "kernelspec": {
   "display_name": "Python 3 (ipykernel)",
   "language": "python",
   "name": "python3"
  },
  "language_info": {
   "codemirror_mode": {
    "name": "ipython",
    "version": 3
   },
   "file_extension": ".py",
   "mimetype": "text/x-python",
   "name": "python",
   "nbconvert_exporter": "python",
   "pygments_lexer": "ipython3",
   "version": "3.9.12"
  }
 },
 "nbformat": 4,
 "nbformat_minor": 4
}
