{
 "cells": [
  {
   "cell_type": "markdown",
   "metadata": {
    "colab_type": "text",
    "id": "view-in-github"
   },
   "source": [
    "<a href=\"https://colab.research.google.com/github/lucianawaka/bootcamp-ML/blob/main/1_Regress%C3%A3o_Linear.ipynb\" target=\"_parent\"><img src=\"https://colab.research.google.com/assets/colab-badge.svg\" alt=\"Open In Colab\"/></a>"
   ]
  },
  {
   "cell_type": "markdown",
   "metadata": {
    "id": "hUab-BBn73Pp"
   },
   "source": [
    "# **Bootcamp de Machine Learning**"
   ]
  },
  {
   "cell_type": "markdown",
   "metadata": {
    "id": "hEE-lN4h73Pq"
   },
   "source": [
    "## **Introdução ao Machine Learning e Regressão Linear**"
   ]
  },
  {
   "cell_type": "markdown",
   "metadata": {
    "id": "RttXCksd73Pq"
   },
   "source": [
    "### **Professores do Bootcamp:**\n",
    "\n",
    "##### [Odemir Depieri Jr](https://www.linkedin.com/in/odemir-depieri-jr/)\n",
    "\n",
    "Tech Lead no Banco Itaú\n",
    "\n",
    "##### [Ronisson Lucas Calmon da Conceição](https://www.linkedin.com/in/ronisson-lucas-calmon-da-concei%C3%A7%C3%A3o-7aa884202/)\n",
    "\n",
    "Cientista de Dados no Banco Original\n",
    "\n",
    "\n",
    "##### [Nelson Jacob Dressler](https://www.linkedin.com/in/nelsondressler/)\n",
    "\n",
    "Atuou como Cientista de Dados em empresas como SMi Engenharia e Deloitte\n"
   ]
  },
  {
   "cell_type": "markdown",
   "metadata": {
    "id": "uonQS7BY73Pq"
   },
   "source": [
    "<a id=\"home\"></a> \n",
    "### **Agenda**"
   ]
  },
  {
   "cell_type": "markdown",
   "metadata": {
    "id": "2sUSS1Kf73Pq"
   },
   "source": [
    "* [Introdução ao Machine Learning](#introduction_ml)\n",
    "    * [Tipos de Machine Learning](#types_ml)\n",
    "    * [Aplicações de Machine Learning](#applications_ml)\n",
    "* [Regressão Linear](#linear_regression_section)\n",
    "    * [Introdução](#introduction_linear_reg)\n",
    "    * [Tipos de regressão linear](#types_linear_reg)\n",
    "    * [Regressão Linear Simples](#simple_linear_reg)\n",
    "    * [Regressão Linear Múltipla](#multiple_linear_reg)\n",
    "    * [Avaliação de uma regressão linear](#metrics)\n",
    "    * [Hands on!](#hands_on_reg_lin)\n",
    "    * [Aprofundando conceitos](#concepts)\n",
    "* [Walmart Sales Forecast](#case)\n",
    "    * [Homework](#homework)  \n",
    "* [Referências](#ref)\n",
    "* [Next Steps](#next_steps)"
   ]
  },
  {
   "cell_type": "markdown",
   "metadata": {
    "id": "-EYsvZ8p73Pr"
   },
   "source": [
    "<a id=\"introduction_ml\"></a> \n",
    "## **Introdução ao Machine Learning**"
   ]
  },
  {
   "cell_type": "markdown",
   "metadata": {
    "id": "fXhziCMi73Pr"
   },
   "source": [
    "**A ideia básica do Machine Learning é que por meio de algoritmos tentamos replicar o processo de aprendizado humano (ou ainda aprender por meio dos dados).**\n",
    "\n",
    "\n",
    "Então, usando Machine Learning temos que regras são geradas pelo computador a partir de dados e outputs. Ao contrário da visão tradicional de software em que temos a ingestão de dados e regras para a geração de outputs."
   ]
  },
  {
   "cell_type": "markdown",
   "metadata": {
    "id": "vSBmXW0o73Pr"
   },
   "source": [
    "<img src = 'https://miro.medium.com/max/1100/1*AAm0cYWsjL-haBBuK7aO3Q@2x.png'/>"
   ]
  },
  {
   "cell_type": "markdown",
   "metadata": {
    "id": "vAXPz_BF73Pr"
   },
   "source": [
    "Mas será que é algo tão recente?\n",
    "\n",
    "<img src='https://miro.medium.com/max/828/1*r3vNSUygS07701hYWmaEoA.png' width = 400/>"
   ]
  },
  {
   "cell_type": "markdown",
   "metadata": {
    "id": "4uaZIWPt73Pr"
   },
   "source": [
    "[Voltar](#home)"
   ]
  },
  {
   "cell_type": "markdown",
   "metadata": {
    "id": "jiNUIRkn73Pr"
   },
   "source": [
    "<a id=\"types_ml\"></a> \n",
    "\n",
    "**Tipos de Machine Learning**\n",
    "\n",
    "Podemos agrupar os algoritmos de Machine Learning em três tipos:\n",
    "\n",
    "1. Supervised Learning\n",
    "2. Unsupervised Learning \n",
    "3. Reinforcement Learning\n",
    "\n",
    "\n",
    "<img src = 'https://miro.medium.com/max/828/1*zHuGSwosBKFOZNKweIpWqw.jpeg' width = 500 />"
   ]
  },
  {
   "cell_type": "markdown",
   "metadata": {
    "id": "s3zljCOb73Pr"
   },
   "source": [
    "[Voltar](#home)"
   ]
  },
  {
   "cell_type": "markdown",
   "metadata": {
    "id": "YIzv_tUT73Pr"
   },
   "source": [
    "<a id=\"applications_ml\"></a> \n",
    "\n",
    "**Aplicações de Machine Learning**\n",
    "\n",
    "Podemos dividir a abordagem supervisionada (em que os dados são rotulados), em problemas de regressão e problemas de classificação.\n",
    "\n",
    "Dentro dos problemas de regressão buscamos prever uma variável numérica a partir de um conjunto de dados.\n",
    "\n",
    "Exemplos:\n",
    "* Previsão de salário\n",
    "* Previsão da cotação de ativos\n",
    "* Previsão de renda\n",
    "* Previsão de variáveis macroeconômicas\n",
    "* Previsão de quantidade de vendas de empresa\n",
    "* Previsão de desempenho escolar\n",
    "\n",
    "Já nos problemas de classificação buscamos prever uma variável qualitativa (binária por exemplo). Seria o caso de prever, por exemplo, fraude e não fraude.\n",
    "\n",
    "Exemplos:\n",
    "* Fraude e não fraude\n",
    "* Adimplência e inadimplência (também conhecido como credit scoring)\n",
    "* Churn\n",
    "* Doente e não doente\n",
    "\n",
    "Resumo:\n",
    "\n",
    "Tipo de abordagem|Variável target (output)|Exemplos\n",
    "-----------------|------------------------|----------\n",
    "Classificação|Categórica|Fraude e não fraude\n",
    "Regressão|Numérica|Quantidade de vendas\n",
    "\n",
    "Mas para construir modelos preditivos precisamos de **dados**. Especificamente, precisamos definir uma variável-alvo ou variável **target** e um conjunto de outras variáveis que usaremos para explicar nossa variável target, o que chamamos de **features**.\n",
    "\n",
    "E como vimos se a nossa target for categórica teremos um problema de classificação, por outro lado se tivermos uma variável target numérica estaremos tratando de um problema de regressão.\n",
    "\n",
    "Só que nem tudo é assim tão fácil. Até aplicarmos um modelo preditivo teremos que passar por outras etapas, como compreensão dos dados, limpeza, engenharia de features, etc."
   ]
  },
  {
   "cell_type": "markdown",
   "metadata": {
    "id": "I5VZOKzQ73Ps"
   },
   "source": [
    "[Voltar](#home)"
   ]
  },
  {
   "cell_type": "markdown",
   "metadata": {
    "id": "mnvDjL3673Ps"
   },
   "source": [
    "<a id=\"linear_regression_section\"></a> \n",
    "## **Regressão Linear**"
   ]
  },
  {
   "cell_type": "markdown",
   "metadata": {
    "id": "xjEIL11173Ps"
   },
   "source": [
    "<a id=\"introduction_linear_reg\"></a> \n",
    "**Introdução**"
   ]
  },
  {
   "cell_type": "markdown",
   "metadata": {
    "id": "uxUUxlmO73Ps"
   },
   "source": [
    "A ideia de uma regressão linear é obter a previsão de uma variável com base na estimação dos pesos (coeficientes) das variáveis explicativas.\n",
    "\n",
    "Por exemplo, vamos supor que estamos interessados em prever o preço de um imóvel/m². Poderíamos ter features como quantidade de quartos, quantidade de banheiros, se o imóvel tem ou não garagem, dentre outros. Mas qual é o peso de cada variável na determinação do preço? A ideia então é treinar um modelo para obter esses pesos.\n",
    "\n",
    "Suponha que após treinar um modelo preditivo obtemos os seguintes pesos para cada variável:\n",
    "* quantidade de quartos: 3\n",
    "* quantidade de banheiros: 1\n",
    "* se o imóvel tem ou não garagem: 0.5 (1 se possui, 0 caso contrário)\n",
    "\n",
    "Então, a feature quantidade de quartos possui um maior peso para determinar o preço dos imóveis/m², dado o conjunto de dados que utilizamos.\n",
    "\n",
    "Agora podemos fazer previsões. Imagine uma casa com 2 quartos, 1 banheiro e que possui garagem. Neste caso a previsão seria:\n",
    "\n",
    "$$ 3 \\times 2 + 1 \\times 1 + 0.5 \\times 1 = 7.5$$\n",
    "\n",
    "Logo podemos definir a equação do nosso modelo da seguinte forma:\n",
    "\n",
    "$$ \\hat{y} = 3 \\times \\text{quantidade_quartos} + \\text{quantidade_banheiros} + 0.5 \\times \\text{garagem}$$\n",
    "\n",
    "Em que $\\hat{y}$ é a previsão da nossa variável target.\n",
    "\n",
    "Agora que passamos pela intuição da regressão linear vamos aprender outros conceitos."
   ]
  },
  {
   "cell_type": "markdown",
   "metadata": {
    "id": "x9DdFpRC73Ps"
   },
   "source": [
    "[Voltar](#home)"
   ]
  },
  {
   "cell_type": "markdown",
   "metadata": {
    "id": "Wz4moLQq73Ps"
   },
   "source": [
    "<a id=\"types_linear_reg\"></a> \n",
    "**Tipos de regressão linear**"
   ]
  },
  {
   "cell_type": "markdown",
   "metadata": {
    "id": "pNj1hpYC73Ps"
   },
   "source": [
    "A regressão linear pode ser simples ou múltipla. A diferença entre cada abordagem é a quantidade de features.\n",
    "\n",
    "* Regressão linear simples: utiliza apenas 1 feature\n",
    "    * Exemplo: previsão da nota do aluno em função do tamanho da turma\n",
    "* Regressão linear múltipla: utiliza mais de uma feature\n",
    "    * Exemplo: previsão do preço do imóvel com base na quantidade de banheiros, quantidade de quartos e garagem"
   ]
  },
  {
   "cell_type": "markdown",
   "metadata": {
    "id": "kOuYK3VF73Ps"
   },
   "source": [
    "<a id=\"simple_linear_reg\"></a> \n",
    "**Regressão Linear Simples**"
   ]
  },
  {
   "cell_type": "markdown",
   "metadata": {
    "id": "QEK7RHND73Ps"
   },
   "source": [
    "Embora na prática seja quase difícil utilizar estritamente uma regressão linear simples, sua compreensão é importante para compreendermos posteriormente a regressão linear múltipla."
   ]
  },
  {
   "cell_type": "markdown",
   "metadata": {
    "id": "PSMNnpC973Ps"
   },
   "source": [
    "Algumas definições:\n",
    "\n",
    "* $\\mathbf{y}$: representa o fenômeno/variável target que queremos analisar em função de uma variável explicativa $\\mathbf{x}$ (ou mesmo conjunto de variáveis explicativas) e um termo de perturbação $\\mathbf{u}$ (ou termo de erro):\n",
    "$$ y = f(x) + u $$\n",
    "\n",
    "* O termo de erro $\\mathbf{u}$ diz respeito a outros fatores que afetam $\\mathbf{y}$ mas não estão explícitos na equação da regressão.\n",
    "\n",
    "O modelo de regressão linear simples pode ser descrito da seguinte forma:\n",
    "\n",
    "$$ y = \\beta_0 + \\beta_1 x + u $$\n",
    "\n",
    "<br>\n",
    "\n",
    "Note que: $\\mathbf{y}$ é a variável dependente/target e $\\mathbf{x}$ é a variável explicativa.\n",
    "\n",
    "* $\\beta_0$ é o parâmetro de intercepto (onde a reta vai cruzar o eixo y)\n",
    "* $\\beta_1$ é o parâmetro de inclinação\n",
    "\n",
    "Relação linear entre $\\mathbf{y}$ e $\\mathbf{x}$: $\\mathbf{x}$ altera a variável $\\mathbf{y}$ linearmente. Uma implicação desta premissa seria que independentemente do valor inicial de $\\mathbf{x}$ teremos sempre o mesmo impacto desta variável sobre $\\mathbf{y}$. Lembre-se que a relação é linear nos parâmetros do modelo.\n",
    "\n",
    "Exemplos\n",
    "* $\\text{salário(w)} = \\beta_0 + \\beta_1 \\text{educação} + u$: o parâmetro $\\beta_1$ refere-se ao efeito do grau de escolaridade do indivíduo no salário\n",
    "* $\\text{taxa_crime(e)} = \\beta_0 + \\beta_1 \\text{quantidade_polícia} + u$: o parâmetro $\\beta_1$ refere-se a redução da taxa de criminalidade em função de um aumento na quantidade de força policial.\n",
    "* $\\text{vendas(s)} = \\beta_0 + \\beta_1 \\text{temperatura} + u$: para algum tipo de negócio o aumento da temperatura pode ter um efeito positivo na quantidade de vendas."
   ]
  },
  {
   "cell_type": "markdown",
   "metadata": {
    "id": "9DOqM_CU73Pt"
   },
   "source": [
    "Terminologia do modelo de regressão linear simples:"
   ]
  },
  {
   "cell_type": "markdown",
   "metadata": {
    "id": "ZeHIIIzg73Pt"
   },
   "source": [
    "y|x\n",
    "-|-\n",
    "Variável target|feature\n",
    "Variável Dependente|Variável Independente\n",
    "Variável Explicada|Variável Explicativa\n",
    "Variável de Resposta|Variáve de Controle\n",
    "Variável Prevista|Variável Previsora\n",
    "Regressando|Regressor"
   ]
  },
  {
   "cell_type": "markdown",
   "metadata": {
    "id": "H_SCIK4j73Pt"
   },
   "source": [
    "Resumindo:"
   ]
  },
  {
   "cell_type": "markdown",
   "metadata": {
    "id": "zXZBftqT73Pt"
   },
   "source": [
    "$\\underbrace{y}_{\\text{target}} = \\underbrace{\\beta_0 + \\beta_1}_{\\text{coeficientes}} \\underbrace{x}_{\\text{input}} + \\underbrace{u}_{\\text{termo de erro}}$"
   ]
  },
  {
   "cell_type": "markdown",
   "metadata": {
    "id": "TkX1lKSD73Pt"
   },
   "source": [
    "Resíduo do modelo:"
   ]
  },
  {
   "cell_type": "markdown",
   "metadata": {
    "id": "ShcmUCYk73Pt"
   },
   "source": [
    "$$\\hat{u}_i = y_i - \\hat{y}_i$$"
   ]
  },
  {
   "cell_type": "markdown",
   "metadata": {
    "id": "4_3fJJD873Pt"
   },
   "source": [
    "<img src='https://www.reneshbedre.com/assets/posts/reg/reg_front.svg'>"
   ]
  },
  {
   "cell_type": "markdown",
   "metadata": {
    "id": "W94hFR9-73Pt"
   },
   "source": [
    "O resíduo da regressão é definido como a diferença entre o valor $y_i$ (valor real) e o valor $\\hat{y}_i$ (previsto/ajustado).\n",
    "\n",
    "Se $\\hat{u}_i>0 \\Rightarrow$ então a reta subestima $y_i$; por outro lado, se $\\hat{u}_i<0 \\Rightarrow$ então a reta superestima $y_i$.\n",
    "\n",
    "O mundo ideal seria $\\hat{u}_i = 0$, mas na prática teremos para a maior parte dos casos $\\hat{u}_i \\neq 0$."
   ]
  },
  {
   "cell_type": "markdown",
   "metadata": {
    "id": "LQ5Ym4y373Pt"
   },
   "source": [
    "Mas como obtemos os parâmetros $\\hat{\\beta}_0$ e $\\hat{\\beta}_1$? \n",
    "\n",
    "De maneira bem simples podemos dizer que o objetivo do modelo é obter $\\hat{\\beta}_0$ e $\\hat{\\beta}_1$ de modo a minimizar o somatório do quadrado dos resíduos do modelo.\n",
    "\n",
    "Ou seja:\n",
    "\n",
    "$\\min_{\\hat{\\beta}_0, \\hat{\\beta}_1} \\sum_{i=1}^{n} \\hat{u}_i^2 = \\sum_{i=1}^{n} \\left(y_i - \\hat{y}_i\\right)^2$\n",
    "\n"
   ]
  },
  {
   "cell_type": "markdown",
   "metadata": {
    "id": "NQ1rN-My73Pt"
   },
   "source": [
    "$\\therefore$ Mínimos Quadrados Ordinários (MQO): minimiza $\\sum_{i=1}^{n}\\left(y_i-\\hat{y}_i\\right)^2$\n"
   ]
  },
  {
   "cell_type": "markdown",
   "metadata": {
    "id": "QQ1TI_8t73Pt"
   },
   "source": [
    "[Voltar](#home)"
   ]
  },
  {
   "cell_type": "markdown",
   "metadata": {
    "id": "vKNhpUI773Pt"
   },
   "source": [
    "<a id=\"multiple_linear_reg\"></a> \n",
    "**Regressão Linear Múltipla**"
   ]
  },
  {
   "cell_type": "markdown",
   "metadata": {
    "id": "DPzF2emD73Pt"
   },
   "source": [
    "Na prática, teremos mais de uma variável explicativa e podemos então generalizar para um modelo com $n$ variáveis explicativas e incorporar mais fatores que podem explicar $y$.\n",
    "\n",
    "Se nosso objetivo fosse prever desempenho escolar poderíamos ter o seguinte modelo:\n",
    "\n",
    "$$\\text{nota} = \\beta_0 + \\beta_1{tamanho turma} + \\beta_2{renda familiar} + \\beta_3{tamanho familia} + u$$\n",
    "\n",
    "Em que:\n",
    "\n",
    "$\\beta_0$ é o intercepto do modelo, $\\beta_1$ é o parâmetro (ou peso) associado à variável tamanho da turma, $\\beta_2$ é o parâmetro (ou peso) associado à variável renda familiar, e assim sucessivamente.\n",
    "\n",
    "A forma de obter os parâmetros na regressão linear múltipla segue o mesmo método da regressão linear simples."
   ]
  },
  {
   "cell_type": "markdown",
   "metadata": {
    "id": "6i5mFS5I73Pu"
   },
   "source": [
    "[Voltar](#home)"
   ]
  },
  {
   "cell_type": "markdown",
   "metadata": {
    "id": "9zS07uYOJIZA"
   },
   "source": [
    "<a id=\"metrics\"></a> \n",
    "\n",
    "**Avaliação de uma Regressão Linear**"
   ]
  },
  {
   "cell_type": "markdown",
   "metadata": {
    "id": "WL-WVx_W73Pu"
   },
   "source": [
    "$R^2$\n",
    "\n",
    "* Interpretação: proporção da variância da variável target explicada pelas features do modelo.\n",
    "* O $R^2$ está entre 0 e 1;\n",
    "* $R^2 \\rightarrow 0$ quando o modelo explica pouco a variabilidade dos dados (indica que a regressão não explicou muito bem a variabilidade da nossa variável dependente);\n",
    "* $R^2 \\rightarrow 1$ quando o modelo explica muito da variabilidade dos dados (uma grande proporção da variabilidade da nossa variável dependente foi explicada pelo nosso modelo).\n",
    "* Mesmo com um $R^2$ baixo não necessariamente temos uma regressão ruim.\n",
    "* Mesmo com um $R^2$ alto não indica uma regressão válida.\n",
    "* Queremos maximizar seu resultado.\n",
    "\n",
    "MSE\n",
    "\n",
    "$\\text{MSE} = \\dfrac{1}{n} \\sum_{i=1}^{n} \\left(y-\\hat{y}\\right)^2$\n",
    "\n",
    "* Média da diferença quadrática entre os valores reais e os valores ajustados.\n",
    "* Quanto mais próximo de zero melhor será o modelo (queremos minimizar seu resultado).\n",
    "* Possui o inconveniente de elevar a nossa unidade de medida ao quadrado.\n",
    "\n",
    "RMSE\n",
    "\n",
    "* Consiste na raiz quadrada do MSE e resolve o inconveniente de elevar a nossa unidade de medida ao quadrado.\n",
    "* Possui a mesma interpretação do MSE, quanto mais próximo de zero melhor será o nosso modelo.\n",
    "\n",
    "Métrica|Conceito\n",
    "-------|--------\n",
    "MSE|Unidade de medida da target ao quadrado\n",
    "RMSE|Unidade de medida da target na unidade original"
   ]
  },
  {
   "cell_type": "markdown",
   "metadata": {
    "id": "uET2VK5H73Pu"
   },
   "source": [
    "[Voltar](#home)"
   ]
  },
  {
   "cell_type": "markdown",
   "metadata": {
    "id": "T3Mg7q_w73Pu"
   },
   "source": [
    "<a id=\"hands_on_reg_lin\"></a> \n",
    "\n",
    "**Hands On!**"
   ]
  },
  {
   "cell_type": "markdown",
   "metadata": {
    "id": "hXwHPOPB73Pu"
   },
   "source": [
    "Vamos fazer um modelo que irá prever o resultado de votos em uma campanha a partir do gasto que foi feito."
   ]
  },
  {
   "cell_type": "code",
   "execution_count": 1,
   "metadata": {
    "colab": {
     "base_uri": "https://localhost:8080/"
    },
    "id": "8KJqih_Hd1gN",
    "outputId": "47ecd73e-d4d4-4e40-d695-e5eb915eebe7"
   },
   "outputs": [
    {
     "name": "stdout",
     "output_type": "stream",
     "text": [
      "Requirement already satisfied: wooldridge in d:\\anaconda3\\lib\\site-packages (0.4.4)\n",
      "Requirement already satisfied: pandas in d:\\anaconda3\\lib\\site-packages (from wooldridge) (1.4.2)\n",
      "Requirement already satisfied: python-dateutil>=2.8.1 in d:\\anaconda3\\lib\\site-packages (from pandas->wooldridge) (2.8.2)\n",
      "Requirement already satisfied: pytz>=2020.1 in d:\\anaconda3\\lib\\site-packages (from pandas->wooldridge) (2021.3)\n",
      "Requirement already satisfied: numpy>=1.18.5 in d:\\anaconda3\\lib\\site-packages (from pandas->wooldridge) (1.21.5)\n",
      "Requirement already satisfied: six>=1.5 in d:\\anaconda3\\lib\\site-packages (from python-dateutil>=2.8.1->pandas->wooldridge) (1.16.0)\n"
     ]
    }
   ],
   "source": [
    "!pip install wooldridge"
   ]
  },
  {
   "cell_type": "code",
   "execution_count": 2,
   "metadata": {
    "id": "CM1MWVbv73Pu"
   },
   "outputs": [],
   "source": [
    "import wooldridge as woo\n",
    "import pandas as pd\n",
    "import numpy as np\n",
    "import matplotlib.pyplot as plt\n",
    "from math import sqrt\n",
    "\n",
    "# sklearn\n",
    "from sklearn.linear_model import LinearRegression\n",
    "from sklearn.model_selection import train_test_split\n",
    "from sklearn.metrics import r2_score, mean_squared_error"
   ]
  },
  {
   "cell_type": "code",
   "execution_count": 3,
   "metadata": {
    "id": "TRqayNVF73Pu"
   },
   "outputs": [],
   "source": [
    "# importação dos dados\n",
    "data = woo.dataWoo('vote1')"
   ]
  },
  {
   "cell_type": "code",
   "execution_count": 4,
   "metadata": {
    "colab": {
     "base_uri": "https://localhost:8080/",
     "height": 206
    },
    "id": "8I7KXVV573Pv",
    "outputId": "60c6483b-1eab-46d1-e9c2-c57486d5012c"
   },
   "outputs": [
    {
     "data": {
      "text/html": [
       "<div>\n",
       "<style scoped>\n",
       "    .dataframe tbody tr th:only-of-type {\n",
       "        vertical-align: middle;\n",
       "    }\n",
       "\n",
       "    .dataframe tbody tr th {\n",
       "        vertical-align: top;\n",
       "    }\n",
       "\n",
       "    .dataframe thead th {\n",
       "        text-align: right;\n",
       "    }\n",
       "</style>\n",
       "<table border=\"1\" class=\"dataframe\">\n",
       "  <thead>\n",
       "    <tr style=\"text-align: right;\">\n",
       "      <th></th>\n",
       "      <th>state</th>\n",
       "      <th>district</th>\n",
       "      <th>democA</th>\n",
       "      <th>voteA</th>\n",
       "      <th>expendA</th>\n",
       "      <th>expendB</th>\n",
       "      <th>prtystrA</th>\n",
       "      <th>lexpendA</th>\n",
       "      <th>lexpendB</th>\n",
       "      <th>shareA</th>\n",
       "    </tr>\n",
       "  </thead>\n",
       "  <tbody>\n",
       "    <tr>\n",
       "      <th>0</th>\n",
       "      <td>AL</td>\n",
       "      <td>7</td>\n",
       "      <td>1</td>\n",
       "      <td>68</td>\n",
       "      <td>328.295990</td>\n",
       "      <td>8.737000</td>\n",
       "      <td>41</td>\n",
       "      <td>5.793916</td>\n",
       "      <td>2.167567</td>\n",
       "      <td>97.407669</td>\n",
       "    </tr>\n",
       "    <tr>\n",
       "      <th>1</th>\n",
       "      <td>AK</td>\n",
       "      <td>1</td>\n",
       "      <td>0</td>\n",
       "      <td>62</td>\n",
       "      <td>626.377014</td>\n",
       "      <td>402.476990</td>\n",
       "      <td>60</td>\n",
       "      <td>6.439952</td>\n",
       "      <td>5.997638</td>\n",
       "      <td>60.881039</td>\n",
       "    </tr>\n",
       "    <tr>\n",
       "      <th>2</th>\n",
       "      <td>AZ</td>\n",
       "      <td>2</td>\n",
       "      <td>1</td>\n",
       "      <td>73</td>\n",
       "      <td>99.607002</td>\n",
       "      <td>3.065000</td>\n",
       "      <td>55</td>\n",
       "      <td>4.601233</td>\n",
       "      <td>1.120048</td>\n",
       "      <td>97.014763</td>\n",
       "    </tr>\n",
       "    <tr>\n",
       "      <th>3</th>\n",
       "      <td>AZ</td>\n",
       "      <td>3</td>\n",
       "      <td>0</td>\n",
       "      <td>69</td>\n",
       "      <td>319.690002</td>\n",
       "      <td>26.281000</td>\n",
       "      <td>64</td>\n",
       "      <td>5.767352</td>\n",
       "      <td>3.268846</td>\n",
       "      <td>92.403702</td>\n",
       "    </tr>\n",
       "    <tr>\n",
       "      <th>4</th>\n",
       "      <td>AR</td>\n",
       "      <td>3</td>\n",
       "      <td>0</td>\n",
       "      <td>75</td>\n",
       "      <td>159.220993</td>\n",
       "      <td>60.054001</td>\n",
       "      <td>66</td>\n",
       "      <td>5.070293</td>\n",
       "      <td>4.095244</td>\n",
       "      <td>72.612473</td>\n",
       "    </tr>\n",
       "  </tbody>\n",
       "</table>\n",
       "</div>"
      ],
      "text/plain": [
       "  state  district  democA  voteA     expendA     expendB  prtystrA  lexpendA  \\\n",
       "0    AL         7       1     68  328.295990    8.737000        41  5.793916   \n",
       "1    AK         1       0     62  626.377014  402.476990        60  6.439952   \n",
       "2    AZ         2       1     73   99.607002    3.065000        55  4.601233   \n",
       "3    AZ         3       0     69  319.690002   26.281000        64  5.767352   \n",
       "4    AR         3       0     75  159.220993   60.054001        66  5.070293   \n",
       "\n",
       "   lexpendB     shareA  \n",
       "0  2.167567  97.407669  \n",
       "1  5.997638  60.881039  \n",
       "2  1.120048  97.014763  \n",
       "3  3.268846  92.403702  \n",
       "4  4.095244  72.612473  "
      ]
     },
     "execution_count": 4,
     "metadata": {},
     "output_type": "execute_result"
    }
   ],
   "source": [
    "# visualiza 5 primeiras linhas\n",
    "data.head()"
   ]
  },
  {
   "cell_type": "code",
   "execution_count": 5,
   "metadata": {
    "colab": {
     "base_uri": "https://localhost:8080/",
     "height": 350
    },
    "id": "24tygXBN73Pv",
    "outputId": "d34102ca-bc6e-43f0-df19-176ffcf3c251"
   },
   "outputs": [
    {
     "data": {
      "image/png": "[encoded data removed]",
      "text/plain": [
       "<Figure size 576x360 with 1 Axes>"
      ]
     },
     "metadata": {
      "needs_background": "light"
     },
     "output_type": "display_data"
    }
   ],
   "source": [
    "# ajusta tamanho da figura\n",
    "plt.figure(figsize=(8, 5))\n",
    "# scatter plot\n",
    "plt.scatter('shareA', 'voteA', data=data)\n",
    "# labels\n",
    "plt.title('Relação entre Share e Vote', fontweight='bold')\n",
    "plt.xlabel('Share')\n",
    "plt.ylabel('Vote')\n",
    "# configura gridlines\n",
    "plt.grid(alpha=0.3)\n",
    "plt.show()"
   ]
  },
  {
   "cell_type": "code",
   "execution_count": 6,
   "metadata": {
    "id": "QnAkcwDs73Pv"
   },
   "outputs": [],
   "source": [
    "# define a feature do modelo\n",
    "X = data.shareA.values.reshape(-1, 1)\n",
    "# define a target do modelo\n",
    "y = data.voteA.values.reshape(-1, 1)\n",
    "# separa os dados em treino e teste\n",
    "X_train, X_test, y_train, y_test = train_test_split(X, y, random_state=1, test_size=0.3)"
   ]
  },
  {
   "cell_type": "code",
   "execution_count": 7,
   "metadata": {
    "colab": {
     "base_uri": "https://localhost:8080/"
    },
    "id": "0dpq83OL73Pv",
    "outputId": "6bc1044b-bc3e-4bb8-a912-5f07872d82c1"
   },
   "outputs": [
    {
     "data": {
      "text/plain": [
       "LinearRegression()"
      ]
     },
     "execution_count": 7,
     "metadata": {},
     "output_type": "execute_result"
    }
   ],
   "source": [
    "# instancia o modelo\n",
    "linear_model = LinearRegression()\n",
    "# treina o modelo\n",
    "linear_model.fit(X_train, y_train)"
   ]
  },
  {
   "cell_type": "markdown",
   "metadata": {
    "id": "kvqPqX0373Pv"
   },
   "source": [
    "Agora podemos obter os pesos que foram estimados no modelo:"
   ]
  },
  {
   "cell_type": "code",
   "execution_count": 8,
   "metadata": {
    "colab": {
     "base_uri": "https://localhost:8080/"
    },
    "id": "je3kqxj873Pv",
    "outputId": "dbd56b24-933e-407c-9f67-9bae0a0e5457"
   },
   "outputs": [
    {
     "data": {
      "text/plain": [
       "array([26.65758556])"
      ]
     },
     "execution_count": 8,
     "metadata": {},
     "output_type": "execute_result"
    }
   ],
   "source": [
    "# intercepto do modelo\n",
    "linear_model.intercept_"
   ]
  },
  {
   "cell_type": "code",
   "execution_count": 9,
   "metadata": {
    "colab": {
     "base_uri": "https://localhost:8080/"
    },
    "id": "Jt0qQ1pk73Pv",
    "outputId": "11c936b8-ce13-4a22-fe51-72591f18348a"
   },
   "outputs": [
    {
     "data": {
      "text/plain": [
       "array([[0.45764906]])"
      ]
     },
     "execution_count": 9,
     "metadata": {},
     "output_type": "execute_result"
    }
   ],
   "source": [
    "# parâmetro de inclinação\n",
    "linear_model.coef_"
   ]
  },
  {
   "cell_type": "code",
   "execution_count": 10,
   "metadata": {
    "id": "HE88BLe873Pv"
   },
   "outputs": [],
   "source": [
    "# previsões do modelo\n",
    "y_pred = linear_model.predict(X_train)\n",
    "# resíduo do modelo (diferença entre o valor real e o valor ajustado)\n",
    "resid = y_train - y_pred"
   ]
  },
  {
   "cell_type": "code",
   "execution_count": 11,
   "metadata": {
    "colab": {
     "base_uri": "https://localhost:8080/",
     "height": 350
    },
    "id": "ccvsqgUv73Pv",
    "outputId": "ba60c0db-33a7-45bc-99e8-61c2fbd6d425"
   },
   "outputs": [
    {
     "data": {
      "image/png": "[encoded data removed]",
      "text/plain": [
       "<Figure size 576x360 with 1 Axes>"
      ]
     },
     "metadata": {
      "needs_background": "light"
     },
     "output_type": "display_data"
    }
   ],
   "source": [
    "# ajusta tamanho da figura\n",
    "plt.figure(figsize=(8, 5))\n",
    "# scatter plot\n",
    "plt.scatter('shareA', 'voteA', data=data, color='gray')\n",
    "# modelo\n",
    "plt.plot(X_train, y_pred, color='black')\n",
    "# labels\n",
    "plt.title('Regressão Linear entre Share e Vote', fontweight='bold')\n",
    "plt.xlabel('Share')\n",
    "plt.ylabel('Vote')\n",
    "# configura gridlines\n",
    "plt.grid(alpha=0.3)\n",
    "plt.show()"
   ]
  },
  {
   "cell_type": "markdown",
   "metadata": {
    "id": "gZJqSGOI73Pv"
   },
   "source": [
    "Precisamos avaliar a qualidade do nosso ajuste em dados que esse modelo ainda não 'viu'. Ou seja, vamos avaliar nosso modelo no conjunto de teste."
   ]
  },
  {
   "cell_type": "code",
   "execution_count": 12,
   "metadata": {
    "id": "UhiwEB9a73Pv"
   },
   "outputs": [],
   "source": [
    "# previsão com os dados de treino\n",
    "y_pred_train = linear_model.predict(X_train)\n",
    "# previsão com os dados de teste\n",
    "y_pred_test = linear_model.predict(X_test)"
   ]
  },
  {
   "cell_type": "code",
   "execution_count": 13,
   "metadata": {
    "id": "G_FPU4mL73Pv"
   },
   "outputs": [],
   "source": [
    "# define uma função para calcular o rmse\n",
    "def rmse(y_true, y_pred):\n",
    "    \"Calcula o RMSE.\"\n",
    "    return round(sqrt(mean_squared_error(y_true, y_pred)), 2)"
   ]
  },
  {
   "cell_type": "code",
   "execution_count": 14,
   "metadata": {
    "colab": {
     "base_uri": "https://localhost:8080/"
    },
    "id": "YQFhcMEY73Pv",
    "outputId": "4e23de9b-0fa3-47b9-86dc-585653876009"
   },
   "outputs": [
    {
     "data": {
      "text/plain": [
       "6.42"
      ]
     },
     "execution_count": 14,
     "metadata": {},
     "output_type": "execute_result"
    }
   ],
   "source": [
    "# métrica nos dados de treino\n",
    "rmse(y_train, y_pred_train)"
   ]
  },
  {
   "cell_type": "code",
   "execution_count": 15,
   "metadata": {
    "colab": {
     "base_uri": "https://localhost:8080/"
    },
    "id": "VOJ4hxrH73Pw",
    "outputId": "26b670de-cb93-41df-aabf-9f49cee84134"
   },
   "outputs": [
    {
     "data": {
      "text/plain": [
       "6.26"
      ]
     },
     "execution_count": 15,
     "metadata": {},
     "output_type": "execute_result"
    }
   ],
   "source": [
    "# métrica nos dados de teste\n",
    "rmse(y_test, y_pred_test)"
   ]
  },
  {
   "cell_type": "markdown",
   "metadata": {
    "id": "LIfH4bUq73Pw"
   },
   "source": [
    "Temos duas formas para obter o R²:"
   ]
  },
  {
   "cell_type": "code",
   "execution_count": 16,
   "metadata": {
    "colab": {
     "base_uri": "https://localhost:8080/"
    },
    "id": "97p-15Hc73Pw",
    "outputId": "f0bf32f3-efae-49a2-ea07-25d1c849a6f4"
   },
   "outputs": [
    {
     "data": {
      "text/plain": [
       "0.8538309065285059"
      ]
     },
     "execution_count": 16,
     "metadata": {},
     "output_type": "execute_result"
    }
   ],
   "source": [
    "# métrica nos dados de treino\n",
    "linear_model.score(X_train, y_train)"
   ]
  },
  {
   "cell_type": "code",
   "execution_count": 17,
   "metadata": {
    "colab": {
     "base_uri": "https://localhost:8080/"
    },
    "id": "Tp1TTna-73Pw",
    "outputId": "0ad2def1-ffeb-4fa7-c347-3e7db8eb5a81"
   },
   "outputs": [
    {
     "data": {
      "text/plain": [
       "0.8567855483437651"
      ]
     },
     "execution_count": 17,
     "metadata": {},
     "output_type": "execute_result"
    }
   ],
   "source": [
    "# métrica nos dados de teste\n",
    "linear_model.score(X_test, y_test)"
   ]
  },
  {
   "cell_type": "code",
   "execution_count": 18,
   "metadata": {
    "id": "6UYcbalN73Pw"
   },
   "outputs": [],
   "source": [
    "# cálculo do R² usando diretamente função do Sklearn\n",
    "r2_train = r2_score(y_train, y_pred_train)\n",
    "r2_test = r2_score(y_test, y_pred_test)"
   ]
  },
  {
   "cell_type": "code",
   "execution_count": 19,
   "metadata": {
    "colab": {
     "base_uri": "https://localhost:8080/"
    },
    "id": "-3p9fxY373Pw",
    "outputId": "0c06aff5-10f2-4291-cd9f-524aa948fb57"
   },
   "outputs": [
    {
     "data": {
      "text/plain": [
       "(0.8538309065285059, 0.8567855483437651)"
      ]
     },
     "execution_count": 19,
     "metadata": {},
     "output_type": "execute_result"
    }
   ],
   "source": [
    "# métricas no treino e no teste\n",
    "r2_train, r2_test"
   ]
  },
  {
   "cell_type": "markdown",
   "metadata": {
    "id": "buEl6C5073Pw"
   },
   "source": [
    "[Voltar](#home)"
   ]
  },
  {
   "cell_type": "markdown",
   "metadata": {
    "id": "IJEY_8vM73Pw"
   },
   "source": [
    "<a id=\"concepts\"></a> \n",
    "\n",
    "**Aprofundando conceitos**"
   ]
  },
  {
   "cell_type": "markdown",
   "metadata": {
    "id": "hBLgahKa73Pw"
   },
   "source": [
    "#### Método holdout"
   ]
  },
  {
   "cell_type": "markdown",
   "metadata": {
    "id": "1OMAX-C573Pw"
   },
   "source": [
    "Realizar uma amostragem dos conjuntos de treino e teste, sem repetição.\n",
    "\n",
    "A ideia é utilizarmos os dados de treino para o algoritmo aprender os parâmetros (betas) dos modelos.\n",
    "\n",
    "Utilizamos os dados de teste para mensurar a performance do modelo.\n",
    "\n",
    "Os dados de teste são dados que o modelo ainda não viu. Nosso objetivo é simular o desempenho do modelo com dados reais, não vistos até então.\n",
    "\n",
    "O método Holdout divide os dados em 70-30 de forma aleatória. Temos então, 70% dos dados para treino do modelo e 30% para teste.\n",
    "\n",
    "<img src=\"https://datavedas.com/wp-content/uploads/2018/04/image001.jpg\" width=400>"
   ]
  },
  {
   "cell_type": "markdown",
   "metadata": {
    "id": "AU9Juec673Pw"
   },
   "source": [
    "<a id=\"case\"></a> \n",
    "\n",
    "## **3 Walmart Sales Forecast**\n",
    "\n",
    "**Dicionário de Dados**\n",
    "\n",
    "* Store - número da loja.\n",
    "* Date - semana da apuração das vendas.\n",
    "* Weekly_Sales - quantidade de vendas de uma determinada loja.\n",
    "* Holiday_Flag - 1 se for feriado; 0 caso contrário.\n",
    "* Temperature - Temperatura na semana de apuração na região da loja\n",
    "* Fuel_Price - Preço do combustível na região da loja, dados monetários em dólar.\n",
    "* CPI – Consumer Price Index, índice de inflação ao consumidor na região da loja.\n",
    "* Unemployment - Taxa de desemprego na região da loja.\n",
    "\n",
    "**OBJETIVO DA MODELAGEM:** prever as vendas semanais do Walmart, dado o conjunto de dados disponível.\n",
    "\n",
    "A ideia do time de negócio é utilizar o modelo para planejar ações como estoque e prospectar demanda. Além disso, objetiva-se compreender melhor a inserção e perfil da empresa e suas filiais."
   ]
  },
  {
   "cell_type": "code",
   "execution_count": 20,
   "metadata": {
    "id": "baOg8NqR73Pw"
   },
   "outputs": [],
   "source": [
    "# imports\n",
    "# manipulação de dados\n",
    "import pandas as pd\n",
    "import numpy as np\n",
    "\n",
    "# visualização de dados\n",
    "import seaborn as sns\n",
    "import matplotlib.pyplot as plt\n",
    "import plotly.express as px\n",
    "import plotly.graph_objects as go\n",
    "\n",
    "# machine learning\n",
    "from sklearn.linear_model import LinearRegression\n",
    "from sklearn.metrics import mean_squared_error, r2_score\n",
    "\n",
    "# configuração de warnings\n",
    "import warnings\n",
    "warnings.filterwarnings('ignore')"
   ]
  },
  {
   "cell_type": "code",
   "execution_count": 21,
   "metadata": {
    "colab": {
     "base_uri": "https://localhost:8080/",
     "height": 328
    },
    "id": "TC0n8W4373Pw",
    "outputId": "8f545fd9-c6ef-4833-d6cf-06a99ac6386a"
   },
   "outputs": [],
   "source": [
    "# leitura da base\n",
    "df = pd.read_csv('Walmart.csv')"
   ]
  },
  {
   "cell_type": "code",
   "execution_count": 22,
   "metadata": {
    "colab": {
     "base_uri": "https://localhost:8080/",
     "height": 206
    },
    "id": "3pQmHLvI73Pw",
    "outputId": "062dbb7f-85e2-4c0b-d3f2-73d1a6873200"
   },
   "outputs": [
    {
     "data": {
      "text/html": [
       "<div>\n",
       "<style scoped>\n",
       "    .dataframe tbody tr th:only-of-type {\n",
       "        vertical-align: middle;\n",
       "    }\n",
       "\n",
       "    .dataframe tbody tr th {\n",
       "        vertical-align: top;\n",
       "    }\n",
       "\n",
       "    .dataframe thead th {\n",
       "        text-align: right;\n",
       "    }\n",
       "</style>\n",
       "<table border=\"1\" class=\"dataframe\">\n",
       "  <thead>\n",
       "    <tr style=\"text-align: right;\">\n",
       "      <th></th>\n",
       "      <th>Store</th>\n",
       "      <th>Date</th>\n",
       "      <th>Weekly_Sales</th>\n",
       "      <th>Holiday_Flag</th>\n",
       "      <th>Temperature</th>\n",
       "      <th>Fuel_Price</th>\n",
       "      <th>CPI</th>\n",
       "      <th>Unemployment</th>\n",
       "    </tr>\n",
       "  </thead>\n",
       "  <tbody>\n",
       "    <tr>\n",
       "      <th>0</th>\n",
       "      <td>1</td>\n",
       "      <td>05-02-2010</td>\n",
       "      <td>1643690.90</td>\n",
       "      <td>0</td>\n",
       "      <td>42.31</td>\n",
       "      <td>2.572</td>\n",
       "      <td>211.096358</td>\n",
       "      <td>8.106</td>\n",
       "    </tr>\n",
       "    <tr>\n",
       "      <th>1</th>\n",
       "      <td>1</td>\n",
       "      <td>12-02-2010</td>\n",
       "      <td>1641957.44</td>\n",
       "      <td>1</td>\n",
       "      <td>38.51</td>\n",
       "      <td>2.548</td>\n",
       "      <td>211.242170</td>\n",
       "      <td>8.106</td>\n",
       "    </tr>\n",
       "    <tr>\n",
       "      <th>2</th>\n",
       "      <td>1</td>\n",
       "      <td>19-02-2010</td>\n",
       "      <td>1611968.17</td>\n",
       "      <td>0</td>\n",
       "      <td>39.93</td>\n",
       "      <td>2.514</td>\n",
       "      <td>211.289143</td>\n",
       "      <td>8.106</td>\n",
       "    </tr>\n",
       "    <tr>\n",
       "      <th>3</th>\n",
       "      <td>1</td>\n",
       "      <td>26-02-2010</td>\n",
       "      <td>1409727.59</td>\n",
       "      <td>0</td>\n",
       "      <td>46.63</td>\n",
       "      <td>2.561</td>\n",
       "      <td>211.319643</td>\n",
       "      <td>8.106</td>\n",
       "    </tr>\n",
       "    <tr>\n",
       "      <th>4</th>\n",
       "      <td>1</td>\n",
       "      <td>05-03-2010</td>\n",
       "      <td>1554806.68</td>\n",
       "      <td>0</td>\n",
       "      <td>46.50</td>\n",
       "      <td>2.625</td>\n",
       "      <td>211.350143</td>\n",
       "      <td>8.106</td>\n",
       "    </tr>\n",
       "  </tbody>\n",
       "</table>\n",
       "</div>"
      ],
      "text/plain": [
       "   Store        Date  Weekly_Sales  Holiday_Flag  Temperature  Fuel_Price  \\\n",
       "0      1  05-02-2010    1643690.90             0        42.31       2.572   \n",
       "1      1  12-02-2010    1641957.44             1        38.51       2.548   \n",
       "2      1  19-02-2010    1611968.17             0        39.93       2.514   \n",
       "3      1  26-02-2010    1409727.59             0        46.63       2.561   \n",
       "4      1  05-03-2010    1554806.68             0        46.50       2.625   \n",
       "\n",
       "          CPI  Unemployment  \n",
       "0  211.096358         8.106  \n",
       "1  211.242170         8.106  \n",
       "2  211.289143         8.106  \n",
       "3  211.319643         8.106  \n",
       "4  211.350143         8.106  "
      ]
     },
     "execution_count": 22,
     "metadata": {},
     "output_type": "execute_result"
    }
   ],
   "source": [
    "# inspeção da base\n",
    "df.head()"
   ]
  },
  {
   "cell_type": "code",
   "execution_count": 23,
   "metadata": {
    "colab": {
     "base_uri": "https://localhost:8080/"
    },
    "id": "NgP5orqn73Pw",
    "outputId": "baa0809e-53b0-4b70-99fc-a28a9eb74308"
   },
   "outputs": [
    {
     "data": {
      "text/plain": [
       "Store             int64\n",
       "Date             object\n",
       "Weekly_Sales    float64\n",
       "Holiday_Flag      int64\n",
       "Temperature     float64\n",
       "Fuel_Price      float64\n",
       "CPI             float64\n",
       "Unemployment    float64\n",
       "dtype: object"
      ]
     },
     "execution_count": 23,
     "metadata": {},
     "output_type": "execute_result"
    }
   ],
   "source": [
    "# dtype de cada coluna\n",
    "df.dtypes"
   ]
  },
  {
   "cell_type": "code",
   "execution_count": 24,
   "metadata": {
    "id": "X_FhDfCl73Pw"
   },
   "outputs": [],
   "source": [
    "# converte a coluna Date para o formato datetime\n",
    "df['Date'] = pd.to_datetime(df.Date, format='%d-%m-%Y')"
   ]
  },
  {
   "cell_type": "code",
   "execution_count": 25,
   "metadata": {
    "id": "_tw1y87g73Px"
   },
   "outputs": [],
   "source": [
    "# ordena a base de dados pelas colunas de Data e Vendas\n",
    "df = (\n",
    "    df\n",
    "     .sort_values(\n",
    "        by=['Date', 'Weekly_Sales'],\n",
    "        ascending=True)\n",
    "     .reset_index(drop=True)\n",
    ")"
   ]
  },
  {
   "cell_type": "code",
   "execution_count": 26,
   "metadata": {
    "colab": {
     "base_uri": "https://localhost:8080/"
    },
    "id": "hBX6Ibyk73Px",
    "outputId": "4bcaa99e-c01a-45be-f209-5c8c336b4fdb"
   },
   "outputs": [
    {
     "data": {
      "text/plain": [
       "Store           0\n",
       "Date            0\n",
       "Weekly_Sales    0\n",
       "Holiday_Flag    0\n",
       "Temperature     0\n",
       "Fuel_Price      0\n",
       "CPI             0\n",
       "Unemployment    0\n",
       "dtype: int64"
      ]
     },
     "execution_count": 26,
     "metadata": {},
     "output_type": "execute_result"
    }
   ],
   "source": [
    "# verifica missing values\n",
    "# conclusão: não há missing values\n",
    "df.isna().sum()"
   ]
  },
  {
   "cell_type": "code",
   "execution_count": 27,
   "metadata": {
    "colab": {
     "base_uri": "https://localhost:8080/"
    },
    "id": "2vGr4cHj73Px",
    "outputId": "f6a45956-84a5-431e-ac48-16a8ca1d6255"
   },
   "outputs": [
    {
     "data": {
      "text/plain": [
       "0"
      ]
     },
     "execution_count": 27,
     "metadata": {},
     "output_type": "execute_result"
    }
   ],
   "source": [
    "# verifica linhas duplicadas\n",
    "# conclusão: não há linhas duplicadas\n",
    "df.duplicated().sum()"
   ]
  },
  {
   "cell_type": "code",
   "execution_count": 28,
   "metadata": {
    "colab": {
     "base_uri": "https://localhost:8080/"
    },
    "id": "PJIdXj3w73Px",
    "outputId": "5b45eaba-2b95-4a46-95ae-f4bffae1dd4f"
   },
   "outputs": [
    {
     "data": {
      "text/plain": [
       "Holiday_Flag       2\n",
       "Store             45\n",
       "Date             143\n",
       "Unemployment     349\n",
       "Fuel_Price       892\n",
       "CPI             2145\n",
       "Temperature     3528\n",
       "Weekly_Sales    6435\n",
       "dtype: int64"
      ]
     },
     "execution_count": 28,
     "metadata": {},
     "output_type": "execute_result"
    }
   ],
   "source": [
    "# quantidade de valores únicos em cada coluna\n",
    "# Conclusões:\n",
    "# 1. Holiday_Flag de fato é uma dummy\n",
    "# 2. Temos 45 lojas\n",
    "df.nunique().sort_values()"
   ]
  },
  {
   "cell_type": "code",
   "execution_count": 29,
   "metadata": {
    "colab": {
     "base_uri": "https://localhost:8080/",
     "height": 300
    },
    "id": "hIfACOMf73Px",
    "outputId": "040b289d-5013-4c6d-bd43-db34162fe842"
   },
   "outputs": [
    {
     "data": {
      "text/html": [
       "<div>\n",
       "<style scoped>\n",
       "    .dataframe tbody tr th:only-of-type {\n",
       "        vertical-align: middle;\n",
       "    }\n",
       "\n",
       "    .dataframe tbody tr th {\n",
       "        vertical-align: top;\n",
       "    }\n",
       "\n",
       "    .dataframe thead th {\n",
       "        text-align: right;\n",
       "    }\n",
       "</style>\n",
       "<table border=\"1\" class=\"dataframe\">\n",
       "  <thead>\n",
       "    <tr style=\"text-align: right;\">\n",
       "      <th></th>\n",
       "      <th>Store</th>\n",
       "      <th>Weekly_Sales</th>\n",
       "      <th>Holiday_Flag</th>\n",
       "      <th>Temperature</th>\n",
       "      <th>Fuel_Price</th>\n",
       "      <th>CPI</th>\n",
       "      <th>Unemployment</th>\n",
       "    </tr>\n",
       "  </thead>\n",
       "  <tbody>\n",
       "    <tr>\n",
       "      <th>count</th>\n",
       "      <td>6435.000000</td>\n",
       "      <td>6.435000e+03</td>\n",
       "      <td>6435.000000</td>\n",
       "      <td>6435.000000</td>\n",
       "      <td>6435.000000</td>\n",
       "      <td>6435.000000</td>\n",
       "      <td>6435.000000</td>\n",
       "    </tr>\n",
       "    <tr>\n",
       "      <th>mean</th>\n",
       "      <td>23.000000</td>\n",
       "      <td>1.046965e+06</td>\n",
       "      <td>0.069930</td>\n",
       "      <td>60.663782</td>\n",
       "      <td>3.358607</td>\n",
       "      <td>171.578394</td>\n",
       "      <td>7.999151</td>\n",
       "    </tr>\n",
       "    <tr>\n",
       "      <th>std</th>\n",
       "      <td>12.988182</td>\n",
       "      <td>5.643666e+05</td>\n",
       "      <td>0.255049</td>\n",
       "      <td>18.444933</td>\n",
       "      <td>0.459020</td>\n",
       "      <td>39.356712</td>\n",
       "      <td>1.875885</td>\n",
       "    </tr>\n",
       "    <tr>\n",
       "      <th>min</th>\n",
       "      <td>1.000000</td>\n",
       "      <td>2.099862e+05</td>\n",
       "      <td>0.000000</td>\n",
       "      <td>-2.060000</td>\n",
       "      <td>2.472000</td>\n",
       "      <td>126.064000</td>\n",
       "      <td>3.879000</td>\n",
       "    </tr>\n",
       "    <tr>\n",
       "      <th>25%</th>\n",
       "      <td>12.000000</td>\n",
       "      <td>5.533501e+05</td>\n",
       "      <td>0.000000</td>\n",
       "      <td>47.460000</td>\n",
       "      <td>2.933000</td>\n",
       "      <td>131.735000</td>\n",
       "      <td>6.891000</td>\n",
       "    </tr>\n",
       "    <tr>\n",
       "      <th>50%</th>\n",
       "      <td>23.000000</td>\n",
       "      <td>9.607460e+05</td>\n",
       "      <td>0.000000</td>\n",
       "      <td>62.670000</td>\n",
       "      <td>3.445000</td>\n",
       "      <td>182.616521</td>\n",
       "      <td>7.874000</td>\n",
       "    </tr>\n",
       "    <tr>\n",
       "      <th>75%</th>\n",
       "      <td>34.000000</td>\n",
       "      <td>1.420159e+06</td>\n",
       "      <td>0.000000</td>\n",
       "      <td>74.940000</td>\n",
       "      <td>3.735000</td>\n",
       "      <td>212.743293</td>\n",
       "      <td>8.622000</td>\n",
       "    </tr>\n",
       "    <tr>\n",
       "      <th>max</th>\n",
       "      <td>45.000000</td>\n",
       "      <td>3.818686e+06</td>\n",
       "      <td>1.000000</td>\n",
       "      <td>100.140000</td>\n",
       "      <td>4.468000</td>\n",
       "      <td>227.232807</td>\n",
       "      <td>14.313000</td>\n",
       "    </tr>\n",
       "  </tbody>\n",
       "</table>\n",
       "</div>"
      ],
      "text/plain": [
       "             Store  Weekly_Sales  Holiday_Flag  Temperature   Fuel_Price  \\\n",
       "count  6435.000000  6.435000e+03   6435.000000  6435.000000  6435.000000   \n",
       "mean     23.000000  1.046965e+06      0.069930    60.663782     3.358607   \n",
       "std      12.988182  5.643666e+05      0.255049    18.444933     0.459020   \n",
       "min       1.000000  2.099862e+05      0.000000    -2.060000     2.472000   \n",
       "25%      12.000000  5.533501e+05      0.000000    47.460000     2.933000   \n",
       "50%      23.000000  9.607460e+05      0.000000    62.670000     3.445000   \n",
       "75%      34.000000  1.420159e+06      0.000000    74.940000     3.735000   \n",
       "max      45.000000  3.818686e+06      1.000000   100.140000     4.468000   \n",
       "\n",
       "               CPI  Unemployment  \n",
       "count  6435.000000   6435.000000  \n",
       "mean    171.578394      7.999151  \n",
       "std      39.356712      1.875885  \n",
       "min     126.064000      3.879000  \n",
       "25%     131.735000      6.891000  \n",
       "50%     182.616521      7.874000  \n",
       "75%     212.743293      8.622000  \n",
       "max     227.232807     14.313000  "
      ]
     },
     "execution_count": 29,
     "metadata": {},
     "output_type": "execute_result"
    }
   ],
   "source": [
    "# sumário estatístico\n",
    "# conclusão: não identificamos nenhuma variável inconsistente (venda negativa, por exemplo)\n",
    "df.describe()"
   ]
  },
  {
   "cell_type": "code",
   "execution_count": 30,
   "metadata": {
    "id": "knzMfPf673Px"
   },
   "outputs": [],
   "source": [
    "# cria colunas a partir da data\n",
    "df['month'] = df.Date.dt.month\n",
    "df['year'] = df.Date.dt.year"
   ]
  },
  {
   "cell_type": "code",
   "execution_count": 31,
   "metadata": {
    "id": "FznuWl_K73Px"
   },
   "outputs": [],
   "source": [
    "# no homework teste as seguintes possibilidades:\n",
    "df['dayofweek'] = df.Date.dt.dayofweek\n",
    "df['day_name'] = df.Date.dt.day_name()\n",
    "df['is_month_start'] = df.Date.dt.is_month_start.map({True:1, False:0})\n",
    "df['is_month_end'] = df.Date.dt.is_month_end.map({True:1, False:0})\n",
    "df['days_in_month'] = df.Date.dt.days_in_month\n",
    "df['is_quarter_start'] = df.Date.dt.is_quarter_start.map({True:1, False:0})\n",
    "df['is_quarter_end'] = df.Date.dt.is_quarter_end.map({True:1, False:0})"
   ]
  },
  {
   "cell_type": "markdown",
   "metadata": {
    "id": "0SShN5z-73Px"
   },
   "source": [
    "Análise Exploratória de Dados"
   ]
  },
  {
   "cell_type": "markdown",
   "metadata": {
    "id": "0XbhPC6f73Px"
   },
   "source": [
    "Nesta etapa estamos interessados em compreender melhor os dados por meio de técnicas de visualização de dados."
   ]
  },
  {
   "cell_type": "code",
   "execution_count": 32,
   "metadata": {
    "id": "R0qRGM-g73Px"
   },
   "outputs": [],
   "source": [
    "# cria um data frame mensal (aplicando-se média)\n",
    "month_data = df.set_index('Date')\\\n",
    "    .resample('m')[['Weekly_Sales', 'CPI', 'Unemployment']]\\\n",
    "    .mean()"
   ]
  },
  {
   "cell_type": "code",
   "execution_count": 33,
   "metadata": {
    "colab": {
     "base_uri": "https://localhost:8080/",
     "height": 238
    },
    "id": "uykVdHM_73Px",
    "outputId": "274605fb-223d-4dfa-f3e8-f35c17d85920"
   },
   "outputs": [
    {
     "data": {
      "text/html": [
       "<div>\n",
       "<style scoped>\n",
       "    .dataframe tbody tr th:only-of-type {\n",
       "        vertical-align: middle;\n",
       "    }\n",
       "\n",
       "    .dataframe tbody tr th {\n",
       "        vertical-align: top;\n",
       "    }\n",
       "\n",
       "    .dataframe thead th {\n",
       "        text-align: right;\n",
       "    }\n",
       "</style>\n",
       "<table border=\"1\" class=\"dataframe\">\n",
       "  <thead>\n",
       "    <tr style=\"text-align: right;\">\n",
       "      <th></th>\n",
       "      <th>Weekly_Sales</th>\n",
       "      <th>CPI</th>\n",
       "      <th>Unemployment</th>\n",
       "    </tr>\n",
       "    <tr>\n",
       "      <th>Date</th>\n",
       "      <th></th>\n",
       "      <th></th>\n",
       "      <th></th>\n",
       "    </tr>\n",
       "  </thead>\n",
       "  <tbody>\n",
       "    <tr>\n",
       "      <th>2010-02-28</th>\n",
       "      <td>1.057405e+06</td>\n",
       "      <td>167.834459</td>\n",
       "      <td>8.619311</td>\n",
       "    </tr>\n",
       "    <tr>\n",
       "      <th>2010-03-31</th>\n",
       "      <td>1.010666e+06</td>\n",
       "      <td>167.930846</td>\n",
       "      <td>8.619311</td>\n",
       "    </tr>\n",
       "    <tr>\n",
       "      <th>2010-04-30</th>\n",
       "      <td>1.028499e+06</td>\n",
       "      <td>167.678437</td>\n",
       "      <td>8.497711</td>\n",
       "    </tr>\n",
       "    <tr>\n",
       "      <th>2010-05-31</th>\n",
       "      <td>1.037283e+06</td>\n",
       "      <td>167.641758</td>\n",
       "      <td>8.497711</td>\n",
       "    </tr>\n",
       "    <tr>\n",
       "      <th>2010-06-30</th>\n",
       "      <td>1.068034e+06</td>\n",
       "      <td>168.004688</td>\n",
       "      <td>8.497711</td>\n",
       "    </tr>\n",
       "  </tbody>\n",
       "</table>\n",
       "</div>"
      ],
      "text/plain": [
       "            Weekly_Sales         CPI  Unemployment\n",
       "Date                                              \n",
       "2010-02-28  1.057405e+06  167.834459      8.619311\n",
       "2010-03-31  1.010666e+06  167.930846      8.619311\n",
       "2010-04-30  1.028499e+06  167.678437      8.497711\n",
       "2010-05-31  1.037283e+06  167.641758      8.497711\n",
       "2010-06-30  1.068034e+06  168.004688      8.497711"
      ]
     },
     "execution_count": 33,
     "metadata": {},
     "output_type": "execute_result"
    }
   ],
   "source": [
    "month_data.head()"
   ]
  },
  {
   "cell_type": "markdown",
   "metadata": {
    "id": "3JdBMNm_73Px"
   },
   "source": [
    "* Evolução das vendas e outras variáveis no tempo"
   ]
  },
  {
   "cell_type": "code",
   "execution_count": 34,
   "metadata": {
    "id": "RcWRSx_573Px"
   },
   "outputs": [],
   "source": [
    "# cria figura e eixo\n",
    "def plot_line_month_data(feature, title, ylabel):\n",
    "    fig, ax = plt.subplots(figsize=(10, 4))\n",
    "    # cálculo das vendas médias mensais\n",
    "    month_data[feature].plot(ax=ax, color='black', linewidth=2)\n",
    "    # labels\n",
    "    # título\n",
    "    plt.title(title, fontweight='bold', pad=15)\n",
    "    # rótulo do eixo x\n",
    "    plt.xlabel('')\n",
    "    # rótulo do eixo y\n",
    "    plt.ylabel(ylabel)\n",
    "    # oculta spines\n",
    "    ax.spines['top'].set_visible(False)\n",
    "    ax.spines['right'].set_visible(False)\n",
    "    plt.show()"
   ]
  },
  {
   "cell_type": "code",
   "execution_count": 35,
   "metadata": {
    "colab": {
     "base_uri": "https://localhost:8080/",
     "height": 302
    },
    "id": "NtrnUI_q73Px",
    "outputId": "21cf6ef1-17d1-4957-b087-1dd935d226dd"
   },
   "outputs": [
    {
     "data": {
      "image/png": "[encoded data removed]",
      "text/plain": [
       "<Figure size 720x288 with 1 Axes>"
      ]
     },
     "metadata": {
      "needs_background": "light"
     },
     "output_type": "display_data"
    }
   ],
   "source": [
    "plot_line_month_data(\n",
    "    'Weekly_Sales', \n",
    "    'Evolução das vendas', \n",
    "    'Valor das vendas'\n",
    ")"
   ]
  },
  {
   "cell_type": "code",
   "execution_count": 36,
   "metadata": {
    "colab": {
     "base_uri": "https://localhost:8080/",
     "height": 302
    },
    "id": "nOf5LLCo73Px",
    "outputId": "667e45ed-2cf0-482b-b966-0f434da14a8f"
   },
   "outputs": [
    {
     "data": {
      "image/png": "[encoded data removed]",
      "text/plain": [
       "<Figure size 720x288 with 1 Axes>"
      ]
     },
     "metadata": {
      "needs_background": "light"
     },
     "output_type": "display_data"
    }
   ],
   "source": [
    "plot_line_month_data(\n",
    "    'CPI', \n",
    "    'Inflação', \n",
    "    ''\n",
    ")"
   ]
  },
  {
   "cell_type": "code",
   "execution_count": 37,
   "metadata": {
    "colab": {
     "base_uri": "https://localhost:8080/",
     "height": 302
    },
    "id": "nOeMTmT173Px",
    "outputId": "1686c752-802c-4bf0-9726-44791def7187"
   },
   "outputs": [
    {
     "data": {
      "image/png": "[encoded data removed]",
      "text/plain": [
       "<Figure size 720x288 with 1 Axes>"
      ]
     },
     "metadata": {
      "needs_background": "light"
     },
     "output_type": "display_data"
    }
   ],
   "source": [
    "plot_line_month_data(\n",
    "    'Unemployment', \n",
    "    'Evolução da Taxa de Desemprego', \n",
    "    ''\n",
    ")"
   ]
  },
  {
   "cell_type": "code",
   "execution_count": 38,
   "metadata": {
    "id": "F8r7M67l73Px"
   },
   "outputs": [],
   "source": [
    "def plot_two_axes(variavel_eixo_1, variavel_eixo_2, title):\n",
    "    # cria figura e eixo\n",
    "    fig, ax1 = plt.subplots(figsize=(8, 5))\n",
    "    # título\n",
    "    fig.suptitle(title, fontweight='bold')\n",
    "    # eixo 1\n",
    "    month_data[variavel_eixo_1].plot(ax=ax1, color='black', linewidth=2)\n",
    "    ax1.set_ylabel(variavel_eixo_1)\n",
    "\n",
    "    # cria segundo eixo\n",
    "    ax2 = ax1.twinx()\n",
    "    month_data[variavel_eixo_2].plot(ax=ax2, color='lightgray', linewidth=2)\n",
    "    ax2.set_ylabel(variavel_eixo_2)\n",
    "    \n",
    "    # adiciona legenda\n",
    "    fig.legend()\n",
    "    plt.show()"
   ]
  },
  {
   "cell_type": "code",
   "execution_count": 39,
   "metadata": {
    "colab": {
     "base_uri": "https://localhost:8080/",
     "height": 383
    },
    "id": "pcIjgNRb73Py",
    "outputId": "8bb3a8f9-0f09-487d-9109-34c7bcbb68c3"
   },
   "outputs": [
    {
     "data": {
      "image/png": "[encoded data removed]",
      "text/plain": [
       "<Figure size 576x360 with 2 Axes>"
      ]
     },
     "metadata": {
      "needs_background": "light"
     },
     "output_type": "display_data"
    }
   ],
   "source": [
    "plot_two_axes(\n",
    "    'CPI', \n",
    "    'Unemployment', \n",
    "    'Relação entre Inflação e Desemprego'\n",
    ")"
   ]
  },
  {
   "cell_type": "code",
   "execution_count": 40,
   "metadata": {
    "colab": {
     "base_uri": "https://localhost:8080/",
     "height": 749
    },
    "id": "CX8LzVZX73Py",
    "outputId": "2b2c3033-c6f2-4116-ac21-39f3ea2d8edf"
   },
   "outputs": [
    {
     "data": {
      "image/png": "[encoded data removed]",
      "text/plain": [
       "<Figure size 576x360 with 2 Axes>"
      ]
     },
     "metadata": {
      "needs_background": "light"
     },
     "output_type": "display_data"
    },
    {
     "data": {
      "image/png": "[encoded data removed]",
      "text/plain": [
       "<Figure size 576x360 with 2 Axes>"
      ]
     },
     "metadata": {
      "needs_background": "light"
     },
     "output_type": "display_data"
    }
   ],
   "source": [
    "for feature in ['CPI', 'Unemployment']:\n",
    "    plot_two_axes(\n",
    "        feature,\n",
    "        'Weekly_Sales',\n",
    "        f'Relação entre {feature} e Vendas'\n",
    "    )"
   ]
  },
  {
   "cell_type": "markdown",
   "metadata": {
    "id": "v143hvZ973Py"
   },
   "source": [
    "* Análise estatística"
   ]
  },
  {
   "cell_type": "code",
   "execution_count": 41,
   "metadata": {
    "id": "RXNQTmhA73Py"
   },
   "outputs": [],
   "source": [
    "# lista com colunas numéricas\n",
    "num_cols = df.select_dtypes(include='number').columns.tolist()"
   ]
  },
  {
   "cell_type": "code",
   "execution_count": 42,
   "metadata": {
    "colab": {
     "base_uri": "https://localhost:8080/",
     "height": 1000
    },
    "id": "xA27M2PB73Py",
    "outputId": "67bc51b6-571f-40fb-9e98-25f6fb68cab1"
   },
   "outputs": [
    {
     "data": {
      "image/png": "[encoded data removed]",
      "text/plain": [
       "<Figure size 1080x288 with 3 Axes>"
      ]
     },
     "metadata": {
      "needs_background": "light"
     },
     "output_type": "display_data"
    },
    {
     "data": {
      "image/png": "[encoded data removed]",
      "text/plain": [
       "<Figure size 1080x288 with 3 Axes>"
      ]
     },
     "metadata": {
      "needs_background": "light"
     },
     "output_type": "display_data"
    },
    {
     "data": {
      "image/png": "[encoded data removed]",
      "text/plain": [
       "<Figure size 1080x288 with 3 Axes>"
      ]
     },
     "metadata": {
      "needs_background": "light"
     },
     "output_type": "display_data"
    },
    {
     "data": {
      "image/png": "[encoded data removed]",
      "text/plain": [
       "<Figure size 1080x288 with 3 Axes>"
      ]
     },
     "metadata": {
      "needs_background": "light"
     },
     "output_type": "display_data"
    },
    {
     "data": {
      "image/png": "[encoded data removed]",
      "text/plain": [
       "<Figure size 1080x288 with 3 Axes>"
      ]
     },
     "metadata": {
      "needs_background": "light"
     },
     "output_type": "display_data"
    },
    {
     "data": {
      "image/png": "[encoded data removed]",
      "text/plain": [
       "<Figure size 1080x288 with 3 Axes>"
      ]
     },
     "metadata": {
      "needs_background": "light"
     },
     "output_type": "display_data"
    },
    {
     "data": {
      "image/png": "[encoded data removed]",
      "text/plain": [
       "<Figure size 1080x288 with 3 Axes>"
      ]
     },
     "metadata": {
      "needs_background": "light"
     },
     "output_type": "display_data"
    },
    {
     "data": {
      "image/png": "[encoded data removed]",
      "text/plain": [
       "<Figure size 1080x288 with 3 Axes>"
      ]
     },
     "metadata": {
      "needs_background": "light"
     },
     "output_type": "display_data"
    },
    {
     "data": {
      "image/png": "[encoded data removed]",
      "text/plain": [
       "<Figure size 1080x288 with 3 Axes>"
      ]
     },
     "metadata": {
      "needs_background": "light"
     },
     "output_type": "display_data"
    },
    {
     "data": {
      "image/png": "[encoded data removed]",
      "text/plain": [
       "<Figure size 1080x288 with 3 Axes>"
      ]
     },
     "metadata": {
      "needs_background": "light"
     },
     "output_type": "display_data"
    },
    {
     "data": {
      "image/png": "[encoded data removed]",
      "text/plain": [
       "<Figure size 1080x288 with 3 Axes>"
      ]
     },
     "metadata": {
      "needs_background": "light"
     },
     "output_type": "display_data"
    },
    {
     "data": {
      "image/png": "[encoded data removed]",
      "text/plain": [
       "<Figure size 1080x288 with 3 Axes>"
      ]
     },
     "metadata": {
      "needs_background": "light"
     },
     "output_type": "display_data"
    },
    {
     "data": {
      "image/png": "[encoded data removed]",
      "text/plain": [
       "<Figure size 1080x288 with 3 Axes>"
      ]
     },
     "metadata": {
      "needs_background": "light"
     },
     "output_type": "display_data"
    },
    {
     "data": {
      "image/png": "[encoded data removed]",
      "text/plain": [
       "<Figure size 1080x288 with 3 Axes>"
      ]
     },
     "metadata": {
      "needs_background": "light"
     },
     "output_type": "display_data"
    }
   ],
   "source": [
    "for feature in num_cols:\n",
    "    #  se a variável for igual a 'Holiday_Flag' pula o laço\n",
    "    if feature == 'Holiday_Flag':\n",
    "        continue\n",
    "    # cria figura e eixo\n",
    "    fig, ax = plt.subplots(1, 3, figsize=(15, 4))\n",
    "    fig.suptitle(feature)\n",
    "    # histograma\n",
    "    sns.histplot(df[feature], ax=ax[0])\n",
    "    sns.histplot(x=feature, ax=ax[1], data=df, hue='Holiday_Flag')\n",
    "    # boxplot\n",
    "    sns.boxplot(df[feature], orient='h', ax=ax[2])\n",
    "    plt.show()"
   ]
  },
  {
   "cell_type": "code",
   "execution_count": 45,
   "metadata": {},
   "outputs": [
    {
     "data": {
      "text/plain": [
       "Index(['Store', 'Date', 'Weekly_Sales', 'Holiday_Flag', 'Temperature',\n",
       "       'Fuel_Price', 'CPI', 'Unemployment', 'month', 'year', 'dayofweek',\n",
       "       'day_name', 'is_month_start', 'is_month_end', 'days_in_month',\n",
       "       'is_quarter_start', 'is_quarter_end'],\n",
       "      dtype='object')"
      ]
     },
     "execution_count": 45,
     "metadata": {},
     "output_type": "execute_result"
    }
   ],
   "source": [
    "df.columns"
   ]
  },
  {
   "cell_type": "code",
   "execution_count": 57,
   "metadata": {},
   "outputs": [
    {
     "data": {
      "text/plain": [
       "(6435, 17)"
      ]
     },
     "execution_count": 57,
     "metadata": {},
     "output_type": "execute_result"
    }
   ],
   "source": [
    "df.shape"
   ]
  },
  {
   "cell_type": "code",
   "execution_count": 46,
   "metadata": {},
   "outputs": [
    {
     "data": {
      "text/plain": [
       "Store                        int64\n",
       "Date                datetime64[ns]\n",
       "Weekly_Sales               float64\n",
       "Holiday_Flag                 int64\n",
       "Temperature                float64\n",
       "Fuel_Price                 float64\n",
       "CPI                        float64\n",
       "Unemployment               float64\n",
       "month                        int64\n",
       "year                         int64\n",
       "dayofweek                    int64\n",
       "day_name                    object\n",
       "is_month_start               int64\n",
       "is_month_end                 int64\n",
       "days_in_month                int64\n",
       "is_quarter_start             int64\n",
       "is_quarter_end               int64\n",
       "dtype: object"
      ]
     },
     "execution_count": 46,
     "metadata": {},
     "output_type": "execute_result"
    }
   ],
   "source": [
    "df.dtypes"
   ]
  },
  {
   "cell_type": "code",
   "execution_count": 82,
   "metadata": {},
   "outputs": [
    {
     "ename": "KeyError",
     "evalue": "\"['day_name'] not found in axis\"",
     "output_type": "error",
     "traceback": [
      "\u001b[1;31m---------------------------------------------------------------------------\u001b[0m",
      "\u001b[1;31mKeyError\u001b[0m                                  Traceback (most recent call last)",
      "Input \u001b[1;32mIn [82]\u001b[0m, in \u001b[0;36m<cell line: 2>\u001b[1;34m()\u001b[0m\n\u001b[0;32m      1\u001b[0m \u001b[38;5;66;03m#df.drop(columns=['Date'], axis=1, inplace=True)\u001b[39;00m\n\u001b[1;32m----> 2\u001b[0m \u001b[43mdf\u001b[49m\u001b[38;5;241;43m.\u001b[39;49m\u001b[43mdrop\u001b[49m\u001b[43m(\u001b[49m\u001b[43mcolumns\u001b[49m\u001b[38;5;241;43m=\u001b[39;49m\u001b[43m[\u001b[49m\u001b[38;5;124;43m'\u001b[39;49m\u001b[38;5;124;43mday_name\u001b[39;49m\u001b[38;5;124;43m'\u001b[39;49m\u001b[43m]\u001b[49m\u001b[43m,\u001b[49m\u001b[43m \u001b[49m\u001b[43maxis\u001b[49m\u001b[38;5;241;43m=\u001b[39;49m\u001b[38;5;241;43m1\u001b[39;49m\u001b[43m,\u001b[49m\u001b[43m \u001b[49m\u001b[43minplace\u001b[49m\u001b[38;5;241;43m=\u001b[39;49m\u001b[38;5;28;43;01mTrue\u001b[39;49;00m\u001b[43m)\u001b[49m\n",
      "File \u001b[1;32mD:\\anaconda3\\lib\\site-packages\\pandas\\util\\_decorators.py:311\u001b[0m, in \u001b[0;36mdeprecate_nonkeyword_arguments.<locals>.decorate.<locals>.wrapper\u001b[1;34m(*args, **kwargs)\u001b[0m\n\u001b[0;32m    305\u001b[0m \u001b[38;5;28;01mif\u001b[39;00m \u001b[38;5;28mlen\u001b[39m(args) \u001b[38;5;241m>\u001b[39m num_allow_args:\n\u001b[0;32m    306\u001b[0m     warnings\u001b[38;5;241m.\u001b[39mwarn(\n\u001b[0;32m    307\u001b[0m         msg\u001b[38;5;241m.\u001b[39mformat(arguments\u001b[38;5;241m=\u001b[39marguments),\n\u001b[0;32m    308\u001b[0m         \u001b[38;5;167;01mFutureWarning\u001b[39;00m,\n\u001b[0;32m    309\u001b[0m         stacklevel\u001b[38;5;241m=\u001b[39mstacklevel,\n\u001b[0;32m    310\u001b[0m     )\n\u001b[1;32m--> 311\u001b[0m \u001b[38;5;28;01mreturn\u001b[39;00m func(\u001b[38;5;241m*\u001b[39margs, \u001b[38;5;241m*\u001b[39m\u001b[38;5;241m*\u001b[39mkwargs)\n",
      "File \u001b[1;32mD:\\anaconda3\\lib\\site-packages\\pandas\\core\\frame.py:4954\u001b[0m, in \u001b[0;36mDataFrame.drop\u001b[1;34m(self, labels, axis, index, columns, level, inplace, errors)\u001b[0m\n\u001b[0;32m   4806\u001b[0m \u001b[38;5;129m@deprecate_nonkeyword_arguments\u001b[39m(version\u001b[38;5;241m=\u001b[39m\u001b[38;5;28;01mNone\u001b[39;00m, allowed_args\u001b[38;5;241m=\u001b[39m[\u001b[38;5;124m\"\u001b[39m\u001b[38;5;124mself\u001b[39m\u001b[38;5;124m\"\u001b[39m, \u001b[38;5;124m\"\u001b[39m\u001b[38;5;124mlabels\u001b[39m\u001b[38;5;124m\"\u001b[39m])\n\u001b[0;32m   4807\u001b[0m \u001b[38;5;28;01mdef\u001b[39;00m \u001b[38;5;21mdrop\u001b[39m(\n\u001b[0;32m   4808\u001b[0m     \u001b[38;5;28mself\u001b[39m,\n\u001b[1;32m   (...)\u001b[0m\n\u001b[0;32m   4815\u001b[0m     errors: \u001b[38;5;28mstr\u001b[39m \u001b[38;5;241m=\u001b[39m \u001b[38;5;124m\"\u001b[39m\u001b[38;5;124mraise\u001b[39m\u001b[38;5;124m\"\u001b[39m,\n\u001b[0;32m   4816\u001b[0m ):\n\u001b[0;32m   4817\u001b[0m     \u001b[38;5;124;03m\"\"\"\u001b[39;00m\n\u001b[0;32m   4818\u001b[0m \u001b[38;5;124;03m    Drop specified labels from rows or columns.\u001b[39;00m\n\u001b[0;32m   4819\u001b[0m \n\u001b[1;32m   (...)\u001b[0m\n\u001b[0;32m   4952\u001b[0m \u001b[38;5;124;03m            weight  1.0     0.8\u001b[39;00m\n\u001b[0;32m   4953\u001b[0m \u001b[38;5;124;03m    \"\"\"\u001b[39;00m\n\u001b[1;32m-> 4954\u001b[0m     \u001b[38;5;28;01mreturn\u001b[39;00m \u001b[38;5;28;43msuper\u001b[39;49m\u001b[43m(\u001b[49m\u001b[43m)\u001b[49m\u001b[38;5;241;43m.\u001b[39;49m\u001b[43mdrop\u001b[49m\u001b[43m(\u001b[49m\n\u001b[0;32m   4955\u001b[0m \u001b[43m        \u001b[49m\u001b[43mlabels\u001b[49m\u001b[38;5;241;43m=\u001b[39;49m\u001b[43mlabels\u001b[49m\u001b[43m,\u001b[49m\n\u001b[0;32m   4956\u001b[0m \u001b[43m        \u001b[49m\u001b[43maxis\u001b[49m\u001b[38;5;241;43m=\u001b[39;49m\u001b[43maxis\u001b[49m\u001b[43m,\u001b[49m\n\u001b[0;32m   4957\u001b[0m \u001b[43m        \u001b[49m\u001b[43mindex\u001b[49m\u001b[38;5;241;43m=\u001b[39;49m\u001b[43mindex\u001b[49m\u001b[43m,\u001b[49m\n\u001b[0;32m   4958\u001b[0m \u001b[43m        \u001b[49m\u001b[43mcolumns\u001b[49m\u001b[38;5;241;43m=\u001b[39;49m\u001b[43mcolumns\u001b[49m\u001b[43m,\u001b[49m\n\u001b[0;32m   4959\u001b[0m \u001b[43m        \u001b[49m\u001b[43mlevel\u001b[49m\u001b[38;5;241;43m=\u001b[39;49m\u001b[43mlevel\u001b[49m\u001b[43m,\u001b[49m\n\u001b[0;32m   4960\u001b[0m \u001b[43m        \u001b[49m\u001b[43minplace\u001b[49m\u001b[38;5;241;43m=\u001b[39;49m\u001b[43minplace\u001b[49m\u001b[43m,\u001b[49m\n\u001b[0;32m   4961\u001b[0m \u001b[43m        \u001b[49m\u001b[43merrors\u001b[49m\u001b[38;5;241;43m=\u001b[39;49m\u001b[43merrors\u001b[49m\u001b[43m,\u001b[49m\n\u001b[0;32m   4962\u001b[0m \u001b[43m    \u001b[49m\u001b[43m)\u001b[49m\n",
      "File \u001b[1;32mD:\\anaconda3\\lib\\site-packages\\pandas\\core\\generic.py:4267\u001b[0m, in \u001b[0;36mNDFrame.drop\u001b[1;34m(self, labels, axis, index, columns, level, inplace, errors)\u001b[0m\n\u001b[0;32m   4265\u001b[0m \u001b[38;5;28;01mfor\u001b[39;00m axis, labels \u001b[38;5;129;01min\u001b[39;00m axes\u001b[38;5;241m.\u001b[39mitems():\n\u001b[0;32m   4266\u001b[0m     \u001b[38;5;28;01mif\u001b[39;00m labels \u001b[38;5;129;01mis\u001b[39;00m \u001b[38;5;129;01mnot\u001b[39;00m \u001b[38;5;28;01mNone\u001b[39;00m:\n\u001b[1;32m-> 4267\u001b[0m         obj \u001b[38;5;241m=\u001b[39m \u001b[43mobj\u001b[49m\u001b[38;5;241;43m.\u001b[39;49m\u001b[43m_drop_axis\u001b[49m\u001b[43m(\u001b[49m\u001b[43mlabels\u001b[49m\u001b[43m,\u001b[49m\u001b[43m \u001b[49m\u001b[43maxis\u001b[49m\u001b[43m,\u001b[49m\u001b[43m \u001b[49m\u001b[43mlevel\u001b[49m\u001b[38;5;241;43m=\u001b[39;49m\u001b[43mlevel\u001b[49m\u001b[43m,\u001b[49m\u001b[43m \u001b[49m\u001b[43merrors\u001b[49m\u001b[38;5;241;43m=\u001b[39;49m\u001b[43merrors\u001b[49m\u001b[43m)\u001b[49m\n\u001b[0;32m   4269\u001b[0m \u001b[38;5;28;01mif\u001b[39;00m inplace:\n\u001b[0;32m   4270\u001b[0m     \u001b[38;5;28mself\u001b[39m\u001b[38;5;241m.\u001b[39m_update_inplace(obj)\n",
      "File \u001b[1;32mD:\\anaconda3\\lib\\site-packages\\pandas\\core\\generic.py:4311\u001b[0m, in \u001b[0;36mNDFrame._drop_axis\u001b[1;34m(self, labels, axis, level, errors, consolidate, only_slice)\u001b[0m\n\u001b[0;32m   4309\u001b[0m         new_axis \u001b[38;5;241m=\u001b[39m axis\u001b[38;5;241m.\u001b[39mdrop(labels, level\u001b[38;5;241m=\u001b[39mlevel, errors\u001b[38;5;241m=\u001b[39merrors)\n\u001b[0;32m   4310\u001b[0m     \u001b[38;5;28;01melse\u001b[39;00m:\n\u001b[1;32m-> 4311\u001b[0m         new_axis \u001b[38;5;241m=\u001b[39m \u001b[43maxis\u001b[49m\u001b[38;5;241;43m.\u001b[39;49m\u001b[43mdrop\u001b[49m\u001b[43m(\u001b[49m\u001b[43mlabels\u001b[49m\u001b[43m,\u001b[49m\u001b[43m \u001b[49m\u001b[43merrors\u001b[49m\u001b[38;5;241;43m=\u001b[39;49m\u001b[43merrors\u001b[49m\u001b[43m)\u001b[49m\n\u001b[0;32m   4312\u001b[0m     indexer \u001b[38;5;241m=\u001b[39m axis\u001b[38;5;241m.\u001b[39mget_indexer(new_axis)\n\u001b[0;32m   4314\u001b[0m \u001b[38;5;66;03m# Case for non-unique axis\u001b[39;00m\n\u001b[0;32m   4315\u001b[0m \u001b[38;5;28;01melse\u001b[39;00m:\n",
      "File \u001b[1;32mD:\\anaconda3\\lib\\site-packages\\pandas\\core\\indexes\\base.py:6644\u001b[0m, in \u001b[0;36mIndex.drop\u001b[1;34m(self, labels, errors)\u001b[0m\n\u001b[0;32m   6642\u001b[0m \u001b[38;5;28;01mif\u001b[39;00m mask\u001b[38;5;241m.\u001b[39many():\n\u001b[0;32m   6643\u001b[0m     \u001b[38;5;28;01mif\u001b[39;00m errors \u001b[38;5;241m!=\u001b[39m \u001b[38;5;124m\"\u001b[39m\u001b[38;5;124mignore\u001b[39m\u001b[38;5;124m\"\u001b[39m:\n\u001b[1;32m-> 6644\u001b[0m         \u001b[38;5;28;01mraise\u001b[39;00m \u001b[38;5;167;01mKeyError\u001b[39;00m(\u001b[38;5;124mf\u001b[39m\u001b[38;5;124m\"\u001b[39m\u001b[38;5;132;01m{\u001b[39;00m\u001b[38;5;28mlist\u001b[39m(labels[mask])\u001b[38;5;132;01m}\u001b[39;00m\u001b[38;5;124m not found in axis\u001b[39m\u001b[38;5;124m\"\u001b[39m)\n\u001b[0;32m   6645\u001b[0m     indexer \u001b[38;5;241m=\u001b[39m indexer[\u001b[38;5;241m~\u001b[39mmask]\n\u001b[0;32m   6646\u001b[0m \u001b[38;5;28;01mreturn\u001b[39;00m \u001b[38;5;28mself\u001b[39m\u001b[38;5;241m.\u001b[39mdelete(indexer)\n",
      "\u001b[1;31mKeyError\u001b[0m: \"['day_name'] not found in axis\""
     ]
    }
   ],
   "source": [
    "df.drop(columns=['Date'], axis=1, inplace=True)\n",
    "df.drop(columns=['day_name'], axis=1, inplace=True)"
   ]
  },
  {
   "cell_type": "code",
   "execution_count": 83,
   "metadata": {},
   "outputs": [],
   "source": [
    "from sklearn.model_selection import train_test_split"
   ]
  },
  {
   "cell_type": "code",
   "execution_count": 84,
   "metadata": {},
   "outputs": [],
   "source": [
    "y = df['Weekly_Sales']\n",
    "X = df.drop(columns=['Weekly_Sales'], axis=1)"
   ]
  },
  {
   "cell_type": "code",
   "execution_count": 85,
   "metadata": {},
   "outputs": [],
   "source": [
    "X_train, X_test, y_train, y_test = train_test_split(X, y, random_state=10, test_size=0.3)\n"
   ]
  },
  {
   "cell_type": "code",
   "execution_count": 86,
   "metadata": {},
   "outputs": [],
   "source": [
    "model = LinearRegression()"
   ]
  },
  {
   "cell_type": "code",
   "execution_count": 87,
   "metadata": {},
   "outputs": [
    {
     "data": {
      "text/plain": [
       "LinearRegression()"
      ]
     },
     "execution_count": 87,
     "metadata": {},
     "output_type": "execute_result"
    }
   ],
   "source": [
    "model.fit(X_train,y_train)"
   ]
  },
  {
   "cell_type": "markdown",
   "metadata": {
    "id": "Vkfaytje73Py"
   },
   "source": [
    "<a id=\"homework\"></a> \n",
    "\n",
    "**Homework**\n",
    "\n",
    "Agora é com você!\n",
    "\n",
    "Seu objetivo é fazer um modelo de regressão linear para prever as vendas do Walmart. Ao longo da sua resolução tente aprofundar mais a parte de negócio, trazendo outras abordagens possíveis.\n",
    "\n",
    "**NÃO ESQUECER DE PUBLICAR NO LINKEDIN E MARCAR OS PROFESSORES :)**"
   ]
  },
  {
   "cell_type": "markdown",
   "metadata": {
    "id": "3wNpkr4_73Py"
   },
   "source": [
    "[Voltar](#home)"
   ]
  },
  {
   "cell_type": "markdown",
   "metadata": {
    "id": "QQ9Y1U5H73Py"
   },
   "source": [
    "<a id=\"ref\"></a> \n",
    "\n",
    "**Referências**\n",
    "\n",
    "\n",
    "[Introduction to Machine Learning for Beginners](https://towardsdatascience.com/introduction-to-machine-learning-for-beginners-eed6024fdb08\n",
    ")\n",
    "\n",
    "[A simple introduction to Machine Learning](https://towardsdatascience.com/introduction-to-machine-learning-f41aabc55264)\n",
    "\n",
    "[Machine Learning | An Introduction](https://towardsdatascience.com/machine-learning-an-introduction-23b84d51e6d0)\n",
    "\n",
    "\n",
    "[What Happens When You Break the Assumptions of Linear Regression?](https://towardsdatascience.com/what-happens-when-you-break-the-assumptions-of-linear-regression-f78f2fe90f3a)\n",
    "\n",
    "\n",
    "[Econometrics behind Simple Linear Regression](https://towardsdatascience.com/econometrics-behind-simple-linear-regression-ae5037de92c9)"
   ]
  },
  {
   "cell_type": "markdown",
   "metadata": {
    "id": "eFjz3FTW73Py"
   },
   "source": [
    "<a id=\"next_steps\"></a> \n",
    "\n",
    "**Next Steps**\n",
    "\n",
    "Na próxima aula vamos aprofundar mais na regressão linear e aprender técnicas de regularização (L1, L2, Elastic Net). Além disso iremos concluir o case e aplicar outros regressores."
   ]
  },
  {
   "cell_type": "markdown",
   "metadata": {
    "id": "1nFRzcez73Py"
   },
   "source": [
    "Todos os direitos reservados. "
   ]
  }
 ],
 "metadata": {
  "colab": {
   "collapsed_sections": [],
   "include_colab_link": true,
   "provenance": []
  },
  "kernelspec": {
   "display_name": "Python 3 (ipykernel)",
   "language": "python",
   "name": "python3"
  },
  "language_info": {
   "codemirror_mode": {
    "name": "ipython",
    "version": 3
   },
   "file_extension": ".py",
   "mimetype": "text/x-python",
   "name": "python",
   "nbconvert_exporter": "python",
   "pygments_lexer": "ipython3",
   "version": "3.9.12"
  }
 },
 "nbformat": 4,
 "nbformat_minor": 1
}
