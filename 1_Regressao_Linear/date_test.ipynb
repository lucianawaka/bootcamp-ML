{
 "cells": [
  {
   "cell_type": "code",
   "execution_count": 1,
   "id": "268b2ca9",
   "metadata": {},
   "outputs": [],
   "source": [
    "# imports\n",
    "# manipulação de dados\n",
    "import pandas as pd\n",
    "import numpy as np\n",
    "\n",
    "# visualização de dados\n",
    "import seaborn as sns\n",
    "import matplotlib.pyplot as plt\n",
    "import plotly.express as px\n",
    "import plotly.graph_objects as go\n",
    "\n",
    "# machine learning\n",
    "from sklearn.linear_model import LinearRegression\n",
    "from sklearn.metrics import mean_squared_error, r2_score\n",
    "\n",
    "# configuração de warnings\n",
    "import warnings\n",
    "warnings.filterwarnings('ignore')"
   ]
  },
  {
   "cell_type": "code",
   "execution_count": 2,
   "id": "13a61893",
   "metadata": {},
   "outputs": [],
   "source": [
    "# leitura da base\n",
    "df = pd.read_csv('Walmart.csv')"
   ]
  },
  {
   "cell_type": "code",
   "execution_count": 3,
   "id": "223921c1",
   "metadata": {},
   "outputs": [
    {
     "data": {
      "text/html": [
       "<div>\n",
       "<style scoped>\n",
       "    .dataframe tbody tr th:only-of-type {\n",
       "        vertical-align: middle;\n",
       "    }\n",
       "\n",
       "    .dataframe tbody tr th {\n",
       "        vertical-align: top;\n",
       "    }\n",
       "\n",
       "    .dataframe thead th {\n",
       "        text-align: right;\n",
       "    }\n",
       "</style>\n",
       "<table border=\"1\" class=\"dataframe\">\n",
       "  <thead>\n",
       "    <tr style=\"text-align: right;\">\n",
       "      <th></th>\n",
       "      <th>Store</th>\n",
       "      <th>Date</th>\n",
       "      <th>Weekly_Sales</th>\n",
       "      <th>Holiday_Flag</th>\n",
       "      <th>Temperature</th>\n",
       "      <th>Fuel_Price</th>\n",
       "      <th>CPI</th>\n",
       "      <th>Unemployment</th>\n",
       "    </tr>\n",
       "  </thead>\n",
       "  <tbody>\n",
       "    <tr>\n",
       "      <th>0</th>\n",
       "      <td>1</td>\n",
       "      <td>05-02-2010</td>\n",
       "      <td>1643690.90</td>\n",
       "      <td>0</td>\n",
       "      <td>42.31</td>\n",
       "      <td>2.572</td>\n",
       "      <td>211.096358</td>\n",
       "      <td>8.106</td>\n",
       "    </tr>\n",
       "    <tr>\n",
       "      <th>1</th>\n",
       "      <td>1</td>\n",
       "      <td>12-02-2010</td>\n",
       "      <td>1641957.44</td>\n",
       "      <td>1</td>\n",
       "      <td>38.51</td>\n",
       "      <td>2.548</td>\n",
       "      <td>211.242170</td>\n",
       "      <td>8.106</td>\n",
       "    </tr>\n",
       "    <tr>\n",
       "      <th>2</th>\n",
       "      <td>1</td>\n",
       "      <td>19-02-2010</td>\n",
       "      <td>1611968.17</td>\n",
       "      <td>0</td>\n",
       "      <td>39.93</td>\n",
       "      <td>2.514</td>\n",
       "      <td>211.289143</td>\n",
       "      <td>8.106</td>\n",
       "    </tr>\n",
       "    <tr>\n",
       "      <th>3</th>\n",
       "      <td>1</td>\n",
       "      <td>26-02-2010</td>\n",
       "      <td>1409727.59</td>\n",
       "      <td>0</td>\n",
       "      <td>46.63</td>\n",
       "      <td>2.561</td>\n",
       "      <td>211.319643</td>\n",
       "      <td>8.106</td>\n",
       "    </tr>\n",
       "    <tr>\n",
       "      <th>4</th>\n",
       "      <td>1</td>\n",
       "      <td>05-03-2010</td>\n",
       "      <td>1554806.68</td>\n",
       "      <td>0</td>\n",
       "      <td>46.50</td>\n",
       "      <td>2.625</td>\n",
       "      <td>211.350143</td>\n",
       "      <td>8.106</td>\n",
       "    </tr>\n",
       "  </tbody>\n",
       "</table>\n",
       "</div>"
      ],
      "text/plain": [
       "   Store        Date  Weekly_Sales  Holiday_Flag  Temperature  Fuel_Price  \\\n",
       "0      1  05-02-2010    1643690.90             0        42.31       2.572   \n",
       "1      1  12-02-2010    1641957.44             1        38.51       2.548   \n",
       "2      1  19-02-2010    1611968.17             0        39.93       2.514   \n",
       "3      1  26-02-2010    1409727.59             0        46.63       2.561   \n",
       "4      1  05-03-2010    1554806.68             0        46.50       2.625   \n",
       "\n",
       "          CPI  Unemployment  \n",
       "0  211.096358         8.106  \n",
       "1  211.242170         8.106  \n",
       "2  211.289143         8.106  \n",
       "3  211.319643         8.106  \n",
       "4  211.350143         8.106  "
      ]
     },
     "execution_count": 3,
     "metadata": {},
     "output_type": "execute_result"
    }
   ],
   "source": [
    "df.head()"
   ]
  },
  {
   "cell_type": "code",
   "execution_count": 4,
   "id": "63169a85",
   "metadata": {},
   "outputs": [],
   "source": [
    "df['Date'] = pd.to_datetime(df.Date, format='%d-%m-%Y')"
   ]
  },
  {
   "cell_type": "code",
   "execution_count": 5,
   "id": "05c35b96",
   "metadata": {},
   "outputs": [
    {
     "data": {
      "text/plain": [
       "Store                    int64\n",
       "Date            datetime64[ns]\n",
       "Weekly_Sales           float64\n",
       "Holiday_Flag             int64\n",
       "Temperature            float64\n",
       "Fuel_Price             float64\n",
       "CPI                    float64\n",
       "Unemployment           float64\n",
       "dtype: object"
      ]
     },
     "execution_count": 5,
     "metadata": {},
     "output_type": "execute_result"
    }
   ],
   "source": [
    "df.dtypes"
   ]
  },
  {
   "cell_type": "code",
   "execution_count": 6,
   "id": "59d767be",
   "metadata": {},
   "outputs": [
    {
     "data": {
      "text/plain": [
       "pandas.core.series.Series"
      ]
     },
     "execution_count": 6,
     "metadata": {},
     "output_type": "execute_result"
    }
   ],
   "source": [
    "type(df.Date)"
   ]
  },
  {
   "cell_type": "code",
   "execution_count": 7,
   "id": "f5401592",
   "metadata": {},
   "outputs": [
    {
     "name": "stdout",
     "output_type": "stream",
     "text": [
      "Original date and time object: 2022-10-25 16:05:54.928166\n",
      "Date and Time in Integer Format: 20221025160554\n"
     ]
    }
   ],
   "source": [
    "import datetime\n",
    " \n",
    "# Getting todays date and time using now() of datetime\n",
    "# class\n",
    "current_date = datetime.datetime.now()\n",
    " \n",
    "# Printing the current_date as the date object itself.\n",
    "print(\"Original date and time object:\", current_date)\n",
    " \n",
    "# Using the strftime() of datetime class\n",
    "# which takes the components of date as parameter\n",
    "# %Y - year\n",
    "# %m - month\n",
    "# %d - day\n",
    "# %H - Hours\n",
    "# %M - Minutes\n",
    "# %S - Seconds\n",
    "print(\"Date and Time in Integer Format:\",\n",
    "      int(current_date.strftime(\"%Y%m%d%H%M%S\")))"
   ]
  },
  {
   "cell_type": "code",
   "execution_count": 12,
   "id": "c518d4d4",
   "metadata": {},
   "outputs": [],
   "source": [
    "import datetime\n",
    "# Função para converter data para integer\n",
    "def ajustar_data( Data ):\n",
    "    \"\"\"\n",
    "    Função para converter Data em Integer\n",
    "    \"\"\"\n",
    "    data_formatada = int(Data.strftime(\"%d%m%Y\"))\n",
    "    \n",
    "    return data_formatada"
   ]
  },
  {
   "cell_type": "code",
   "execution_count": 13,
   "id": "c3303321",
   "metadata": {},
   "outputs": [],
   "source": [
    "# apply - executa uma função em toda a coluna\n",
    "df['Data_formatada'] = df['Date'].apply( ajustar_data )"
   ]
  },
  {
   "cell_type": "code",
   "execution_count": 14,
   "id": "d63fac1b",
   "metadata": {},
   "outputs": [
    {
     "data": {
      "text/plain": [
       "0        5022010\n",
       "1       12022010\n",
       "2       19022010\n",
       "3       26022010\n",
       "4        5032010\n",
       "          ...   \n",
       "6430    28092012\n",
       "6431     5102012\n",
       "6432    12102012\n",
       "6433    19102012\n",
       "6434    26102012\n",
       "Name: Data_formatada, Length: 6435, dtype: int64"
      ]
     },
     "execution_count": 14,
     "metadata": {},
     "output_type": "execute_result"
    }
   ],
   "source": [
    "df['Data_formatada']"
   ]
  },
  {
   "cell_type": "code",
   "execution_count": null,
   "id": "7836bf7a",
   "metadata": {},
   "outputs": [],
   "source": []
  }
 ],
 "metadata": {
  "kernelspec": {
   "display_name": "Python 3 (ipykernel)",
   "language": "python",
   "name": "python3"
  },
  "language_info": {
   "codemirror_mode": {
    "name": "ipython",
    "version": 3
   },
   "file_extension": ".py",
   "mimetype": "text/x-python",
   "name": "python",
   "nbconvert_exporter": "python",
   "pygments_lexer": "ipython3",
   "version": "3.9.12"
  }
 },
 "nbformat": 4,
 "nbformat_minor": 5
}
