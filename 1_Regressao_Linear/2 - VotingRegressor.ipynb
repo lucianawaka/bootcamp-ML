{
 "cells": [
  {
   "cell_type": "code",
   "execution_count": 1,
   "id": "b34115d9",
   "metadata": {},
   "outputs": [],
   "source": [
    "# imports\n",
    "# manipulação de dados\n",
    "import pandas as pd\n",
    "import numpy as np\n",
    "\n",
    "# visualização de dados\n",
    "import seaborn as sns\n",
    "import matplotlib.pyplot as plt\n",
    "import plotly.express as px\n",
    "import plotly.graph_objects as go\n",
    "\n",
    "# machine learning\n",
    "from sklearn.linear_model import LinearRegression\n",
    "from sklearn.metrics import mean_squared_error, r2_score\n",
    "\n",
    "# configuração de warnings\n",
    "import warnings\n",
    "warnings.filterwarnings('ignore')"
   ]
  },
  {
   "cell_type": "code",
   "execution_count": 4,
   "id": "8a7080fb",
   "metadata": {},
   "outputs": [],
   "source": [
    "# Import the necessary modules\n",
    "from sklearn.ensemble import RandomForestRegressor\n",
    "from sklearn.ensemble import GradientBoostingRegressor\n",
    "from sklearn.ensemble import VotingRegressor\n",
    "from sklearn.tree import DecisionTreeRegressor\n",
    "# Create three individual models\n",
    "model1 = RandomForestRegressor()\n",
    "model2 = GradientBoostingRegressor()\n",
    "model3 = DecisionTreeRegressor()\n",
    "\n",
    "# Define the ensemble model\n",
    "ensemble_model = VotingRegressor(estimators=[\n",
    "    ('rf', model1), ('gb', model2), ('dt', model3)\n",
    "])\n",
    "\n"
   ]
  },
  {
   "cell_type": "code",
   "execution_count": 5,
   "id": "ae1aaaa4",
   "metadata": {},
   "outputs": [],
   "source": [
    "# leitura da base\n",
    "df = pd.read_csv('Walmart.csv')"
   ]
  },
  {
   "cell_type": "code",
   "execution_count": 6,
   "id": "9b323d78",
   "metadata": {},
   "outputs": [],
   "source": [
    "# converte a coluna Date para o formato datetime\n",
    "df['Date'] = pd.to_datetime(df.Date, format='%d-%m-%Y')"
   ]
  },
  {
   "cell_type": "code",
   "execution_count": 7,
   "id": "fc9f3d4f",
   "metadata": {},
   "outputs": [],
   "source": [
    "# ordena a base de dados pelas colunas de Data e Vendas\n",
    "df = (\n",
    "    df\n",
    "     .sort_values(\n",
    "        by=['Date', 'Weekly_Sales'],\n",
    "        ascending=True)\n",
    "     .reset_index(drop=True)\n",
    ")"
   ]
  },
  {
   "cell_type": "code",
   "execution_count": 8,
   "id": "ba6e3ab0",
   "metadata": {},
   "outputs": [],
   "source": [
    "# cria colunas a partir da data\n",
    "df['month'] = df.Date.dt.month\n",
    "df['year'] = df.Date.dt.year"
   ]
  },
  {
   "cell_type": "code",
   "execution_count": 9,
   "id": "817a34b2",
   "metadata": {},
   "outputs": [],
   "source": [
    "import datetime\n",
    "# Função para converter data para integer\n",
    "def ajustar_data( Data ):\n",
    "    \"\"\"\n",
    "    Função para converter Data em Integer\n",
    "    \"\"\"\n",
    "    data_formatada = int(Data.strftime(\"%d%m%Y\"))\n",
    "    \n",
    "    return data_formatada"
   ]
  },
  {
   "cell_type": "code",
   "execution_count": 10,
   "id": "1c10a9d5",
   "metadata": {},
   "outputs": [],
   "source": [
    "df['Date'] = df['Date'].apply( ajustar_data )"
   ]
  },
  {
   "cell_type": "code",
   "execution_count": 11,
   "id": "5d238755",
   "metadata": {},
   "outputs": [],
   "source": [
    "df.drop(columns='Fuel_Price', axis=1, inplace=True)"
   ]
  },
  {
   "cell_type": "code",
   "execution_count": 12,
   "id": "a245edf9",
   "metadata": {},
   "outputs": [],
   "source": [
    "from sklearn.model_selection import train_test_split"
   ]
  },
  {
   "cell_type": "code",
   "execution_count": 13,
   "id": "8bf40031",
   "metadata": {},
   "outputs": [],
   "source": [
    "y = df['Weekly_Sales']\n",
    "X = df.drop(columns=['Weekly_Sales'], axis=1)"
   ]
  },
  {
   "cell_type": "code",
   "execution_count": 14,
   "id": "297012ba",
   "metadata": {},
   "outputs": [],
   "source": [
    "X_train, X_test, y_train, y_test = train_test_split(X, y, random_state=5, test_size=0.3)\n"
   ]
  },
  {
   "cell_type": "code",
   "execution_count": 17,
   "id": "0bee2f14",
   "metadata": {},
   "outputs": [],
   "source": [
    "# Train the ensemble model\n",
    "ensemble_model.fit(X_train, y_train)\n",
    "\n",
    "\n"
   ]
  },
  {
   "cell_type": "code",
   "execution_count": 21,
   "id": "b15fd326",
   "metadata": {},
   "outputs": [],
   "source": [
    "# Make predictions with the ensemble model\n",
    "y_pred_test_model = ensemble_model.predict(X_test)\n",
    "# previsão com os dados de treino\n",
    "y_pred_train_model = ensemble_model.predict(X_train)\n"
   ]
  },
  {
   "cell_type": "code",
   "execution_count": 22,
   "id": "004a7cf0",
   "metadata": {},
   "outputs": [
    {
     "data": {
      "text/plain": [
       "[('rf', RandomForestRegressor()),\n",
       " ('gb', GradientBoostingRegressor()),\n",
       " ('dt', DecisionTreeRegressor())]"
      ]
     },
     "execution_count": 22,
     "metadata": {},
     "output_type": "execute_result"
    }
   ],
   "source": [
    "ensemble_model.estimators"
   ]
  },
  {
   "cell_type": "code",
   "execution_count": 23,
   "id": "56ad265c",
   "metadata": {},
   "outputs": [],
   "source": [
    "from numpy import sqrt"
   ]
  },
  {
   "cell_type": "code",
   "execution_count": 24,
   "id": "7f2b7df4",
   "metadata": {},
   "outputs": [],
   "source": [
    "# define uma função para calcular o rmse\n",
    "def rmse(y_true, y_pred):\n",
    "    \"Calcula o RMSE.\"\n",
    "    return round(sqrt(mean_squared_error(y_true, y_pred)), 2)\n",
    "\n"
   ]
  },
  {
   "cell_type": "code",
   "execution_count": 25,
   "id": "cd1b13e6",
   "metadata": {},
   "outputs": [
    {
     "data": {
      "text/plain": [
       "122682.86"
      ]
     },
     "execution_count": 25,
     "metadata": {},
     "output_type": "execute_result"
    }
   ],
   "source": [
    "# métrica nos dados de treino\n",
    "rmse(y_train, y_pred_train_model)\n",
    "\n",
    "# métrica nos dados de teste\n",
    "rmse(y_test, y_pred_test_model)\n"
   ]
  },
  {
   "cell_type": "code",
   "execution_count": 27,
   "id": "82005f7a",
   "metadata": {},
   "outputs": [
    {
     "data": {
      "text/plain": [
       "0.9863555059147205"
      ]
     },
     "execution_count": 27,
     "metadata": {},
     "output_type": "execute_result"
    }
   ],
   "source": [
    "\n",
    "# métrica nos dados de treino\n",
    "ensemble_model.score(X_train, y_train)\n"
   ]
  },
  {
   "cell_type": "code",
   "execution_count": 28,
   "id": "dda07ed3",
   "metadata": {},
   "outputs": [
    {
     "data": {
      "text/plain": [
       "0.9542112985670792"
      ]
     },
     "execution_count": 28,
     "metadata": {},
     "output_type": "execute_result"
    }
   ],
   "source": [
    "# Score dados de teste\n",
    "ensemble_model.score(X_test,y_test)"
   ]
  },
  {
   "cell_type": "code",
   "execution_count": null,
   "id": "cf2a3076",
   "metadata": {},
   "outputs": [],
   "source": []
  }
 ],
 "metadata": {
  "kernelspec": {
   "display_name": "Python 3 (ipykernel)",
   "language": "python",
   "name": "python3"
  },
  "language_info": {
   "codemirror_mode": {
    "name": "ipython",
    "version": 3
   },
   "file_extension": ".py",
   "mimetype": "text/x-python",
   "name": "python",
   "nbconvert_exporter": "python",
   "pygments_lexer": "ipython3",
   "version": "3.9.12"
  }
 },
 "nbformat": 4,
 "nbformat_minor": 5
}
