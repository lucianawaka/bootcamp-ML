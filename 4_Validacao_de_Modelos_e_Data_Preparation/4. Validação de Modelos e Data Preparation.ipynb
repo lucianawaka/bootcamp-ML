{
 "cells": [
  {
   "cell_type": "markdown",
   "metadata": {},
   "source": [
    "# **Bootcamp de Machine Learning**"
   ]
  },
  {
   "cell_type": "markdown",
   "metadata": {},
   "source": [
    "## **Validação de modelos e Data Preparation**"
   ]
  },
  {
   "cell_type": "markdown",
   "metadata": {},
   "source": [
    "Podemos definir o processo de Data Preparation como o fluxo de transformação de dados brutos em dados finais mais apropriados para a criação de modelos de Machine Learning. Algumas tarefas comuns neste processo envolvem, limpeza de dados, seleção de features, transformação de dados, criação de variáveis, etc. \n",
    "\n",
    "Grande parte do trabalho do Cientista de Dados reside em criar boas variáveis e assegurar a qualidade dos dados.\n",
    "\n",
    "\n",
    "**Etapas do processo de Data Preparation**\n",
    "\n",
    "* Data Cleaning\n",
    "    * Identificação de redundâncias e inconsistências\n",
    "        * Exemplos: Valor monetário negativo (pode ou não fazer sentido a depender do contexto); Idade acima de 300 anos ou idade negativa, dentre outros exemplos.\n",
    "    * Identificação/tratamento de outliers\n",
    "        * Exemplos: cliente com 190 anos de idade\n",
    "    * Identificação/tratamento de missing (marcação e imputação)\n",
    "    \n",
    "* Feature Selection\n",
    "    * Como selecionar as melhores features no conjunto de 100, 500, 1000, ou 10000 features? \n",
    "    * Quais questõs poderíamos pensar de um modelo com muitas variáveis?\n",
    "    \n",
    "* Data Transforms\n",
    "    * Discretization Transform\n",
    "        * Encode de uma variável numérica em uma variável ordinal\n",
    "    * Ordinal Transform\n",
    "        * Encode de uma variável categórica em uma variável int\n",
    "    * One Hot Transform\n",
    "        * Encode de uma variável categórica em variável binária\n",
    "    * Normalization Transform\n",
    "        * Altera a escala da variável para um range entre 0 e 1\n",
    "    * Standardization Transform\n",
    "        * Distribuição Normal padrão\n",
    "    * Power Transform\n",
    "        * Altera a distribuição de uma variável de modo a aproximar para uma normal\n",
    "        \n",
    "* Feature Engineering\n",
    "    * Adicionar variáveis externas\n",
    "        * Exemplo: inserir variáveis macroeconômicas, sócioeconômicas, etc.\n",
    "    * Adicionar novas variáveis a partir da dimensão temporal\n",
    "    * Adicionar flag\n",
    "    * Aplicar transformações (mínimo, máximo, média, mediana, desvio padrão, amplitude, etc.)\n",
    "    * Indicadores\n",
    "\n",
    "* Dimensionality Reduction"
   ]
  },
  {
   "cell_type": "markdown",
   "metadata": {},
   "source": [
    "Assim, podemos resumir:\n",
    "\n",
    "* Alterar a escala da variável: RobustScaler, StandardScaler, MinMaxScaler.\n",
    "* Alterar a distribuição: Power Transform, Quantile Transform, Discretization\n",
    "* Encode de variável categórica\n",
    "    * Nominal: One Hot Encode\n",
    "    * Ordinal: Label Encode"
   ]
  },
  {
   "cell_type": "markdown",
   "metadata": {},
   "source": [
    "## **Data Preparation**"
   ]
  },
  {
   "cell_type": "markdown",
   "metadata": {},
   "source": [
    "#### Tipos de variáveis"
   ]
  },
  {
   "cell_type": "markdown",
   "metadata": {},
   "source": [
    "As variáveis podem ser mensuradas em quatro escalas distintas. As variáveis quantitativas podem ser classificadas em discretas ou contínuas, enquanto que as variáveis qualitativas podem ser agrupadas em nominais ou ordinais."
   ]
  },
  {
   "cell_type": "markdown",
   "metadata": {},
   "source": [
    "1. Variáveis qualitativas\n",
    "* variável nominal: não há qualquer ordenação na distribuição dos dados (ou dentre as categorias).\n",
    "    * Exemplos: gênero, cor dos olhos,região de procedência, etc.\n",
    "* variável ordinal: há uma ordem dentre as categorias (escala ordinal).\n",
    "    * Exemplos: escolaridade/grau de instrução, hierarquia militar, estágio de uma doença, mês de observação, etc."
   ]
  },
  {
   "cell_type": "markdown",
   "metadata": {},
   "source": [
    "2. Variáveis quantitativas\n",
    "* variável discreta: seus valores podem ser oriundos de um conjunto finito ou enumerável (contagem).\n",
    "    * Exemplos: número de filhos, número de refeições em um dia, etc.\n",
    "* variável contínua: seus valores pertencem a um intervalo (mensuração).\n",
    "    * Exemplos: temperatura, preço de uma ação, altura, peso, etc."
   ]
  },
  {
   "cell_type": "markdown",
   "metadata": {},
   "source": [
    "#### Variáveis quantitativas\n",
    "\n",
    "MinMaxScaler\n",
    "* O range de valores é alterado para $[0,1]$\n",
    "* A distribuição dos dados não se altera\n",
    "* Técnica sensível à outliers\n",
    "\n",
    "Fórmula de cálculo:\n",
    "\n",
    "$$X_{\\text{new}} = \\dfrac{X_i-\\text{min}(X)}{\\text{max}(X)-\\text{min}(X)}$$\n",
    "\n",
    "\n",
    "<img src=\"https://miro.medium.com/max/416/1*vEqbUwYneOkRQXCdPU0n9g.png\" height=200 width=200/>\n",
    "\n",
    "Implementação no sklearn: [sklearn.preprocessing.MinMaxScaler](https://scikit-learn.org/stable/modules/generated/sklearn.preprocessing.MinMaxScaler.html#sklearn.preprocessing.MinMaxScaler)\n",
    "\n",
    "\n",
    "MaxAbsScaler\n",
    "\n",
    "Fórmula de cálculo:\n",
    "\n",
    "$$X_{\\text{new}} = \\dfrac{X_i}{|X_{max}|}$$\n",
    "\n",
    "Implementação no sklearn: [sklearn.preprocessing.MaxAbsScaler](https://scikit-learn.org/stable/modules/generated/sklearn.preprocessing.MaxAbsScaler.html#sklearn.preprocessing.MaxAbsScaler)\n",
    "\n",
    "Padronização (Standard Scaler)\n",
    "* Os dados ficam centrados em 0, com dispersão igual a 1\n",
    "* Não obteremos uma distribuição normal (caso a distribuição original não for Normal; se a distribuição original for uma Normal teremos então uma distribuição Normal padrão)\n",
    "* Técnica sensível à outliers\n",
    "\n",
    "Fórmula de cálculo: \n",
    "\n",
    "$$Z = \\dfrac{X-\\mu}{\\sigma}$$\n",
    "\n",
    "\n",
    "Implementação no sklearn: [sklearn.preprocessing.StandardScaler](https://scikit-learn.org/stable/modules/generated/sklearn.preprocessing.StandardScaler.html#sklearn.preprocessing.StandardScaler)\n",
    "\n",
    "\n",
    "RobustScaler\n",
    "* Robusto à outlier, sendo similar ao MinMax, mas usa os quartis Q1 e Q3 para o scaling\n",
    "\n",
    "Fórmula de cálculo:\n",
    "\n",
    "$$\\dfrac{x_i-Q_1(X)}{Q_3(X)-Q_1(X)}$$\n",
    "\n",
    "Implementação no sklearn: [sklearn.preprocessing.RobustScaler](https://scikit-learn.org/stable/modules/generated/sklearn.preprocessing.RobustScaler.html#sklearn.preprocessing.RobustScaler)\n",
    "\n",
    "PowerTransformer\n",
    "* Implementa as transformações de Yeo-Johnson (para valores positivos e negativos) e Box-Cox (para valores estritamente positivos).\n",
    "\n",
    "Implementação no sklearn: [sklearn.preprocessing.PowerTransformer](https://scikit-learn.org/stable/modules/generated/sklearn.preprocessing.PowerTransformer.html#sklearn.preprocessing.PowerTransformer)\n",
    "\n",
    "#### Variáveis qualitativas\n",
    "\n",
    "\n",
    "One-Hot-Encoder\n",
    "* Usado para criar dummies\n",
    "* Igual ao método do Pandas `pd.get_dummies()`, mas podemos usar o Sklearn por sua integração com as Pipelines\n",
    "* Se a variável tiver muitas categoricas, teremos muitas colunas criadas (alta dimensionalidade)\n",
    "\n",
    "<img src=\"https://i.imgur.com/TW5m0aJ.png\" height=700 width=700/>\n",
    "\n",
    "Implementação no Pandas: [pd.get_dummies()](https://pandas.pydata.org/docs/reference/api/pandas.get_dummies.html)\n",
    "Implementação no sklearn: []()\n",
    "\n",
    "\n",
    "Ordinal-Encoder\n",
    "* Usado para variáveis categóricas ordinais (nível de satisfação do usuário em uma escala de 1 a 5, em que 5 representa a satisfação máxima)\n",
    "\n",
    "Frequency-Encoder\n",
    "* Aplicação prática: coluna com muitos níveis/categorias ou se não houver grau ordinal\n",
    "* Cada nível da classe será substituído por sua frequência\n",
    "\n",
    "\n",
    "LabelEncoder\n",
    "* Encode para os labels da variável target, com 0 a n_classes-1\n",
    "* Deve ser usado para a variável target"
   ]
  },
  {
   "cell_type": "markdown",
   "metadata": {},
   "source": [
    "***\n",
    "Revisão\n",
    "\n",
    "Bussab e Morettin (2010) ressaltam que tanto a média, quanto o desvio padrão podem não ser medidas suficientes para se representar um conjunto de dados, pois: \n",
    "* ambos são afetados de forma demasiada por valores extremos;\n",
    "* não podemos ter uma noção clara da simetria ou assimetria da distribuição dos dados.\n",
    "\n",
    "*  1º Quartil: 25% das observações abaixo e 75% das observações acima\n",
    "*  2º  Quartil: 50% das observações abaixo e 50% das observações acima\n",
    "*  3º Quartil: 75% das observações abaixo e 25% das observações acima\n",
    "\n",
    "Então os quartis dividem o conjunto de dados em quatro partes iguais.\n",
    "\n",
    "\n",
    "Um boxtpot (gráfico de caixa) fornece uma poderosa visualização da distribuição dos dados e valores discrepantes (outliers), sendo formados pelo primeiro quartil, segundo quartil (mediana), terceiro quartil e limites superior e inferior. \n",
    "\n",
    "\n",
    "***"
   ]
  },
  {
   "cell_type": "markdown",
   "metadata": {},
   "source": [
    "#### **Missing handling**"
   ]
  },
  {
   "cell_type": "markdown",
   "metadata": {},
   "source": [
    "Algumas técnicas de imputação de missing:\n",
    "* SimpleImputer\n",
    "    * Imputa pela média, mediana, constante, moda (pode alterar drasticamente a distribuição da variável)\n",
    "    \n",
    "* KNNImputer\n",
    "    * Usa a técnica k-Nearest Neighbors para preencher os valores ausentes\n",
    "* Baseada no negócio\n",
    "    * Média/mediana de um grupo específico (faixa de renda)"
   ]
  },
  {
   "cell_type": "markdown",
   "metadata": {},
   "source": [
    "## **Métricas de avaliação de modelos**"
   ]
  },
  {
   "cell_type": "markdown",
   "metadata": {},
   "source": [
    "**Avaliação de modelos de classificação**\n",
    "\n",
    "Vamos começar definindo os seguintes conceitos:\n",
    "\n",
    "* Classe postiiva (1): Cliente Mau\n",
    "* Classe negativa (0): Cliente Bom\n",
    "\n",
    "Uma definição de negócio para cliente mau poderia ser, um cliente com mais de 30 dias de atraso em uma janela de três meses.\n",
    "\n",
    "* VP: modelo acertou em dizer que era um cliente mau;\n",
    "* VN: modelo acertou em dizer que era um cliente bom;\n",
    "* FN: modelo errou em dizer que era um cliente mau;\n",
    "* FP: modelo errou em dizer que era um cliente bom.\n",
    "\n",
    "\n",
    "Acurácia\n",
    "\n",
    "\n",
    "A fórmula de cálculo da acurácia é:\n",
    "\n",
    "$$\\dfrac{VP+VN}{VP+VN+FP+FN}$$\n",
    "\n",
    "Dos verdadeiros positivos (Cliente Mau) e verdadeiros negativos (Cliente Bom) quantos o modelo acertou no total?\n",
    "\n",
    "Ou ainda, quanto o modelo acertou das previsões totais?\n",
    "\n",
    "\n",
    "Implementação no sklearn: [sklearn.metrics.accuracy_score](https://scikit-learn.org/stable/modules/generated/sklearn.metrics.accuracy_score.html#sklearn.metrics.accuracy_score)\n",
    "\n",
    "Outros aspectos da acurácia:\n",
    "* Ideal para problemas de classificação com classes balanceadas\n",
    "\n",
    "Precisão\n",
    "\n",
    "A fórmula de cálculo da precisão é:\n",
    "\n",
    "$$\\dfrac{VP}{VP+FP}$$\n",
    "\n",
    "De tudo que o modelo classificou como Cliente Mau, quantos realmente eram? (ocorrência do evento, classe 1)\n",
    "\n",
    "Implementação no sklearn: [sklearn.metrics.precision_score](https://scikit-learn.org/stable/modules/generated/sklearn.metrics.precision_score.html#sklearn.metrics.precision_score)\n",
    "\n",
    "Recall\n",
    "\n",
    "\n",
    "De todos os exemplos que são Cliente Mau, quantos foram classificados corretamente pelo modelo?\n",
    "\n",
    "A fórmula de cálculo do recall é:\n",
    "$$\\dfrac{VP}{VP+FN} $$\n",
    "\n",
    "\n",
    "\n",
    "Implementação no sklearn: [sklearn.metrics.recall_score](https://scikit-learn.org/stable/modules/generated/sklearn.metrics.recall_score.html#sklearn.metrics.recall_score)\n",
    "\n",
    "\n",
    "F1-Score\n",
    "\n",
    "* Média harmônica do Recall e Precision.\n",
    "\n",
    "Implementação no sklearn: [sklearn.metrics.f1_score](https://scikit-learn.org/stable/modules/generated/sklearn.metrics.f1_score.html#sklearn.metrics.f1_score)\n",
    "\n",
    "Matriz de confusão\n",
    "\n",
    "Implementação no sklearn: [sklearn.metrics.confusion_matrix](https://scikit-learn.org/stable/modules/generated/sklearn.metrics.confusion_matrix.html#sklearn.metrics.confusion_matrix)\n",
    "\n",
    "\n",
    "* Indica a qualidade do modelo e agrega informações do que o modelo acertou e errou.\n",
    "\n",
    "<img src = 'https://diegonogare.net/wp-content/uploads/2020/04/matrizConfusao-600x381.png' width=500 height=500>"
   ]
  },
  {
   "cell_type": "markdown",
   "metadata": {},
   "source": [
    "Agora vejamos uma implementação no Sklearn."
   ]
  },
  {
   "cell_type": "markdown",
   "metadata": {},
   "source": [
    "## **Hands On!**"
   ]
  },
  {
   "cell_type": "code",
   "execution_count": 2,
   "metadata": {},
   "outputs": [],
   "source": [
    "# imports\n",
    "import pickle\n",
    "import pandas as pd\n",
    "import numpy as np\n",
    "import matplotlib.pyplot as plt\n",
    "import seaborn as sns\n",
    "from sklearn.model_selection import train_test_split, cross_validate, StratifiedKFold, RandomizedSearchCV\n",
    "from sklearn.preprocessing import MinMaxScaler, RobustScaler, OneHotEncoder\n",
    "from sklearn.ensemble import RandomForestClassifier\n",
    "from sklearn.linear_model import LogisticRegression\n",
    "from sklearn.neighbors import KNeighborsClassifier\n",
    "from sklearn.metrics import roc_auc_score, accuracy_score, precision_score, recall_score\n",
    "from sklearn.impute import SimpleImputer\n",
    "#from boruta import BorutaPy\n",
    "import warnings\n",
    "warnings.filterwarnings('ignore')"
   ]
  },
  {
   "cell_type": "code",
   "execution_count": 3,
   "metadata": {},
   "outputs": [],
   "source": [
    "df_train = pd.read_csv('train.csv')\n",
    "df_test = pd.read_csv('test.csv')"
   ]
  },
  {
   "cell_type": "code",
   "execution_count": 4,
   "metadata": {},
   "outputs": [
    {
     "data": {
      "text/html": [
       "<div>\n",
       "<style scoped>\n",
       "    .dataframe tbody tr th:only-of-type {\n",
       "        vertical-align: middle;\n",
       "    }\n",
       "\n",
       "    .dataframe tbody tr th {\n",
       "        vertical-align: top;\n",
       "    }\n",
       "\n",
       "    .dataframe thead th {\n",
       "        text-align: right;\n",
       "    }\n",
       "</style>\n",
       "<table border=\"1\" class=\"dataframe\">\n",
       "  <thead>\n",
       "    <tr style=\"text-align: right;\">\n",
       "      <th></th>\n",
       "      <th>PassengerId</th>\n",
       "      <th>Survived</th>\n",
       "      <th>Pclass</th>\n",
       "      <th>Name</th>\n",
       "      <th>Sex</th>\n",
       "      <th>Age</th>\n",
       "      <th>SibSp</th>\n",
       "      <th>Parch</th>\n",
       "      <th>Ticket</th>\n",
       "      <th>Fare</th>\n",
       "      <th>Cabin</th>\n",
       "      <th>Embarked</th>\n",
       "    </tr>\n",
       "  </thead>\n",
       "  <tbody>\n",
       "    <tr>\n",
       "      <th>0</th>\n",
       "      <td>1</td>\n",
       "      <td>0</td>\n",
       "      <td>3</td>\n",
       "      <td>Braund, Mr. Owen Harris</td>\n",
       "      <td>male</td>\n",
       "      <td>22.0</td>\n",
       "      <td>1</td>\n",
       "      <td>0</td>\n",
       "      <td>A/5 21171</td>\n",
       "      <td>7.2500</td>\n",
       "      <td>NaN</td>\n",
       "      <td>S</td>\n",
       "    </tr>\n",
       "    <tr>\n",
       "      <th>1</th>\n",
       "      <td>2</td>\n",
       "      <td>1</td>\n",
       "      <td>1</td>\n",
       "      <td>Cumings, Mrs. John Bradley (Florence Briggs Th...</td>\n",
       "      <td>female</td>\n",
       "      <td>38.0</td>\n",
       "      <td>1</td>\n",
       "      <td>0</td>\n",
       "      <td>PC 17599</td>\n",
       "      <td>71.2833</td>\n",
       "      <td>C85</td>\n",
       "      <td>C</td>\n",
       "    </tr>\n",
       "    <tr>\n",
       "      <th>2</th>\n",
       "      <td>3</td>\n",
       "      <td>1</td>\n",
       "      <td>3</td>\n",
       "      <td>Heikkinen, Miss. Laina</td>\n",
       "      <td>female</td>\n",
       "      <td>26.0</td>\n",
       "      <td>0</td>\n",
       "      <td>0</td>\n",
       "      <td>STON/O2. 3101282</td>\n",
       "      <td>7.9250</td>\n",
       "      <td>NaN</td>\n",
       "      <td>S</td>\n",
       "    </tr>\n",
       "    <tr>\n",
       "      <th>3</th>\n",
       "      <td>4</td>\n",
       "      <td>1</td>\n",
       "      <td>1</td>\n",
       "      <td>Futrelle, Mrs. Jacques Heath (Lily May Peel)</td>\n",
       "      <td>female</td>\n",
       "      <td>35.0</td>\n",
       "      <td>1</td>\n",
       "      <td>0</td>\n",
       "      <td>113803</td>\n",
       "      <td>53.1000</td>\n",
       "      <td>C123</td>\n",
       "      <td>S</td>\n",
       "    </tr>\n",
       "    <tr>\n",
       "      <th>4</th>\n",
       "      <td>5</td>\n",
       "      <td>0</td>\n",
       "      <td>3</td>\n",
       "      <td>Allen, Mr. William Henry</td>\n",
       "      <td>male</td>\n",
       "      <td>35.0</td>\n",
       "      <td>0</td>\n",
       "      <td>0</td>\n",
       "      <td>373450</td>\n",
       "      <td>8.0500</td>\n",
       "      <td>NaN</td>\n",
       "      <td>S</td>\n",
       "    </tr>\n",
       "  </tbody>\n",
       "</table>\n",
       "</div>"
      ],
      "text/plain": [
       "   PassengerId  Survived  Pclass  \\\n",
       "0            1         0       3   \n",
       "1            2         1       1   \n",
       "2            3         1       3   \n",
       "3            4         1       1   \n",
       "4            5         0       3   \n",
       "\n",
       "                                                Name     Sex   Age  SibSp  \\\n",
       "0                            Braund, Mr. Owen Harris    male  22.0      1   \n",
       "1  Cumings, Mrs. John Bradley (Florence Briggs Th...  female  38.0      1   \n",
       "2                             Heikkinen, Miss. Laina  female  26.0      0   \n",
       "3       Futrelle, Mrs. Jacques Heath (Lily May Peel)  female  35.0      1   \n",
       "4                           Allen, Mr. William Henry    male  35.0      0   \n",
       "\n",
       "   Parch            Ticket     Fare Cabin Embarked  \n",
       "0      0         A/5 21171   7.2500   NaN        S  \n",
       "1      0          PC 17599  71.2833   C85        C  \n",
       "2      0  STON/O2. 3101282   7.9250   NaN        S  \n",
       "3      0            113803  53.1000  C123        S  \n",
       "4      0            373450   8.0500   NaN        S  "
      ]
     },
     "execution_count": 4,
     "metadata": {},
     "output_type": "execute_result"
    }
   ],
   "source": [
    "df_train.head()"
   ]
  },
  {
   "cell_type": "code",
   "execution_count": 5,
   "metadata": {},
   "outputs": [
    {
     "data": {
      "text/html": [
       "<div>\n",
       "<style scoped>\n",
       "    .dataframe tbody tr th:only-of-type {\n",
       "        vertical-align: middle;\n",
       "    }\n",
       "\n",
       "    .dataframe tbody tr th {\n",
       "        vertical-align: top;\n",
       "    }\n",
       "\n",
       "    .dataframe thead th {\n",
       "        text-align: right;\n",
       "    }\n",
       "</style>\n",
       "<table border=\"1\" class=\"dataframe\">\n",
       "  <thead>\n",
       "    <tr style=\"text-align: right;\">\n",
       "      <th></th>\n",
       "      <th>PassengerId</th>\n",
       "      <th>Pclass</th>\n",
       "      <th>Name</th>\n",
       "      <th>Sex</th>\n",
       "      <th>Age</th>\n",
       "      <th>SibSp</th>\n",
       "      <th>Parch</th>\n",
       "      <th>Ticket</th>\n",
       "      <th>Fare</th>\n",
       "      <th>Cabin</th>\n",
       "      <th>Embarked</th>\n",
       "    </tr>\n",
       "  </thead>\n",
       "  <tbody>\n",
       "    <tr>\n",
       "      <th>0</th>\n",
       "      <td>892</td>\n",
       "      <td>3</td>\n",
       "      <td>Kelly, Mr. James</td>\n",
       "      <td>male</td>\n",
       "      <td>34.5</td>\n",
       "      <td>0</td>\n",
       "      <td>0</td>\n",
       "      <td>330911</td>\n",
       "      <td>7.8292</td>\n",
       "      <td>NaN</td>\n",
       "      <td>Q</td>\n",
       "    </tr>\n",
       "    <tr>\n",
       "      <th>1</th>\n",
       "      <td>893</td>\n",
       "      <td>3</td>\n",
       "      <td>Wilkes, Mrs. James (Ellen Needs)</td>\n",
       "      <td>female</td>\n",
       "      <td>47.0</td>\n",
       "      <td>1</td>\n",
       "      <td>0</td>\n",
       "      <td>363272</td>\n",
       "      <td>7.0000</td>\n",
       "      <td>NaN</td>\n",
       "      <td>S</td>\n",
       "    </tr>\n",
       "    <tr>\n",
       "      <th>2</th>\n",
       "      <td>894</td>\n",
       "      <td>2</td>\n",
       "      <td>Myles, Mr. Thomas Francis</td>\n",
       "      <td>male</td>\n",
       "      <td>62.0</td>\n",
       "      <td>0</td>\n",
       "      <td>0</td>\n",
       "      <td>240276</td>\n",
       "      <td>9.6875</td>\n",
       "      <td>NaN</td>\n",
       "      <td>Q</td>\n",
       "    </tr>\n",
       "    <tr>\n",
       "      <th>3</th>\n",
       "      <td>895</td>\n",
       "      <td>3</td>\n",
       "      <td>Wirz, Mr. Albert</td>\n",
       "      <td>male</td>\n",
       "      <td>27.0</td>\n",
       "      <td>0</td>\n",
       "      <td>0</td>\n",
       "      <td>315154</td>\n",
       "      <td>8.6625</td>\n",
       "      <td>NaN</td>\n",
       "      <td>S</td>\n",
       "    </tr>\n",
       "    <tr>\n",
       "      <th>4</th>\n",
       "      <td>896</td>\n",
       "      <td>3</td>\n",
       "      <td>Hirvonen, Mrs. Alexander (Helga E Lindqvist)</td>\n",
       "      <td>female</td>\n",
       "      <td>22.0</td>\n",
       "      <td>1</td>\n",
       "      <td>1</td>\n",
       "      <td>3101298</td>\n",
       "      <td>12.2875</td>\n",
       "      <td>NaN</td>\n",
       "      <td>S</td>\n",
       "    </tr>\n",
       "  </tbody>\n",
       "</table>\n",
       "</div>"
      ],
      "text/plain": [
       "   PassengerId  Pclass                                          Name     Sex  \\\n",
       "0          892       3                              Kelly, Mr. James    male   \n",
       "1          893       3              Wilkes, Mrs. James (Ellen Needs)  female   \n",
       "2          894       2                     Myles, Mr. Thomas Francis    male   \n",
       "3          895       3                              Wirz, Mr. Albert    male   \n",
       "4          896       3  Hirvonen, Mrs. Alexander (Helga E Lindqvist)  female   \n",
       "\n",
       "    Age  SibSp  Parch   Ticket     Fare Cabin Embarked  \n",
       "0  34.5      0      0   330911   7.8292   NaN        Q  \n",
       "1  47.0      1      0   363272   7.0000   NaN        S  \n",
       "2  62.0      0      0   240276   9.6875   NaN        Q  \n",
       "3  27.0      0      0   315154   8.6625   NaN        S  \n",
       "4  22.0      1      1  3101298  12.2875   NaN        S  "
      ]
     },
     "execution_count": 5,
     "metadata": {},
     "output_type": "execute_result"
    }
   ],
   "source": [
    "df_test.head()"
   ]
  },
  {
   "cell_type": "markdown",
   "metadata": {},
   "source": [
    "Inspeção e Limpeza de Dados"
   ]
  },
  {
   "cell_type": "code",
   "execution_count": 6,
   "metadata": {},
   "outputs": [
    {
     "data": {
      "text/plain": [
       "0    0.616162\n",
       "1    0.383838\n",
       "Name: Survived, dtype: float64"
      ]
     },
     "execution_count": 6,
     "metadata": {},
     "output_type": "execute_result"
    }
   ],
   "source": [
    "# proporção da variável target\n",
    "df_train.Survived.value_counts(normalize = True)"
   ]
  },
  {
   "cell_type": "code",
   "execution_count": 7,
   "metadata": {},
   "outputs": [
    {
     "data": {
      "text/plain": [
       "PassengerId      int64\n",
       "Survived         int64\n",
       "Pclass           int64\n",
       "Name            object\n",
       "Sex             object\n",
       "Age            float64\n",
       "SibSp            int64\n",
       "Parch            int64\n",
       "Ticket          object\n",
       "Fare           float64\n",
       "Cabin           object\n",
       "Embarked        object\n",
       "dtype: object"
      ]
     },
     "execution_count": 7,
     "metadata": {},
     "output_type": "execute_result"
    }
   ],
   "source": [
    "# dtype de cada coluna\n",
    "df_train.dtypes"
   ]
  },
  {
   "cell_type": "code",
   "execution_count": 8,
   "metadata": {},
   "outputs": [
    {
     "data": {
      "text/html": [
       "<div>\n",
       "<style scoped>\n",
       "    .dataframe tbody tr th:only-of-type {\n",
       "        vertical-align: middle;\n",
       "    }\n",
       "\n",
       "    .dataframe tbody tr th {\n",
       "        vertical-align: top;\n",
       "    }\n",
       "\n",
       "    .dataframe thead th {\n",
       "        text-align: right;\n",
       "    }\n",
       "</style>\n",
       "<table border=\"1\" class=\"dataframe\">\n",
       "  <thead>\n",
       "    <tr style=\"text-align: right;\">\n",
       "      <th></th>\n",
       "      <th>count</th>\n",
       "      <th>mean</th>\n",
       "      <th>std</th>\n",
       "      <th>min</th>\n",
       "      <th>25%</th>\n",
       "      <th>50%</th>\n",
       "      <th>75%</th>\n",
       "      <th>max</th>\n",
       "    </tr>\n",
       "  </thead>\n",
       "  <tbody>\n",
       "    <tr>\n",
       "      <th>PassengerId</th>\n",
       "      <td>891.0</td>\n",
       "      <td>446.000000</td>\n",
       "      <td>257.353842</td>\n",
       "      <td>1.00</td>\n",
       "      <td>223.5000</td>\n",
       "      <td>446.0000</td>\n",
       "      <td>668.5</td>\n",
       "      <td>891.0000</td>\n",
       "    </tr>\n",
       "    <tr>\n",
       "      <th>Survived</th>\n",
       "      <td>891.0</td>\n",
       "      <td>0.383838</td>\n",
       "      <td>0.486592</td>\n",
       "      <td>0.00</td>\n",
       "      <td>0.0000</td>\n",
       "      <td>0.0000</td>\n",
       "      <td>1.0</td>\n",
       "      <td>1.0000</td>\n",
       "    </tr>\n",
       "    <tr>\n",
       "      <th>Pclass</th>\n",
       "      <td>891.0</td>\n",
       "      <td>2.308642</td>\n",
       "      <td>0.836071</td>\n",
       "      <td>1.00</td>\n",
       "      <td>2.0000</td>\n",
       "      <td>3.0000</td>\n",
       "      <td>3.0</td>\n",
       "      <td>3.0000</td>\n",
       "    </tr>\n",
       "    <tr>\n",
       "      <th>Age</th>\n",
       "      <td>714.0</td>\n",
       "      <td>29.699118</td>\n",
       "      <td>14.526497</td>\n",
       "      <td>0.42</td>\n",
       "      <td>20.1250</td>\n",
       "      <td>28.0000</td>\n",
       "      <td>38.0</td>\n",
       "      <td>80.0000</td>\n",
       "    </tr>\n",
       "    <tr>\n",
       "      <th>SibSp</th>\n",
       "      <td>891.0</td>\n",
       "      <td>0.523008</td>\n",
       "      <td>1.102743</td>\n",
       "      <td>0.00</td>\n",
       "      <td>0.0000</td>\n",
       "      <td>0.0000</td>\n",
       "      <td>1.0</td>\n",
       "      <td>8.0000</td>\n",
       "    </tr>\n",
       "    <tr>\n",
       "      <th>Parch</th>\n",
       "      <td>891.0</td>\n",
       "      <td>0.381594</td>\n",
       "      <td>0.806057</td>\n",
       "      <td>0.00</td>\n",
       "      <td>0.0000</td>\n",
       "      <td>0.0000</td>\n",
       "      <td>0.0</td>\n",
       "      <td>6.0000</td>\n",
       "    </tr>\n",
       "    <tr>\n",
       "      <th>Fare</th>\n",
       "      <td>891.0</td>\n",
       "      <td>32.204208</td>\n",
       "      <td>49.693429</td>\n",
       "      <td>0.00</td>\n",
       "      <td>7.9104</td>\n",
       "      <td>14.4542</td>\n",
       "      <td>31.0</td>\n",
       "      <td>512.3292</td>\n",
       "    </tr>\n",
       "  </tbody>\n",
       "</table>\n",
       "</div>"
      ],
      "text/plain": [
       "             count        mean         std   min       25%       50%    75%  \\\n",
       "PassengerId  891.0  446.000000  257.353842  1.00  223.5000  446.0000  668.5   \n",
       "Survived     891.0    0.383838    0.486592  0.00    0.0000    0.0000    1.0   \n",
       "Pclass       891.0    2.308642    0.836071  1.00    2.0000    3.0000    3.0   \n",
       "Age          714.0   29.699118   14.526497  0.42   20.1250   28.0000   38.0   \n",
       "SibSp        891.0    0.523008    1.102743  0.00    0.0000    0.0000    1.0   \n",
       "Parch        891.0    0.381594    0.806057  0.00    0.0000    0.0000    0.0   \n",
       "Fare         891.0   32.204208   49.693429  0.00    7.9104   14.4542   31.0   \n",
       "\n",
       "                  max  \n",
       "PassengerId  891.0000  \n",
       "Survived       1.0000  \n",
       "Pclass         3.0000  \n",
       "Age           80.0000  \n",
       "SibSp          8.0000  \n",
       "Parch          6.0000  \n",
       "Fare         512.3292  "
      ]
     },
     "execution_count": 8,
     "metadata": {},
     "output_type": "execute_result"
    }
   ],
   "source": [
    "# sumário estatístico\n",
    "df_train.describe().T"
   ]
  },
  {
   "cell_type": "code",
   "execution_count": 9,
   "metadata": {},
   "outputs": [
    {
     "data": {
      "text/plain": [
       "Survived         2\n",
       "Sex              2\n",
       "Pclass           3\n",
       "Embarked         3\n",
       "SibSp            7\n",
       "Parch            7\n",
       "Age             88\n",
       "Cabin          147\n",
       "Fare           248\n",
       "Ticket         681\n",
       "PassengerId    891\n",
       "Name           891\n",
       "dtype: int64"
      ]
     },
     "execution_count": 9,
     "metadata": {},
     "output_type": "execute_result"
    }
   ],
   "source": [
    "# quantidade de valores únicos em cada coluna\n",
    "df_train.nunique().sort_values()"
   ]
  },
  {
   "cell_type": "code",
   "execution_count": 10,
   "metadata": {},
   "outputs": [
    {
     "data": {
      "text/plain": [
       "0"
      ]
     },
     "execution_count": 10,
     "metadata": {},
     "output_type": "execute_result"
    }
   ],
   "source": [
    "# linhas duplicadas\n",
    "df_train.duplicated().sum()"
   ]
  },
  {
   "cell_type": "code",
   "execution_count": 11,
   "metadata": {},
   "outputs": [
    {
     "data": {
      "text/plain": [
       "Index([], dtype='object')"
      ]
     },
     "execution_count": 11,
     "metadata": {},
     "output_type": "execute_result"
    }
   ],
   "source": [
    "# coluna constante\n",
    "df_train.columns[df_train.nunique() == 1]"
   ]
  },
  {
   "cell_type": "code",
   "execution_count": 12,
   "metadata": {},
   "outputs": [],
   "source": [
    "# mapeia as colunas com baixa variância (técnica de seleção de variáveis)\n",
    "threshold = 0.001\n",
    "scaler = MinMaxScaler()\n",
    "# colunas numéricas\n",
    "num_cols = df_train.select_dtypes(include = [int, float])\n",
    "scaled_num_cols = scaler.fit_transform(num_cols)\n",
    "scaled_num_df = pd.DataFrame(scaled_num_cols,\n",
    "                             columns = num_cols.columns\n",
    "                            )\n",
    "\n",
    "low_variance_columns = list()\n",
    "for column in scaled_num_df:\n",
    "    column_variance = scaled_num_df[column].var()\n",
    "    if column_variance < threshold:\n",
    "        low_variance_columns.append(column)"
   ]
  },
  {
   "cell_type": "code",
   "execution_count": 13,
   "metadata": {},
   "outputs": [
    {
     "data": {
      "text/plain": [
       "[]"
      ]
     },
     "execution_count": 13,
     "metadata": {},
     "output_type": "execute_result"
    }
   ],
   "source": [
    "# para o threshold definido não identificamos nenhuma coluna com baixa variância\n",
    "low_variance_columns"
   ]
  },
  {
   "cell_type": "markdown",
   "metadata": {},
   "source": [
    "***\n",
    "Tarefa: transforme o código anterior em uma função.\n",
    "\n",
    "***"
   ]
  },
  {
   "cell_type": "code",
   "execution_count": 14,
   "metadata": {},
   "outputs": [
    {
     "data": {
      "text/plain": [
       "PassengerId     0.00\n",
       "Survived        0.00\n",
       "Pclass          0.00\n",
       "Name            0.00\n",
       "Sex             0.00\n",
       "SibSp           0.00\n",
       "Parch           0.00\n",
       "Ticket          0.00\n",
       "Fare            0.00\n",
       "Embarked        0.22\n",
       "Age            19.87\n",
       "Cabin          77.10\n",
       "dtype: float64"
      ]
     },
     "execution_count": 14,
     "metadata": {},
     "output_type": "execute_result"
    }
   ],
   "source": [
    "# verifica missing values\n",
    "(df_train.isna().sum()/df_train.shape[0] * 100).round(2).sort_values()"
   ]
  },
  {
   "cell_type": "markdown",
   "metadata": {},
   "source": [
    "Temos três colunas com missing values."
   ]
  },
  {
   "cell_type": "markdown",
   "metadata": {},
   "source": [
    "Antes de proceder vamos separar os dados em treino e teste."
   ]
  },
  {
   "cell_type": "code",
   "execution_count": 15,
   "metadata": {},
   "outputs": [],
   "source": [
    "SEED = 999999\n",
    "train, test = train_test_split(\n",
    "                df_train,\n",
    "                test_size = 0.3,\n",
    "                random_state = SEED\n",
    "                    )"
   ]
  },
  {
   "cell_type": "code",
   "execution_count": 16,
   "metadata": {},
   "outputs": [
    {
     "data": {
      "text/plain": [
       "PassengerId     0.00\n",
       "Survived        0.00\n",
       "Pclass          0.00\n",
       "Name            0.00\n",
       "Sex             0.00\n",
       "SibSp           0.00\n",
       "Parch           0.00\n",
       "Ticket          0.00\n",
       "Fare            0.00\n",
       "Embarked        0.00\n",
       "Age            20.22\n",
       "Cabin          78.17\n",
       "dtype: float64"
      ]
     },
     "execution_count": 16,
     "metadata": {},
     "output_type": "execute_result"
    }
   ],
   "source": [
    "(train.isna().sum()/train.shape[0] * 100).round(2).sort_values()"
   ]
  },
  {
   "cell_type": "code",
   "execution_count": 17,
   "metadata": {},
   "outputs": [],
   "source": [
    "def clean_nan(df):\n",
    "    # imputa os valores ausentes pela moda\n",
    "    df['Embarked'] = df['Embarked'].fillna(df['Embarked'].mode().squeeze())\n",
    "    # Se possui Cabine 1, 0 caso contrário\n",
    "    df['Cabin'] = np.where(df.Cabin.isna(), 0, 1)\n",
    "    # imputa os valores ausentes de idade pela categoria de Sexo e Sobrevivência\n",
    "    df['category'] = df['Sex'] + '-' + df['Pclass'].astype(str)\n",
    "    categories = dict()\n",
    "    for i in df.category.unique():\n",
    "        filtered_data = df.loc[df.category == i]\n",
    "        median = filtered_data.Age.median()\n",
    "        categories[i] = median\n",
    "\n",
    "    nan_values = df.Age.isna()\n",
    "    df.loc[nan_values, 'Age'] = df.loc[nan_values, 'category'].map(categories)\n",
    "    df = df.drop(columns = 'category')\n",
    "    return df"
   ]
  },
  {
   "cell_type": "code",
   "execution_count": 18,
   "metadata": {},
   "outputs": [],
   "source": [
    "train = clean_nan(train)"
   ]
  },
  {
   "cell_type": "code",
   "execution_count": 19,
   "metadata": {},
   "outputs": [
    {
     "data": {
      "text/plain": [
       "PassengerId    0\n",
       "Survived       0\n",
       "Pclass         0\n",
       "Name           0\n",
       "Sex            0\n",
       "Age            0\n",
       "SibSp          0\n",
       "Parch          0\n",
       "Ticket         0\n",
       "Fare           0\n",
       "Cabin          0\n",
       "Embarked       0\n",
       "dtype: int64"
      ]
     },
     "execution_count": 19,
     "metadata": {},
     "output_type": "execute_result"
    }
   ],
   "source": [
    "train.isna().sum()"
   ]
  },
  {
   "cell_type": "code",
   "execution_count": 20,
   "metadata": {},
   "outputs": [],
   "source": [
    "# drop de colunas que não serão utilizadas\n",
    "train.drop(columns = ['PassengerId', 'Name', 'Ticket'], inplace = True)\n",
    "test.drop(columns = ['PassengerId', 'Name', 'Ticket'], inplace = True)"
   ]
  },
  {
   "cell_type": "code",
   "execution_count": 21,
   "metadata": {},
   "outputs": [],
   "source": [
    "def new_vars(df):\n",
    "    df['Age_groups'] = pd.cut(df.Age, 5, labels = False)\n",
    "    df['Size'] = df.eval('SibSp+Parch')\n",
    "    df = pd.get_dummies(df, drop_first=True)\n",
    "    return df"
   ]
  },
  {
   "cell_type": "code",
   "execution_count": 22,
   "metadata": {},
   "outputs": [],
   "source": [
    "train = new_vars(train)"
   ]
  },
  {
   "cell_type": "code",
   "execution_count": 23,
   "metadata": {},
   "outputs": [],
   "source": [
    "X_train = train.drop(columns = 'Survived')"
   ]
  },
  {
   "cell_type": "code",
   "execution_count": 24,
   "metadata": {},
   "outputs": [],
   "source": [
    "y_train = train.Survived"
   ]
  },
  {
   "cell_type": "code",
   "execution_count": 25,
   "metadata": {},
   "outputs": [],
   "source": [
    "test = clean_nan(test)"
   ]
  },
  {
   "cell_type": "code",
   "execution_count": 26,
   "metadata": {},
   "outputs": [],
   "source": [
    "test = new_vars(test)"
   ]
  },
  {
   "cell_type": "code",
   "execution_count": 27,
   "metadata": {},
   "outputs": [],
   "source": [
    "X_test = test.drop(columns = ['Survived'])"
   ]
  },
  {
   "cell_type": "code",
   "execution_count": 28,
   "metadata": {},
   "outputs": [],
   "source": [
    "y_test = test.Survived"
   ]
  },
  {
   "cell_type": "code",
   "execution_count": 29,
   "metadata": {},
   "outputs": [
    {
     "data": {
      "text/plain": [
       "Pclass          int64\n",
       "Age           float64\n",
       "SibSp           int64\n",
       "Parch           int64\n",
       "Fare          float64\n",
       "Cabin           int32\n",
       "Age_groups      int64\n",
       "Size            int64\n",
       "Sex_male        uint8\n",
       "Embarked_Q      uint8\n",
       "Embarked_S      uint8\n",
       "dtype: object"
      ]
     },
     "execution_count": 29,
     "metadata": {},
     "output_type": "execute_result"
    }
   ],
   "source": [
    "X_test.dtypes"
   ]
  },
  {
   "cell_type": "markdown",
   "metadata": {},
   "source": [
    "Regressão Logística"
   ]
  },
  {
   "cell_type": "code",
   "execution_count": 30,
   "metadata": {},
   "outputs": [],
   "source": [
    "cv = StratifiedKFold(n_splits = 5, shuffle=True, random_state = SEED)\n",
    "reg_log = LogisticRegression()\n",
    "# validação cruzada regressão logística\n",
    "cross_val_reg_log = cross_validate(estimator = reg_log,\n",
    "                                   X = X_train,\n",
    "                                   y = y_train,\n",
    "                                   scoring = 'roc_auc',\n",
    "                                   cv = cv,\n",
    "                                   return_train_score = True\n",
    "                                  )"
   ]
  },
  {
   "cell_type": "code",
   "execution_count": 31,
   "metadata": {},
   "outputs": [
    {
     "data": {
      "text/plain": [
       "(0.86985809896708, 0.8579079842463301)"
      ]
     },
     "execution_count": 31,
     "metadata": {},
     "output_type": "execute_result"
    }
   ],
   "source": [
    "cross_val_reg_log['train_score'].mean(), cross_val_reg_log['test_score'].mean()"
   ]
  },
  {
   "cell_type": "code",
   "execution_count": 32,
   "metadata": {},
   "outputs": [],
   "source": [
    "param_grid = {\n",
    "    'C': [0.001, 0.01, 0.1, 0.5, 1],\n",
    "    'penalty': ['l1', 'l2', 'elasticnet', 'none'],\n",
    "    'class_weight': ['balanced', None]\n",
    "}\n",
    "\n",
    "clf_reg_log = RandomizedSearchCV(\n",
    "    estimator = reg_log,\n",
    "    param_distributions = param_grid,\n",
    "    scoring = 'roc_auc',\n",
    "    random_state = SEED,\n",
    "    n_iter = 100,\n",
    "    n_jobs = -1,\n",
    "    verbose = 3\n",
    ")"
   ]
  },
  {
   "cell_type": "code",
   "execution_count": 33,
   "metadata": {},
   "outputs": [
    {
     "name": "stdout",
     "output_type": "stream",
     "text": [
      "Fitting 5 folds for each of 40 candidates, totalling 200 fits\n"
     ]
    },
    {
     "data": {
      "text/plain": [
       "RandomizedSearchCV(estimator=LogisticRegression(), n_iter=100, n_jobs=-1,\n",
       "                   param_distributions={'C': [0.001, 0.01, 0.1, 0.5, 1],\n",
       "                                        'class_weight': ['balanced', None],\n",
       "                                        'penalty': ['l1', 'l2', 'elasticnet',\n",
       "                                                    'none']},\n",
       "                   random_state=999999, scoring='roc_auc', verbose=3)"
      ]
     },
     "execution_count": 33,
     "metadata": {},
     "output_type": "execute_result"
    }
   ],
   "source": [
    "clf_reg_log.fit(X_train, y_train)"
   ]
  },
  {
   "cell_type": "code",
   "execution_count": 34,
   "metadata": {},
   "outputs": [
    {
     "data": {
      "text/plain": [
       "{'penalty': 'l2', 'class_weight': None, 'C': 0.5}"
      ]
     },
     "execution_count": 34,
     "metadata": {},
     "output_type": "execute_result"
    }
   ],
   "source": [
    "# melhores hiperparâmetros\n",
    "clf_reg_log.best_params_"
   ]
  },
  {
   "cell_type": "code",
   "execution_count": 35,
   "metadata": {},
   "outputs": [],
   "source": [
    "y_pred_proba_train = clf_reg_log.predict_proba(X_train)[:, 1]\n",
    "y_pred_proba_test = clf_reg_log.predict_proba(X_test)[:, 1]"
   ]
  },
  {
   "cell_type": "code",
   "execution_count": 36,
   "metadata": {},
   "outputs": [],
   "source": [
    "# métrica no treino e test\n",
    "roc_auc_train = roc_auc_score(y_train, y_pred_proba_train)\n",
    "roc_auc_test = roc_auc_score(y_test, y_pred_proba_test)"
   ]
  },
  {
   "cell_type": "code",
   "execution_count": 37,
   "metadata": {},
   "outputs": [
    {
     "data": {
      "text/plain": [
       "(0.8680596047942988, 0.8223608850304455)"
      ]
     },
     "execution_count": 37,
     "metadata": {},
     "output_type": "execute_result"
    }
   ],
   "source": [
    "roc_auc_train , roc_auc_test"
   ]
  },
  {
   "cell_type": "code",
   "execution_count": 38,
   "metadata": {},
   "outputs": [
    {
     "data": {
      "text/html": [
       "<div>\n",
       "<style scoped>\n",
       "    .dataframe tbody tr th:only-of-type {\n",
       "        vertical-align: middle;\n",
       "    }\n",
       "\n",
       "    .dataframe tbody tr th {\n",
       "        vertical-align: top;\n",
       "    }\n",
       "\n",
       "    .dataframe thead th {\n",
       "        text-align: right;\n",
       "    }\n",
       "</style>\n",
       "<table border=\"1\" class=\"dataframe\">\n",
       "  <thead>\n",
       "    <tr style=\"text-align: right;\">\n",
       "      <th></th>\n",
       "      <th>Pclass</th>\n",
       "      <th>Age</th>\n",
       "      <th>SibSp</th>\n",
       "      <th>Parch</th>\n",
       "      <th>Fare</th>\n",
       "      <th>Cabin</th>\n",
       "      <th>Age_groups</th>\n",
       "      <th>Size</th>\n",
       "      <th>Sex_male</th>\n",
       "      <th>Embarked_Q</th>\n",
       "      <th>Embarked_S</th>\n",
       "    </tr>\n",
       "  </thead>\n",
       "  <tbody>\n",
       "    <tr>\n",
       "      <th>count</th>\n",
       "      <td>268.000000</td>\n",
       "      <td>268.000000</td>\n",
       "      <td>268.000000</td>\n",
       "      <td>268.000000</td>\n",
       "      <td>268.000000</td>\n",
       "      <td>268.000000</td>\n",
       "      <td>268.000000</td>\n",
       "      <td>268.000000</td>\n",
       "      <td>268.000000</td>\n",
       "      <td>268.000000</td>\n",
       "      <td>268.000000</td>\n",
       "    </tr>\n",
       "    <tr>\n",
       "      <th>mean</th>\n",
       "      <td>2.272388</td>\n",
       "      <td>29.274254</td>\n",
       "      <td>0.477612</td>\n",
       "      <td>0.369403</td>\n",
       "      <td>33.043485</td>\n",
       "      <td>0.253731</td>\n",
       "      <td>1.570896</td>\n",
       "      <td>0.847015</td>\n",
       "      <td>0.660448</td>\n",
       "      <td>0.082090</td>\n",
       "      <td>0.727612</td>\n",
       "    </tr>\n",
       "    <tr>\n",
       "      <th>std</th>\n",
       "      <td>0.859221</td>\n",
       "      <td>13.196090</td>\n",
       "      <td>0.888684</td>\n",
       "      <td>0.740556</td>\n",
       "      <td>57.040359</td>\n",
       "      <td>0.435960</td>\n",
       "      <td>0.931458</td>\n",
       "      <td>1.377627</td>\n",
       "      <td>0.474443</td>\n",
       "      <td>0.275015</td>\n",
       "      <td>0.446021</td>\n",
       "    </tr>\n",
       "    <tr>\n",
       "      <th>min</th>\n",
       "      <td>1.000000</td>\n",
       "      <td>0.420000</td>\n",
       "      <td>0.000000</td>\n",
       "      <td>0.000000</td>\n",
       "      <td>0.000000</td>\n",
       "      <td>0.000000</td>\n",
       "      <td>0.000000</td>\n",
       "      <td>0.000000</td>\n",
       "      <td>0.000000</td>\n",
       "      <td>0.000000</td>\n",
       "      <td>0.000000</td>\n",
       "    </tr>\n",
       "    <tr>\n",
       "      <th>25%</th>\n",
       "      <td>1.000000</td>\n",
       "      <td>21.000000</td>\n",
       "      <td>0.000000</td>\n",
       "      <td>0.000000</td>\n",
       "      <td>7.925000</td>\n",
       "      <td>0.000000</td>\n",
       "      <td>1.000000</td>\n",
       "      <td>0.000000</td>\n",
       "      <td>0.000000</td>\n",
       "      <td>0.000000</td>\n",
       "      <td>0.000000</td>\n",
       "    </tr>\n",
       "    <tr>\n",
       "      <th>50%</th>\n",
       "      <td>3.000000</td>\n",
       "      <td>27.000000</td>\n",
       "      <td>0.000000</td>\n",
       "      <td>0.000000</td>\n",
       "      <td>14.772900</td>\n",
       "      <td>0.000000</td>\n",
       "      <td>1.000000</td>\n",
       "      <td>0.000000</td>\n",
       "      <td>1.000000</td>\n",
       "      <td>0.000000</td>\n",
       "      <td>1.000000</td>\n",
       "    </tr>\n",
       "    <tr>\n",
       "      <th>75%</th>\n",
       "      <td>3.000000</td>\n",
       "      <td>36.000000</td>\n",
       "      <td>1.000000</td>\n",
       "      <td>0.000000</td>\n",
       "      <td>33.125000</td>\n",
       "      <td>1.000000</td>\n",
       "      <td>2.000000</td>\n",
       "      <td>1.000000</td>\n",
       "      <td>1.000000</td>\n",
       "      <td>0.000000</td>\n",
       "      <td>1.000000</td>\n",
       "    </tr>\n",
       "    <tr>\n",
       "      <th>max</th>\n",
       "      <td>3.000000</td>\n",
       "      <td>71.000000</td>\n",
       "      <td>5.000000</td>\n",
       "      <td>5.000000</td>\n",
       "      <td>512.329200</td>\n",
       "      <td>1.000000</td>\n",
       "      <td>4.000000</td>\n",
       "      <td>7.000000</td>\n",
       "      <td>1.000000</td>\n",
       "      <td>1.000000</td>\n",
       "      <td>1.000000</td>\n",
       "    </tr>\n",
       "  </tbody>\n",
       "</table>\n",
       "</div>"
      ],
      "text/plain": [
       "           Pclass         Age       SibSp       Parch        Fare       Cabin  \\\n",
       "count  268.000000  268.000000  268.000000  268.000000  268.000000  268.000000   \n",
       "mean     2.272388   29.274254    0.477612    0.369403   33.043485    0.253731   \n",
       "std      0.859221   13.196090    0.888684    0.740556   57.040359    0.435960   \n",
       "min      1.000000    0.420000    0.000000    0.000000    0.000000    0.000000   \n",
       "25%      1.000000   21.000000    0.000000    0.000000    7.925000    0.000000   \n",
       "50%      3.000000   27.000000    0.000000    0.000000   14.772900    0.000000   \n",
       "75%      3.000000   36.000000    1.000000    0.000000   33.125000    1.000000   \n",
       "max      3.000000   71.000000    5.000000    5.000000  512.329200    1.000000   \n",
       "\n",
       "       Age_groups        Size    Sex_male  Embarked_Q  Embarked_S  \n",
       "count  268.000000  268.000000  268.000000  268.000000  268.000000  \n",
       "mean     1.570896    0.847015    0.660448    0.082090    0.727612  \n",
       "std      0.931458    1.377627    0.474443    0.275015    0.446021  \n",
       "min      0.000000    0.000000    0.000000    0.000000    0.000000  \n",
       "25%      1.000000    0.000000    0.000000    0.000000    0.000000  \n",
       "50%      1.000000    0.000000    1.000000    0.000000    1.000000  \n",
       "75%      2.000000    1.000000    1.000000    0.000000    1.000000  \n",
       "max      4.000000    7.000000    1.000000    1.000000    1.000000  "
      ]
     },
     "execution_count": 38,
     "metadata": {},
     "output_type": "execute_result"
    }
   ],
   "source": [
    "X_test.describe()"
   ]
  },
  {
   "cell_type": "code",
   "execution_count": 39,
   "metadata": {},
   "outputs": [],
   "source": [
    "# salva modelo\n",
    "pickle.dump(clf_reg_log, open('model.pkl', 'wb'))"
   ]
  },
  {
   "cell_type": "markdown",
   "metadata": {},
   "source": [
    "## **Homework**"
   ]
  },
  {
   "cell_type": "markdown",
   "metadata": {},
   "source": [
    "Como parte dos estudos extra-classe analise as possibilidades de pré-processamento que foram aplicadas no exemplo a seguir."
   ]
  },
  {
   "cell_type": "code",
   "execution_count": 153,
   "metadata": {},
   "outputs": [],
   "source": [
    "import pandas as pd\n",
    "import numpy as np\n",
    "import seaborn as sns\n",
    "import matplotlib.pyplot as plt\n",
    "from sklearn.preprocessing import MinMaxScaler, StandardScaler, RobustScaler, OneHotEncoder, OrdinalEncoder\n",
    "from category_encoders import TargetEncoder\n",
    "from sklearn.model_selection import train_test_split\n",
    "from sklearn.compose import ColumnTransformer\n",
    "from sklearn.pipeline import Pipeline\n",
    "from sklearn.linear_model import LogisticRegression\n",
    "from feature_engine.encoding import CountFrequencyEncoder\n",
    "from pandas_profiling import ProfileReport\n",
    "import warnings\n",
    "warnings.filterwarnings('ignore')"
   ]
  },
  {
   "cell_type": "code",
   "execution_count": 4,
   "metadata": {},
   "outputs": [
    {
     "ename": "NameError",
     "evalue": "name 'pd' is not defined",
     "output_type": "error",
     "traceback": [
      "\u001b[1;31m---------------------------------------------------------------------------\u001b[0m",
      "\u001b[1;31mNameError\u001b[0m                                 Traceback (most recent call last)",
      "Input \u001b[1;32mIn [4]\u001b[0m, in \u001b[0;36m<cell line: 1>\u001b[1;34m()\u001b[0m\n\u001b[1;32m----> 1\u001b[0m diabetes \u001b[38;5;241m=\u001b[39m \u001b[43mpd\u001b[49m\u001b[38;5;241m.\u001b[39mread_csv(\u001b[38;5;124m'\u001b[39m\u001b[38;5;124mdiabetes.csv\u001b[39m\u001b[38;5;124m'\u001b[39m)\n",
      "\u001b[1;31mNameError\u001b[0m: name 'pd' is not defined"
     ]
    }
   ],
   "source": [
    "diabetes = pd.read_csv('diabetes.csv')"
   ]
  },
  {
   "cell_type": "code",
   "execution_count": 5,
   "metadata": {},
   "outputs": [
    {
     "ename": "NameError",
     "evalue": "name 'diabetes' is not defined",
     "output_type": "error",
     "traceback": [
      "\u001b[1;31m---------------------------------------------------------------------------\u001b[0m",
      "\u001b[1;31mNameError\u001b[0m                                 Traceback (most recent call last)",
      "Input \u001b[1;32mIn [5]\u001b[0m, in \u001b[0;36m<cell line: 1>\u001b[1;34m()\u001b[0m\n\u001b[1;32m----> 1\u001b[0m \u001b[43mdiabetes\u001b[49m\u001b[38;5;241m.\u001b[39mhead()\n",
      "\u001b[1;31mNameError\u001b[0m: name 'diabetes' is not defined"
     ]
    }
   ],
   "source": [
    "diabetes.head()"
   ]
  },
  {
   "cell_type": "code",
   "execution_count": 156,
   "metadata": {},
   "outputs": [],
   "source": [
    "diabetes.dropna(inplace = True)"
   ]
  },
  {
   "cell_type": "code",
   "execution_count": 157,
   "metadata": {},
   "outputs": [
    {
     "data": {
      "text/plain": [
       "preg     0\n",
       "plas     0\n",
       "pres     0\n",
       "skin     0\n",
       "insu     0\n",
       "mass     0\n",
       "pedi     0\n",
       "age      0\n",
       "class    0\n",
       "dtype: int64"
      ]
     },
     "execution_count": 157,
     "metadata": {},
     "output_type": "execute_result"
    }
   ],
   "source": [
    "diabetes.isna().sum()"
   ]
  },
  {
   "cell_type": "code",
   "execution_count": 3,
   "metadata": {},
   "outputs": [
    {
     "ename": "NameError",
     "evalue": "name 'diabetes' is not defined",
     "output_type": "error",
     "traceback": [
      "\u001b[1;31m---------------------------------------------------------------------------\u001b[0m",
      "\u001b[1;31mNameError\u001b[0m                                 Traceback (most recent call last)",
      "Input \u001b[1;32mIn [3]\u001b[0m, in \u001b[0;36m<cell line: 1>\u001b[1;34m()\u001b[0m\n\u001b[1;32m----> 1\u001b[0m X \u001b[38;5;241m=\u001b[39m \u001b[43mdiabetes\u001b[49m\u001b[38;5;241m.\u001b[39mdrop(columns \u001b[38;5;241m=\u001b[39m \u001b[38;5;124m'\u001b[39m\u001b[38;5;124mclass\u001b[39m\u001b[38;5;124m'\u001b[39m)\n\u001b[0;32m      2\u001b[0m y \u001b[38;5;241m=\u001b[39m diabetes[\u001b[38;5;124m'\u001b[39m\u001b[38;5;124mclass\u001b[39m\u001b[38;5;124m'\u001b[39m]\n",
      "\u001b[1;31mNameError\u001b[0m: name 'diabetes' is not defined"
     ]
    }
   ],
   "source": [
    "X = diabetes.drop(columns = 'class')\n",
    "y = diabetes['class']"
   ]
  },
  {
   "cell_type": "code",
   "execution_count": 159,
   "metadata": {},
   "outputs": [],
   "source": [
    "SEED = 10\n",
    "X_train, X_test, y_train, y_test = train_test_split(\n",
    "    X,\n",
    "    y,\n",
    "    test_size = 0.3,\n",
    "    random_state = SEED\n",
    ")"
   ]
  },
  {
   "cell_type": "code",
   "execution_count": 160,
   "metadata": {},
   "outputs": [],
   "source": [
    "y_train = y_train.map({\"tested_negative\":0,\"tested_positive\":1})\n",
    "y_test = y_test.map({\"tested_negative\":0,\"tested_positive\":1})"
   ]
  },
  {
   "cell_type": "code",
   "execution_count": 2,
   "metadata": {},
   "outputs": [
    {
     "ename": "NameError",
     "evalue": "name 'X' is not defined",
     "output_type": "error",
     "traceback": [
      "\u001b[1;31m---------------------------------------------------------------------------\u001b[0m",
      "\u001b[1;31mNameError\u001b[0m                                 Traceback (most recent call last)",
      "Input \u001b[1;32mIn [2]\u001b[0m, in \u001b[0;36m<cell line: 1>\u001b[1;34m()\u001b[0m\n\u001b[1;32m----> 1\u001b[0m \u001b[43mX\u001b[49m\u001b[38;5;241m.\u001b[39mcolumns\n",
      "\u001b[1;31mNameError\u001b[0m: name 'X' is not defined"
     ]
    }
   ],
   "source": [
    "X.columns"
   ]
  },
  {
   "cell_type": "code",
   "execution_count": null,
   "metadata": {},
   "outputs": [],
   "source": [
    "\n",
    "# Gráfico de dispersão\n",
    "n_linhas = 4\n",
    "colunas = 2\n",
    "posicao = 1\n",
    "# Tamanho das Figuras\n",
    "plt.subplots(figsize=(15,10))\n",
    "# Título\n",
    "plt.suptitle('Análise das variáveis independentes - Gráfico de Dispersão', fontsize=22, color='#404040', fontweight=600, y = 1.3)\n",
    "# Plotar as 23 colunas no X\n",
    "for coluna in X.columns:\n",
    "    plt.subplot(n_linhas,colunas,posicao)\n",
    "    plt.scatter(wage_data[coluna], wage_data['wage'])\n",
    "    plt.xlabel(coluna)\n",
    "    plt.ylabel('Wage')\n",
    "    posicao += 1\n",
    "# Ajuste de Grid\n",
    "plt.subplots_adjust( top=1.2, hspace=1.5 )"
   ]
  },
  {
   "cell_type": "code",
   "execution_count": 161,
   "metadata": {},
   "outputs": [],
   "source": [
    "# aplica o RobustScaler nas features\n",
    "scaler = RobustScaler()\n",
    "train = scaler.fit_transform(X_train)\n",
    "test = scaler.transform(X_test)\n",
    "X_train = pd.DataFrame(train, columns=X_train.columns)\n",
    "X_test = pd.DataFrame(test, columns=X_test.columns)"
   ]
  },
  {
   "cell_type": "code",
   "execution_count": 108,
   "metadata": {},
   "outputs": [],
   "source": [
    "from sklearn.model_selection import GridSearchCV\n",
    "from sklearn.metrics import classification_report"
   ]
  },
  {
   "cell_type": "markdown",
   "metadata": {},
   "source": [
    "### GridSearchCV com KNN"
   ]
  },
  {
   "cell_type": "code",
   "execution_count": 109,
   "metadata": {},
   "outputs": [
    {
     "data": {
      "text/plain": [
       "GridSearchCV(cv=StratifiedKFold(n_splits=5, random_state=10, shuffle=True),\n",
       "             estimator=KNeighborsClassifier(), n_jobs=-1,\n",
       "             param_grid={'metric': ['minkowski', 'chebyshev'],\n",
       "                         'n_neighbors': array([ 3,  5,  7,  9, 11, 13]),\n",
       "                         'p': array([1, 2, 3, 4]),\n",
       "                         'weights': ['uniform', 'distance']},\n",
       "             scoring='roc_auc')"
      ]
     },
     "execution_count": 109,
     "metadata": {},
     "output_type": "execute_result"
    }
   ],
   "source": [
    "clf_knn = KNeighborsClassifier()\n",
    "cv = StratifiedKFold(\n",
    "    n_splits=5,\n",
    "    random_state=SEED, \n",
    "    shuffle=True\n",
    ")\n",
    "# espaço de pesquisa de hiperparâmetros\n",
    "param_grid_knn = {\n",
    "    'n_neighbors': np.arange(3, 15, 2),\n",
    "    'p': np.arange(1, 5),\n",
    "    'metric': ['minkowski', 'chebyshev'],\n",
    "    'weights': ['uniform', 'distance']\n",
    "}\n",
    "\n",
    "# grid search\n",
    "grid_knn = GridSearchCV(\n",
    "    estimator=clf_knn,\n",
    "    param_grid=param_grid_knn,\n",
    "    cv=cv,\n",
    "    scoring='roc_auc',\n",
    "    n_jobs=-1\n",
    ")\n",
    "\n",
    "# treino\n",
    "grid_knn.fit(X_train, y_train)"
   ]
  },
  {
   "cell_type": "code",
   "execution_count": 110,
   "metadata": {},
   "outputs": [],
   "source": [
    "y_pred_proba_train = grid_knn.predict_proba(X_train)[:, 1]\n",
    "y_pred_proba_test = grid_knn.predict_proba(X_test)[:, 1]\n",
    "y_pred_train = grid_knn.predict(X_train)\n",
    "y_pred_test = grid_knn.predict(X_test)\n",
    "roc_auc_train = roc_auc_score(y_train, y_pred_proba_train)\n",
    "roc_auc_test = roc_auc_score(y_test, y_pred_proba_test)"
   ]
  },
  {
   "cell_type": "code",
   "execution_count": 111,
   "metadata": {},
   "outputs": [
    {
     "name": "stdout",
     "output_type": "stream",
     "text": [
      "1.0 0.7547094508301404\n"
     ]
    }
   ],
   "source": [
    "print(roc_auc_train, roc_auc_test)"
   ]
  },
  {
   "cell_type": "code",
   "execution_count": 112,
   "metadata": {},
   "outputs": [
    {
     "name": "stdout",
     "output_type": "stream",
     "text": [
      "              precision    recall  f1-score   support\n",
      "\n",
      "           0       0.73      0.92      0.81       144\n",
      "           1       0.76      0.43      0.54        87\n",
      "\n",
      "    accuracy                           0.73       231\n",
      "   macro avg       0.74      0.67      0.68       231\n",
      "weighted avg       0.74      0.73      0.71       231\n",
      "\n"
     ]
    }
   ],
   "source": [
    "print(classification_report(y_test, y_pred_test))"
   ]
  },
  {
   "cell_type": "code",
   "execution_count": 113,
   "metadata": {},
   "outputs": [
    {
     "data": {
      "text/plain": [
       "RandomizedSearchCV(cv=StratifiedKFold(n_splits=5, random_state=10, shuffle=True),\n",
       "                   estimator=LogisticRegression(), n_iter=100, n_jobs=-1,\n",
       "                   param_distributions={'C': <scipy.stats._distn_infrastructure.rv_frozen object at 0x0000027494832BE0>,\n",
       "                                        'class_weight': ['balanced', None],\n",
       "                                        'penalty': ['l1', 'l2', 'elastic_net',\n",
       "                                                    'none']},\n",
       "                   random_state=10, return_train_score=True, scoring='roc_auc')"
      ]
     },
     "execution_count": 113,
     "metadata": {},
     "output_type": "execute_result"
    }
   ],
   "source": [
    "from scipy.stats import loguniform\n",
    "\n",
    "clf_reg_log = LogisticRegression()\n",
    "cv = StratifiedKFold(\n",
    "    n_splits=5, \n",
    "    random_state=SEED, \n",
    "    shuffle=True\n",
    ")\n",
    "# espaço de pesquisa de hiperparâmetros\n",
    "param_distributions_reg_log = {\n",
    "    'C': loguniform(1e-5, 100),\n",
    "    'penalty': ['l1', 'l2', 'elastic_net', 'none'],\n",
    "    'class_weight': ['balanced', None]\n",
    "}\n",
    "\n",
    "# random search\n",
    "random_reg_log = RandomizedSearchCV(\n",
    "    estimator=clf_reg_log,\n",
    "    param_distributions=param_distributions_reg_log,\n",
    "    cv=cv,\n",
    "    scoring='roc_auc',\n",
    "    n_jobs=-1,\n",
    "    random_state=SEED,\n",
    "    return_train_score=True,\n",
    "    n_iter=100\n",
    ")\n",
    "\n",
    "# treino\n",
    "random_reg_log.fit(X_train, y_train)\n",
    "\n"
   ]
  },
  {
   "cell_type": "code",
   "execution_count": 114,
   "metadata": {},
   "outputs": [],
   "source": [
    "y_pred_proba_train = random_reg_log.predict_proba(X_train)[:, 1]\n",
    "y_pred_proba_test = random_reg_log.predict_proba(X_test)[:, 1]\n",
    "y_pred_train = random_reg_log.predict(X_train)\n",
    "y_pred_test = random_reg_log.predict(X_test)\n",
    "roc_auc_train = roc_auc_score(y_train, y_pred_proba_train)\n",
    "roc_auc_test = roc_auc_score(y_test, y_pred_proba_test)"
   ]
  },
  {
   "cell_type": "code",
   "execution_count": 115,
   "metadata": {},
   "outputs": [
    {
     "name": "stdout",
     "output_type": "stream",
     "text": [
      "0.8453659445030728 0.8164910600255428\n"
     ]
    }
   ],
   "source": [
    "print(roc_auc_train, roc_auc_test)"
   ]
  },
  {
   "cell_type": "code",
   "execution_count": 116,
   "metadata": {},
   "outputs": [
    {
     "name": "stdout",
     "output_type": "stream",
     "text": [
      "              precision    recall  f1-score   support\n",
      "\n",
      "           0       0.75      0.91      0.82       144\n",
      "           1       0.77      0.49      0.60        87\n",
      "\n",
      "    accuracy                           0.75       231\n",
      "   macro avg       0.76      0.70      0.71       231\n",
      "weighted avg       0.76      0.75      0.74       231\n",
      "\n"
     ]
    }
   ],
   "source": [
    "# relatório das métricas de avaliação\n",
    "print(classification_report(y_test, y_pred_test))"
   ]
  },
  {
   "cell_type": "code",
   "execution_count": 89,
   "metadata": {},
   "outputs": [
    {
     "data": {
      "text/plain": [
       "LogisticRegression()"
      ]
     },
     "execution_count": 89,
     "metadata": {},
     "output_type": "execute_result"
    }
   ],
   "source": [
    "clf_reg_log.fit(X_train, y_train)"
   ]
  },
  {
   "cell_type": "markdown",
   "metadata": {},
   "source": [
    "### Lightgbm"
   ]
  },
  {
   "cell_type": "code",
   "execution_count": 180,
   "metadata": {},
   "outputs": [
    {
     "name": "stdout",
     "output_type": "stream",
     "text": [
      "Fitting 10 folds for each of 10 candidates, totalling 100 fits\n",
      "[LightGBM] [Warning] min_data_in_leaf is set=10, min_child_samples=20 will be ignored. Current value: min_data_in_leaf=10\n"
     ]
    },
    {
     "data": {
      "text/plain": [
       "RandomizedSearchCV(cv=10, estimator=LGBMClassifier(), n_jobs=-1,\n",
       "                   param_distributions={'boosting_type': ['gbdt'],\n",
       "                                        'colsample_bytree': [0.5, 0.7],\n",
       "                                        'learning_rate': [0.05],\n",
       "                                        'max_depth': [5, 6, 7, 8],\n",
       "                                        'metric': ['auc'],\n",
       "                                        'min_data_in_leaf': [10],\n",
       "                                        'min_split_gain': [0.01],\n",
       "                                        'num_leaves': [90, 200],\n",
       "                                        'objective': ['binary'],\n",
       "                                        'random_state': [501],\n",
       "                                        'subsample': [0.5, 0.7]},\n",
       "                   verbose=1)"
      ]
     },
     "execution_count": 180,
     "metadata": {},
     "output_type": "execute_result"
    }
   ],
   "source": [
    "from scipy.stats import loguniform\n",
    "from lightgbm import LGBMClassifier\n",
    "\n",
    "\n",
    "gridParams = {\n",
    "    'learning_rate': [0.05],\n",
    "    'num_leaves': [90,200],\n",
    "    'boosting_type' : ['gbdt'],\n",
    "    'objective' : ['binary'],\n",
    "    'max_depth' : [5,6,7,8],\n",
    "    'random_state' : [501], \n",
    "    'colsample_bytree' : [0.5,0.7],\n",
    "    'subsample' : [0.5,0.7],\n",
    "    'min_split_gain' : [0.01],\n",
    "    'min_data_in_leaf':[10],\n",
    "    'metric':['auc']\n",
    "    }\n",
    "\n",
    "\n",
    "#modelling\n",
    "clf = LGBMClassifier()\n",
    "grid = RandomizedSearchCV(clf,gridParams,verbose=1,cv=10,n_jobs = -1,n_iter=10)\n",
    "grid.fit(X_train,y_train)\n"
   ]
  },
  {
   "cell_type": "code",
   "execution_count": 181,
   "metadata": {},
   "outputs": [],
   "source": [
    "y_pred_proba_train = grid.predict_proba(X_train)[:, 1]\n",
    "y_pred_proba_test = grid.predict_proba(X_test)[:, 1]\n",
    "y_pred_train = grid.predict(X_train)\n",
    "y_pred_test = grid.predict(X_test)\n",
    "roc_auc_train = roc_auc_score(y_train, y_pred_proba_train)\n",
    "roc_auc_test = roc_auc_score(y_test, y_pred_proba_test)"
   ]
  },
  {
   "cell_type": "code",
   "execution_count": 182,
   "metadata": {},
   "outputs": [
    {
     "name": "stdout",
     "output_type": "stream",
     "text": [
      "0.9999068843503632 0.8126596424010217\n"
     ]
    }
   ],
   "source": [
    "print(roc_auc_train, roc_auc_test)"
   ]
  },
  {
   "cell_type": "markdown",
   "metadata": {},
   "source": [
    "### GridSearchCV"
   ]
  },
  {
   "cell_type": "code",
   "execution_count": 90,
   "metadata": {},
   "outputs": [],
   "source": [
    "from sklearn.model_selection import GridSearchCV\n"
   ]
  },
  {
   "cell_type": "code",
   "execution_count": 91,
   "metadata": {},
   "outputs": [
    {
     "name": "stdout",
     "output_type": "stream",
     "text": [
      "Help on class GridSearchCV in module sklearn.model_selection._search:\n",
      "\n",
      "class GridSearchCV(BaseSearchCV)\n",
      " |  GridSearchCV(estimator, param_grid, *, scoring=None, n_jobs=None, refit=True, cv=None, verbose=0, pre_dispatch='2*n_jobs', error_score=nan, return_train_score=False)\n",
      " |  \n",
      " |  Exhaustive search over specified parameter values for an estimator.\n",
      " |  \n",
      " |  Important members are fit, predict.\n",
      " |  \n",
      " |  GridSearchCV implements a \"fit\" and a \"score\" method.\n",
      " |  It also implements \"score_samples\", \"predict\", \"predict_proba\",\n",
      " |  \"decision_function\", \"transform\" and \"inverse_transform\" if they are\n",
      " |  implemented in the estimator used.\n",
      " |  \n",
      " |  The parameters of the estimator used to apply these methods are optimized\n",
      " |  by cross-validated grid-search over a parameter grid.\n",
      " |  \n",
      " |  Read more in the :ref:`User Guide <grid_search>`.\n",
      " |  \n",
      " |  Parameters\n",
      " |  ----------\n",
      " |  estimator : estimator object\n",
      " |      This is assumed to implement the scikit-learn estimator interface.\n",
      " |      Either estimator needs to provide a ``score`` function,\n",
      " |      or ``scoring`` must be passed.\n",
      " |  \n",
      " |  param_grid : dict or list of dictionaries\n",
      " |      Dictionary with parameters names (`str`) as keys and lists of\n",
      " |      parameter settings to try as values, or a list of such\n",
      " |      dictionaries, in which case the grids spanned by each dictionary\n",
      " |      in the list are explored. This enables searching over any sequence\n",
      " |      of parameter settings.\n",
      " |  \n",
      " |  scoring : str, callable, list, tuple or dict, default=None\n",
      " |      Strategy to evaluate the performance of the cross-validated model on\n",
      " |      the test set.\n",
      " |  \n",
      " |      If `scoring` represents a single score, one can use:\n",
      " |  \n",
      " |      - a single string (see :ref:`scoring_parameter`);\n",
      " |      - a callable (see :ref:`scoring`) that returns a single value.\n",
      " |  \n",
      " |      If `scoring` represents multiple scores, one can use:\n",
      " |  \n",
      " |      - a list or tuple of unique strings;\n",
      " |      - a callable returning a dictionary where the keys are the metric\n",
      " |        names and the values are the metric scores;\n",
      " |      - a dictionary with metric names as keys and callables a values.\n",
      " |  \n",
      " |      See :ref:`multimetric_grid_search` for an example.\n",
      " |  \n",
      " |  n_jobs : int, default=None\n",
      " |      Number of jobs to run in parallel.\n",
      " |      ``None`` means 1 unless in a :obj:`joblib.parallel_backend` context.\n",
      " |      ``-1`` means using all processors. See :term:`Glossary <n_jobs>`\n",
      " |      for more details.\n",
      " |  \n",
      " |      .. versionchanged:: v0.20\n",
      " |         `n_jobs` default changed from 1 to None\n",
      " |  \n",
      " |  refit : bool, str, or callable, default=True\n",
      " |      Refit an estimator using the best found parameters on the whole\n",
      " |      dataset.\n",
      " |  \n",
      " |      For multiple metric evaluation, this needs to be a `str` denoting the\n",
      " |      scorer that would be used to find the best parameters for refitting\n",
      " |      the estimator at the end.\n",
      " |  \n",
      " |      Where there are considerations other than maximum score in\n",
      " |      choosing a best estimator, ``refit`` can be set to a function which\n",
      " |      returns the selected ``best_index_`` given ``cv_results_``. In that\n",
      " |      case, the ``best_estimator_`` and ``best_params_`` will be set\n",
      " |      according to the returned ``best_index_`` while the ``best_score_``\n",
      " |      attribute will not be available.\n",
      " |  \n",
      " |      The refitted estimator is made available at the ``best_estimator_``\n",
      " |      attribute and permits using ``predict`` directly on this\n",
      " |      ``GridSearchCV`` instance.\n",
      " |  \n",
      " |      Also for multiple metric evaluation, the attributes ``best_index_``,\n",
      " |      ``best_score_`` and ``best_params_`` will only be available if\n",
      " |      ``refit`` is set and all of them will be determined w.r.t this specific\n",
      " |      scorer.\n",
      " |  \n",
      " |      See ``scoring`` parameter to know more about multiple metric\n",
      " |      evaluation.\n",
      " |  \n",
      " |      .. versionchanged:: 0.20\n",
      " |          Support for callable added.\n",
      " |  \n",
      " |  cv : int, cross-validation generator or an iterable, default=None\n",
      " |      Determines the cross-validation splitting strategy.\n",
      " |      Possible inputs for cv are:\n",
      " |  \n",
      " |      - None, to use the default 5-fold cross validation,\n",
      " |      - integer, to specify the number of folds in a `(Stratified)KFold`,\n",
      " |      - :term:`CV splitter`,\n",
      " |      - An iterable yielding (train, test) splits as arrays of indices.\n",
      " |  \n",
      " |      For integer/None inputs, if the estimator is a classifier and ``y`` is\n",
      " |      either binary or multiclass, :class:`StratifiedKFold` is used. In all\n",
      " |      other cases, :class:`KFold` is used. These splitters are instantiated\n",
      " |      with `shuffle=False` so the splits will be the same across calls.\n",
      " |  \n",
      " |      Refer :ref:`User Guide <cross_validation>` for the various\n",
      " |      cross-validation strategies that can be used here.\n",
      " |  \n",
      " |      .. versionchanged:: 0.22\n",
      " |          ``cv`` default value if None changed from 3-fold to 5-fold.\n",
      " |  \n",
      " |  verbose : int\n",
      " |      Controls the verbosity: the higher, the more messages.\n",
      " |  \n",
      " |      - >1 : the computation time for each fold and parameter candidate is\n",
      " |        displayed;\n",
      " |      - >2 : the score is also displayed;\n",
      " |      - >3 : the fold and candidate parameter indexes are also displayed\n",
      " |        together with the starting time of the computation.\n",
      " |  \n",
      " |  pre_dispatch : int, or str, default='2*n_jobs'\n",
      " |      Controls the number of jobs that get dispatched during parallel\n",
      " |      execution. Reducing this number can be useful to avoid an\n",
      " |      explosion of memory consumption when more jobs get dispatched\n",
      " |      than CPUs can process. This parameter can be:\n",
      " |  \n",
      " |          - None, in which case all the jobs are immediately\n",
      " |            created and spawned. Use this for lightweight and\n",
      " |            fast-running jobs, to avoid delays due to on-demand\n",
      " |            spawning of the jobs\n",
      " |  \n",
      " |          - An int, giving the exact number of total jobs that are\n",
      " |            spawned\n",
      " |  \n",
      " |          - A str, giving an expression as a function of n_jobs,\n",
      " |            as in '2*n_jobs'\n",
      " |  \n",
      " |  error_score : 'raise' or numeric, default=np.nan\n",
      " |      Value to assign to the score if an error occurs in estimator fitting.\n",
      " |      If set to 'raise', the error is raised. If a numeric value is given,\n",
      " |      FitFailedWarning is raised. This parameter does not affect the refit\n",
      " |      step, which will always raise the error.\n",
      " |  \n",
      " |  return_train_score : bool, default=False\n",
      " |      If ``False``, the ``cv_results_`` attribute will not include training\n",
      " |      scores.\n",
      " |      Computing training scores is used to get insights on how different\n",
      " |      parameter settings impact the overfitting/underfitting trade-off.\n",
      " |      However computing the scores on the training set can be computationally\n",
      " |      expensive and is not strictly required to select the parameters that\n",
      " |      yield the best generalization performance.\n",
      " |  \n",
      " |      .. versionadded:: 0.19\n",
      " |  \n",
      " |      .. versionchanged:: 0.21\n",
      " |          Default value was changed from ``True`` to ``False``\n",
      " |  \n",
      " |  Attributes\n",
      " |  ----------\n",
      " |  cv_results_ : dict of numpy (masked) ndarrays\n",
      " |      A dict with keys as column headers and values as columns, that can be\n",
      " |      imported into a pandas ``DataFrame``.\n",
      " |  \n",
      " |      For instance the below given table\n",
      " |  \n",
      " |      +------------+-----------+------------+-----------------+---+---------+\n",
      " |      |param_kernel|param_gamma|param_degree|split0_test_score|...|rank_t...|\n",
      " |      +============+===========+============+=================+===+=========+\n",
      " |      |  'poly'    |     --    |      2     |       0.80      |...|    2    |\n",
      " |      +------------+-----------+------------+-----------------+---+---------+\n",
      " |      |  'poly'    |     --    |      3     |       0.70      |...|    4    |\n",
      " |      +------------+-----------+------------+-----------------+---+---------+\n",
      " |      |  'rbf'     |     0.1   |     --     |       0.80      |...|    3    |\n",
      " |      +------------+-----------+------------+-----------------+---+---------+\n",
      " |      |  'rbf'     |     0.2   |     --     |       0.93      |...|    1    |\n",
      " |      +------------+-----------+------------+-----------------+---+---------+\n",
      " |  \n",
      " |      will be represented by a ``cv_results_`` dict of::\n",
      " |  \n",
      " |          {\n",
      " |          'param_kernel': masked_array(data = ['poly', 'poly', 'rbf', 'rbf'],\n",
      " |                                       mask = [False False False False]...)\n",
      " |          'param_gamma': masked_array(data = [-- -- 0.1 0.2],\n",
      " |                                      mask = [ True  True False False]...),\n",
      " |          'param_degree': masked_array(data = [2.0 3.0 -- --],\n",
      " |                                       mask = [False False  True  True]...),\n",
      " |          'split0_test_score'  : [0.80, 0.70, 0.80, 0.93],\n",
      " |          'split1_test_score'  : [0.82, 0.50, 0.70, 0.78],\n",
      " |          'mean_test_score'    : [0.81, 0.60, 0.75, 0.85],\n",
      " |          'std_test_score'     : [0.01, 0.10, 0.05, 0.08],\n",
      " |          'rank_test_score'    : [2, 4, 3, 1],\n",
      " |          'split0_train_score' : [0.80, 0.92, 0.70, 0.93],\n",
      " |          'split1_train_score' : [0.82, 0.55, 0.70, 0.87],\n",
      " |          'mean_train_score'   : [0.81, 0.74, 0.70, 0.90],\n",
      " |          'std_train_score'    : [0.01, 0.19, 0.00, 0.03],\n",
      " |          'mean_fit_time'      : [0.73, 0.63, 0.43, 0.49],\n",
      " |          'std_fit_time'       : [0.01, 0.02, 0.01, 0.01],\n",
      " |          'mean_score_time'    : [0.01, 0.06, 0.04, 0.04],\n",
      " |          'std_score_time'     : [0.00, 0.00, 0.00, 0.01],\n",
      " |          'params'             : [{'kernel': 'poly', 'degree': 2}, ...],\n",
      " |          }\n",
      " |  \n",
      " |      NOTE\n",
      " |  \n",
      " |      The key ``'params'`` is used to store a list of parameter\n",
      " |      settings dicts for all the parameter candidates.\n",
      " |  \n",
      " |      The ``mean_fit_time``, ``std_fit_time``, ``mean_score_time`` and\n",
      " |      ``std_score_time`` are all in seconds.\n",
      " |  \n",
      " |      For multi-metric evaluation, the scores for all the scorers are\n",
      " |      available in the ``cv_results_`` dict at the keys ending with that\n",
      " |      scorer's name (``'_<scorer_name>'``) instead of ``'_score'`` shown\n",
      " |      above. ('split0_test_precision', 'mean_train_precision' etc.)\n",
      " |  \n",
      " |  best_estimator_ : estimator\n",
      " |      Estimator that was chosen by the search, i.e. estimator\n",
      " |      which gave highest score (or smallest loss if specified)\n",
      " |      on the left out data. Not available if ``refit=False``.\n",
      " |  \n",
      " |      See ``refit`` parameter for more information on allowed values.\n",
      " |  \n",
      " |  best_score_ : float\n",
      " |      Mean cross-validated score of the best_estimator\n",
      " |  \n",
      " |      For multi-metric evaluation, this is present only if ``refit`` is\n",
      " |      specified.\n",
      " |  \n",
      " |      This attribute is not available if ``refit`` is a function.\n",
      " |  \n",
      " |  best_params_ : dict\n",
      " |      Parameter setting that gave the best results on the hold out data.\n",
      " |  \n",
      " |      For multi-metric evaluation, this is present only if ``refit`` is\n",
      " |      specified.\n",
      " |  \n",
      " |  best_index_ : int\n",
      " |      The index (of the ``cv_results_`` arrays) which corresponds to the best\n",
      " |      candidate parameter setting.\n",
      " |  \n",
      " |      The dict at ``search.cv_results_['params'][search.best_index_]`` gives\n",
      " |      the parameter setting for the best model, that gives the highest\n",
      " |      mean score (``search.best_score_``).\n",
      " |  \n",
      " |      For multi-metric evaluation, this is present only if ``refit`` is\n",
      " |      specified.\n",
      " |  \n",
      " |  scorer_ : function or a dict\n",
      " |      Scorer function used on the held out data to choose the best\n",
      " |      parameters for the model.\n",
      " |  \n",
      " |      For multi-metric evaluation, this attribute holds the validated\n",
      " |      ``scoring`` dict which maps the scorer key to the scorer callable.\n",
      " |  \n",
      " |  n_splits_ : int\n",
      " |      The number of cross-validation splits (folds/iterations).\n",
      " |  \n",
      " |  refit_time_ : float\n",
      " |      Seconds used for refitting the best model on the whole dataset.\n",
      " |  \n",
      " |      This is present only if ``refit`` is not False.\n",
      " |  \n",
      " |      .. versionadded:: 0.20\n",
      " |  \n",
      " |  multimetric_ : bool\n",
      " |      Whether or not the scorers compute several metrics.\n",
      " |  \n",
      " |  classes_ : ndarray of shape (n_classes,)\n",
      " |      The classes labels. This is present only if ``refit`` is specified and\n",
      " |      the underlying estimator is a classifier.\n",
      " |  \n",
      " |  n_features_in_ : int\n",
      " |      Number of features seen during :term:`fit`. Only defined if\n",
      " |      `best_estimator_` is defined (see the documentation for the `refit`\n",
      " |      parameter for more details) and that `best_estimator_` exposes\n",
      " |      `n_features_in_` when fit.\n",
      " |  \n",
      " |      .. versionadded:: 0.24\n",
      " |  \n",
      " |  feature_names_in_ : ndarray of shape (`n_features_in_`,)\n",
      " |      Names of features seen during :term:`fit`. Only defined if\n",
      " |      `best_estimator_` is defined (see the documentation for the `refit`\n",
      " |      parameter for more details) and that `best_estimator_` exposes\n",
      " |      `feature_names_in_` when fit.\n",
      " |  \n",
      " |      .. versionadded:: 1.0\n",
      " |  \n",
      " |  Notes\n",
      " |  -----\n",
      " |  The parameters selected are those that maximize the score of the left out\n",
      " |  data, unless an explicit score is passed in which case it is used instead.\n",
      " |  \n",
      " |  If `n_jobs` was set to a value higher than one, the data is copied for each\n",
      " |  point in the grid (and not `n_jobs` times). This is done for efficiency\n",
      " |  reasons if individual jobs take very little time, but may raise errors if\n",
      " |  the dataset is large and not enough memory is available.  A workaround in\n",
      " |  this case is to set `pre_dispatch`. Then, the memory is copied only\n",
      " |  `pre_dispatch` many times. A reasonable value for `pre_dispatch` is `2 *\n",
      " |  n_jobs`.\n",
      " |  \n",
      " |  See Also\n",
      " |  ---------\n",
      " |  ParameterGrid : Generates all the combinations of a hyperparameter grid.\n",
      " |  train_test_split : Utility function to split the data into a development\n",
      " |      set usable for fitting a GridSearchCV instance and an evaluation set\n",
      " |      for its final evaluation.\n",
      " |  sklearn.metrics.make_scorer : Make a scorer from a performance metric or\n",
      " |      loss function.\n",
      " |  \n",
      " |  Examples\n",
      " |  --------\n",
      " |  >>> from sklearn import svm, datasets\n",
      " |  >>> from sklearn.model_selection import GridSearchCV\n",
      " |  >>> iris = datasets.load_iris()\n",
      " |  >>> parameters = {'kernel':('linear', 'rbf'), 'C':[1, 10]}\n",
      " |  >>> svc = svm.SVC()\n",
      " |  >>> clf = GridSearchCV(svc, parameters)\n",
      " |  >>> clf.fit(iris.data, iris.target)\n",
      " |  GridSearchCV(estimator=SVC(),\n",
      " |               param_grid={'C': [1, 10], 'kernel': ('linear', 'rbf')})\n",
      " |  >>> sorted(clf.cv_results_.keys())\n",
      " |  ['mean_fit_time', 'mean_score_time', 'mean_test_score',...\n",
      " |   'param_C', 'param_kernel', 'params',...\n",
      " |   'rank_test_score', 'split0_test_score',...\n",
      " |   'split2_test_score', ...\n",
      " |   'std_fit_time', 'std_score_time', 'std_test_score']\n",
      " |  \n",
      " |  Method resolution order:\n",
      " |      GridSearchCV\n",
      " |      BaseSearchCV\n",
      " |      sklearn.base.MetaEstimatorMixin\n",
      " |      sklearn.base.BaseEstimator\n",
      " |      builtins.object\n",
      " |  \n",
      " |  Methods defined here:\n",
      " |  \n",
      " |  __init__(self, estimator, param_grid, *, scoring=None, n_jobs=None, refit=True, cv=None, verbose=0, pre_dispatch='2*n_jobs', error_score=nan, return_train_score=False)\n",
      " |      Initialize self.  See help(type(self)) for accurate signature.\n",
      " |  \n",
      " |  ----------------------------------------------------------------------\n",
      " |  Data and other attributes defined here:\n",
      " |  \n",
      " |  __abstractmethods__ = frozenset()\n",
      " |  \n",
      " |  ----------------------------------------------------------------------\n",
      " |  Methods inherited from BaseSearchCV:\n",
      " |  \n",
      " |  decision_function(self, X)\n",
      " |      Call decision_function on the estimator with the best found parameters.\n",
      " |      \n",
      " |      Only available if ``refit=True`` and the underlying estimator supports\n",
      " |      ``decision_function``.\n",
      " |      \n",
      " |      Parameters\n",
      " |      ----------\n",
      " |      X : indexable, length n_samples\n",
      " |          Must fulfill the input assumptions of the\n",
      " |          underlying estimator.\n",
      " |      \n",
      " |      Returns\n",
      " |      -------\n",
      " |      y_score : ndarray of shape (n_samples,) or (n_samples, n_classes)                 or (n_samples, n_classes * (n_classes-1) / 2)\n",
      " |          Result of the decision function for `X` based on the estimator with\n",
      " |          the best found parameters.\n",
      " |  \n",
      " |  fit(self, X, y=None, *, groups=None, **fit_params)\n",
      " |      Run fit with all sets of parameters.\n",
      " |      \n",
      " |      Parameters\n",
      " |      ----------\n",
      " |      \n",
      " |      X : array-like of shape (n_samples, n_features)\n",
      " |          Training vector, where `n_samples` is the number of samples and\n",
      " |          `n_features` is the number of features.\n",
      " |      \n",
      " |      y : array-like of shape (n_samples, n_output)             or (n_samples,), default=None\n",
      " |          Target relative to X for classification or regression;\n",
      " |          None for unsupervised learning.\n",
      " |      \n",
      " |      groups : array-like of shape (n_samples,), default=None\n",
      " |          Group labels for the samples used while splitting the dataset into\n",
      " |          train/test set. Only used in conjunction with a \"Group\" :term:`cv`\n",
      " |          instance (e.g., :class:`~sklearn.model_selection.GroupKFold`).\n",
      " |      \n",
      " |      **fit_params : dict of str -> object\n",
      " |          Parameters passed to the ``fit`` method of the estimator.\n",
      " |      \n",
      " |      Returns\n",
      " |      -------\n",
      " |      self : object\n",
      " |          Instance of fitted estimator.\n",
      " |  \n",
      " |  inverse_transform(self, Xt)\n",
      " |      Call inverse_transform on the estimator with the best found params.\n",
      " |      \n",
      " |      Only available if the underlying estimator implements\n",
      " |      ``inverse_transform`` and ``refit=True``.\n",
      " |      \n",
      " |      Parameters\n",
      " |      ----------\n",
      " |      Xt : indexable, length n_samples\n",
      " |          Must fulfill the input assumptions of the\n",
      " |          underlying estimator.\n",
      " |      \n",
      " |      Returns\n",
      " |      -------\n",
      " |      X : {ndarray, sparse matrix} of shape (n_samples, n_features)\n",
      " |          Result of the `inverse_transform` function for `Xt` based on the\n",
      " |          estimator with the best found parameters.\n",
      " |  \n",
      " |  predict(self, X)\n",
      " |      Call predict on the estimator with the best found parameters.\n",
      " |      \n",
      " |      Only available if ``refit=True`` and the underlying estimator supports\n",
      " |      ``predict``.\n",
      " |      \n",
      " |      Parameters\n",
      " |      ----------\n",
      " |      X : indexable, length n_samples\n",
      " |          Must fulfill the input assumptions of the\n",
      " |          underlying estimator.\n",
      " |      \n",
      " |      Returns\n",
      " |      -------\n",
      " |      y_pred : ndarray of shape (n_samples,)\n",
      " |          The predicted labels or values for `X` based on the estimator with\n",
      " |          the best found parameters.\n",
      " |  \n",
      " |  predict_log_proba(self, X)\n",
      " |      Call predict_log_proba on the estimator with the best found parameters.\n",
      " |      \n",
      " |      Only available if ``refit=True`` and the underlying estimator supports\n",
      " |      ``predict_log_proba``.\n",
      " |      \n",
      " |      Parameters\n",
      " |      ----------\n",
      " |      X : indexable, length n_samples\n",
      " |          Must fulfill the input assumptions of the\n",
      " |          underlying estimator.\n",
      " |      \n",
      " |      Returns\n",
      " |      -------\n",
      " |      y_pred : ndarray of shape (n_samples,) or (n_samples, n_classes)\n",
      " |          Predicted class log-probabilities for `X` based on the estimator\n",
      " |          with the best found parameters. The order of the classes\n",
      " |          corresponds to that in the fitted attribute :term:`classes_`.\n",
      " |  \n",
      " |  predict_proba(self, X)\n",
      " |      Call predict_proba on the estimator with the best found parameters.\n",
      " |      \n",
      " |      Only available if ``refit=True`` and the underlying estimator supports\n",
      " |      ``predict_proba``.\n",
      " |      \n",
      " |      Parameters\n",
      " |      ----------\n",
      " |      X : indexable, length n_samples\n",
      " |          Must fulfill the input assumptions of the\n",
      " |          underlying estimator.\n",
      " |      \n",
      " |      Returns\n",
      " |      -------\n",
      " |      y_pred : ndarray of shape (n_samples,) or (n_samples, n_classes)\n",
      " |          Predicted class probabilities for `X` based on the estimator with\n",
      " |          the best found parameters. The order of the classes corresponds\n",
      " |          to that in the fitted attribute :term:`classes_`.\n",
      " |  \n",
      " |  score(self, X, y=None)\n",
      " |      Return the score on the given data, if the estimator has been refit.\n",
      " |      \n",
      " |      This uses the score defined by ``scoring`` where provided, and the\n",
      " |      ``best_estimator_.score`` method otherwise.\n",
      " |      \n",
      " |      Parameters\n",
      " |      ----------\n",
      " |      X : array-like of shape (n_samples, n_features)\n",
      " |          Input data, where `n_samples` is the number of samples and\n",
      " |          `n_features` is the number of features.\n",
      " |      \n",
      " |      y : array-like of shape (n_samples, n_output)             or (n_samples,), default=None\n",
      " |          Target relative to X for classification or regression;\n",
      " |          None for unsupervised learning.\n",
      " |      \n",
      " |      Returns\n",
      " |      -------\n",
      " |      score : float\n",
      " |          The score defined by ``scoring`` if provided, and the\n",
      " |          ``best_estimator_.score`` method otherwise.\n",
      " |  \n",
      " |  score_samples(self, X)\n",
      " |      Call score_samples on the estimator with the best found parameters.\n",
      " |      \n",
      " |      Only available if ``refit=True`` and the underlying estimator supports\n",
      " |      ``score_samples``.\n",
      " |      \n",
      " |      .. versionadded:: 0.24\n",
      " |      \n",
      " |      Parameters\n",
      " |      ----------\n",
      " |      X : iterable\n",
      " |          Data to predict on. Must fulfill input requirements\n",
      " |          of the underlying estimator.\n",
      " |      \n",
      " |      Returns\n",
      " |      -------\n",
      " |      y_score : ndarray of shape (n_samples,)\n",
      " |          The ``best_estimator_.score_samples`` method.\n",
      " |  \n",
      " |  transform(self, X)\n",
      " |      Call transform on the estimator with the best found parameters.\n",
      " |      \n",
      " |      Only available if the underlying estimator supports ``transform`` and\n",
      " |      ``refit=True``.\n",
      " |      \n",
      " |      Parameters\n",
      " |      ----------\n",
      " |      X : indexable, length n_samples\n",
      " |          Must fulfill the input assumptions of the\n",
      " |          underlying estimator.\n",
      " |      \n",
      " |      Returns\n",
      " |      -------\n",
      " |      Xt : {ndarray, sparse matrix} of shape (n_samples, n_features)\n",
      " |          `X` transformed in the new space based on the estimator with\n",
      " |          the best found parameters.\n",
      " |  \n",
      " |  ----------------------------------------------------------------------\n",
      " |  Readonly properties inherited from BaseSearchCV:\n",
      " |  \n",
      " |  classes_\n",
      " |      Class labels.\n",
      " |      \n",
      " |      Only available when `refit=True` and the estimator is a classifier.\n",
      " |  \n",
      " |  n_features_in_\n",
      " |      Number of features seen during :term:`fit`.\n",
      " |      \n",
      " |      Only available when `refit=True`.\n",
      " |  \n",
      " |  ----------------------------------------------------------------------\n",
      " |  Data descriptors inherited from sklearn.base.MetaEstimatorMixin:\n",
      " |  \n",
      " |  __dict__\n",
      " |      dictionary for instance variables (if defined)\n",
      " |  \n",
      " |  __weakref__\n",
      " |      list of weak references to the object (if defined)\n",
      " |  \n",
      " |  ----------------------------------------------------------------------\n",
      " |  Methods inherited from sklearn.base.BaseEstimator:\n",
      " |  \n",
      " |  __getstate__(self)\n",
      " |  \n",
      " |  __repr__(self, N_CHAR_MAX=700)\n",
      " |      Return repr(self).\n",
      " |  \n",
      " |  __setstate__(self, state)\n",
      " |  \n",
      " |  get_params(self, deep=True)\n",
      " |      Get parameters for this estimator.\n",
      " |      \n",
      " |      Parameters\n",
      " |      ----------\n",
      " |      deep : bool, default=True\n",
      " |          If True, will return the parameters for this estimator and\n",
      " |          contained subobjects that are estimators.\n",
      " |      \n",
      " |      Returns\n",
      " |      -------\n",
      " |      params : dict\n",
      " |          Parameter names mapped to their values.\n",
      " |  \n",
      " |  set_params(self, **params)\n",
      " |      Set the parameters of this estimator.\n",
      " |      \n",
      " |      The method works on simple estimators as well as on nested objects\n",
      " |      (such as :class:`~sklearn.pipeline.Pipeline`). The latter have\n",
      " |      parameters of the form ``<component>__<parameter>`` so that it's\n",
      " |      possible to update each component of a nested object.\n",
      " |      \n",
      " |      Parameters\n",
      " |      ----------\n",
      " |      **params : dict\n",
      " |          Estimator parameters.\n",
      " |      \n",
      " |      Returns\n",
      " |      -------\n",
      " |      self : estimator instance\n",
      " |          Estimator instance.\n",
      "\n"
     ]
    }
   ],
   "source": [
    "help(GridSearchCV)"
   ]
  },
  {
   "cell_type": "code",
   "execution_count": 92,
   "metadata": {},
   "outputs": [],
   "source": [
    "import xgboost as xgb\n",
    "xgb_model = xgb.XGBClassifier()"
   ]
  },
  {
   "cell_type": "code",
   "execution_count": 93,
   "metadata": {},
   "outputs": [],
   "source": [
    "parameters = {'nthread':[4], #when use hyperthread, xgboost may become slower\n",
    "              'objective':['binary:logistic'],\n",
    "              'learning_rate': [0.05], #so called `eta` value\n",
    "              'max_depth': [6],\n",
    "              'min_child_weight': [11],\n",
    "              'silent': [1],\n",
    "              'subsample': [0.8],\n",
    "              'colsample_bytree': [0.7],\n",
    "              'n_estimators': [5], #number of trees, change it to 1000 for better results\n",
    "              'missing':[-999],\n",
    "              'seed': [1337],\n",
    "              'C': [0.001, 0.01, 0.1, 0.5, 1],\n",
    "              'penalty': ['l1', 'l2', 'elasticnet', 'none'],\n",
    "              'class_weight': ['balanced', None]}\n",
    "\n",
    "clf = GridSearchCV(xgb_model, parameters, n_jobs=5, \n",
    "                   cv=StratifiedKFold(n_splits = 5, shuffle=True, random_state = 10), \n",
    "                   scoring='roc_auc',\n",
    "                   verbose=2, refit=True)\n",
    "\n"
   ]
  },
  {
   "cell_type": "code",
   "execution_count": 94,
   "metadata": {},
   "outputs": [
    {
     "name": "stdout",
     "output_type": "stream",
     "text": [
      "Fitting 5 folds for each of 40 candidates, totalling 200 fits\n",
      "[20:32:27] WARNING: C:/buildkite-agent/builds/buildkite-windows-cpu-autoscaling-group-i-0ac76685cf763591d-1/xgboost/xgboost-ci-windows/src/learner.cc:767: \n",
      "Parameters: { \"C\", \"class_weight\", \"penalty\", \"silent\" } are not used.\n",
      "\n"
     ]
    },
    {
     "data": {
      "text/plain": [
       "GridSearchCV(cv=StratifiedKFold(n_splits=5, random_state=10, shuffle=True),\n",
       "             estimator=XGBClassifier(base_score=None, booster=None,\n",
       "                                     callbacks=None, colsample_bylevel=None,\n",
       "                                     colsample_bynode=None,\n",
       "                                     colsample_bytree=None,\n",
       "                                     early_stopping_rounds=None,\n",
       "                                     enable_categorical=False, eval_metric=None,\n",
       "                                     feature_types=None, gamma=None,\n",
       "                                     gpu_id=None, grow_policy=None,\n",
       "                                     importance_typ...\n",
       "             param_grid={'C': [0.001, 0.01, 0.1, 0.5, 1],\n",
       "                         'class_weight': ['balanced', None],\n",
       "                         'colsample_bytree': [0.7], 'learning_rate': [0.05],\n",
       "                         'max_depth': [6], 'min_child_weight': [11],\n",
       "                         'missing': [-999], 'n_estimators': [5], 'nthread': [4],\n",
       "                         'objective': ['binary:logistic'],\n",
       "                         'penalty': ['l1', 'l2', 'elasticnet', 'none'],\n",
       "                         'seed': [1337], 'silent': [1], 'subsample': [0.8]},\n",
       "             scoring='roc_auc', verbose=2)"
      ]
     },
     "execution_count": 94,
     "metadata": {},
     "output_type": "execute_result"
    }
   ],
   "source": [
    "clf.fit(X_train, y_train)"
   ]
  },
  {
   "cell_type": "code",
   "execution_count": 95,
   "metadata": {},
   "outputs": [],
   "source": [
    "y_pred_proba_train = clf.predict_proba(X_train)[:, 1]\n",
    "y_pred_proba_test = clf.predict_proba(X_test)[:, 1]\n",
    "y_pred_train = clf.predict(X_train)\n",
    "y_pred_test = clf.predict(X_test)"
   ]
  },
  {
   "cell_type": "code",
   "execution_count": 96,
   "metadata": {},
   "outputs": [],
   "source": [
    "# métrica no treino e test\n",
    "roc_auc_train = roc_auc_score(y_train, y_pred_proba_train)\n",
    "roc_auc_test = roc_auc_score(y_test, y_pred_proba_test)"
   ]
  },
  {
   "cell_type": "code",
   "execution_count": 97,
   "metadata": {},
   "outputs": [
    {
     "data": {
      "text/plain": [
       "(0.8745809795766343, 0.7957774584929758)"
      ]
     },
     "execution_count": 97,
     "metadata": {},
     "output_type": "execute_result"
    }
   ],
   "source": [
    "roc_auc_train , roc_auc_test"
   ]
  },
  {
   "cell_type": "code",
   "execution_count": 98,
   "metadata": {},
   "outputs": [
    {
     "name": "stdout",
     "output_type": "stream",
     "text": [
      "              precision    recall  f1-score   support\n",
      "\n",
      "           0       0.94      0.71      0.81       191\n",
      "           1       0.37      0.80      0.50        40\n",
      "\n",
      "    accuracy                           0.73       231\n",
      "   macro avg       0.66      0.76      0.66       231\n",
      "weighted avg       0.84      0.73      0.76       231\n",
      "\n"
     ]
    }
   ],
   "source": [
    "print(classification_report(y_pred_test, y_test))"
   ]
  },
  {
   "cell_type": "code",
   "execution_count": 56,
   "metadata": {},
   "outputs": [
    {
     "data": {
      "image/png": "[encoded data removed]",
      "text/plain": [
       "<Figure size 432x288 with 1 Axes>"
      ]
     },
     "metadata": {
      "needs_background": "light"
     },
     "output_type": "display_data"
    },
    {
     "data": {
      "image/png": "[encoded data removed]",
      "text/plain": [
       "<Figure size 432x288 with 1 Axes>"
      ]
     },
     "metadata": {
      "needs_background": "light"
     },
     "output_type": "display_data"
    }
   ],
   "source": [
    "# Checando as distribuições\n",
    "sns.histplot(X_train['age'])\n",
    "plt.show()\n",
    "sns.histplot(X_train['mass'])\n",
    "plt.show()"
   ]
  },
  {
   "cell_type": "markdown",
   "metadata": {},
   "source": [
    "Agora usaremos o scikit-learn para aplicar o MinMaxScaler, RobustScaler e StandardScaler."
   ]
  },
  {
   "cell_type": "code",
   "execution_count": 57,
   "metadata": {},
   "outputs": [],
   "source": [
    "min_max_scaler = MinMaxScaler(feature_range = (0, 1))"
   ]
  },
  {
   "cell_type": "markdown",
   "metadata": {},
   "source": [
    "Agora precisamos usar os métodos `fit()` e `transform()`. O `fit()` irá realizar a extração do que precisa para realizar a transformação, no caso do MinMax, equivale à extrair os valores mínimo e máximo. Em seguida, usamos o método `transform()` para realizar a transformação."
   ]
  },
  {
   "cell_type": "markdown",
   "metadata": {},
   "source": [
    "Iremos aplicar o MinMax na features `mass`."
   ]
  },
  {
   "cell_type": "code",
   "execution_count": 58,
   "metadata": {},
   "outputs": [
    {
     "data": {
      "text/plain": [
       "count    537.000000\n",
       "mean      31.963873\n",
       "std        7.819653\n",
       "min        0.000000\n",
       "25%       27.500000\n",
       "50%       32.000000\n",
       "75%       36.500000\n",
       "max       67.100000\n",
       "Name: mass, dtype: float64"
      ]
     },
     "execution_count": 58,
     "metadata": {},
     "output_type": "execute_result"
    }
   ],
   "source": [
    "X_train.mass.describe()"
   ]
  },
  {
   "cell_type": "code",
   "execution_count": 59,
   "metadata": {},
   "outputs": [
    {
     "data": {
      "text/plain": [
       "MinMaxScaler()"
      ]
     },
     "execution_count": 59,
     "metadata": {},
     "output_type": "execute_result"
    }
   ],
   "source": [
    "min_max_scaler.fit(X_train[['mass']])"
   ]
  },
  {
   "cell_type": "code",
   "execution_count": 60,
   "metadata": {},
   "outputs": [
    {
     "data": {
      "text/plain": [
       "array([[0.49925484],\n",
       "       [0.43070045],\n",
       "       [0.40983607],\n",
       "       [0.5752608 ],\n",
       "       [0.30402385],\n",
       "       [0.45454545],\n",
       "       [0.42324888],\n",
       "       [0.35320417],\n",
       "       [0.52011923],\n",
       "       [0.29210134],\n",
       "       [0.4485842 ],\n",
       "       [0.3681073 ],\n",
       "       [0.59165425],\n",
       "       [0.31445604],\n",
       "       [0.4709389 ],\n",
       "       [0.52160954],\n",
       "       [0.4366617 ],\n",
       "       [0.47690015],\n",
       "       [0.50074516],\n",
       "       [0.41132638],\n",
       "       [0.41728763],\n",
       "       [0.56184799],\n",
       "       [0.48733234],\n",
       "       [0.46050671],\n",
       "       [0.32637854],\n",
       "       [0.37406855],\n",
       "       [0.37257824],\n",
       "       [0.48137109],\n",
       "       [0.49627422],\n",
       "       [0.31594635],\n",
       "       [0.52757079],\n",
       "       [0.50968703],\n",
       "       [0.54843517],\n",
       "       [0.64679583],\n",
       "       [0.45901639],\n",
       "       [0.58271237],\n",
       "       [0.42771982],\n",
       "       [0.46497765],\n",
       "       [0.56780924],\n",
       "       [0.47690015],\n",
       "       [0.47690015],\n",
       "       [0.60804769],\n",
       "       [0.54694486],\n",
       "       [0.49627422],\n",
       "       [0.59463487],\n",
       "       [0.51862891],\n",
       "       [0.8852459 ],\n",
       "       [0.38152012],\n",
       "       [0.40834575],\n",
       "       [0.32488823],\n",
       "       [0.4023845 ],\n",
       "       [0.4023845 ],\n",
       "       [0.48882265],\n",
       "       [0.48435171],\n",
       "       [0.39642325],\n",
       "       [0.56184799],\n",
       "       [0.42771982],\n",
       "       [0.57078987],\n",
       "       [0.4828614 ],\n",
       "       [0.68852459],\n",
       "       [0.53502235],\n",
       "       [0.55737705],\n",
       "       [0.38897168],\n",
       "       [0.52608048],\n",
       "       [0.66318927],\n",
       "       [0.45901639],\n",
       "       [0.51117735],\n",
       "       [0.41728763],\n",
       "       [0.55439642],\n",
       "       [0.67362146],\n",
       "       [0.43964232],\n",
       "       [0.53353204],\n",
       "       [0.49031297],\n",
       "       [0.36065574],\n",
       "       [0.58420268],\n",
       "       [0.53502235],\n",
       "       [0.49627422],\n",
       "       [0.58867362],\n",
       "       [0.5052161 ],\n",
       "       [0.4828614 ],\n",
       "       [0.57228018],\n",
       "       [0.42026826],\n",
       "       [0.71385991],\n",
       "       [0.49329359],\n",
       "       [0.55290611],\n",
       "       [0.63040238],\n",
       "       [0.38897168],\n",
       "       [0.45901639],\n",
       "       [0.28912072],\n",
       "       [0.45454545],\n",
       "       [0.44560358],\n",
       "       [0.51117735],\n",
       "       [0.29061103],\n",
       "       [0.44560358],\n",
       "       [0.49329359],\n",
       "       [0.44709389],\n",
       "       [0.37257824],\n",
       "       [0.42771982],\n",
       "       [0.62295082],\n",
       "       [0.35320417],\n",
       "       [0.48435171],\n",
       "       [0.46497765],\n",
       "       [0.51415797],\n",
       "       [0.36661699],\n",
       "       [0.48733234],\n",
       "       [0.38152012],\n",
       "       [0.49031297],\n",
       "       [0.48882265],\n",
       "       [0.52160954],\n",
       "       [0.32637854],\n",
       "       [0.4485842 ],\n",
       "       [0.61847988],\n",
       "       [0.31296572],\n",
       "       [0.41877794],\n",
       "       [0.47690015],\n",
       "       [0.36214605],\n",
       "       [0.54843517],\n",
       "       [0.4709389 ],\n",
       "       [0.3442623 ],\n",
       "       [0.4709389 ],\n",
       "       [0.54992548],\n",
       "       [0.34575261],\n",
       "       [0.41728763],\n",
       "       [0.41281669],\n",
       "       [0.56631893],\n",
       "       [0.85394933],\n",
       "       [0.54098361],\n",
       "       [0.38599106],\n",
       "       [0.33084948],\n",
       "       [0.41579732],\n",
       "       [0.37704918],\n",
       "       [0.45454545],\n",
       "       [0.56035768],\n",
       "       [0.        ],\n",
       "       [0.53353204],\n",
       "       [0.67064083],\n",
       "       [0.38002981],\n",
       "       [0.35022355],\n",
       "       [0.51117735],\n",
       "       [0.43964232],\n",
       "       [0.64828614],\n",
       "       [0.64679583],\n",
       "       [0.41728763],\n",
       "       [0.609538  ],\n",
       "       [0.41132638],\n",
       "       [0.4828614 ],\n",
       "       [0.50670641],\n",
       "       [0.67511177],\n",
       "       [0.38450075],\n",
       "       [0.50968703],\n",
       "       [0.53204173],\n",
       "       [0.52309985],\n",
       "       [0.44262295],\n",
       "       [0.55886736],\n",
       "       [0.58718331],\n",
       "       [0.62742176],\n",
       "       [0.58122206],\n",
       "       [0.41132638],\n",
       "       [0.57377049],\n",
       "       [0.74068554],\n",
       "       [0.45305514],\n",
       "       [0.68852459],\n",
       "       [0.46348733],\n",
       "       [0.29210134],\n",
       "       [0.        ],\n",
       "       [0.4709389 ],\n",
       "       [0.27123696],\n",
       "       [0.52309985],\n",
       "       [0.3681073 ],\n",
       "       [0.        ],\n",
       "       [0.40983607],\n",
       "       [0.45007452],\n",
       "       [0.50372578],\n",
       "       [0.39344262],\n",
       "       [0.4247392 ],\n",
       "       [0.50372578],\n",
       "       [0.38748137],\n",
       "       [0.43964232],\n",
       "       [0.66318927],\n",
       "       [0.5171386 ],\n",
       "       [0.44560358],\n",
       "       [0.39642325],\n",
       "       [0.609538  ],\n",
       "       [0.49031297],\n",
       "       [0.48435171],\n",
       "       [0.3561848 ],\n",
       "       [0.4485842 ],\n",
       "       [0.32488823],\n",
       "       [0.53204173],\n",
       "       [0.40536513],\n",
       "       [0.44262295],\n",
       "       [0.53800298],\n",
       "       [0.50223547],\n",
       "       [0.36065574],\n",
       "       [0.4709389 ],\n",
       "       [0.44262295],\n",
       "       [0.55439642],\n",
       "       [0.59314456],\n",
       "       [0.40685544],\n",
       "       [0.50968703],\n",
       "       [0.38897168],\n",
       "       [0.6557377 ],\n",
       "       [0.67958271],\n",
       "       [0.50968703],\n",
       "       [0.4366617 ],\n",
       "       [0.3681073 ],\n",
       "       [0.64530551],\n",
       "       [0.51564829],\n",
       "       [0.5290611 ],\n",
       "       [0.45454545],\n",
       "       [0.42324888],\n",
       "       [0.43219076],\n",
       "       [0.48882265],\n",
       "       [0.50670641],\n",
       "       [0.45901639],\n",
       "       [0.56929955],\n",
       "       [0.46050671],\n",
       "       [0.45454545],\n",
       "       [0.48882265],\n",
       "       [0.45305514],\n",
       "       [1.        ],\n",
       "       [0.54843517],\n",
       "       [0.50670641],\n",
       "       [0.74515648],\n",
       "       [0.38599106],\n",
       "       [0.56482861],\n",
       "       [0.56929955],\n",
       "       [0.44411326],\n",
       "       [0.35171386],\n",
       "       [0.42324888],\n",
       "       [0.73919523],\n",
       "       [0.34873323],\n",
       "       [0.57377049],\n",
       "       [0.45901639],\n",
       "       [0.61549925],\n",
       "       [0.59463487],\n",
       "       [0.55588674],\n",
       "       [0.55439642],\n",
       "       [0.44113264],\n",
       "       [0.50372578],\n",
       "       [0.5633383 ],\n",
       "       [0.52757079],\n",
       "       [0.38152012],\n",
       "       [0.63934426],\n",
       "       [0.48435171],\n",
       "       [0.46497765],\n",
       "       [0.3099851 ],\n",
       "       [0.60357675],\n",
       "       [0.65871833],\n",
       "       [0.34724292],\n",
       "       [0.4947839 ],\n",
       "       [0.46497765],\n",
       "       [0.36959762],\n",
       "       [0.57377049],\n",
       "       [0.        ],\n",
       "       [0.35469449],\n",
       "       [0.        ],\n",
       "       [0.68107303],\n",
       "       [0.37555887],\n",
       "       [0.60357675],\n",
       "       [0.32488823],\n",
       "       [0.46050671],\n",
       "       [0.3338301 ],\n",
       "       [0.50819672],\n",
       "       [0.52011923],\n",
       "       [0.54396423],\n",
       "       [0.51862891],\n",
       "       [0.66467958],\n",
       "       [0.44113264],\n",
       "       [0.53651267],\n",
       "       [0.35916542],\n",
       "       [0.50819672],\n",
       "       [0.54545455],\n",
       "       [0.37853949],\n",
       "       [0.53502235],\n",
       "       [0.51266766],\n",
       "       [0.47690015],\n",
       "       [0.49627422],\n",
       "       [0.34128167],\n",
       "       [0.53204173],\n",
       "       [0.585693  ],\n",
       "       [0.54396423],\n",
       "       [0.47690015],\n",
       "       [0.56184799],\n",
       "       [0.44560358],\n",
       "       [0.37257824],\n",
       "       [0.58867362],\n",
       "       [0.40983607],\n",
       "       [0.47690015],\n",
       "       [0.3099851 ],\n",
       "       [0.414307  ],\n",
       "       [0.41728763],\n",
       "       [0.36065574],\n",
       "       [0.4947839 ],\n",
       "       [0.49031297],\n",
       "       [0.45752608],\n",
       "       [0.51564829],\n",
       "       [0.390462  ],\n",
       "       [0.59612519],\n",
       "       [0.46497765],\n",
       "       [0.61549925],\n",
       "       [0.54545455],\n",
       "       [0.53651267],\n",
       "       [0.4709389 ],\n",
       "       [0.77943368],\n",
       "       [0.38152012],\n",
       "       [0.64977645],\n",
       "       [0.        ],\n",
       "       [0.4947839 ],\n",
       "       [0.56184799],\n",
       "       [0.5290611 ],\n",
       "       [0.57377049],\n",
       "       [0.51117735],\n",
       "       [0.2876304 ],\n",
       "       [0.44709389],\n",
       "       [0.42771982],\n",
       "       [0.44411326],\n",
       "       [0.58420268],\n",
       "       [0.29955291],\n",
       "       [0.51266766],\n",
       "       [0.49627422],\n",
       "       [0.46050671],\n",
       "       [0.42324888],\n",
       "       [0.53502235],\n",
       "       [0.45901639],\n",
       "       [0.48733234],\n",
       "       [0.414307  ],\n",
       "       [0.49031297],\n",
       "       [0.43070045],\n",
       "       [0.40983607],\n",
       "       [0.51117735],\n",
       "       [0.42175857],\n",
       "       [0.33830104],\n",
       "       [0.47690015],\n",
       "       [0.50223547],\n",
       "       [0.43070045],\n",
       "       [0.67958271],\n",
       "       [0.53204173],\n",
       "       [0.5171386 ],\n",
       "       [0.50074516],\n",
       "       [0.        ],\n",
       "       [0.34277198],\n",
       "       [0.41132638],\n",
       "       [0.52160954],\n",
       "       [0.50074516],\n",
       "       [0.61400894],\n",
       "       [0.35022355],\n",
       "       [0.33233979],\n",
       "       [0.56780924],\n",
       "       [0.5290611 ],\n",
       "       [0.36512668],\n",
       "       [0.64530551],\n",
       "       [0.40387481],\n",
       "       [0.52757079],\n",
       "       [0.4485842 ],\n",
       "       [0.54545455],\n",
       "       [0.56929955],\n",
       "       [0.49627422],\n",
       "       [0.44262295],\n",
       "       [0.47540984],\n",
       "       [0.37853949],\n",
       "       [0.4709389 ],\n",
       "       [0.55737705],\n",
       "       [0.390462  ],\n",
       "       [0.54396423],\n",
       "       [0.42921013],\n",
       "       [0.38599106],\n",
       "       [0.42771982],\n",
       "       [0.3442623 ],\n",
       "       [0.37555887],\n",
       "       [0.5633383 ],\n",
       "       [0.43219076],\n",
       "       [0.34575261],\n",
       "       [0.4947839 ],\n",
       "       [0.36959762],\n",
       "       [0.55737705],\n",
       "       [0.4828614 ],\n",
       "       [0.39642325],\n",
       "       [0.35022355],\n",
       "       [0.47540984],\n",
       "       [0.58718331],\n",
       "       [0.62891207],\n",
       "       [0.45156483],\n",
       "       [0.34724292],\n",
       "       [0.63487332],\n",
       "       [0.32488823],\n",
       "       [0.55886736],\n",
       "       [0.33532042],\n",
       "       [0.52011923],\n",
       "       [0.50074516],\n",
       "       [0.6318927 ],\n",
       "       [0.6780924 ],\n",
       "       [0.57675112],\n",
       "       [0.42771982],\n",
       "       [0.50819672],\n",
       "       [0.39344262],\n",
       "       [0.54098361],\n",
       "       [0.29061103],\n",
       "       [0.38748137],\n",
       "       [0.61549925],\n",
       "       [0.4828614 ],\n",
       "       [0.38599106],\n",
       "       [0.52011923],\n",
       "       [0.58271237],\n",
       "       [0.60506706],\n",
       "       [0.54396423],\n",
       "       [0.31445604],\n",
       "       [0.48137109],\n",
       "       [0.4366617 ],\n",
       "       [0.45305514],\n",
       "       [0.5052161 ],\n",
       "       [0.37704918],\n",
       "       [0.63636364],\n",
       "       [0.61847988],\n",
       "       [0.49627422],\n",
       "       [0.60506706],\n",
       "       [0.45901639],\n",
       "       [0.5976155 ],\n",
       "       [0.59463487],\n",
       "       [0.51415797],\n",
       "       [0.48882265],\n",
       "       [0.36065574],\n",
       "       [0.5290611 ],\n",
       "       [0.57675112],\n",
       "       [0.37406855],\n",
       "       [0.37406855],\n",
       "       [0.28464978],\n",
       "       [0.59910581],\n",
       "       [0.44113264],\n",
       "       [0.46497765],\n",
       "       [0.40536513],\n",
       "       [0.44262295],\n",
       "       [0.41132638],\n",
       "       [0.50223547],\n",
       "       [0.40387481],\n",
       "       [0.37257824],\n",
       "       [0.36065574],\n",
       "       [0.27123696],\n",
       "       [0.4947839 ],\n",
       "       [0.50968703],\n",
       "       [0.38599106],\n",
       "       [0.4709389 ],\n",
       "       [0.49031297],\n",
       "       [0.4366617 ],\n",
       "       [0.414307  ],\n",
       "       [0.43964232],\n",
       "       [0.54992548],\n",
       "       [0.37853949],\n",
       "       [0.44560358],\n",
       "       [0.58718331],\n",
       "       [0.53502235],\n",
       "       [0.64530551],\n",
       "       [0.37257824],\n",
       "       [0.5290611 ],\n",
       "       [0.45901639],\n",
       "       [0.50968703],\n",
       "       [0.56035768],\n",
       "       [0.414307  ],\n",
       "       [0.46497765],\n",
       "       [0.31445604],\n",
       "       [0.57675112],\n",
       "       [0.32488823],\n",
       "       [0.46497765],\n",
       "       [0.54992548],\n",
       "       [0.41281669],\n",
       "       [0.52011923],\n",
       "       [0.48882265],\n",
       "       [0.56631893],\n",
       "       [0.64232489],\n",
       "       [0.58718331],\n",
       "       [0.40834575],\n",
       "       [0.57824143],\n",
       "       [0.44709389],\n",
       "       [0.50372578],\n",
       "       [0.33084948],\n",
       "       [0.57973174],\n",
       "       [0.5290611 ],\n",
       "       [0.44709389],\n",
       "       [0.42622951],\n",
       "       [0.40834575],\n",
       "       [0.35767511],\n",
       "       [0.58271237],\n",
       "       [0.44709389],\n",
       "       [0.32935917],\n",
       "       [0.53353204],\n",
       "       [0.47690015],\n",
       "       [0.50670641],\n",
       "       [0.6900149 ],\n",
       "       [0.59612519],\n",
       "       [0.43070045],\n",
       "       [0.40834575],\n",
       "       [0.35469449],\n",
       "       [0.44411326],\n",
       "       [0.45305514],\n",
       "       [0.58867362],\n",
       "       [0.4709389 ],\n",
       "       [0.50819672],\n",
       "       [0.39493294],\n",
       "       [0.50074516],\n",
       "       [0.47690015],\n",
       "       [0.39940387],\n",
       "       [0.37853949],\n",
       "       [0.6318927 ],\n",
       "       [0.4485842 ],\n",
       "       [0.29210134],\n",
       "       [0.56184799],\n",
       "       [0.73472429],\n",
       "       [0.63040238],\n",
       "       [0.68703428],\n",
       "       [0.46199702],\n",
       "       [0.51415797],\n",
       "       [0.4485842 ],\n",
       "       [0.50074516],\n",
       "       [0.57377049],\n",
       "       [0.54843517],\n",
       "       [0.5171386 ],\n",
       "       [0.41281669],\n",
       "       [0.27421759],\n",
       "       [0.49627422],\n",
       "       [0.45901639],\n",
       "       [0.        ],\n",
       "       [0.67511177],\n",
       "       [0.58122206],\n",
       "       [0.50670641],\n",
       "       [0.54843517],\n",
       "       [0.4485842 ],\n",
       "       [0.52309985],\n",
       "       [0.45454545],\n",
       "       [0.38748137],\n",
       "       [0.43219076],\n",
       "       [0.36661699],\n",
       "       [0.39940387],\n",
       "       [0.48882265],\n",
       "       [0.40983607],\n",
       "       [0.39195231],\n",
       "       [0.81967213],\n",
       "       [0.50074516]])"
      ]
     },
     "execution_count": 60,
     "metadata": {},
     "output_type": "execute_result"
    }
   ],
   "source": [
    "min_max_scaler.transform(X_train[['mass']])"
   ]
  },
  {
   "cell_type": "markdown",
   "metadata": {},
   "source": [
    "Podemos usar também o método `fit_transform()` para realizar a extração dos parâmetros e aplicar a transformação."
   ]
  },
  {
   "cell_type": "code",
   "execution_count": 61,
   "metadata": {},
   "outputs": [],
   "source": [
    "mass_new = min_max_scaler.fit_transform(X_train[['mass']])"
   ]
  },
  {
   "cell_type": "markdown",
   "metadata": {},
   "source": [
    "Novos valores máximo e mínimo:"
   ]
  },
  {
   "cell_type": "code",
   "execution_count": 62,
   "metadata": {},
   "outputs": [
    {
     "data": {
      "text/plain": [
       "(0.0, 1.0)"
      ]
     },
     "execution_count": 62,
     "metadata": {},
     "output_type": "execute_result"
    }
   ],
   "source": [
    "mass_new.min(), mass_new.max()"
   ]
  },
  {
   "cell_type": "code",
   "execution_count": 63,
   "metadata": {},
   "outputs": [],
   "source": [
    "mass_new = pd.DataFrame(mass_new, columns = ['mass'])"
   ]
  },
  {
   "cell_type": "code",
   "execution_count": 64,
   "metadata": {},
   "outputs": [
    {
     "data": {
      "text/html": [
       "<div>\n",
       "<style scoped>\n",
       "    .dataframe tbody tr th:only-of-type {\n",
       "        vertical-align: middle;\n",
       "    }\n",
       "\n",
       "    .dataframe tbody tr th {\n",
       "        vertical-align: top;\n",
       "    }\n",
       "\n",
       "    .dataframe thead th {\n",
       "        text-align: right;\n",
       "    }\n",
       "</style>\n",
       "<table border=\"1\" class=\"dataframe\">\n",
       "  <thead>\n",
       "    <tr style=\"text-align: right;\">\n",
       "      <th></th>\n",
       "      <th>mass</th>\n",
       "    </tr>\n",
       "  </thead>\n",
       "  <tbody>\n",
       "    <tr>\n",
       "      <th>count</th>\n",
       "      <td>537.000000</td>\n",
       "    </tr>\n",
       "    <tr>\n",
       "      <th>mean</th>\n",
       "      <td>0.476362</td>\n",
       "    </tr>\n",
       "    <tr>\n",
       "      <th>std</th>\n",
       "      <td>0.116537</td>\n",
       "    </tr>\n",
       "    <tr>\n",
       "      <th>min</th>\n",
       "      <td>0.000000</td>\n",
       "    </tr>\n",
       "    <tr>\n",
       "      <th>25%</th>\n",
       "      <td>0.409836</td>\n",
       "    </tr>\n",
       "    <tr>\n",
       "      <th>50%</th>\n",
       "      <td>0.476900</td>\n",
       "    </tr>\n",
       "    <tr>\n",
       "      <th>75%</th>\n",
       "      <td>0.543964</td>\n",
       "    </tr>\n",
       "    <tr>\n",
       "      <th>max</th>\n",
       "      <td>1.000000</td>\n",
       "    </tr>\n",
       "  </tbody>\n",
       "</table>\n",
       "</div>"
      ],
      "text/plain": [
       "             mass\n",
       "count  537.000000\n",
       "mean     0.476362\n",
       "std      0.116537\n",
       "min      0.000000\n",
       "25%      0.409836\n",
       "50%      0.476900\n",
       "75%      0.543964\n",
       "max      1.000000"
      ]
     },
     "execution_count": 64,
     "metadata": {},
     "output_type": "execute_result"
    }
   ],
   "source": [
    "mass_new.describe()"
   ]
  },
  {
   "cell_type": "markdown",
   "metadata": {},
   "source": [
    "Agora vamos aplicar o StandardScaler."
   ]
  },
  {
   "cell_type": "code",
   "execution_count": 65,
   "metadata": {},
   "outputs": [],
   "source": [
    "# aplica a transformação em todo o conjunto de dados\n",
    "standard_scaler = StandardScaler()\n",
    "X_train_standard = standard_scaler.fit_transform(X_train)\n",
    "X_train_standard = pd.DataFrame(X_train_standard, columns = X_train.columns)"
   ]
  },
  {
   "cell_type": "code",
   "execution_count": 66,
   "metadata": {},
   "outputs": [
    {
     "data": {
      "text/html": [
       "<div>\n",
       "<style scoped>\n",
       "    .dataframe tbody tr th:only-of-type {\n",
       "        vertical-align: middle;\n",
       "    }\n",
       "\n",
       "    .dataframe tbody tr th {\n",
       "        vertical-align: top;\n",
       "    }\n",
       "\n",
       "    .dataframe thead th {\n",
       "        text-align: right;\n",
       "    }\n",
       "</style>\n",
       "<table border=\"1\" class=\"dataframe\">\n",
       "  <thead>\n",
       "    <tr style=\"text-align: right;\">\n",
       "      <th></th>\n",
       "      <th>preg</th>\n",
       "      <th>plas</th>\n",
       "      <th>pres</th>\n",
       "      <th>skin</th>\n",
       "      <th>insu</th>\n",
       "      <th>mass</th>\n",
       "      <th>pedi</th>\n",
       "      <th>age</th>\n",
       "    </tr>\n",
       "  </thead>\n",
       "  <tbody>\n",
       "    <tr>\n",
       "      <th>count</th>\n",
       "      <td>5.370000e+02</td>\n",
       "      <td>5.370000e+02</td>\n",
       "      <td>5.370000e+02</td>\n",
       "      <td>5.370000e+02</td>\n",
       "      <td>5.370000e+02</td>\n",
       "      <td>5.370000e+02</td>\n",
       "      <td>5.370000e+02</td>\n",
       "      <td>5.370000e+02</td>\n",
       "    </tr>\n",
       "    <tr>\n",
       "      <th>mean</th>\n",
       "      <td>-1.736662e-17</td>\n",
       "      <td>-6.202363e-19</td>\n",
       "      <td>-2.860840e-16</td>\n",
       "      <td>-8.838368e-17</td>\n",
       "      <td>2.305212e-16</td>\n",
       "      <td>3.441278e-16</td>\n",
       "      <td>5.954269e-17</td>\n",
       "      <td>-2.516092e-16</td>\n",
       "    </tr>\n",
       "    <tr>\n",
       "      <th>std</th>\n",
       "      <td>1.000932e+00</td>\n",
       "      <td>1.000932e+00</td>\n",
       "      <td>1.000932e+00</td>\n",
       "      <td>1.000932e+00</td>\n",
       "      <td>1.000932e+00</td>\n",
       "      <td>1.000932e+00</td>\n",
       "      <td>1.000932e+00</td>\n",
       "      <td>1.000932e+00</td>\n",
       "    </tr>\n",
       "    <tr>\n",
       "      <th>min</th>\n",
       "      <td>-1.137138e+00</td>\n",
       "      <td>-3.686267e+00</td>\n",
       "      <td>-3.626219e+00</td>\n",
       "      <td>-1.346719e+00</td>\n",
       "      <td>-6.928023e-01</td>\n",
       "      <td>-4.091444e+00</td>\n",
       "      <td>-1.154989e+00</td>\n",
       "      <td>-1.030465e+00</td>\n",
       "    </tr>\n",
       "    <tr>\n",
       "      <th>25%</th>\n",
       "      <td>-8.375094e-01</td>\n",
       "      <td>-6.788854e-01</td>\n",
       "      <td>-2.825322e-01</td>\n",
       "      <td>-1.346719e+00</td>\n",
       "      <td>-6.928023e-01</td>\n",
       "      <td>-5.713854e-01</td>\n",
       "      <td>-6.748518e-01</td>\n",
       "      <td>-7.762806e-01</td>\n",
       "    </tr>\n",
       "    <tr>\n",
       "      <th>50%</th>\n",
       "      <td>-2.382522e-01</td>\n",
       "      <td>-1.320888e-01</td>\n",
       "      <td>1.354286e-01</td>\n",
       "      <td>1.849184e-01</td>\n",
       "      <td>-3.362530e-01</td>\n",
       "      <td>4.624286e-03</td>\n",
       "      <td>-2.967439e-01</td>\n",
       "      <td>-3.526397e-01</td>\n",
       "    </tr>\n",
       "    <tr>\n",
       "      <th>75%</th>\n",
       "      <td>6.606336e-01</td>\n",
       "      <td>6.577285e-01</td>\n",
       "      <td>5.533894e-01</td>\n",
       "      <td>6.954643e-01</td>\n",
       "      <td>3.606386e-01</td>\n",
       "      <td>5.806339e-01</td>\n",
       "      <td>4.024556e-01</td>\n",
       "      <td>6.640986e-01</td>\n",
       "    </tr>\n",
       "    <tr>\n",
       "      <th>max</th>\n",
       "      <td>3.956548e+00</td>\n",
       "      <td>2.358874e+00</td>\n",
       "      <td>2.747684e+00</td>\n",
       "      <td>4.971286e+00</td>\n",
       "      <td>6.162667e+00</td>\n",
       "      <td>4.497500e+00</td>\n",
       "      <td>5.873017e+00</td>\n",
       "      <td>4.053226e+00</td>\n",
       "    </tr>\n",
       "  </tbody>\n",
       "</table>\n",
       "</div>"
      ],
      "text/plain": [
       "               preg          plas          pres          skin          insu  \\\n",
       "count  5.370000e+02  5.370000e+02  5.370000e+02  5.370000e+02  5.370000e+02   \n",
       "mean  -1.736662e-17 -6.202363e-19 -2.860840e-16 -8.838368e-17  2.305212e-16   \n",
       "std    1.000932e+00  1.000932e+00  1.000932e+00  1.000932e+00  1.000932e+00   \n",
       "min   -1.137138e+00 -3.686267e+00 -3.626219e+00 -1.346719e+00 -6.928023e-01   \n",
       "25%   -8.375094e-01 -6.788854e-01 -2.825322e-01 -1.346719e+00 -6.928023e-01   \n",
       "50%   -2.382522e-01 -1.320888e-01  1.354286e-01  1.849184e-01 -3.362530e-01   \n",
       "75%    6.606336e-01  6.577285e-01  5.533894e-01  6.954643e-01  3.606386e-01   \n",
       "max    3.956548e+00  2.358874e+00  2.747684e+00  4.971286e+00  6.162667e+00   \n",
       "\n",
       "               mass          pedi           age  \n",
       "count  5.370000e+02  5.370000e+02  5.370000e+02  \n",
       "mean   3.441278e-16  5.954269e-17 -2.516092e-16  \n",
       "std    1.000932e+00  1.000932e+00  1.000932e+00  \n",
       "min   -4.091444e+00 -1.154989e+00 -1.030465e+00  \n",
       "25%   -5.713854e-01 -6.748518e-01 -7.762806e-01  \n",
       "50%    4.624286e-03 -2.967439e-01 -3.526397e-01  \n",
       "75%    5.806339e-01  4.024556e-01  6.640986e-01  \n",
       "max    4.497500e+00  5.873017e+00  4.053226e+00  "
      ]
     },
     "execution_count": 66,
     "metadata": {},
     "output_type": "execute_result"
    }
   ],
   "source": [
    "X_train_standard.describe()"
   ]
  },
  {
   "cell_type": "code",
   "execution_count": 67,
   "metadata": {},
   "outputs": [
    {
     "data": {
      "text/html": [
       "<div>\n",
       "<style scoped>\n",
       "    .dataframe tbody tr th:only-of-type {\n",
       "        vertical-align: middle;\n",
       "    }\n",
       "\n",
       "    .dataframe tbody tr th {\n",
       "        vertical-align: top;\n",
       "    }\n",
       "\n",
       "    .dataframe thead th {\n",
       "        text-align: right;\n",
       "    }\n",
       "</style>\n",
       "<table border=\"1\" class=\"dataframe\">\n",
       "  <thead>\n",
       "    <tr style=\"text-align: right;\">\n",
       "      <th></th>\n",
       "      <th>preg</th>\n",
       "      <th>plas</th>\n",
       "      <th>pres</th>\n",
       "      <th>skin</th>\n",
       "      <th>insu</th>\n",
       "      <th>mass</th>\n",
       "      <th>pedi</th>\n",
       "      <th>age</th>\n",
       "    </tr>\n",
       "  </thead>\n",
       "  <tbody>\n",
       "    <tr>\n",
       "      <th>0</th>\n",
       "      <td>-0.537881</td>\n",
       "      <td>-0.982661</td>\n",
       "      <td>1.075840</td>\n",
       "      <td>0.567828</td>\n",
       "      <td>-0.692802</td>\n",
       "      <td>0.196628</td>\n",
       "      <td>-0.512806</td>\n",
       "      <td>0.748827</td>\n",
       "    </tr>\n",
       "    <tr>\n",
       "      <th>1</th>\n",
       "      <td>0.061376</td>\n",
       "      <td>0.748861</td>\n",
       "      <td>0.814615</td>\n",
       "      <td>0.376373</td>\n",
       "      <td>0.117537</td>\n",
       "      <td>-0.392182</td>\n",
       "      <td>-0.821894</td>\n",
       "      <td>-0.522096</td>\n",
       "    </tr>\n",
       "    <tr>\n",
       "      <th>2</th>\n",
       "      <td>1.859148</td>\n",
       "      <td>-0.314354</td>\n",
       "      <td>0.030938</td>\n",
       "      <td>0.376373</td>\n",
       "      <td>-0.692802</td>\n",
       "      <td>-0.571385</td>\n",
       "      <td>-0.965935</td>\n",
       "      <td>0.579370</td>\n",
       "    </tr>\n",
       "    <tr>\n",
       "      <th>3</th>\n",
       "      <td>-0.837509</td>\n",
       "      <td>-0.678885</td>\n",
       "      <td>0.135429</td>\n",
       "      <td>0.567828</td>\n",
       "      <td>-0.546941</td>\n",
       "      <td>0.849438</td>\n",
       "      <td>-0.152703</td>\n",
       "      <td>-1.030465</td>\n",
       "    </tr>\n",
       "    <tr>\n",
       "      <th>4</th>\n",
       "      <td>-0.837509</td>\n",
       "      <td>-1.529458</td>\n",
       "      <td>-1.118454</td>\n",
       "      <td>-0.197991</td>\n",
       "      <td>-0.076944</td>\n",
       "      <td>-1.480201</td>\n",
       "      <td>-0.419779</td>\n",
       "      <td>-0.945737</td>\n",
       "    </tr>\n",
       "    <tr>\n",
       "      <th>...</th>\n",
       "      <td>...</td>\n",
       "      <td>...</td>\n",
       "      <td>...</td>\n",
       "      <td>...</td>\n",
       "      <td>...</td>\n",
       "      <td>...</td>\n",
       "      <td>...</td>\n",
       "      <td>...</td>\n",
       "    </tr>\n",
       "    <tr>\n",
       "      <th>532</th>\n",
       "      <td>-0.837509</td>\n",
       "      <td>0.353953</td>\n",
       "      <td>1.702782</td>\n",
       "      <td>0.440191</td>\n",
       "      <td>0.441673</td>\n",
       "      <td>0.107026</td>\n",
       "      <td>-0.686855</td>\n",
       "      <td>1.003011</td>\n",
       "    </tr>\n",
       "    <tr>\n",
       "      <th>533</th>\n",
       "      <td>0.061376</td>\n",
       "      <td>0.232442</td>\n",
       "      <td>-0.491513</td>\n",
       "      <td>-0.580900</td>\n",
       "      <td>1.179081</td>\n",
       "      <td>-0.571385</td>\n",
       "      <td>0.192396</td>\n",
       "      <td>-0.183183</td>\n",
       "    </tr>\n",
       "    <tr>\n",
       "      <th>534</th>\n",
       "      <td>-0.238252</td>\n",
       "      <td>-0.162466</td>\n",
       "      <td>0.239919</td>\n",
       "      <td>-0.389446</td>\n",
       "      <td>0.158054</td>\n",
       "      <td>-0.724988</td>\n",
       "      <td>-1.067964</td>\n",
       "      <td>-0.776281</td>\n",
       "    </tr>\n",
       "    <tr>\n",
       "      <th>535</th>\n",
       "      <td>-0.837509</td>\n",
       "      <td>-1.013039</td>\n",
       "      <td>-2.058866</td>\n",
       "      <td>1.333647</td>\n",
       "      <td>0.109434</td>\n",
       "      <td>2.948674</td>\n",
       "      <td>0.099369</td>\n",
       "      <td>-0.606824</td>\n",
       "    </tr>\n",
       "    <tr>\n",
       "      <th>536</th>\n",
       "      <td>0.361005</td>\n",
       "      <td>-0.770018</td>\n",
       "      <td>0.239919</td>\n",
       "      <td>-0.197991</td>\n",
       "      <td>-0.149875</td>\n",
       "      <td>0.209428</td>\n",
       "      <td>1.602798</td>\n",
       "      <td>0.833555</td>\n",
       "    </tr>\n",
       "  </tbody>\n",
       "</table>\n",
       "<p>537 rows × 8 columns</p>\n",
       "</div>"
      ],
      "text/plain": [
       "         preg      plas      pres      skin      insu      mass      pedi  \\\n",
       "0   -0.537881 -0.982661  1.075840  0.567828 -0.692802  0.196628 -0.512806   \n",
       "1    0.061376  0.748861  0.814615  0.376373  0.117537 -0.392182 -0.821894   \n",
       "2    1.859148 -0.314354  0.030938  0.376373 -0.692802 -0.571385 -0.965935   \n",
       "3   -0.837509 -0.678885  0.135429  0.567828 -0.546941  0.849438 -0.152703   \n",
       "4   -0.837509 -1.529458 -1.118454 -0.197991 -0.076944 -1.480201 -0.419779   \n",
       "..        ...       ...       ...       ...       ...       ...       ...   \n",
       "532 -0.837509  0.353953  1.702782  0.440191  0.441673  0.107026 -0.686855   \n",
       "533  0.061376  0.232442 -0.491513 -0.580900  1.179081 -0.571385  0.192396   \n",
       "534 -0.238252 -0.162466  0.239919 -0.389446  0.158054 -0.724988 -1.067964   \n",
       "535 -0.837509 -1.013039 -2.058866  1.333647  0.109434  2.948674  0.099369   \n",
       "536  0.361005 -0.770018  0.239919 -0.197991 -0.149875  0.209428  1.602798   \n",
       "\n",
       "          age  \n",
       "0    0.748827  \n",
       "1   -0.522096  \n",
       "2    0.579370  \n",
       "3   -1.030465  \n",
       "4   -0.945737  \n",
       "..        ...  \n",
       "532  1.003011  \n",
       "533 -0.183183  \n",
       "534 -0.776281  \n",
       "535 -0.606824  \n",
       "536  0.833555  \n",
       "\n",
       "[537 rows x 8 columns]"
      ]
     },
     "execution_count": 67,
     "metadata": {},
     "output_type": "execute_result"
    }
   ],
   "source": [
    "X_train_standard"
   ]
  },
  {
   "cell_type": "code",
   "execution_count": 68,
   "metadata": {},
   "outputs": [
    {
     "data": {
      "text/html": [
       "<div>\n",
       "<style scoped>\n",
       "    .dataframe tbody tr th:only-of-type {\n",
       "        vertical-align: middle;\n",
       "    }\n",
       "\n",
       "    .dataframe tbody tr th {\n",
       "        vertical-align: top;\n",
       "    }\n",
       "\n",
       "    .dataframe thead th {\n",
       "        text-align: right;\n",
       "    }\n",
       "</style>\n",
       "<table border=\"1\" class=\"dataframe\">\n",
       "  <thead>\n",
       "    <tr style=\"text-align: right;\">\n",
       "      <th></th>\n",
       "      <th>preg</th>\n",
       "      <th>plas</th>\n",
       "      <th>pres</th>\n",
       "      <th>skin</th>\n",
       "      <th>insu</th>\n",
       "      <th>mass</th>\n",
       "      <th>pedi</th>\n",
       "      <th>age</th>\n",
       "    </tr>\n",
       "  </thead>\n",
       "  <tbody>\n",
       "    <tr>\n",
       "      <th>491</th>\n",
       "      <td>2</td>\n",
       "      <td>89</td>\n",
       "      <td>90</td>\n",
       "      <td>30</td>\n",
       "      <td>0</td>\n",
       "      <td>33.5</td>\n",
       "      <td>0.292</td>\n",
       "      <td>42</td>\n",
       "    </tr>\n",
       "    <tr>\n",
       "      <th>69</th>\n",
       "      <td>4</td>\n",
       "      <td>146</td>\n",
       "      <td>85</td>\n",
       "      <td>27</td>\n",
       "      <td>100</td>\n",
       "      <td>28.9</td>\n",
       "      <td>0.189</td>\n",
       "      <td>27</td>\n",
       "    </tr>\n",
       "    <tr>\n",
       "      <th>667</th>\n",
       "      <td>10</td>\n",
       "      <td>111</td>\n",
       "      <td>70</td>\n",
       "      <td>27</td>\n",
       "      <td>0</td>\n",
       "      <td>27.5</td>\n",
       "      <td>0.141</td>\n",
       "      <td>40</td>\n",
       "    </tr>\n",
       "    <tr>\n",
       "      <th>566</th>\n",
       "      <td>1</td>\n",
       "      <td>99</td>\n",
       "      <td>72</td>\n",
       "      <td>30</td>\n",
       "      <td>18</td>\n",
       "      <td>38.6</td>\n",
       "      <td>0.412</td>\n",
       "      <td>21</td>\n",
       "    </tr>\n",
       "    <tr>\n",
       "      <th>97</th>\n",
       "      <td>1</td>\n",
       "      <td>71</td>\n",
       "      <td>48</td>\n",
       "      <td>18</td>\n",
       "      <td>76</td>\n",
       "      <td>20.4</td>\n",
       "      <td>0.323</td>\n",
       "      <td>22</td>\n",
       "    </tr>\n",
       "    <tr>\n",
       "      <th>...</th>\n",
       "      <td>...</td>\n",
       "      <td>...</td>\n",
       "      <td>...</td>\n",
       "      <td>...</td>\n",
       "      <td>...</td>\n",
       "      <td>...</td>\n",
       "      <td>...</td>\n",
       "      <td>...</td>\n",
       "    </tr>\n",
       "    <tr>\n",
       "      <th>369</th>\n",
       "      <td>1</td>\n",
       "      <td>133</td>\n",
       "      <td>102</td>\n",
       "      <td>28</td>\n",
       "      <td>140</td>\n",
       "      <td>32.8</td>\n",
       "      <td>0.234</td>\n",
       "      <td>45</td>\n",
       "    </tr>\n",
       "    <tr>\n",
       "      <th>320</th>\n",
       "      <td>4</td>\n",
       "      <td>129</td>\n",
       "      <td>60</td>\n",
       "      <td>12</td>\n",
       "      <td>231</td>\n",
       "      <td>27.5</td>\n",
       "      <td>0.527</td>\n",
       "      <td>31</td>\n",
       "    </tr>\n",
       "    <tr>\n",
       "      <th>527</th>\n",
       "      <td>3</td>\n",
       "      <td>116</td>\n",
       "      <td>74</td>\n",
       "      <td>15</td>\n",
       "      <td>105</td>\n",
       "      <td>26.3</td>\n",
       "      <td>0.107</td>\n",
       "      <td>24</td>\n",
       "    </tr>\n",
       "    <tr>\n",
       "      <th>125</th>\n",
       "      <td>1</td>\n",
       "      <td>88</td>\n",
       "      <td>30</td>\n",
       "      <td>42</td>\n",
       "      <td>99</td>\n",
       "      <td>55.0</td>\n",
       "      <td>0.496</td>\n",
       "      <td>26</td>\n",
       "    </tr>\n",
       "    <tr>\n",
       "      <th>265</th>\n",
       "      <td>5</td>\n",
       "      <td>96</td>\n",
       "      <td>74</td>\n",
       "      <td>18</td>\n",
       "      <td>67</td>\n",
       "      <td>33.6</td>\n",
       "      <td>0.997</td>\n",
       "      <td>43</td>\n",
       "    </tr>\n",
       "  </tbody>\n",
       "</table>\n",
       "<p>537 rows × 8 columns</p>\n",
       "</div>"
      ],
      "text/plain": [
       "     preg  plas  pres  skin  insu  mass   pedi  age\n",
       "491     2    89    90    30     0  33.5  0.292   42\n",
       "69      4   146    85    27   100  28.9  0.189   27\n",
       "667    10   111    70    27     0  27.5  0.141   40\n",
       "566     1    99    72    30    18  38.6  0.412   21\n",
       "97      1    71    48    18    76  20.4  0.323   22\n",
       "..    ...   ...   ...   ...   ...   ...    ...  ...\n",
       "369     1   133   102    28   140  32.8  0.234   45\n",
       "320     4   129    60    12   231  27.5  0.527   31\n",
       "527     3   116    74    15   105  26.3  0.107   24\n",
       "125     1    88    30    42    99  55.0  0.496   26\n",
       "265     5    96    74    18    67  33.6  0.997   43\n",
       "\n",
       "[537 rows x 8 columns]"
      ]
     },
     "execution_count": 68,
     "metadata": {},
     "output_type": "execute_result"
    }
   ],
   "source": [
    "X_train"
   ]
  },
  {
   "cell_type": "markdown",
   "metadata": {},
   "source": [
    "Vamos verificar a distribuição da feature mass antes e após a transformação."
   ]
  },
  {
   "cell_type": "code",
   "execution_count": 28,
   "metadata": {},
   "outputs": [
    {
     "data": {
      "image/png": "[encoded data removed]",
      "text/plain": [
       "<Figure size 432x288 with 1 Axes>"
      ]
     },
     "metadata": {
      "needs_background": "light"
     },
     "output_type": "display_data"
    },
    {
     "data": {
      "image/png": "[encoded data removed]",
      "text/plain": [
       "<Figure size 432x288 with 1 Axes>"
      ]
     },
     "metadata": {
      "needs_background": "light"
     },
     "output_type": "display_data"
    }
   ],
   "source": [
    "sns.kdeplot(X_train['mass'])\n",
    "plt.show()\n",
    "sns.kdeplot(X_train_standard['mass'])\n",
    "plt.show()"
   ]
  },
  {
   "cell_type": "markdown",
   "metadata": {},
   "source": [
    "Qual a diferença entre as distribuições antes e após a transformação?\n",
    "\n",
    "Qual o melhor transformador?"
   ]
  },
  {
   "cell_type": "markdown",
   "metadata": {},
   "source": [
    "Agora iremos aplicar o transformador RobustScaler."
   ]
  },
  {
   "cell_type": "code",
   "execution_count": 22,
   "metadata": {},
   "outputs": [],
   "source": [
    "robust_scaler = RobustScaler()\n",
    "train = robust_scaler.fit_transform(X_train)\n",
    "test = robust_scaler.transform(X_test)\n",
    "X_train = pd.DataFrame(train, columns = X_train.columns)\n",
    "X_test = pd.DataFrame(test, columns=X_test.columns)"
   ]
  },
  {
   "cell_type": "code",
   "execution_count": 23,
   "metadata": {},
   "outputs": [
    {
     "data": {
      "text/html": [
       "<div>\n",
       "<style scoped>\n",
       "    .dataframe tbody tr th:only-of-type {\n",
       "        vertical-align: middle;\n",
       "    }\n",
       "\n",
       "    .dataframe tbody tr th {\n",
       "        vertical-align: top;\n",
       "    }\n",
       "\n",
       "    .dataframe thead th {\n",
       "        text-align: right;\n",
       "    }\n",
       "</style>\n",
       "<table border=\"1\" class=\"dataframe\">\n",
       "  <thead>\n",
       "    <tr style=\"text-align: right;\">\n",
       "      <th></th>\n",
       "      <th>preg</th>\n",
       "      <th>plas</th>\n",
       "      <th>pres</th>\n",
       "      <th>skin</th>\n",
       "      <th>insu</th>\n",
       "      <th>mass</th>\n",
       "      <th>pedi</th>\n",
       "      <th>age</th>\n",
       "    </tr>\n",
       "  </thead>\n",
       "  <tbody>\n",
       "    <tr>\n",
       "      <th>count</th>\n",
       "      <td>537.000000</td>\n",
       "      <td>537.000000</td>\n",
       "      <td>537.000000</td>\n",
       "      <td>537.000000</td>\n",
       "      <td>537.000000</td>\n",
       "      <td>537.000000</td>\n",
       "      <td>537.000000</td>\n",
       "      <td>537.000000</td>\n",
       "    </tr>\n",
       "    <tr>\n",
       "      <th>mean</th>\n",
       "      <td>0.159032</td>\n",
       "      <td>0.098823</td>\n",
       "      <td>-0.162011</td>\n",
       "      <td>-0.090549</td>\n",
       "      <td>0.319195</td>\n",
       "      <td>-0.004014</td>\n",
       "      <td>0.275450</td>\n",
       "      <td>0.244824</td>\n",
       "    </tr>\n",
       "    <tr>\n",
       "      <th>std</th>\n",
       "      <td>0.668115</td>\n",
       "      <td>0.748857</td>\n",
       "      <td>1.197400</td>\n",
       "      <td>0.490128</td>\n",
       "      <td>0.950155</td>\n",
       "      <td>0.868850</td>\n",
       "      <td>0.929106</td>\n",
       "      <td>0.694909</td>\n",
       "    </tr>\n",
       "    <tr>\n",
       "      <th>min</th>\n",
       "      <td>-0.600000</td>\n",
       "      <td>-2.659091</td>\n",
       "      <td>-4.500000</td>\n",
       "      <td>-0.750000</td>\n",
       "      <td>-0.338462</td>\n",
       "      <td>-3.555556</td>\n",
       "      <td>-0.796657</td>\n",
       "      <td>-0.470588</td>\n",
       "    </tr>\n",
       "    <tr>\n",
       "      <th>25%</th>\n",
       "      <td>-0.400000</td>\n",
       "      <td>-0.409091</td>\n",
       "      <td>-0.500000</td>\n",
       "      <td>-0.750000</td>\n",
       "      <td>-0.338462</td>\n",
       "      <td>-0.500000</td>\n",
       "      <td>-0.350975</td>\n",
       "      <td>-0.294118</td>\n",
       "    </tr>\n",
       "    <tr>\n",
       "      <th>50%</th>\n",
       "      <td>0.000000</td>\n",
       "      <td>0.000000</td>\n",
       "      <td>0.000000</td>\n",
       "      <td>0.000000</td>\n",
       "      <td>0.000000</td>\n",
       "      <td>0.000000</td>\n",
       "      <td>0.000000</td>\n",
       "      <td>0.000000</td>\n",
       "    </tr>\n",
       "    <tr>\n",
       "      <th>75%</th>\n",
       "      <td>0.600000</td>\n",
       "      <td>0.590909</td>\n",
       "      <td>0.500000</td>\n",
       "      <td>0.250000</td>\n",
       "      <td>0.661538</td>\n",
       "      <td>0.500000</td>\n",
       "      <td>0.649025</td>\n",
       "      <td>0.705882</td>\n",
       "    </tr>\n",
       "    <tr>\n",
       "      <th>max</th>\n",
       "      <td>2.800000</td>\n",
       "      <td>1.863636</td>\n",
       "      <td>3.125000</td>\n",
       "      <td>2.343750</td>\n",
       "      <td>6.169231</td>\n",
       "      <td>3.900000</td>\n",
       "      <td>5.727019</td>\n",
       "      <td>3.058824</td>\n",
       "    </tr>\n",
       "  </tbody>\n",
       "</table>\n",
       "</div>"
      ],
      "text/plain": [
       "             preg        plas        pres        skin        insu        mass  \\\n",
       "count  537.000000  537.000000  537.000000  537.000000  537.000000  537.000000   \n",
       "mean     0.159032    0.098823   -0.162011   -0.090549    0.319195   -0.004014   \n",
       "std      0.668115    0.748857    1.197400    0.490128    0.950155    0.868850   \n",
       "min     -0.600000   -2.659091   -4.500000   -0.750000   -0.338462   -3.555556   \n",
       "25%     -0.400000   -0.409091   -0.500000   -0.750000   -0.338462   -0.500000   \n",
       "50%      0.000000    0.000000    0.000000    0.000000    0.000000    0.000000   \n",
       "75%      0.600000    0.590909    0.500000    0.250000    0.661538    0.500000   \n",
       "max      2.800000    1.863636    3.125000    2.343750    6.169231    3.900000   \n",
       "\n",
       "             pedi         age  \n",
       "count  537.000000  537.000000  \n",
       "mean     0.275450    0.244824  \n",
       "std      0.929106    0.694909  \n",
       "min     -0.796657   -0.470588  \n",
       "25%     -0.350975   -0.294118  \n",
       "50%      0.000000    0.000000  \n",
       "75%      0.649025    0.705882  \n",
       "max      5.727019    3.058824  "
      ]
     },
     "execution_count": 23,
     "metadata": {},
     "output_type": "execute_result"
    }
   ],
   "source": [
    "X_train.describe()"
   ]
  },
  {
   "cell_type": "code",
   "execution_count": 24,
   "metadata": {},
   "outputs": [],
   "source": [
    "reg_log = LogisticRegression()\n"
   ]
  },
  {
   "cell_type": "code",
   "execution_count": 25,
   "metadata": {},
   "outputs": [],
   "source": [
    "param_grid = {\n",
    "    'C': [0.001, 0.01, 0.1, 0.5, 1],\n",
    "    'penalty': ['l1', 'l2', 'elasticnet', 'none'],\n",
    "    'class_weight': ['balanced', None]\n",
    "}\n",
    "\n",
    "grid_reg_log = GridSearchCV(\n",
    "    estimator = reg_log,\n",
    "    param_grid = param_grid,\n",
    "    scoring = 'roc_auc',\n",
    "    refit = 100,\n",
    "    n_jobs = -1,\n",
    "    verbose = 3\n",
    ")"
   ]
  },
  {
   "cell_type": "code",
   "execution_count": 26,
   "metadata": {},
   "outputs": [
    {
     "name": "stdout",
     "output_type": "stream",
     "text": [
      "Fitting 5 folds for each of 40 candidates, totalling 200 fits\n"
     ]
    },
    {
     "data": {
      "text/plain": [
       "GridSearchCV(estimator=LogisticRegression(), n_jobs=-1,\n",
       "             param_grid={'C': [0.001, 0.01, 0.1, 0.5, 1],\n",
       "                         'class_weight': ['balanced', None],\n",
       "                         'penalty': ['l1', 'l2', 'elasticnet', 'none']},\n",
       "             refit=100, scoring='roc_auc', verbose=3)"
      ]
     },
     "execution_count": 26,
     "metadata": {},
     "output_type": "execute_result"
    }
   ],
   "source": [
    "grid_reg_log.fit(X_train, y_train)\n"
   ]
  },
  {
   "cell_type": "code",
   "execution_count": 27,
   "metadata": {},
   "outputs": [
    {
     "data": {
      "text/plain": [
       "{'C': 0.1, 'class_weight': None, 'penalty': 'l2'}"
      ]
     },
     "execution_count": 27,
     "metadata": {},
     "output_type": "execute_result"
    }
   ],
   "source": [
    "grid_reg_log.best_params_"
   ]
  },
  {
   "cell_type": "code",
   "execution_count": 28,
   "metadata": {},
   "outputs": [],
   "source": [
    "y_pred_proba_train = grid_reg_log.predict_proba(X_train)[:, 1]\n",
    "y_pred_proba_test = grid_reg_log.predict_proba(X_test)[:, 1]\n",
    "y_pred_train = grid_reg_log.predict(X_train)\n",
    "y_pred_test = grid_reg_log.predict(X_test)"
   ]
  },
  {
   "cell_type": "code",
   "execution_count": 32,
   "metadata": {},
   "outputs": [
    {
     "data": {
      "text/plain": [
       "(0.8451176361040413, 0.8163314176245211)"
      ]
     },
     "execution_count": 32,
     "metadata": {},
     "output_type": "execute_result"
    }
   ],
   "source": [
    "# métrica no treino e test\n",
    "roc_auc_train = roc_auc_score(y_train, y_pred_proba_train)\n",
    "roc_auc_test = roc_auc_score(y_test, y_pred_proba_test)\n",
    "roc_auc_train , roc_auc_test"
   ]
  },
  {
   "cell_type": "code",
   "execution_count": 34,
   "metadata": {},
   "outputs": [
    {
     "name": "stdout",
     "output_type": "stream",
     "text": [
      "                 precision    recall  f1-score   support\n",
      "\n",
      "tested_negative       0.93      0.75      0.83       179\n",
      "tested_positive       0.48      0.81      0.60        52\n",
      "\n",
      "       accuracy                           0.76       231\n",
      "      macro avg       0.71      0.78      0.72       231\n",
      "   weighted avg       0.83      0.76      0.78       231\n",
      "\n"
     ]
    }
   ],
   "source": [
    "from sklearn.metrics import classification_report\n",
    "print(classification_report(y_pred_test, y_test))"
   ]
  },
  {
   "cell_type": "code",
   "execution_count": 186,
   "metadata": {},
   "outputs": [],
   "source": [
    "from skopt import BayesSearchCV"
   ]
  },
  {
   "cell_type": "code",
   "execution_count": 187,
   "metadata": {},
   "outputs": [
    {
     "data": {
      "text/plain": [
       "BayesSearchCV(estimator=KNeighborsClassifier(), random_state=10,\n",
       "              search_spaces={'metric': ['minkowski', 'chebyshev'],\n",
       "                             'n_neighbors': array([ 3,  5,  7,  9, 11, 13]),\n",
       "                             'p': array([1, 2, 3, 4]),\n",
       "                             'weights': ['uniform', 'distance']})"
      ]
     },
     "execution_count": 187,
     "metadata": {},
     "output_type": "execute_result"
    }
   ],
   "source": [
    "clf_knn = KNeighborsClassifier()\n",
    "cv = StratifiedKFold(\n",
    "    n_splits=5,\n",
    "    random_state=SEED, \n",
    "    shuffle=True\n",
    ")\n",
    "\n",
    "# espaço de pesquisa de hiperparâmetros\n",
    "param_distributions_knn = {\n",
    "    'n_neighbors': np.arange(3, 15, 2),\n",
    "    'p': np.arange(1, 5),\n",
    "    'metric': ['minkowski', 'chebyshev'],\n",
    "    'weights': ['uniform', 'distance']\n",
    "}\n",
    "\n",
    "# Bayesian Search\n",
    "bayes_search = BayesSearchCV(\n",
    "    estimator=clf_knn,\n",
    "    search_spaces=param_distributions_knn,\n",
    "    n_iter=50,\n",
    "    random_state=SEED\n",
    ")\n",
    "\n",
    "# treino\n",
    "bayes_search.fit(X_train, y_train)"
   ]
  },
  {
   "cell_type": "code",
   "execution_count": 189,
   "metadata": {},
   "outputs": [],
   "source": [
    "y_pred_proba_train = bayes_search.predict_proba(X_train)[:, 1]\n",
    "y_pred_proba_test = bayes_search.predict_proba(X_test)[:, 1]\n",
    "y_pred_train = bayes_search.predict(X_train)\n",
    "y_pred_test = bayes_search.predict(X_test)"
   ]
  },
  {
   "cell_type": "code",
   "execution_count": 190,
   "metadata": {},
   "outputs": [
    {
     "data": {
      "text/plain": [
       "(1.0, 0.7720306513409962)"
      ]
     },
     "execution_count": 190,
     "metadata": {},
     "output_type": "execute_result"
    }
   ],
   "source": [
    "# métrica no treino e test\n",
    "roc_auc_train = roc_auc_score(y_train, y_pred_proba_train)\n",
    "roc_auc_test = roc_auc_score(y_test, y_pred_proba_test)\n",
    "roc_auc_train , roc_auc_test"
   ]
  },
  {
   "cell_type": "code",
   "execution_count": 191,
   "metadata": {},
   "outputs": [
    {
     "name": "stdout",
     "output_type": "stream",
     "text": [
      "              precision    recall  f1-score   support\n",
      "\n",
      "           0       0.91      0.73      0.81       180\n",
      "           1       0.44      0.75      0.55        51\n",
      "\n",
      "    accuracy                           0.73       231\n",
      "   macro avg       0.67      0.74      0.68       231\n",
      "weighted avg       0.81      0.73      0.75       231\n",
      "\n"
     ]
    }
   ],
   "source": [
    "from sklearn.metrics import classification_report\n",
    "print(classification_report(y_pred_test, y_test))"
   ]
  },
  {
   "cell_type": "code",
   "execution_count": null,
   "metadata": {},
   "outputs": [],
   "source": []
  },
  {
   "cell_type": "code",
   "execution_count": 69,
   "metadata": {},
   "outputs": [
    {
     "data": {
      "text/html": [
       "<div>\n",
       "<style scoped>\n",
       "    .dataframe tbody tr th:only-of-type {\n",
       "        vertical-align: middle;\n",
       "    }\n",
       "\n",
       "    .dataframe tbody tr th {\n",
       "        vertical-align: top;\n",
       "    }\n",
       "\n",
       "    .dataframe thead th {\n",
       "        text-align: right;\n",
       "    }\n",
       "</style>\n",
       "<table border=\"1\" class=\"dataframe\">\n",
       "  <thead>\n",
       "    <tr style=\"text-align: right;\">\n",
       "      <th></th>\n",
       "      <th>preg</th>\n",
       "      <th>plas</th>\n",
       "      <th>pres</th>\n",
       "      <th>skin</th>\n",
       "      <th>insu</th>\n",
       "      <th>mass</th>\n",
       "      <th>pedi</th>\n",
       "      <th>age</th>\n",
       "    </tr>\n",
       "  </thead>\n",
       "  <tbody>\n",
       "    <tr>\n",
       "      <th>0</th>\n",
       "      <td>-0.2</td>\n",
       "      <td>-0.636364</td>\n",
       "      <td>1.1250</td>\n",
       "      <td>0.18750</td>\n",
       "      <td>-0.338462</td>\n",
       "      <td>0.166667</td>\n",
       "      <td>-0.200557</td>\n",
       "      <td>0.764706</td>\n",
       "    </tr>\n",
       "    <tr>\n",
       "      <th>1</th>\n",
       "      <td>0.2</td>\n",
       "      <td>0.659091</td>\n",
       "      <td>0.8125</td>\n",
       "      <td>0.09375</td>\n",
       "      <td>0.430769</td>\n",
       "      <td>-0.344444</td>\n",
       "      <td>-0.487465</td>\n",
       "      <td>-0.117647</td>\n",
       "    </tr>\n",
       "    <tr>\n",
       "      <th>2</th>\n",
       "      <td>1.4</td>\n",
       "      <td>-0.136364</td>\n",
       "      <td>-0.1250</td>\n",
       "      <td>0.09375</td>\n",
       "      <td>-0.338462</td>\n",
       "      <td>-0.500000</td>\n",
       "      <td>-0.621170</td>\n",
       "      <td>0.647059</td>\n",
       "    </tr>\n",
       "    <tr>\n",
       "      <th>3</th>\n",
       "      <td>-0.4</td>\n",
       "      <td>-0.409091</td>\n",
       "      <td>0.0000</td>\n",
       "      <td>0.18750</td>\n",
       "      <td>-0.200000</td>\n",
       "      <td>0.733333</td>\n",
       "      <td>0.133705</td>\n",
       "      <td>-0.470588</td>\n",
       "    </tr>\n",
       "    <tr>\n",
       "      <th>4</th>\n",
       "      <td>-0.4</td>\n",
       "      <td>-1.045455</td>\n",
       "      <td>-1.5000</td>\n",
       "      <td>-0.18750</td>\n",
       "      <td>0.246154</td>\n",
       "      <td>-1.288889</td>\n",
       "      <td>-0.114206</td>\n",
       "      <td>-0.411765</td>\n",
       "    </tr>\n",
       "    <tr>\n",
       "      <th>...</th>\n",
       "      <td>...</td>\n",
       "      <td>...</td>\n",
       "      <td>...</td>\n",
       "      <td>...</td>\n",
       "      <td>...</td>\n",
       "      <td>...</td>\n",
       "      <td>...</td>\n",
       "      <td>...</td>\n",
       "    </tr>\n",
       "    <tr>\n",
       "      <th>532</th>\n",
       "      <td>-0.4</td>\n",
       "      <td>0.363636</td>\n",
       "      <td>1.8750</td>\n",
       "      <td>0.12500</td>\n",
       "      <td>0.738462</td>\n",
       "      <td>0.088889</td>\n",
       "      <td>-0.362117</td>\n",
       "      <td>0.941176</td>\n",
       "    </tr>\n",
       "    <tr>\n",
       "      <th>533</th>\n",
       "      <td>0.2</td>\n",
       "      <td>0.272727</td>\n",
       "      <td>-0.7500</td>\n",
       "      <td>-0.37500</td>\n",
       "      <td>1.438462</td>\n",
       "      <td>-0.500000</td>\n",
       "      <td>0.454039</td>\n",
       "      <td>0.117647</td>\n",
       "    </tr>\n",
       "    <tr>\n",
       "      <th>534</th>\n",
       "      <td>0.0</td>\n",
       "      <td>-0.022727</td>\n",
       "      <td>0.1250</td>\n",
       "      <td>-0.28125</td>\n",
       "      <td>0.469231</td>\n",
       "      <td>-0.633333</td>\n",
       "      <td>-0.715877</td>\n",
       "      <td>-0.294118</td>\n",
       "    </tr>\n",
       "    <tr>\n",
       "      <th>535</th>\n",
       "      <td>-0.4</td>\n",
       "      <td>-0.659091</td>\n",
       "      <td>-2.6250</td>\n",
       "      <td>0.56250</td>\n",
       "      <td>0.423077</td>\n",
       "      <td>2.555556</td>\n",
       "      <td>0.367688</td>\n",
       "      <td>-0.176471</td>\n",
       "    </tr>\n",
       "    <tr>\n",
       "      <th>536</th>\n",
       "      <td>0.4</td>\n",
       "      <td>-0.477273</td>\n",
       "      <td>0.1250</td>\n",
       "      <td>-0.18750</td>\n",
       "      <td>0.176923</td>\n",
       "      <td>0.177778</td>\n",
       "      <td>1.763231</td>\n",
       "      <td>0.823529</td>\n",
       "    </tr>\n",
       "  </tbody>\n",
       "</table>\n",
       "<p>537 rows × 8 columns</p>\n",
       "</div>"
      ],
      "text/plain": [
       "     preg      plas    pres     skin      insu      mass      pedi       age\n",
       "0    -0.2 -0.636364  1.1250  0.18750 -0.338462  0.166667 -0.200557  0.764706\n",
       "1     0.2  0.659091  0.8125  0.09375  0.430769 -0.344444 -0.487465 -0.117647\n",
       "2     1.4 -0.136364 -0.1250  0.09375 -0.338462 -0.500000 -0.621170  0.647059\n",
       "3    -0.4 -0.409091  0.0000  0.18750 -0.200000  0.733333  0.133705 -0.470588\n",
       "4    -0.4 -1.045455 -1.5000 -0.18750  0.246154 -1.288889 -0.114206 -0.411765\n",
       "..    ...       ...     ...      ...       ...       ...       ...       ...\n",
       "532  -0.4  0.363636  1.8750  0.12500  0.738462  0.088889 -0.362117  0.941176\n",
       "533   0.2  0.272727 -0.7500 -0.37500  1.438462 -0.500000  0.454039  0.117647\n",
       "534   0.0 -0.022727  0.1250 -0.28125  0.469231 -0.633333 -0.715877 -0.294118\n",
       "535  -0.4 -0.659091 -2.6250  0.56250  0.423077  2.555556  0.367688 -0.176471\n",
       "536   0.4 -0.477273  0.1250 -0.18750  0.176923  0.177778  1.763231  0.823529\n",
       "\n",
       "[537 rows x 8 columns]"
      ]
     },
     "execution_count": 69,
     "metadata": {},
     "output_type": "execute_result"
    }
   ],
   "source": [
    "X_train_robust"
   ]
  },
  {
   "cell_type": "markdown",
   "metadata": {},
   "source": [
    "## Testando Modelos"
   ]
  },
  {
   "cell_type": "code",
   "execution_count": 138,
   "metadata": {},
   "outputs": [],
   "source": [
    "from sklearn.ensemble import RandomForestClassifier\n"
   ]
  },
  {
   "cell_type": "code",
   "execution_count": 139,
   "metadata": {},
   "outputs": [],
   "source": [
    "# Bibliotecas de métricas\n",
    "from sklearn.metrics import confusion_matrix, classification_report, accuracy_score, matthews_corrcoef"
   ]
  },
  {
   "cell_type": "code",
   "execution_count": 140,
   "metadata": {},
   "outputs": [],
   "source": [
    "model = RandomForestClassifier()\n",
    "logist_model = LogisticRegression()"
   ]
  },
  {
   "cell_type": "code",
   "execution_count": 141,
   "metadata": {},
   "outputs": [
    {
     "data": {
      "text/plain": [
       "LogisticRegression()"
      ]
     },
     "execution_count": 141,
     "metadata": {},
     "output_type": "execute_result"
    }
   ],
   "source": [
    "model.fit(X_train, y_train)\n",
    "logist_model.fit(X_train, y_train)"
   ]
  },
  {
   "cell_type": "code",
   "execution_count": 142,
   "metadata": {},
   "outputs": [
    {
     "data": {
      "text/plain": [
       "0.7402597402597403"
      ]
     },
     "execution_count": 142,
     "metadata": {},
     "output_type": "execute_result"
    }
   ],
   "source": [
    "y_pred = logist_model.predict(X_test)\n",
    "accuracy_score(y_pred, y_test)"
   ]
  },
  {
   "cell_type": "code",
   "execution_count": 143,
   "metadata": {},
   "outputs": [
    {
     "data": {
      "text/plain": [
       "array([[128,  44],\n",
       "       [ 16,  43]], dtype=int64)"
      ]
     },
     "execution_count": 143,
     "metadata": {},
     "output_type": "execute_result"
    }
   ],
   "source": [
    "confusion_matrix(y_pred, y_test)"
   ]
  },
  {
   "cell_type": "code",
   "execution_count": 144,
   "metadata": {},
   "outputs": [
    {
     "data": {
      "text/plain": [
       "0.42570635726784867"
      ]
     },
     "execution_count": 144,
     "metadata": {},
     "output_type": "execute_result"
    }
   ],
   "source": [
    "matthews_corrcoef(y_pred, y_test)"
   ]
  },
  {
   "cell_type": "code",
   "execution_count": 145,
   "metadata": {},
   "outputs": [
    {
     "name": "stdout",
     "output_type": "stream",
     "text": [
      "              precision    recall  f1-score   support\n",
      "\n",
      "           0       0.89      0.74      0.81       172\n",
      "           1       0.49      0.73      0.59        59\n",
      "\n",
      "    accuracy                           0.74       231\n",
      "   macro avg       0.69      0.74      0.70       231\n",
      "weighted avg       0.79      0.74      0.75       231\n",
      "\n"
     ]
    }
   ],
   "source": [
    "print(classification_report(y_pred, y_test))"
   ]
  },
  {
   "cell_type": "markdown",
   "metadata": {},
   "source": [
    "### XGBClassifier"
   ]
  },
  {
   "cell_type": "code",
   "execution_count": 162,
   "metadata": {},
   "outputs": [],
   "source": [
    "from xgboost import XGBClassifier"
   ]
  },
  {
   "cell_type": "code",
   "execution_count": 163,
   "metadata": {},
   "outputs": [],
   "source": [
    "xgbc = XGBClassifier(random_state=145, learning_rate=0.01)"
   ]
  },
  {
   "cell_type": "code",
   "execution_count": 164,
   "metadata": {},
   "outputs": [
    {
     "data": {
      "text/plain": [
       "XGBClassifier(base_score=0.5, booster='gbtree', callbacks=None,\n",
       "              colsample_bylevel=1, colsample_bynode=1, colsample_bytree=1,\n",
       "              early_stopping_rounds=None, enable_categorical=False,\n",
       "              eval_metric=None, feature_types=None, gamma=0, gpu_id=-1,\n",
       "              grow_policy='depthwise', importance_type=None,\n",
       "              interaction_constraints='', learning_rate=0.01, max_bin=256,\n",
       "              max_cat_threshold=64, max_cat_to_onehot=4, max_delta_step=0,\n",
       "              max_depth=6, max_leaves=0, min_child_weight=1, missing=nan,\n",
       "              monotone_constraints='()', n_estimators=100, n_jobs=0,\n",
       "              num_parallel_tree=1, predictor='auto', random_state=145, ...)"
      ]
     },
     "execution_count": 164,
     "metadata": {},
     "output_type": "execute_result"
    }
   ],
   "source": [
    "xgbc.fit(X_train, y_train)"
   ]
  },
  {
   "cell_type": "code",
   "execution_count": 165,
   "metadata": {},
   "outputs": [],
   "source": [
    "predict_x = xgbc.predict(X_test)"
   ]
  },
  {
   "cell_type": "code",
   "execution_count": 166,
   "metadata": {},
   "outputs": [
    {
     "data": {
      "text/plain": [
       "0.7619047619047619"
      ]
     },
     "execution_count": 166,
     "metadata": {},
     "output_type": "execute_result"
    }
   ],
   "source": [
    "accuracy_score(predict_x, y_test)"
   ]
  },
  {
   "cell_type": "code",
   "execution_count": 167,
   "metadata": {},
   "outputs": [
    {
     "name": "stdout",
     "output_type": "stream",
     "text": [
      "              precision    recall  f1-score   support\n",
      "\n",
      "           0       0.90      0.76      0.82       169\n",
      "           1       0.54      0.76      0.63        62\n",
      "\n",
      "    accuracy                           0.76       231\n",
      "   macro avg       0.72      0.76      0.73       231\n",
      "weighted avg       0.80      0.76      0.77       231\n",
      "\n"
     ]
    }
   ],
   "source": [
    "print(classification_report(predict_x, y_test))"
   ]
  },
  {
   "cell_type": "markdown",
   "metadata": {},
   "source": [
    "### LGBMClassifier"
   ]
  },
  {
   "cell_type": "code",
   "execution_count": 168,
   "metadata": {},
   "outputs": [],
   "source": [
    "from lightgbm import LGBMClassifier"
   ]
  },
  {
   "cell_type": "code",
   "execution_count": 169,
   "metadata": {},
   "outputs": [],
   "source": [
    "lgbm = LGBMClassifier()"
   ]
  },
  {
   "cell_type": "code",
   "execution_count": 170,
   "metadata": {},
   "outputs": [
    {
     "data": {
      "text/plain": [
       "LGBMClassifier()"
      ]
     },
     "execution_count": 170,
     "metadata": {},
     "output_type": "execute_result"
    }
   ],
   "source": [
    "lgbm.fit(X_train, y_train)"
   ]
  },
  {
   "cell_type": "code",
   "execution_count": 171,
   "metadata": {},
   "outputs": [],
   "source": [
    "pred = lgbm.predict(X_test)"
   ]
  },
  {
   "cell_type": "code",
   "execution_count": 172,
   "metadata": {},
   "outputs": [
    {
     "data": {
      "text/plain": [
       "0.7489177489177489"
      ]
     },
     "execution_count": 172,
     "metadata": {},
     "output_type": "execute_result"
    }
   ],
   "source": [
    "accuracy_score(pred, y_test)"
   ]
  },
  {
   "cell_type": "code",
   "execution_count": 173,
   "metadata": {},
   "outputs": [
    {
     "data": {
      "text/plain": [
       "array([[123,  37],\n",
       "       [ 21,  50]], dtype=int64)"
      ]
     },
     "execution_count": 173,
     "metadata": {},
     "output_type": "execute_result"
    }
   ],
   "source": [
    "confusion_matrix(pred, y_test)"
   ]
  },
  {
   "cell_type": "code",
   "execution_count": 174,
   "metadata": {},
   "outputs": [
    {
     "name": "stdout",
     "output_type": "stream",
     "text": [
      "              precision    recall  f1-score   support\n",
      "\n",
      "           0       0.85      0.77      0.81       160\n",
      "           1       0.57      0.70      0.63        71\n",
      "\n",
      "    accuracy                           0.75       231\n",
      "   macro avg       0.71      0.74      0.72       231\n",
      "weighted avg       0.77      0.75      0.76       231\n",
      "\n"
     ]
    }
   ],
   "source": [
    "print(classification_report(pred, y_test))"
   ]
  },
  {
   "cell_type": "markdown",
   "metadata": {},
   "source": [
    "**Variáveis qualitativas**"
   ]
  },
  {
   "cell_type": "markdown",
   "metadata": {},
   "source": [
    "Agora vamos trabalhar com outro dataset para ilustrar os conceitos para o tratamento de features qualitativas."
   ]
  },
  {
   "cell_type": "code",
   "execution_count": 30,
   "metadata": {},
   "outputs": [],
   "source": [
    "titanic = pd.read_csv('titanic_reduced.csv')"
   ]
  },
  {
   "cell_type": "markdown",
   "metadata": {},
   "source": [
    "Observe que precisamos tratar adicionalmente algumas variáveis qualitativas. Pclass refere-se a classe que o passageiro viajou, embarked é o porto que o passageiro embarcou, sex o sexo do passageiro e survived é se o passageiro sobreviveu ou não."
   ]
  },
  {
   "cell_type": "code",
   "execution_count": 31,
   "metadata": {},
   "outputs": [
    {
     "data": {
      "text/html": [
       "<div>\n",
       "<style scoped>\n",
       "    .dataframe tbody tr th:only-of-type {\n",
       "        vertical-align: middle;\n",
       "    }\n",
       "\n",
       "    .dataframe tbody tr th {\n",
       "        vertical-align: top;\n",
       "    }\n",
       "\n",
       "    .dataframe thead th {\n",
       "        text-align: right;\n",
       "    }\n",
       "</style>\n",
       "<table border=\"1\" class=\"dataframe\">\n",
       "  <thead>\n",
       "    <tr style=\"text-align: right;\">\n",
       "      <th></th>\n",
       "      <th>Embarked</th>\n",
       "      <th>Age</th>\n",
       "      <th>Sex</th>\n",
       "      <th>Pclass</th>\n",
       "      <th>Survived</th>\n",
       "    </tr>\n",
       "  </thead>\n",
       "  <tbody>\n",
       "    <tr>\n",
       "      <th>0</th>\n",
       "      <td>S</td>\n",
       "      <td>22.0</td>\n",
       "      <td>male</td>\n",
       "      <td>3rd</td>\n",
       "      <td>0</td>\n",
       "    </tr>\n",
       "    <tr>\n",
       "      <th>1</th>\n",
       "      <td>C</td>\n",
       "      <td>38.0</td>\n",
       "      <td>female</td>\n",
       "      <td>1st</td>\n",
       "      <td>1</td>\n",
       "    </tr>\n",
       "    <tr>\n",
       "      <th>2</th>\n",
       "      <td>S</td>\n",
       "      <td>26.0</td>\n",
       "      <td>female</td>\n",
       "      <td>3rd</td>\n",
       "      <td>1</td>\n",
       "    </tr>\n",
       "    <tr>\n",
       "      <th>3</th>\n",
       "      <td>S</td>\n",
       "      <td>35.0</td>\n",
       "      <td>female</td>\n",
       "      <td>1st</td>\n",
       "      <td>1</td>\n",
       "    </tr>\n",
       "    <tr>\n",
       "      <th>4</th>\n",
       "      <td>S</td>\n",
       "      <td>35.0</td>\n",
       "      <td>male</td>\n",
       "      <td>3rd</td>\n",
       "      <td>0</td>\n",
       "    </tr>\n",
       "  </tbody>\n",
       "</table>\n",
       "</div>"
      ],
      "text/plain": [
       "  Embarked   Age     Sex Pclass  Survived\n",
       "0        S  22.0    male    3rd         0\n",
       "1        C  38.0  female    1st         1\n",
       "2        S  26.0  female    3rd         1\n",
       "3        S  35.0  female    1st         1\n",
       "4        S  35.0    male    3rd         0"
      ]
     },
     "execution_count": 31,
     "metadata": {},
     "output_type": "execute_result"
    }
   ],
   "source": [
    "titanic.head()"
   ]
  },
  {
   "cell_type": "code",
   "execution_count": 35,
   "metadata": {},
   "outputs": [
    {
     "data": {
      "text/plain": [
       "Embarked    0\n",
       "Age         0\n",
       "Sex         0\n",
       "Pclass      0\n",
       "Survived    0\n",
       "dtype: int64"
      ]
     },
     "execution_count": 35,
     "metadata": {},
     "output_type": "execute_result"
    }
   ],
   "source": [
    "titanic.isna().sum()"
   ]
  },
  {
   "cell_type": "code",
   "execution_count": 36,
   "metadata": {},
   "outputs": [],
   "source": [
    "# vamos remover nan\n",
    "titanic.dropna(inplace = True)"
   ]
  },
  {
   "cell_type": "markdown",
   "metadata": {},
   "source": [
    "Agora vamos separar os dados em treino e teste:"
   ]
  },
  {
   "cell_type": "code",
   "execution_count": 37,
   "metadata": {},
   "outputs": [],
   "source": [
    "SEED = 10\n",
    "X = titanic.drop(columns = ['Survived'])\n",
    "y = titanic.Survived\n",
    "X_train, X_test, y_train, y_test = train_test_split(X, y, test_size = 0.3, random_state = SEED)"
   ]
  },
  {
   "cell_type": "markdown",
   "metadata": {},
   "source": [
    "Já conhecemos o One-Hot-Encoder da função `pd.get_dummies()`."
   ]
  },
  {
   "cell_type": "markdown",
   "metadata": {},
   "source": [
    "* Se tivermos features com muitos níveis podemos incorrer no problema de alta dimensionalidade, o que pode ser um problema em termos de processamento."
   ]
  },
  {
   "cell_type": "code",
   "execution_count": 38,
   "metadata": {},
   "outputs": [
    {
     "data": {
      "text/html": [
       "<div>\n",
       "<style scoped>\n",
       "    .dataframe tbody tr th:only-of-type {\n",
       "        vertical-align: middle;\n",
       "    }\n",
       "\n",
       "    .dataframe tbody tr th {\n",
       "        vertical-align: top;\n",
       "    }\n",
       "\n",
       "    .dataframe thead th {\n",
       "        text-align: right;\n",
       "    }\n",
       "</style>\n",
       "<table border=\"1\" class=\"dataframe\">\n",
       "  <thead>\n",
       "    <tr style=\"text-align: right;\">\n",
       "      <th></th>\n",
       "      <th>male</th>\n",
       "    </tr>\n",
       "  </thead>\n",
       "  <tbody>\n",
       "    <tr>\n",
       "      <th>736</th>\n",
       "      <td>0</td>\n",
       "    </tr>\n",
       "    <tr>\n",
       "      <th>679</th>\n",
       "      <td>1</td>\n",
       "    </tr>\n",
       "    <tr>\n",
       "      <th>772</th>\n",
       "      <td>0</td>\n",
       "    </tr>\n",
       "    <tr>\n",
       "      <th>518</th>\n",
       "      <td>0</td>\n",
       "    </tr>\n",
       "    <tr>\n",
       "      <th>541</th>\n",
       "      <td>0</td>\n",
       "    </tr>\n",
       "    <tr>\n",
       "      <th>...</th>\n",
       "      <td>...</td>\n",
       "    </tr>\n",
       "    <tr>\n",
       "      <th>462</th>\n",
       "      <td>1</td>\n",
       "    </tr>\n",
       "    <tr>\n",
       "      <th>399</th>\n",
       "      <td>0</td>\n",
       "    </tr>\n",
       "    <tr>\n",
       "      <th>668</th>\n",
       "      <td>1</td>\n",
       "    </tr>\n",
       "    <tr>\n",
       "      <th>156</th>\n",
       "      <td>0</td>\n",
       "    </tr>\n",
       "    <tr>\n",
       "      <th>331</th>\n",
       "      <td>1</td>\n",
       "    </tr>\n",
       "  </tbody>\n",
       "</table>\n",
       "<p>498 rows × 1 columns</p>\n",
       "</div>"
      ],
      "text/plain": [
       "     male\n",
       "736     0\n",
       "679     1\n",
       "772     0\n",
       "518     0\n",
       "541     0\n",
       "..    ...\n",
       "462     1\n",
       "399     0\n",
       "668     1\n",
       "156     0\n",
       "331     1\n",
       "\n",
       "[498 rows x 1 columns]"
      ]
     },
     "execution_count": 38,
     "metadata": {},
     "output_type": "execute_result"
    }
   ],
   "source": [
    "# cria uma dummy para o sexo feminino\n",
    "pd.get_dummies(X_train.Sex, drop_first = True)"
   ]
  },
  {
   "cell_type": "code",
   "execution_count": 39,
   "metadata": {},
   "outputs": [],
   "source": [
    "cols_cat = X_train.select_dtypes(object).columns.tolist()\n",
    "one_hot_encoder = OneHotEncoder(sparse=False, drop = 'first')\n",
    "X_train_cat = one_hot_encoder.fit_transform(X_train[cols_cat])\n",
    "X_train_cat = pd.DataFrame(X_train_cat, columns = one_hot_encoder.get_feature_names())"
   ]
  },
  {
   "cell_type": "code",
   "execution_count": 40,
   "metadata": {},
   "outputs": [
    {
     "data": {
      "text/html": [
       "<div>\n",
       "<style scoped>\n",
       "    .dataframe tbody tr th:only-of-type {\n",
       "        vertical-align: middle;\n",
       "    }\n",
       "\n",
       "    .dataframe tbody tr th {\n",
       "        vertical-align: top;\n",
       "    }\n",
       "\n",
       "    .dataframe thead th {\n",
       "        text-align: right;\n",
       "    }\n",
       "</style>\n",
       "<table border=\"1\" class=\"dataframe\">\n",
       "  <thead>\n",
       "    <tr style=\"text-align: right;\">\n",
       "      <th></th>\n",
       "      <th>x0_Q</th>\n",
       "      <th>x0_S</th>\n",
       "      <th>x1_male</th>\n",
       "      <th>x2_2nd</th>\n",
       "      <th>x2_3rd</th>\n",
       "    </tr>\n",
       "  </thead>\n",
       "  <tbody>\n",
       "    <tr>\n",
       "      <th>0</th>\n",
       "      <td>0.0</td>\n",
       "      <td>1.0</td>\n",
       "      <td>0.0</td>\n",
       "      <td>0.0</td>\n",
       "      <td>1.0</td>\n",
       "    </tr>\n",
       "    <tr>\n",
       "      <th>1</th>\n",
       "      <td>0.0</td>\n",
       "      <td>0.0</td>\n",
       "      <td>1.0</td>\n",
       "      <td>0.0</td>\n",
       "      <td>0.0</td>\n",
       "    </tr>\n",
       "    <tr>\n",
       "      <th>2</th>\n",
       "      <td>0.0</td>\n",
       "      <td>1.0</td>\n",
       "      <td>0.0</td>\n",
       "      <td>1.0</td>\n",
       "      <td>0.0</td>\n",
       "    </tr>\n",
       "    <tr>\n",
       "      <th>3</th>\n",
       "      <td>0.0</td>\n",
       "      <td>1.0</td>\n",
       "      <td>0.0</td>\n",
       "      <td>1.0</td>\n",
       "      <td>0.0</td>\n",
       "    </tr>\n",
       "    <tr>\n",
       "      <th>4</th>\n",
       "      <td>0.0</td>\n",
       "      <td>1.0</td>\n",
       "      <td>0.0</td>\n",
       "      <td>0.0</td>\n",
       "      <td>1.0</td>\n",
       "    </tr>\n",
       "  </tbody>\n",
       "</table>\n",
       "</div>"
      ],
      "text/plain": [
       "   x0_Q  x0_S  x1_male  x2_2nd  x2_3rd\n",
       "0   0.0   1.0      0.0     0.0     1.0\n",
       "1   0.0   0.0      1.0     0.0     0.0\n",
       "2   0.0   1.0      0.0     1.0     0.0\n",
       "3   0.0   1.0      0.0     1.0     0.0\n",
       "4   0.0   1.0      0.0     0.0     1.0"
      ]
     },
     "execution_count": 40,
     "metadata": {},
     "output_type": "execute_result"
    }
   ],
   "source": [
    "X_train_cat.head()"
   ]
  },
  {
   "cell_type": "markdown",
   "metadata": {},
   "source": [
    "Mas o processamento que fizemos para a coluna Pclass foi correto? Quando trabalharmos com features que sejam categóricas ordinais podemos usar o OrdinalEncoder. Para cada nível será atribuído um número, sendo que precisaremos estabelecer essa ordem."
   ]
  },
  {
   "cell_type": "code",
   "execution_count": 70,
   "metadata": {},
   "outputs": [
    {
     "data": {
      "text/plain": [
       "array(['3rd', '1st', '2nd'], dtype=object)"
      ]
     },
     "execution_count": 70,
     "metadata": {},
     "output_type": "execute_result"
    }
   ],
   "source": [
    "X_train['Pclass'].unique()"
   ]
  },
  {
   "cell_type": "code",
   "execution_count": 41,
   "metadata": {},
   "outputs": [],
   "source": [
    "levels = ['1st', '2nd', '3rd']\n",
    "levels = np.array(levels).reshape(1, len(levels))\n",
    "levels = list(levels)\n",
    "ordinal_encoder = OrdinalEncoder(categories = levels)\n",
    "pclass = X_train.loc[:, ['Pclass']]\n",
    "pclass_ordinal = pd.DataFrame(ordinal_encoder.fit_transform(pclass), columns = ['Pclass'])"
   ]
  },
  {
   "cell_type": "markdown",
   "metadata": {},
   "source": [
    "Agora vejamos a distribuição de frequências:"
   ]
  },
  {
   "cell_type": "code",
   "execution_count": 42,
   "metadata": {},
   "outputs": [
    {
     "data": {
      "image/png": "[encoded data removed]",
      "text/plain": [
       "<Figure size 864x576 with 1 Axes>"
      ]
     },
     "metadata": {
      "needs_background": "light"
     },
     "output_type": "display_data"
    }
   ],
   "source": [
    "pclass_ordinal.Pclass.astype(int).value_counts().sort_index().plot(kind = 'bar', color ='k', figsize = (12, 8))\n",
    "plt.title('Distribuição de Frequência - Variável Pclass', weight = 'bold')\n",
    "plt.grid(alpha = 0.2)"
   ]
  },
  {
   "cell_type": "code",
   "execution_count": 43,
   "metadata": {},
   "outputs": [
    {
     "data": {
      "text/html": [
       "<div>\n",
       "<style scoped>\n",
       "    .dataframe tbody tr th:only-of-type {\n",
       "        vertical-align: middle;\n",
       "    }\n",
       "\n",
       "    .dataframe tbody tr th {\n",
       "        vertical-align: top;\n",
       "    }\n",
       "\n",
       "    .dataframe thead th {\n",
       "        text-align: right;\n",
       "    }\n",
       "</style>\n",
       "<table border=\"1\" class=\"dataframe\">\n",
       "  <thead>\n",
       "    <tr style=\"text-align: right;\">\n",
       "      <th></th>\n",
       "      <th>Embarked</th>\n",
       "      <th>Age</th>\n",
       "      <th>Sex</th>\n",
       "      <th>Pclass</th>\n",
       "    </tr>\n",
       "  </thead>\n",
       "  <tbody>\n",
       "    <tr>\n",
       "      <th>736</th>\n",
       "      <td>S</td>\n",
       "      <td>48.0</td>\n",
       "      <td>female</td>\n",
       "      <td>3rd</td>\n",
       "    </tr>\n",
       "    <tr>\n",
       "      <th>679</th>\n",
       "      <td>C</td>\n",
       "      <td>36.0</td>\n",
       "      <td>male</td>\n",
       "      <td>1st</td>\n",
       "    </tr>\n",
       "    <tr>\n",
       "      <th>772</th>\n",
       "      <td>S</td>\n",
       "      <td>57.0</td>\n",
       "      <td>female</td>\n",
       "      <td>2nd</td>\n",
       "    </tr>\n",
       "    <tr>\n",
       "      <th>518</th>\n",
       "      <td>S</td>\n",
       "      <td>36.0</td>\n",
       "      <td>female</td>\n",
       "      <td>2nd</td>\n",
       "    </tr>\n",
       "    <tr>\n",
       "      <th>541</th>\n",
       "      <td>S</td>\n",
       "      <td>9.0</td>\n",
       "      <td>female</td>\n",
       "      <td>3rd</td>\n",
       "    </tr>\n",
       "    <tr>\n",
       "      <th>...</th>\n",
       "      <td>...</td>\n",
       "      <td>...</td>\n",
       "      <td>...</td>\n",
       "      <td>...</td>\n",
       "    </tr>\n",
       "    <tr>\n",
       "      <th>462</th>\n",
       "      <td>S</td>\n",
       "      <td>47.0</td>\n",
       "      <td>male</td>\n",
       "      <td>1st</td>\n",
       "    </tr>\n",
       "    <tr>\n",
       "      <th>399</th>\n",
       "      <td>S</td>\n",
       "      <td>28.0</td>\n",
       "      <td>female</td>\n",
       "      <td>2nd</td>\n",
       "    </tr>\n",
       "    <tr>\n",
       "      <th>668</th>\n",
       "      <td>S</td>\n",
       "      <td>43.0</td>\n",
       "      <td>male</td>\n",
       "      <td>3rd</td>\n",
       "    </tr>\n",
       "    <tr>\n",
       "      <th>156</th>\n",
       "      <td>Q</td>\n",
       "      <td>16.0</td>\n",
       "      <td>female</td>\n",
       "      <td>3rd</td>\n",
       "    </tr>\n",
       "    <tr>\n",
       "      <th>331</th>\n",
       "      <td>S</td>\n",
       "      <td>45.5</td>\n",
       "      <td>male</td>\n",
       "      <td>1st</td>\n",
       "    </tr>\n",
       "  </tbody>\n",
       "</table>\n",
       "<p>498 rows × 4 columns</p>\n",
       "</div>"
      ],
      "text/plain": [
       "    Embarked   Age     Sex Pclass\n",
       "736        S  48.0  female    3rd\n",
       "679        C  36.0    male    1st\n",
       "772        S  57.0  female    2nd\n",
       "518        S  36.0  female    2nd\n",
       "541        S   9.0  female    3rd\n",
       "..       ...   ...     ...    ...\n",
       "462        S  47.0    male    1st\n",
       "399        S  28.0  female    2nd\n",
       "668        S  43.0    male    3rd\n",
       "156        Q  16.0  female    3rd\n",
       "331        S  45.5    male    1st\n",
       "\n",
       "[498 rows x 4 columns]"
      ]
     },
     "execution_count": 43,
     "metadata": {},
     "output_type": "execute_result"
    }
   ],
   "source": [
    "X_train"
   ]
  },
  {
   "cell_type": "markdown",
   "metadata": {},
   "source": [
    "## **Referências**\n",
    "\n",
    "\n",
    "[Top 10 model performance metrics for classification ML models](https://towardsdatascience.com/top-10-model-evaluation-metrics-for-classification-ml-models-a0a0f1d51b9)\n",
    "\n",
    "[A Practical Guide to Seven Essential Performance Metrics for Classification using Scikit-Learn](https://towardsdatascience.com/a-practical-guide-to-seven-essential-performance-metrics-for-classification-using-scikit-learn-2de0e0a8a040)\n",
    "\n",
    "[Popular Evaluation Metrics for Classification with Code](https://towardsdatascience.com/popular-evaluation-metrics-for-classification-with-code-580fa0d4eb20)\n",
    "\n",
    "\n",
    "[20 Popular Machine Learning Metrics. Part 1: Classification & Regression Evaluation Metrics](https://towardsdatascience.com/20-popular-machine-learning-metrics-part-1-classification-regression-evaluation-metrics-1ca3e282a2ce)"
   ]
  }
 ],
 "metadata": {
  "kernelspec": {
   "display_name": "Python 3 (ipykernel)",
   "language": "python",
   "name": "python3"
  },
  "language_info": {
   "codemirror_mode": {
    "name": "ipython",
    "version": 3
   },
   "file_extension": ".py",
   "mimetype": "text/x-python",
   "name": "python",
   "nbconvert_exporter": "python",
   "pygments_lexer": "ipython3",
   "version": "3.9.12"
  }
 },
 "nbformat": 4,
 "nbformat_minor": 4
}
