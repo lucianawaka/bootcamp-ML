{
 "cells": [
  {
   "cell_type": "code",
   "execution_count": 4,
   "id": "62452c55",
   "metadata": {},
   "outputs": [],
   "source": [
    "# Bibliotecas\n",
    "import pandas as pd\n",
    "import numpy as np\n",
    "import seaborn as sns\n",
    "import matplotlib.pyplot as plt\n",
    "\n",
    "import warnings\n",
    "warnings.filterwarnings('ignore')"
   ]
  },
  {
   "cell_type": "code",
   "execution_count": 6,
   "id": "d984799a",
   "metadata": {},
   "outputs": [
    {
     "name": "stdout",
     "output_type": "stream",
     "text": [
      "100 100\n"
     ]
    },
    {
     "data": {
      "text/html": [
       "<div>\n",
       "<style scoped>\n",
       "    .dataframe tbody tr th:only-of-type {\n",
       "        vertical-align: middle;\n",
       "    }\n",
       "\n",
       "    .dataframe tbody tr th {\n",
       "        vertical-align: top;\n",
       "    }\n",
       "\n",
       "    .dataframe thead th {\n",
       "        text-align: right;\n",
       "    }\n",
       "</style>\n",
       "<table border=\"1\" class=\"dataframe\">\n",
       "  <thead>\n",
       "    <tr style=\"text-align: right;\">\n",
       "      <th></th>\n",
       "      <th>Socore_Serasa</th>\n",
       "      <th>Risco_Credito</th>\n",
       "    </tr>\n",
       "  </thead>\n",
       "  <tbody>\n",
       "    <tr>\n",
       "      <th>0</th>\n",
       "      <td>0.0</td>\n",
       "      <td>9.857641</td>\n",
       "    </tr>\n",
       "    <tr>\n",
       "      <th>1</th>\n",
       "      <td>0.1</td>\n",
       "      <td>11.957222</td>\n",
       "    </tr>\n",
       "    <tr>\n",
       "      <th>2</th>\n",
       "      <td>0.2</td>\n",
       "      <td>10.083262</td>\n",
       "    </tr>\n",
       "    <tr>\n",
       "      <th>3</th>\n",
       "      <td>0.3</td>\n",
       "      <td>11.029812</td>\n",
       "    </tr>\n",
       "    <tr>\n",
       "      <th>4</th>\n",
       "      <td>0.4</td>\n",
       "      <td>9.445378</td>\n",
       "    </tr>\n",
       "  </tbody>\n",
       "</table>\n",
       "</div>"
      ],
      "text/plain": [
       "   Socore_Serasa  Risco_Credito\n",
       "0            0.0       9.857641\n",
       "1            0.1      11.957222\n",
       "2            0.2      10.083262\n",
       "3            0.3      11.029812\n",
       "4            0.4       9.445378"
      ]
     },
     "execution_count": 6,
     "metadata": {},
     "output_type": "execute_result"
    }
   ],
   "source": [
    "# Dados aleatórios\n",
    "np.random.seed(99)\n",
    "\n",
    "# Numeros\n",
    "Eixo_X = np.arange(0, 10, 0.1)\n",
    "Eixo_Y = ( 10 - Eixo_X + np.random.normal(size=100) )\n",
    "\n",
    "print( len(Eixo_X), len(Eixo_Y) )\n",
    "\n",
    "# Criando o DataSet\n",
    "Dicionario = {\n",
    "    'Socore_Serasa' : Eixo_X,\n",
    "    'Risco_Credito' : Eixo_Y\n",
    "}\n",
    "\n",
    "base_dados = pd.DataFrame( Dicionario )\n",
    "base_dados.head()"
   ]
  },
  {
   "cell_type": "code",
   "execution_count": 9,
   "id": "6cec2643",
   "metadata": {},
   "outputs": [
    {
     "data": {
      "text/plain": [
       "Text(0, 0.5, 'Risco Crédito')"
      ]
     },
     "execution_count": 9,
     "metadata": {},
     "output_type": "execute_result"
    },
    {
     "data": {
      "image/png": "[encoded data removed]",
      "text/plain": [
       "<Figure size 1080x432 with 1 Axes>"
      ]
     },
     "metadata": {},
     "output_type": "display_data"
    }
   ],
   "source": [
    "# Plot\n",
    "# Estilo\n",
    "plt.style.use('ggplot')\n",
    "\n",
    "# Tamanho\n",
    "plt.figure( figsize=(15,6) )\n",
    "\n",
    "# Plot\n",
    "plt.title('Análise Serasa x Risco', loc='left', fontsize=14)\n",
    "sns.scatterplot(\n",
    "    data=base_dados,\n",
    "    x='Socore_Serasa',\n",
    "    y='Risco_Credito'\n",
    ")\n",
    "\n",
    "# Labels\n",
    "plt.xlabel('Score Serasa')\n",
    "plt.ylabel('Risco Crédito')"
   ]
  },
  {
   "cell_type": "code",
   "execution_count": null,
   "id": "9c474baa",
   "metadata": {},
   "outputs": [],
   "source": []
  }
 ],
 "metadata": {
  "kernelspec": {
   "display_name": "Python 3 (ipykernel)",
   "language": "python",
   "name": "python3"
  },
  "language_info": {
   "codemirror_mode": {
    "name": "ipython",
    "version": 3
   },
   "file_extension": ".py",
   "mimetype": "text/x-python",
   "name": "python",
   "nbconvert_exporter": "python",
   "pygments_lexer": "ipython3",
   "version": "3.9.12"
  }
 },
 "nbformat": 4,
 "nbformat_minor": 5
}
